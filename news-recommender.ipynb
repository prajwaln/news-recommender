{
 "cells": [
  {
   "cell_type": "markdown",
   "metadata": {
    "collapsed": true
   },
   "source": [
    "News Recommender"
   ]
  },
  {
   "cell_type": "code",
   "execution_count": 33,
   "metadata": {},
   "outputs": [
    {
     "name": "stdout",
     "output_type": "stream",
     "text": [
      "Requirement already satisfied: plotly in /anaconda/envs/azureml_py36/lib/python3.6/site-packages (4.8.1)\n",
      "Requirement already satisfied: six in /anaconda/envs/azureml_py36/lib/python3.6/site-packages (from plotly) (1.12.0)\n",
      "Requirement already satisfied: retrying>=1.3.3 in /anaconda/envs/azureml_py36/lib/python3.6/site-packages (from plotly) (1.3.3)\n",
      "Note: you may need to restart the kernel to use updated packages.\n"
     ]
    }
   ],
   "source": [
    "pip install plotly"
   ]
  },
  {
   "cell_type": "code",
   "execution_count": 34,
   "metadata": {},
   "outputs": [],
   "source": [
    "import os\n",
    "import math\n",
    "import time\n",
    "import numpy as np\n",
    "import pandas as pd\n",
    "from collections import defaultdict\n",
    "\n",
    "import matplotlib.pyplot as plt\n",
    "import seaborn as sns\n",
    "import plotly.figure_factory as ff\n",
    "import plotly.graph_objects as go\n",
    "import plotly.express as px"
   ]
  },
  {
   "cell_type": "markdown",
   "metadata": {},
   "source": [
    "Import Data"
   ]
  },
  {
   "cell_type": "code",
   "execution_count": 35,
   "metadata": {},
   "outputs": [],
   "source": [
    "news_data = pd.read_json(\"News_Category_Dataset_v2.json\", lines=True)"
   ]
  },
  {
   "cell_type": "code",
   "execution_count": 36,
   "metadata": {
    "scrolled": true
   },
   "outputs": [
    {
     "name": "stdout",
     "output_type": "stream",
     "text": [
      "<class 'pandas.core.frame.DataFrame'>\n",
      "RangeIndex: 200853 entries, 0 to 200852\n",
      "Data columns (total 6 columns):\n",
      "authors              200853 non-null object\n",
      "category             200853 non-null object\n",
      "date                 200853 non-null datetime64[ns]\n",
      "headline             200853 non-null object\n",
      "link                 200853 non-null object\n",
      "short_description    200853 non-null object\n",
      "dtypes: datetime64[ns](1), object(5)\n",
      "memory usage: 9.2+ MB\n"
     ]
    }
   ],
   "source": [
    "news_data.info()"
   ]
  },
  {
   "cell_type": "code",
   "execution_count": 37,
   "metadata": {},
   "outputs": [
    {
     "data": {
      "text/html": [
       "<div>\n",
       "<style scoped>\n",
       "    .dataframe tbody tr th:only-of-type {\n",
       "        vertical-align: middle;\n",
       "    }\n",
       "\n",
       "    .dataframe tbody tr th {\n",
       "        vertical-align: top;\n",
       "    }\n",
       "\n",
       "    .dataframe thead th {\n",
       "        text-align: right;\n",
       "    }\n",
       "</style>\n",
       "<table border=\"1\" class=\"dataframe\">\n",
       "  <thead>\n",
       "    <tr style=\"text-align: right;\">\n",
       "      <th></th>\n",
       "      <th>authors</th>\n",
       "      <th>category</th>\n",
       "      <th>date</th>\n",
       "      <th>headline</th>\n",
       "      <th>link</th>\n",
       "      <th>short_description</th>\n",
       "    </tr>\n",
       "  </thead>\n",
       "  <tbody>\n",
       "    <tr>\n",
       "      <th>0</th>\n",
       "      <td>Melissa Jeltsen</td>\n",
       "      <td>CRIME</td>\n",
       "      <td>2018-05-26</td>\n",
       "      <td>There Were 2 Mass Shootings In Texas Last Week...</td>\n",
       "      <td>https://www.huffingtonpost.com/entry/texas-ama...</td>\n",
       "      <td>She left her husband. He killed their children...</td>\n",
       "    </tr>\n",
       "    <tr>\n",
       "      <th>1</th>\n",
       "      <td>Andy McDonald</td>\n",
       "      <td>ENTERTAINMENT</td>\n",
       "      <td>2018-05-26</td>\n",
       "      <td>Will Smith Joins Diplo And Nicky Jam For The 2...</td>\n",
       "      <td>https://www.huffingtonpost.com/entry/will-smit...</td>\n",
       "      <td>Of course it has a song.</td>\n",
       "    </tr>\n",
       "    <tr>\n",
       "      <th>2</th>\n",
       "      <td>Ron Dicker</td>\n",
       "      <td>ENTERTAINMENT</td>\n",
       "      <td>2018-05-26</td>\n",
       "      <td>Hugh Grant Marries For The First Time At Age 57</td>\n",
       "      <td>https://www.huffingtonpost.com/entry/hugh-gran...</td>\n",
       "      <td>The actor and his longtime girlfriend Anna Ebe...</td>\n",
       "    </tr>\n",
       "    <tr>\n",
       "      <th>3</th>\n",
       "      <td>Ron Dicker</td>\n",
       "      <td>ENTERTAINMENT</td>\n",
       "      <td>2018-05-26</td>\n",
       "      <td>Jim Carrey Blasts 'Castrato' Adam Schiff And D...</td>\n",
       "      <td>https://www.huffingtonpost.com/entry/jim-carre...</td>\n",
       "      <td>The actor gives Dems an ass-kicking for not fi...</td>\n",
       "    </tr>\n",
       "    <tr>\n",
       "      <th>4</th>\n",
       "      <td>Ron Dicker</td>\n",
       "      <td>ENTERTAINMENT</td>\n",
       "      <td>2018-05-26</td>\n",
       "      <td>Julianna Margulies Uses Donald Trump Poop Bags...</td>\n",
       "      <td>https://www.huffingtonpost.com/entry/julianna-...</td>\n",
       "      <td>The \"Dietland\" actress said using the bags is ...</td>\n",
       "    </tr>\n",
       "  </tbody>\n",
       "</table>\n",
       "</div>"
      ],
      "text/plain": [
       "           authors       category       date  \\\n",
       "0  Melissa Jeltsen          CRIME 2018-05-26   \n",
       "1    Andy McDonald  ENTERTAINMENT 2018-05-26   \n",
       "2       Ron Dicker  ENTERTAINMENT 2018-05-26   \n",
       "3       Ron Dicker  ENTERTAINMENT 2018-05-26   \n",
       "4       Ron Dicker  ENTERTAINMENT 2018-05-26   \n",
       "\n",
       "                                            headline  \\\n",
       "0  There Were 2 Mass Shootings In Texas Last Week...   \n",
       "1  Will Smith Joins Diplo And Nicky Jam For The 2...   \n",
       "2    Hugh Grant Marries For The First Time At Age 57   \n",
       "3  Jim Carrey Blasts 'Castrato' Adam Schiff And D...   \n",
       "4  Julianna Margulies Uses Donald Trump Poop Bags...   \n",
       "\n",
       "                                                link  \\\n",
       "0  https://www.huffingtonpost.com/entry/texas-ama...   \n",
       "1  https://www.huffingtonpost.com/entry/will-smit...   \n",
       "2  https://www.huffingtonpost.com/entry/hugh-gran...   \n",
       "3  https://www.huffingtonpost.com/entry/jim-carre...   \n",
       "4  https://www.huffingtonpost.com/entry/julianna-...   \n",
       "\n",
       "                                   short_description  \n",
       "0  She left her husband. He killed their children...  \n",
       "1                           Of course it has a song.  \n",
       "2  The actor and his longtime girlfriend Anna Ebe...  \n",
       "3  The actor gives Dems an ass-kicking for not fi...  \n",
       "4  The \"Dietland\" actress said using the bags is ...  "
      ]
     },
     "execution_count": 37,
     "metadata": {},
     "output_type": "execute_result"
    }
   ],
   "source": [
    "news_data.head()"
   ]
  },
  {
   "cell_type": "markdown",
   "metadata": {},
   "source": [
    "Preprocessing"
   ]
  },
  {
   "cell_type": "code",
   "execution_count": 38,
   "metadata": {},
   "outputs": [
    {
     "data": {
      "text/plain": [
       "(200853, 6)"
      ]
     },
     "execution_count": 38,
     "metadata": {},
     "output_type": "execute_result"
    }
   ],
   "source": [
    "news_data.shape"
   ]
  },
  {
   "cell_type": "markdown",
   "metadata": {},
   "source": [
    "Checking article headline word lengths"
   ]
  },
  {
   "cell_type": "code",
   "execution_count": 39,
   "metadata": {},
   "outputs": [],
   "source": [
    "hl_len = defaultdict(int)\n",
    "\n",
    "for h in news_data['headline']:\n",
    "    hl_len[len(h.split())] += 1"
   ]
  },
  {
   "cell_type": "code",
   "execution_count": 40,
   "metadata": {
    "scrolled": false
   },
   "outputs": [
    {
     "name": "stdout",
     "output_type": "stream",
     "text": [
      "0:6\n",
      "1:256\n",
      "2:1428\n",
      "3:3332\n",
      "4:6068\n",
      "5:9220\n",
      "6:13183\n",
      "7:17168\n",
      "8:21721\n",
      "9:25259\n",
      "10:26682\n",
      "11:24716\n",
      "12:19607\n",
      "13:13688\n",
      "14:8415\n",
      "15:4910\n",
      "16:2631\n",
      "17:1255\n",
      "18:626\n",
      "19:296\n",
      "20:172\n",
      "21:95\n",
      "22:50\n",
      "23:24\n",
      "24:15\n",
      "25:6\n",
      "26:6\n",
      "27:6\n",
      "28:6\n",
      "29:1\n",
      "30:1\n",
      "31:1\n",
      "34:1\n",
      "38:1\n",
      "44:1\n"
     ]
    }
   ],
   "source": [
    "for k in sorted(hl_len):\n",
    "    print('{}:{}'.format(k, hl_len[k]))"
   ]
  },
  {
   "cell_type": "code",
   "execution_count": 41,
   "metadata": {},
   "outputs": [],
   "source": [
    "# Add Graph?"
   ]
  },
  {
   "cell_type": "code",
   "execution_count": 42,
   "metadata": {},
   "outputs": [
    {
     "name": "stdout",
     "output_type": "stream",
     "text": [
      "Total Articles before removal of short title articles: 200853\n",
      "Total Articles after removal of short title articles: 180543\n"
     ]
    }
   ],
   "source": [
    "#Retaining articles with headline word lengths > 5\n",
    "print('Total Articles before removal of short title articles:', news_data.shape[0])\n",
    "news_data = news_data[news_data['headline'].apply(lambda x: len(x.split()) > 5)]\n",
    "print('Total Articles after removal of short title articles:', news_data.shape[0])"
   ]
  },
  {
   "cell_type": "code",
   "execution_count": 43,
   "metadata": {
    "scrolled": false
   },
   "outputs": [
    {
     "data": {
      "text/html": [
       "<div>\n",
       "<style scoped>\n",
       "    .dataframe tbody tr th:only-of-type {\n",
       "        vertical-align: middle;\n",
       "    }\n",
       "\n",
       "    .dataframe tbody tr th {\n",
       "        vertical-align: top;\n",
       "    }\n",
       "\n",
       "    .dataframe thead th {\n",
       "        text-align: right;\n",
       "    }\n",
       "</style>\n",
       "<table border=\"1\" class=\"dataframe\">\n",
       "  <thead>\n",
       "    <tr style=\"text-align: right;\">\n",
       "      <th></th>\n",
       "      <th>authors</th>\n",
       "      <th>category</th>\n",
       "      <th>date</th>\n",
       "      <th>headline</th>\n",
       "      <th>link</th>\n",
       "      <th>short_description</th>\n",
       "    </tr>\n",
       "  </thead>\n",
       "  <tbody>\n",
       "    <tr>\n",
       "      <th>0</th>\n",
       "      <td>Melissa Jeltsen</td>\n",
       "      <td>CRIME</td>\n",
       "      <td>2018-05-26</td>\n",
       "      <td>There Were 2 Mass Shootings In Texas Last Week...</td>\n",
       "      <td>https://www.huffingtonpost.com/entry/texas-ama...</td>\n",
       "      <td>She left her husband. He killed their children...</td>\n",
       "    </tr>\n",
       "    <tr>\n",
       "      <th>1</th>\n",
       "      <td>Andy McDonald</td>\n",
       "      <td>ENTERTAINMENT</td>\n",
       "      <td>2018-05-26</td>\n",
       "      <td>Will Smith Joins Diplo And Nicky Jam For The 2...</td>\n",
       "      <td>https://www.huffingtonpost.com/entry/will-smit...</td>\n",
       "      <td>Of course it has a song.</td>\n",
       "    </tr>\n",
       "    <tr>\n",
       "      <th>2</th>\n",
       "      <td>Ron Dicker</td>\n",
       "      <td>ENTERTAINMENT</td>\n",
       "      <td>2018-05-26</td>\n",
       "      <td>Hugh Grant Marries For The First Time At Age 57</td>\n",
       "      <td>https://www.huffingtonpost.com/entry/hugh-gran...</td>\n",
       "      <td>The actor and his longtime girlfriend Anna Ebe...</td>\n",
       "    </tr>\n",
       "    <tr>\n",
       "      <th>3</th>\n",
       "      <td>Ron Dicker</td>\n",
       "      <td>ENTERTAINMENT</td>\n",
       "      <td>2018-05-26</td>\n",
       "      <td>Jim Carrey Blasts 'Castrato' Adam Schiff And D...</td>\n",
       "      <td>https://www.huffingtonpost.com/entry/jim-carre...</td>\n",
       "      <td>The actor gives Dems an ass-kicking for not fi...</td>\n",
       "    </tr>\n",
       "    <tr>\n",
       "      <th>4</th>\n",
       "      <td>Ron Dicker</td>\n",
       "      <td>ENTERTAINMENT</td>\n",
       "      <td>2018-05-26</td>\n",
       "      <td>Julianna Margulies Uses Donald Trump Poop Bags...</td>\n",
       "      <td>https://www.huffingtonpost.com/entry/julianna-...</td>\n",
       "      <td>The \"Dietland\" actress said using the bags is ...</td>\n",
       "    </tr>\n",
       "    <tr>\n",
       "      <th>5</th>\n",
       "      <td>Ron Dicker</td>\n",
       "      <td>ENTERTAINMENT</td>\n",
       "      <td>2018-05-26</td>\n",
       "      <td>Morgan Freeman 'Devastated' That Sexual Harass...</td>\n",
       "      <td>https://www.huffingtonpost.com/entry/morgan-fr...</td>\n",
       "      <td>\"It is not right to equate horrific incidents ...</td>\n",
       "    </tr>\n",
       "    <tr>\n",
       "      <th>6</th>\n",
       "      <td>Ron Dicker</td>\n",
       "      <td>ENTERTAINMENT</td>\n",
       "      <td>2018-05-26</td>\n",
       "      <td>Donald Trump Is Lovin' New McDonald's Jingle I...</td>\n",
       "      <td>https://www.huffingtonpost.com/entry/donald-tr...</td>\n",
       "      <td>It's catchy, all right.</td>\n",
       "    </tr>\n",
       "    <tr>\n",
       "      <th>7</th>\n",
       "      <td>Todd Van Luling</td>\n",
       "      <td>ENTERTAINMENT</td>\n",
       "      <td>2018-05-26</td>\n",
       "      <td>What To Watch On Amazon Prime That’s New This ...</td>\n",
       "      <td>https://www.huffingtonpost.com/entry/amazon-pr...</td>\n",
       "      <td>There's a great mini-series joining this week.</td>\n",
       "    </tr>\n",
       "    <tr>\n",
       "      <th>8</th>\n",
       "      <td>Andy McDonald</td>\n",
       "      <td>ENTERTAINMENT</td>\n",
       "      <td>2018-05-26</td>\n",
       "      <td>Mike Myers Reveals He'd 'Like To' Do A Fourth ...</td>\n",
       "      <td>https://www.huffingtonpost.com/entry/mike-myer...</td>\n",
       "      <td>Myer's kids may be pushing for a new \"Powers\" ...</td>\n",
       "    </tr>\n",
       "    <tr>\n",
       "      <th>9</th>\n",
       "      <td>Todd Van Luling</td>\n",
       "      <td>ENTERTAINMENT</td>\n",
       "      <td>2018-05-26</td>\n",
       "      <td>What To Watch On Hulu That’s New This Week</td>\n",
       "      <td>https://www.huffingtonpost.com/entry/hulu-what...</td>\n",
       "      <td>You're getting a recent Academy Award-winning ...</td>\n",
       "    </tr>\n",
       "    <tr>\n",
       "      <th>10</th>\n",
       "      <td>Sebastian Murdock</td>\n",
       "      <td>ENTERTAINMENT</td>\n",
       "      <td>2018-05-26</td>\n",
       "      <td>Justin Timberlake Visits Texas School Shooting...</td>\n",
       "      <td>https://www.huffingtonpost.com/entry/justin-ti...</td>\n",
       "      <td>The pop star also wore a \"Santa Fe Strong\" shi...</td>\n",
       "    </tr>\n",
       "    <tr>\n",
       "      <th>11</th>\n",
       "      <td></td>\n",
       "      <td>WORLD NEWS</td>\n",
       "      <td>2018-05-26</td>\n",
       "      <td>South Korean President Meets North Korea's Kim...</td>\n",
       "      <td>https://www.huffingtonpost.com/entry/south-kor...</td>\n",
       "      <td>The two met to pave the way for a summit betwe...</td>\n",
       "    </tr>\n",
       "    <tr>\n",
       "      <th>12</th>\n",
       "      <td>Karen Pinchin</td>\n",
       "      <td>IMPACT</td>\n",
       "      <td>2018-05-26</td>\n",
       "      <td>With Its Way Of Life At Risk, This Remote Oyst...</td>\n",
       "      <td>https://www.huffingtonpost.com/entry/remote-oy...</td>\n",
       "      <td>The revolution is coming to rural New Brunswick.</td>\n",
       "    </tr>\n",
       "    <tr>\n",
       "      <th>13</th>\n",
       "      <td>Elise Foley and Roque Planas</td>\n",
       "      <td>POLITICS</td>\n",
       "      <td>2018-05-26</td>\n",
       "      <td>Trump's Crackdown On Immigrant Parents Puts Mo...</td>\n",
       "      <td>https://www.huffingtonpost.com/entry/immigrant...</td>\n",
       "      <td>Last month a Health and Human Services officia...</td>\n",
       "    </tr>\n",
       "    <tr>\n",
       "      <th>14</th>\n",
       "      <td>Michael Isikoff, Yahoo News</td>\n",
       "      <td>POLITICS</td>\n",
       "      <td>2018-05-26</td>\n",
       "      <td>'Trump's Son Should Be Concerned': FBI Obtaine...</td>\n",
       "      <td>https://www.huffingtonpost.com/entry/fbi-wiret...</td>\n",
       "      <td>The wiretaps feature conversations between Ale...</td>\n",
       "    </tr>\n",
       "    <tr>\n",
       "      <th>15</th>\n",
       "      <td>Mary Papenfuss</td>\n",
       "      <td>POLITICS</td>\n",
       "      <td>2018-05-26</td>\n",
       "      <td>Edward Snowden: There's No One Trump Loves Mor...</td>\n",
       "      <td>https://www.huffingtonpost.com/entry/edward-sn...</td>\n",
       "      <td>But don't count on Robert Mueller to nail him,...</td>\n",
       "    </tr>\n",
       "    <tr>\n",
       "      <th>16</th>\n",
       "      <td>Mary Papenfuss</td>\n",
       "      <td>POLITICS</td>\n",
       "      <td>2018-05-26</td>\n",
       "      <td>Booyah: Obama Photographer Hilariously Trolls ...</td>\n",
       "      <td>https://www.huffingtonpost.com/entry/obama-pho...</td>\n",
       "      <td>Just a peeping minute.</td>\n",
       "    </tr>\n",
       "    <tr>\n",
       "      <th>17</th>\n",
       "      <td>Laura Bassett</td>\n",
       "      <td>POLITICS</td>\n",
       "      <td>2018-05-26</td>\n",
       "      <td>Ireland Votes To Repeal Abortion Amendment In ...</td>\n",
       "      <td>https://www.huffingtonpost.com/entry/results-f...</td>\n",
       "      <td>Irish women will no longer have to travel to t...</td>\n",
       "    </tr>\n",
       "    <tr>\n",
       "      <th>18</th>\n",
       "      <td>Chris D'Angelo</td>\n",
       "      <td>POLITICS</td>\n",
       "      <td>2018-05-26</td>\n",
       "      <td>Ryan Zinke Looks To Reel Back Some Critics Wit...</td>\n",
       "      <td>https://www.huffingtonpost.com/entry/ryan-zink...</td>\n",
       "      <td>The interior secretary attempts damage control...</td>\n",
       "    </tr>\n",
       "    <tr>\n",
       "      <th>19</th>\n",
       "      <td>Mary Papenfuss</td>\n",
       "      <td>POLITICS</td>\n",
       "      <td>2018-05-26</td>\n",
       "      <td>Trump's Scottish Golf Resort Pays Women Signif...</td>\n",
       "      <td>https://www.huffingtonpost.com/entry/trump-sco...</td>\n",
       "      <td>And there are four times as many male as femal...</td>\n",
       "    </tr>\n",
       "    <tr>\n",
       "      <th>20</th>\n",
       "      <td>David Moye</td>\n",
       "      <td>WEIRD NEWS</td>\n",
       "      <td>2018-05-26</td>\n",
       "      <td>Weird Father's Day Gifts Your Dad Doesn't Know...</td>\n",
       "      <td>https://www.huffingtonpost.com/entry/weird-fat...</td>\n",
       "      <td>Why buy a boring tie when you can give him tes...</td>\n",
       "    </tr>\n",
       "    <tr>\n",
       "      <th>21</th>\n",
       "      <td>Andy McDonald</td>\n",
       "      <td>ENTERTAINMENT</td>\n",
       "      <td>2018-05-26</td>\n",
       "      <td>Twitter #PutStarWarsInOtherFilms And It Was Un...</td>\n",
       "      <td>https://www.huffingtonpost.com/entry/twitter-p...</td>\n",
       "      <td>There's no such thing as too much \"Star Wars.\"</td>\n",
       "    </tr>\n",
       "    <tr>\n",
       "      <th>22</th>\n",
       "      <td>Hilary Hanson</td>\n",
       "      <td>WEIRD NEWS</td>\n",
       "      <td>2018-05-26</td>\n",
       "      <td>Mystery 'Wolf-Like' Animal Reportedly Shot In ...</td>\n",
       "      <td>https://www.huffingtonpost.com/entry/montana-w...</td>\n",
       "      <td>“We have no idea what this was until we get a ...</td>\n",
       "    </tr>\n",
       "    <tr>\n",
       "      <th>23</th>\n",
       "      <td>Josh Smith and Christine Kim, Reuters</td>\n",
       "      <td>WORLD NEWS</td>\n",
       "      <td>2018-05-25</td>\n",
       "      <td>North Korea Still Open To Talks After Trump Ca...</td>\n",
       "      <td>https://www.huffingtonpost.com/entry/north-kor...</td>\n",
       "      <td>Trump’s announcement came after repeated threa...</td>\n",
       "    </tr>\n",
       "    <tr>\n",
       "      <th>24</th>\n",
       "      <td></td>\n",
       "      <td>WORLD NEWS</td>\n",
       "      <td>2018-05-25</td>\n",
       "      <td>2 Men Detonate Bomb Inside Indian Restaurant N...</td>\n",
       "      <td>https://www.huffingtonpost.com/entry/mississau...</td>\n",
       "      <td>Fifteen people were taken to the hospital, thr...</td>\n",
       "    </tr>\n",
       "    <tr>\n",
       "      <th>25</th>\n",
       "      <td>Antonia Blumberg</td>\n",
       "      <td>WORLD NEWS</td>\n",
       "      <td>2018-05-25</td>\n",
       "      <td>Thousands Travel Home To Ireland To Vote On Ab...</td>\n",
       "      <td>https://www.huffingtonpost.com/entry/irish-tra...</td>\n",
       "      <td>Just try to read these #HomeToVote tweets with...</td>\n",
       "    </tr>\n",
       "    <tr>\n",
       "      <th>26</th>\n",
       "      <td></td>\n",
       "      <td>WORLD NEWS</td>\n",
       "      <td>2018-05-25</td>\n",
       "      <td>Irish Voters Set To Liberalize Abortion Laws I...</td>\n",
       "      <td>https://www.huffingtonpost.com/entry/ireland-a...</td>\n",
       "      <td>Vote counting will begin Saturday.</td>\n",
       "    </tr>\n",
       "    <tr>\n",
       "      <th>27</th>\n",
       "      <td>Sebastian Murdock</td>\n",
       "      <td>BLACK VOICES</td>\n",
       "      <td>2018-05-25</td>\n",
       "      <td>Warriors Coach Steve Kerr Calls NFL Ban On Pro...</td>\n",
       "      <td>https://www.huffingtonpost.com/entry/warriors-...</td>\n",
       "      <td>Forbidding players to take a knee during the n...</td>\n",
       "    </tr>\n",
       "    <tr>\n",
       "      <th>28</th>\n",
       "      <td>Kenya Downs</td>\n",
       "      <td>BLACK VOICES</td>\n",
       "      <td>2018-05-25</td>\n",
       "      <td>In Historic Victory, Barbados Elects First Fem...</td>\n",
       "      <td>https://www.huffingtonpost.com/entry/mia-victo...</td>\n",
       "      <td>Mia Amor Mottley even earned the backing of th...</td>\n",
       "    </tr>\n",
       "    <tr>\n",
       "      <th>29</th>\n",
       "      <td>Sebastian Murdock</td>\n",
       "      <td>BLACK VOICES</td>\n",
       "      <td>2018-05-25</td>\n",
       "      <td>Police Killed At Least 378 Black Americans Fro...</td>\n",
       "      <td>https://www.huffingtonpost.com/entry/police-ki...</td>\n",
       "      <td>These Americans deserve to be more than anothe...</td>\n",
       "    </tr>\n",
       "    <tr>\n",
       "      <th>...</th>\n",
       "      <td>...</td>\n",
       "      <td>...</td>\n",
       "      <td>...</td>\n",
       "      <td>...</td>\n",
       "      <td>...</td>\n",
       "      <td>...</td>\n",
       "    </tr>\n",
       "    <tr>\n",
       "      <th>200820</th>\n",
       "      <td>Thomas Greenwald, Contributor\\nPartner, Gorans...</td>\n",
       "      <td>QUEER VOICES</td>\n",
       "      <td>2012-01-28</td>\n",
       "      <td>Gay Divorce: How the Collaborative Family Law ...</td>\n",
       "      <td>https://www.huffingtonpost.com/entry/gay-divor...</td>\n",
       "      <td>One of the many unjust results of a state lega...</td>\n",
       "    </tr>\n",
       "    <tr>\n",
       "      <th>200821</th>\n",
       "      <td>The Six Pack, Contributor\\nRadio show hosted b...</td>\n",
       "      <td>QUEER VOICES</td>\n",
       "      <td>2012-01-28</td>\n",
       "      <td>Episode 87: Life Is a Highway (AUDIO)</td>\n",
       "      <td>https://www.huffingtonpost.com/entry/the-six-p...</td>\n",
       "      <td>On this episode of The Six Pack, we hit up the...</td>\n",
       "    </tr>\n",
       "    <tr>\n",
       "      <th>200822</th>\n",
       "      <td></td>\n",
       "      <td>QUEER VOICES</td>\n",
       "      <td>2012-01-28</td>\n",
       "      <td>Something To Celebrate: The Best LGBT Moments ...</td>\n",
       "      <td>https://www.huffingtonpost.com/entry/something...</td>\n",
       "      <td>Every other week we'll take a look at a few of...</td>\n",
       "    </tr>\n",
       "    <tr>\n",
       "      <th>200823</th>\n",
       "      <td>Michelangelo Signorile, Columnist</td>\n",
       "      <td>QUEER VOICES</td>\n",
       "      <td>2012-01-28</td>\n",
       "      <td>Chris Gregoire, Washington State Governor, Dis...</td>\n",
       "      <td>https://www.huffingtonpost.com/entry/chris-gre...</td>\n",
       "      <td>Regarding her own journey Gregoire said: “I wi...</td>\n",
       "    </tr>\n",
       "    <tr>\n",
       "      <th>200824</th>\n",
       "      <td></td>\n",
       "      <td>QUEER VOICES</td>\n",
       "      <td>2012-01-28</td>\n",
       "      <td>Glenn Close On 'Albert Nobbs', Gender Bending ...</td>\n",
       "      <td>https://www.huffingtonpost.comhttp://www.windy...</td>\n",
       "      <td>Twenty-four hours before the Golden Globes cer...</td>\n",
       "    </tr>\n",
       "    <tr>\n",
       "      <th>200826</th>\n",
       "      <td>Sarah Costa, Contributor\\nExecutive Director o...</td>\n",
       "      <td>IMPACT</td>\n",
       "      <td>2012-01-28</td>\n",
       "      <td>Pregnant and Displaced: Double the Danger</td>\n",
       "      <td>https://www.huffingtonpost.com/entry/maternal-...</td>\n",
       "      <td>It's time we all step up our efforts to ensure...</td>\n",
       "    </tr>\n",
       "    <tr>\n",
       "      <th>200827</th>\n",
       "      <td></td>\n",
       "      <td>IMPACT</td>\n",
       "      <td>2012-01-28</td>\n",
       "      <td>Tom Brady Helps Mentor, Tom Martinez, Find A K...</td>\n",
       "      <td>https://www.huffingtonpost.com/entry/tom-brady...</td>\n",
       "      <td>Since Brady started promoting Martinez's cause...</td>\n",
       "    </tr>\n",
       "    <tr>\n",
       "      <th>200828</th>\n",
       "      <td></td>\n",
       "      <td>ENVIRONMENT</td>\n",
       "      <td>2012-01-28</td>\n",
       "      <td>Boxer Puppy And Cows Make Friends During Walk ...</td>\n",
       "      <td>https://www.huffingtonpost.com/entry/boxer-pup...</td>\n",
       "      <td>This bevy of otters were also filmed having a ...</td>\n",
       "    </tr>\n",
       "    <tr>\n",
       "      <th>200829</th>\n",
       "      <td></td>\n",
       "      <td>ENVIRONMENT</td>\n",
       "      <td>2012-01-28</td>\n",
       "      <td>'Black Smoker' Vents: New Species Discovered N...</td>\n",
       "      <td>https://www.huffingtonpost.com/entry/black-smo...</td>\n",
       "      <td>Photos and captions courtesy of University of ...</td>\n",
       "    </tr>\n",
       "    <tr>\n",
       "      <th>200831</th>\n",
       "      <td></td>\n",
       "      <td>ENVIRONMENT</td>\n",
       "      <td>2012-01-28</td>\n",
       "      <td>Winter Weather Photo Contest: Submit Your Own ...</td>\n",
       "      <td>https://www.huffingtonpost.com/entry/winter-we...</td>\n",
       "      <td>While severe winter weather has devastated som...</td>\n",
       "    </tr>\n",
       "    <tr>\n",
       "      <th>200832</th>\n",
       "      <td></td>\n",
       "      <td>ENVIRONMENT</td>\n",
       "      <td>2012-01-28</td>\n",
       "      <td>Insects Top Newly Discovered Species List</td>\n",
       "      <td>https://www.huffingtonpost.com/entry/insects-t...</td>\n",
       "      <td>Species IDs need improvement In addition to th...</td>\n",
       "    </tr>\n",
       "    <tr>\n",
       "      <th>200833</th>\n",
       "      <td>Dennis Santiago, Contributor\\nGlobal Risk and ...</td>\n",
       "      <td>BUSINESS</td>\n",
       "      <td>2012-01-28</td>\n",
       "      <td>Four More Bank Closures Mark the Week of Janua...</td>\n",
       "      <td>https://www.huffingtonpost.com/entry/four-more...</td>\n",
       "      <td>The general pattern of the FDIC closing banks ...</td>\n",
       "    </tr>\n",
       "    <tr>\n",
       "      <th>200834</th>\n",
       "      <td>Harry Bradford</td>\n",
       "      <td>BUSINESS</td>\n",
       "      <td>2012-01-28</td>\n",
       "      <td>Everything You Need To Know About Overdraft Fe...</td>\n",
       "      <td>https://www.huffingtonpost.com/entry/bank-fees...</td>\n",
       "      <td>Don't like keeping all of your money stuffed u...</td>\n",
       "    </tr>\n",
       "    <tr>\n",
       "      <th>200835</th>\n",
       "      <td></td>\n",
       "      <td>BUSINESS</td>\n",
       "      <td>2012-01-28</td>\n",
       "      <td>Walmart Waving Goodbye To Some Greeters</td>\n",
       "      <td>https://www.huffingtonpost.comhttp://jobs.aol....</td>\n",
       "      <td>After 30 years, \"People Greeters\" will no long...</td>\n",
       "    </tr>\n",
       "    <tr>\n",
       "      <th>200836</th>\n",
       "      <td>Peter S. Goodman, Contributor\\nExecutive Busin...</td>\n",
       "      <td>BUSINESS</td>\n",
       "      <td>2012-01-28</td>\n",
       "      <td>At World Economic Forum, Fear of Global Contag...</td>\n",
       "      <td>https://www.huffingtonpost.com/entry/world-eco...</td>\n",
       "      <td>For decades, as crises have assailed developin...</td>\n",
       "    </tr>\n",
       "    <tr>\n",
       "      <th>200837</th>\n",
       "      <td>Ernan Roman, Contributor\\nPresident</td>\n",
       "      <td>BUSINESS</td>\n",
       "      <td>2012-01-28</td>\n",
       "      <td>Positive Customer Experience: What's the Retur...</td>\n",
       "      <td>https://www.huffingtonpost.com/entry/positive-...</td>\n",
       "      <td>\"Analysts at Adobe combined historical purchas...</td>\n",
       "    </tr>\n",
       "    <tr>\n",
       "      <th>200838</th>\n",
       "      <td>Courtney Garcia, Contributor\\nI tell stories a...</td>\n",
       "      <td>ENTERTAINMENT</td>\n",
       "      <td>2012-01-28</td>\n",
       "      <td>Sundance, Ice-T, and Shades of the American Ra...</td>\n",
       "      <td>https://www.huffingtonpost.com/entry/sundance-...</td>\n",
       "      <td>Representation of the collective diaspora has ...</td>\n",
       "    </tr>\n",
       "    <tr>\n",
       "      <th>200839</th>\n",
       "      <td></td>\n",
       "      <td>ENTERTAINMENT</td>\n",
       "      <td>2012-01-28</td>\n",
       "      <td>'Girl With the Dragon Tattoo' India Release Ca...</td>\n",
       "      <td>https://www.huffingtonpost.com/entry/girl-with...</td>\n",
       "      <td>\"Sony Pictures will not be releasing The Girl ...</td>\n",
       "    </tr>\n",
       "    <tr>\n",
       "      <th>200840</th>\n",
       "      <td>Kia Makarechi</td>\n",
       "      <td>CULTURE &amp; ARTS</td>\n",
       "      <td>2012-01-28</td>\n",
       "      <td>'Don't Think': A Look At The Chemical Brothers...</td>\n",
       "      <td>https://www.huffingtonpost.com/entry/dont-thin...</td>\n",
       "      <td>Amid cheers and the occasional \"Here we go!\" f...</td>\n",
       "    </tr>\n",
       "    <tr>\n",
       "      <th>200841</th>\n",
       "      <td></td>\n",
       "      <td>CULTURE &amp; ARTS</td>\n",
       "      <td>2012-01-28</td>\n",
       "      <td>Matthew Marks Discusses His New LA Gallery</td>\n",
       "      <td>https://www.huffingtonpost.com/entry/matthew-m...</td>\n",
       "      <td>Was it an obvious choice to recruit Ellsworth ...</td>\n",
       "    </tr>\n",
       "    <tr>\n",
       "      <th>200842</th>\n",
       "      <td></td>\n",
       "      <td>CULTURE &amp; ARTS</td>\n",
       "      <td>2012-01-28</td>\n",
       "      <td>Allard Van Hoorn's 'Urban Songline' Explores R...</td>\n",
       "      <td>https://www.huffingtonpost.com/entry/allard-va...</td>\n",
       "      <td>A recent exhibition at Storefront for Art and ...</td>\n",
       "    </tr>\n",
       "    <tr>\n",
       "      <th>200843</th>\n",
       "      <td>Mateo Gutierrez, Contributor\\nArtist</td>\n",
       "      <td>TECH</td>\n",
       "      <td>2012-01-28</td>\n",
       "      <td>Good Games -- Is It possible?</td>\n",
       "      <td>https://www.huffingtonpost.com/entry/games-for...</td>\n",
       "      <td>I don't think people who play Zynga games are ...</td>\n",
       "    </tr>\n",
       "    <tr>\n",
       "      <th>200844</th>\n",
       "      <td>Larry Magid, Contributor\\nTechnology journalist</td>\n",
       "      <td>TECH</td>\n",
       "      <td>2012-01-28</td>\n",
       "      <td>Google+ Now Open for Teens With Some Safeguards</td>\n",
       "      <td>https://www.huffingtonpost.com/entry/google-pl...</td>\n",
       "      <td>For the most part, teens' experience on Google...</td>\n",
       "    </tr>\n",
       "    <tr>\n",
       "      <th>200846</th>\n",
       "      <td></td>\n",
       "      <td>TECH</td>\n",
       "      <td>2012-01-28</td>\n",
       "      <td>First White House Chief Technology Officer, An...</td>\n",
       "      <td>https://www.huffingtonpost.comhttp://www.engad...</td>\n",
       "      <td>He was appointed with a fair bit of fanfare as...</td>\n",
       "    </tr>\n",
       "    <tr>\n",
       "      <th>200847</th>\n",
       "      <td>Catharine Smith</td>\n",
       "      <td>TECH</td>\n",
       "      <td>2012-01-28</td>\n",
       "      <td>Watch The Top 9 YouTube Videos Of The Week</td>\n",
       "      <td>https://www.huffingtonpost.com/entry/watch-top...</td>\n",
       "      <td>If you're looking to see the most popular YouT...</td>\n",
       "    </tr>\n",
       "    <tr>\n",
       "      <th>200848</th>\n",
       "      <td>Reuters, Reuters</td>\n",
       "      <td>TECH</td>\n",
       "      <td>2012-01-28</td>\n",
       "      <td>RIM CEO Thorsten Heins' 'Significant' Plans Fo...</td>\n",
       "      <td>https://www.huffingtonpost.com/entry/rim-ceo-t...</td>\n",
       "      <td>Verizon Wireless and AT&amp;T are already promotin...</td>\n",
       "    </tr>\n",
       "    <tr>\n",
       "      <th>200849</th>\n",
       "      <td></td>\n",
       "      <td>SPORTS</td>\n",
       "      <td>2012-01-28</td>\n",
       "      <td>Maria Sharapova Stunned By Victoria Azarenka I...</td>\n",
       "      <td>https://www.huffingtonpost.com/entry/maria-sha...</td>\n",
       "      <td>Afterward, Azarenka, more effusive with the pr...</td>\n",
       "    </tr>\n",
       "    <tr>\n",
       "      <th>200850</th>\n",
       "      <td></td>\n",
       "      <td>SPORTS</td>\n",
       "      <td>2012-01-28</td>\n",
       "      <td>Giants Over Patriots, Jets Over Colts Among  M...</td>\n",
       "      <td>https://www.huffingtonpost.com/entry/super-bow...</td>\n",
       "      <td>Leading up to Super Bowl XLVI, the most talked...</td>\n",
       "    </tr>\n",
       "    <tr>\n",
       "      <th>200851</th>\n",
       "      <td></td>\n",
       "      <td>SPORTS</td>\n",
       "      <td>2012-01-28</td>\n",
       "      <td>Aldon Smith Arrested: 49ers Linebacker Busted ...</td>\n",
       "      <td>https://www.huffingtonpost.com/entry/aldon-smi...</td>\n",
       "      <td>CORRECTION: An earlier version of this story i...</td>\n",
       "    </tr>\n",
       "    <tr>\n",
       "      <th>200852</th>\n",
       "      <td></td>\n",
       "      <td>SPORTS</td>\n",
       "      <td>2012-01-28</td>\n",
       "      <td>Dwight Howard Rips Teammates After Magic Loss ...</td>\n",
       "      <td>https://www.huffingtonpost.com/entry/dwight-ho...</td>\n",
       "      <td>The five-time all-star center tore into his te...</td>\n",
       "    </tr>\n",
       "  </tbody>\n",
       "</table>\n",
       "<p>180543 rows × 6 columns</p>\n",
       "</div>"
      ],
      "text/plain": [
       "                                                  authors        category  \\\n",
       "0                                         Melissa Jeltsen           CRIME   \n",
       "1                                           Andy McDonald   ENTERTAINMENT   \n",
       "2                                              Ron Dicker   ENTERTAINMENT   \n",
       "3                                              Ron Dicker   ENTERTAINMENT   \n",
       "4                                              Ron Dicker   ENTERTAINMENT   \n",
       "5                                              Ron Dicker   ENTERTAINMENT   \n",
       "6                                              Ron Dicker   ENTERTAINMENT   \n",
       "7                                         Todd Van Luling   ENTERTAINMENT   \n",
       "8                                           Andy McDonald   ENTERTAINMENT   \n",
       "9                                         Todd Van Luling   ENTERTAINMENT   \n",
       "10                                      Sebastian Murdock   ENTERTAINMENT   \n",
       "11                                                             WORLD NEWS   \n",
       "12                                          Karen Pinchin          IMPACT   \n",
       "13                           Elise Foley and Roque Planas        POLITICS   \n",
       "14                            Michael Isikoff, Yahoo News        POLITICS   \n",
       "15                                         Mary Papenfuss        POLITICS   \n",
       "16                                         Mary Papenfuss        POLITICS   \n",
       "17                                          Laura Bassett        POLITICS   \n",
       "18                                         Chris D'Angelo        POLITICS   \n",
       "19                                         Mary Papenfuss        POLITICS   \n",
       "20                                             David Moye      WEIRD NEWS   \n",
       "21                                          Andy McDonald   ENTERTAINMENT   \n",
       "22                                          Hilary Hanson      WEIRD NEWS   \n",
       "23                  Josh Smith and Christine Kim, Reuters      WORLD NEWS   \n",
       "24                                                             WORLD NEWS   \n",
       "25                                       Antonia Blumberg      WORLD NEWS   \n",
       "26                                                             WORLD NEWS   \n",
       "27                                      Sebastian Murdock    BLACK VOICES   \n",
       "28                                            Kenya Downs    BLACK VOICES   \n",
       "29                                      Sebastian Murdock    BLACK VOICES   \n",
       "...                                                   ...             ...   \n",
       "200820  Thomas Greenwald, Contributor\\nPartner, Gorans...    QUEER VOICES   \n",
       "200821  The Six Pack, Contributor\\nRadio show hosted b...    QUEER VOICES   \n",
       "200822                                                       QUEER VOICES   \n",
       "200823                  Michelangelo Signorile, Columnist    QUEER VOICES   \n",
       "200824                                                       QUEER VOICES   \n",
       "200826  Sarah Costa, Contributor\\nExecutive Director o...          IMPACT   \n",
       "200827                                                             IMPACT   \n",
       "200828                                                        ENVIRONMENT   \n",
       "200829                                                        ENVIRONMENT   \n",
       "200831                                                        ENVIRONMENT   \n",
       "200832                                                        ENVIRONMENT   \n",
       "200833  Dennis Santiago, Contributor\\nGlobal Risk and ...        BUSINESS   \n",
       "200834                                     Harry Bradford        BUSINESS   \n",
       "200835                                                           BUSINESS   \n",
       "200836  Peter S. Goodman, Contributor\\nExecutive Busin...        BUSINESS   \n",
       "200837                Ernan Roman, Contributor\\nPresident        BUSINESS   \n",
       "200838  Courtney Garcia, Contributor\\nI tell stories a...   ENTERTAINMENT   \n",
       "200839                                                      ENTERTAINMENT   \n",
       "200840                                      Kia Makarechi  CULTURE & ARTS   \n",
       "200841                                                     CULTURE & ARTS   \n",
       "200842                                                     CULTURE & ARTS   \n",
       "200843               Mateo Gutierrez, Contributor\\nArtist            TECH   \n",
       "200844    Larry Magid, Contributor\\nTechnology journalist            TECH   \n",
       "200846                                                               TECH   \n",
       "200847                                    Catharine Smith            TECH   \n",
       "200848                                   Reuters, Reuters            TECH   \n",
       "200849                                                             SPORTS   \n",
       "200850                                                             SPORTS   \n",
       "200851                                                             SPORTS   \n",
       "200852                                                             SPORTS   \n",
       "\n",
       "             date                                           headline  \\\n",
       "0      2018-05-26  There Were 2 Mass Shootings In Texas Last Week...   \n",
       "1      2018-05-26  Will Smith Joins Diplo And Nicky Jam For The 2...   \n",
       "2      2018-05-26    Hugh Grant Marries For The First Time At Age 57   \n",
       "3      2018-05-26  Jim Carrey Blasts 'Castrato' Adam Schiff And D...   \n",
       "4      2018-05-26  Julianna Margulies Uses Donald Trump Poop Bags...   \n",
       "5      2018-05-26  Morgan Freeman 'Devastated' That Sexual Harass...   \n",
       "6      2018-05-26  Donald Trump Is Lovin' New McDonald's Jingle I...   \n",
       "7      2018-05-26  What To Watch On Amazon Prime That’s New This ...   \n",
       "8      2018-05-26  Mike Myers Reveals He'd 'Like To' Do A Fourth ...   \n",
       "9      2018-05-26         What To Watch On Hulu That’s New This Week   \n",
       "10     2018-05-26  Justin Timberlake Visits Texas School Shooting...   \n",
       "11     2018-05-26  South Korean President Meets North Korea's Kim...   \n",
       "12     2018-05-26  With Its Way Of Life At Risk, This Remote Oyst...   \n",
       "13     2018-05-26  Trump's Crackdown On Immigrant Parents Puts Mo...   \n",
       "14     2018-05-26  'Trump's Son Should Be Concerned': FBI Obtaine...   \n",
       "15     2018-05-26  Edward Snowden: There's No One Trump Loves Mor...   \n",
       "16     2018-05-26  Booyah: Obama Photographer Hilariously Trolls ...   \n",
       "17     2018-05-26  Ireland Votes To Repeal Abortion Amendment In ...   \n",
       "18     2018-05-26  Ryan Zinke Looks To Reel Back Some Critics Wit...   \n",
       "19     2018-05-26  Trump's Scottish Golf Resort Pays Women Signif...   \n",
       "20     2018-05-26  Weird Father's Day Gifts Your Dad Doesn't Know...   \n",
       "21     2018-05-26  Twitter #PutStarWarsInOtherFilms And It Was Un...   \n",
       "22     2018-05-26  Mystery 'Wolf-Like' Animal Reportedly Shot In ...   \n",
       "23     2018-05-25  North Korea Still Open To Talks After Trump Ca...   \n",
       "24     2018-05-25  2 Men Detonate Bomb Inside Indian Restaurant N...   \n",
       "25     2018-05-25  Thousands Travel Home To Ireland To Vote On Ab...   \n",
       "26     2018-05-25  Irish Voters Set To Liberalize Abortion Laws I...   \n",
       "27     2018-05-25  Warriors Coach Steve Kerr Calls NFL Ban On Pro...   \n",
       "28     2018-05-25  In Historic Victory, Barbados Elects First Fem...   \n",
       "29     2018-05-25  Police Killed At Least 378 Black Americans Fro...   \n",
       "...           ...                                                ...   \n",
       "200820 2012-01-28  Gay Divorce: How the Collaborative Family Law ...   \n",
       "200821 2012-01-28              Episode 87: Life Is a Highway (AUDIO)   \n",
       "200822 2012-01-28  Something To Celebrate: The Best LGBT Moments ...   \n",
       "200823 2012-01-28  Chris Gregoire, Washington State Governor, Dis...   \n",
       "200824 2012-01-28  Glenn Close On 'Albert Nobbs', Gender Bending ...   \n",
       "200826 2012-01-28          Pregnant and Displaced: Double the Danger   \n",
       "200827 2012-01-28  Tom Brady Helps Mentor, Tom Martinez, Find A K...   \n",
       "200828 2012-01-28  Boxer Puppy And Cows Make Friends During Walk ...   \n",
       "200829 2012-01-28  'Black Smoker' Vents: New Species Discovered N...   \n",
       "200831 2012-01-28  Winter Weather Photo Contest: Submit Your Own ...   \n",
       "200832 2012-01-28          Insects Top Newly Discovered Species List   \n",
       "200833 2012-01-28  Four More Bank Closures Mark the Week of Janua...   \n",
       "200834 2012-01-28  Everything You Need To Know About Overdraft Fe...   \n",
       "200835 2012-01-28            Walmart Waving Goodbye To Some Greeters   \n",
       "200836 2012-01-28  At World Economic Forum, Fear of Global Contag...   \n",
       "200837 2012-01-28  Positive Customer Experience: What's the Retur...   \n",
       "200838 2012-01-28  Sundance, Ice-T, and Shades of the American Ra...   \n",
       "200839 2012-01-28  'Girl With the Dragon Tattoo' India Release Ca...   \n",
       "200840 2012-01-28  'Don't Think': A Look At The Chemical Brothers...   \n",
       "200841 2012-01-28         Matthew Marks Discusses His New LA Gallery   \n",
       "200842 2012-01-28  Allard Van Hoorn's 'Urban Songline' Explores R...   \n",
       "200843 2012-01-28                      Good Games -- Is It possible?   \n",
       "200844 2012-01-28    Google+ Now Open for Teens With Some Safeguards   \n",
       "200846 2012-01-28  First White House Chief Technology Officer, An...   \n",
       "200847 2012-01-28         Watch The Top 9 YouTube Videos Of The Week   \n",
       "200848 2012-01-28  RIM CEO Thorsten Heins' 'Significant' Plans Fo...   \n",
       "200849 2012-01-28  Maria Sharapova Stunned By Victoria Azarenka I...   \n",
       "200850 2012-01-28  Giants Over Patriots, Jets Over Colts Among  M...   \n",
       "200851 2012-01-28  Aldon Smith Arrested: 49ers Linebacker Busted ...   \n",
       "200852 2012-01-28  Dwight Howard Rips Teammates After Magic Loss ...   \n",
       "\n",
       "                                                     link  \\\n",
       "0       https://www.huffingtonpost.com/entry/texas-ama...   \n",
       "1       https://www.huffingtonpost.com/entry/will-smit...   \n",
       "2       https://www.huffingtonpost.com/entry/hugh-gran...   \n",
       "3       https://www.huffingtonpost.com/entry/jim-carre...   \n",
       "4       https://www.huffingtonpost.com/entry/julianna-...   \n",
       "5       https://www.huffingtonpost.com/entry/morgan-fr...   \n",
       "6       https://www.huffingtonpost.com/entry/donald-tr...   \n",
       "7       https://www.huffingtonpost.com/entry/amazon-pr...   \n",
       "8       https://www.huffingtonpost.com/entry/mike-myer...   \n",
       "9       https://www.huffingtonpost.com/entry/hulu-what...   \n",
       "10      https://www.huffingtonpost.com/entry/justin-ti...   \n",
       "11      https://www.huffingtonpost.com/entry/south-kor...   \n",
       "12      https://www.huffingtonpost.com/entry/remote-oy...   \n",
       "13      https://www.huffingtonpost.com/entry/immigrant...   \n",
       "14      https://www.huffingtonpost.com/entry/fbi-wiret...   \n",
       "15      https://www.huffingtonpost.com/entry/edward-sn...   \n",
       "16      https://www.huffingtonpost.com/entry/obama-pho...   \n",
       "17      https://www.huffingtonpost.com/entry/results-f...   \n",
       "18      https://www.huffingtonpost.com/entry/ryan-zink...   \n",
       "19      https://www.huffingtonpost.com/entry/trump-sco...   \n",
       "20      https://www.huffingtonpost.com/entry/weird-fat...   \n",
       "21      https://www.huffingtonpost.com/entry/twitter-p...   \n",
       "22      https://www.huffingtonpost.com/entry/montana-w...   \n",
       "23      https://www.huffingtonpost.com/entry/north-kor...   \n",
       "24      https://www.huffingtonpost.com/entry/mississau...   \n",
       "25      https://www.huffingtonpost.com/entry/irish-tra...   \n",
       "26      https://www.huffingtonpost.com/entry/ireland-a...   \n",
       "27      https://www.huffingtonpost.com/entry/warriors-...   \n",
       "28      https://www.huffingtonpost.com/entry/mia-victo...   \n",
       "29      https://www.huffingtonpost.com/entry/police-ki...   \n",
       "...                                                   ...   \n",
       "200820  https://www.huffingtonpost.com/entry/gay-divor...   \n",
       "200821  https://www.huffingtonpost.com/entry/the-six-p...   \n",
       "200822  https://www.huffingtonpost.com/entry/something...   \n",
       "200823  https://www.huffingtonpost.com/entry/chris-gre...   \n",
       "200824  https://www.huffingtonpost.comhttp://www.windy...   \n",
       "200826  https://www.huffingtonpost.com/entry/maternal-...   \n",
       "200827  https://www.huffingtonpost.com/entry/tom-brady...   \n",
       "200828  https://www.huffingtonpost.com/entry/boxer-pup...   \n",
       "200829  https://www.huffingtonpost.com/entry/black-smo...   \n",
       "200831  https://www.huffingtonpost.com/entry/winter-we...   \n",
       "200832  https://www.huffingtonpost.com/entry/insects-t...   \n",
       "200833  https://www.huffingtonpost.com/entry/four-more...   \n",
       "200834  https://www.huffingtonpost.com/entry/bank-fees...   \n",
       "200835  https://www.huffingtonpost.comhttp://jobs.aol....   \n",
       "200836  https://www.huffingtonpost.com/entry/world-eco...   \n",
       "200837  https://www.huffingtonpost.com/entry/positive-...   \n",
       "200838  https://www.huffingtonpost.com/entry/sundance-...   \n",
       "200839  https://www.huffingtonpost.com/entry/girl-with...   \n",
       "200840  https://www.huffingtonpost.com/entry/dont-thin...   \n",
       "200841  https://www.huffingtonpost.com/entry/matthew-m...   \n",
       "200842  https://www.huffingtonpost.com/entry/allard-va...   \n",
       "200843  https://www.huffingtonpost.com/entry/games-for...   \n",
       "200844  https://www.huffingtonpost.com/entry/google-pl...   \n",
       "200846  https://www.huffingtonpost.comhttp://www.engad...   \n",
       "200847  https://www.huffingtonpost.com/entry/watch-top...   \n",
       "200848  https://www.huffingtonpost.com/entry/rim-ceo-t...   \n",
       "200849  https://www.huffingtonpost.com/entry/maria-sha...   \n",
       "200850  https://www.huffingtonpost.com/entry/super-bow...   \n",
       "200851  https://www.huffingtonpost.com/entry/aldon-smi...   \n",
       "200852  https://www.huffingtonpost.com/entry/dwight-ho...   \n",
       "\n",
       "                                        short_description  \n",
       "0       She left her husband. He killed their children...  \n",
       "1                                Of course it has a song.  \n",
       "2       The actor and his longtime girlfriend Anna Ebe...  \n",
       "3       The actor gives Dems an ass-kicking for not fi...  \n",
       "4       The \"Dietland\" actress said using the bags is ...  \n",
       "5       \"It is not right to equate horrific incidents ...  \n",
       "6                                 It's catchy, all right.  \n",
       "7          There's a great mini-series joining this week.  \n",
       "8       Myer's kids may be pushing for a new \"Powers\" ...  \n",
       "9       You're getting a recent Academy Award-winning ...  \n",
       "10      The pop star also wore a \"Santa Fe Strong\" shi...  \n",
       "11      The two met to pave the way for a summit betwe...  \n",
       "12       The revolution is coming to rural New Brunswick.  \n",
       "13      Last month a Health and Human Services officia...  \n",
       "14      The wiretaps feature conversations between Ale...  \n",
       "15      But don't count on Robert Mueller to nail him,...  \n",
       "16                                 Just a peeping minute.  \n",
       "17      Irish women will no longer have to travel to t...  \n",
       "18      The interior secretary attempts damage control...  \n",
       "19      And there are four times as many male as femal...  \n",
       "20      Why buy a boring tie when you can give him tes...  \n",
       "21         There's no such thing as too much \"Star Wars.\"  \n",
       "22      “We have no idea what this was until we get a ...  \n",
       "23      Trump’s announcement came after repeated threa...  \n",
       "24      Fifteen people were taken to the hospital, thr...  \n",
       "25      Just try to read these #HomeToVote tweets with...  \n",
       "26                     Vote counting will begin Saturday.  \n",
       "27      Forbidding players to take a knee during the n...  \n",
       "28      Mia Amor Mottley even earned the backing of th...  \n",
       "29      These Americans deserve to be more than anothe...  \n",
       "...                                                   ...  \n",
       "200820  One of the many unjust results of a state lega...  \n",
       "200821  On this episode of The Six Pack, we hit up the...  \n",
       "200822  Every other week we'll take a look at a few of...  \n",
       "200823  Regarding her own journey Gregoire said: “I wi...  \n",
       "200824  Twenty-four hours before the Golden Globes cer...  \n",
       "200826  It's time we all step up our efforts to ensure...  \n",
       "200827  Since Brady started promoting Martinez's cause...  \n",
       "200828  This bevy of otters were also filmed having a ...  \n",
       "200829  Photos and captions courtesy of University of ...  \n",
       "200831  While severe winter weather has devastated som...  \n",
       "200832  Species IDs need improvement In addition to th...  \n",
       "200833  The general pattern of the FDIC closing banks ...  \n",
       "200834  Don't like keeping all of your money stuffed u...  \n",
       "200835  After 30 years, \"People Greeters\" will no long...  \n",
       "200836  For decades, as crises have assailed developin...  \n",
       "200837  \"Analysts at Adobe combined historical purchas...  \n",
       "200838  Representation of the collective diaspora has ...  \n",
       "200839  \"Sony Pictures will not be releasing The Girl ...  \n",
       "200840  Amid cheers and the occasional \"Here we go!\" f...  \n",
       "200841  Was it an obvious choice to recruit Ellsworth ...  \n",
       "200842  A recent exhibition at Storefront for Art and ...  \n",
       "200843  I don't think people who play Zynga games are ...  \n",
       "200844  For the most part, teens' experience on Google...  \n",
       "200846  He was appointed with a fair bit of fanfare as...  \n",
       "200847  If you're looking to see the most popular YouT...  \n",
       "200848  Verizon Wireless and AT&T are already promotin...  \n",
       "200849  Afterward, Azarenka, more effusive with the pr...  \n",
       "200850  Leading up to Super Bowl XLVI, the most talked...  \n",
       "200851  CORRECTION: An earlier version of this story i...  \n",
       "200852  The five-time all-star center tore into his te...  \n",
       "\n",
       "[180543 rows x 6 columns]"
      ]
     },
     "execution_count": 43,
     "metadata": {},
     "output_type": "execute_result"
    }
   ],
   "source": [
    "# Check and remove duplicates\n",
    "\n",
    "news_data"
   ]
  },
  {
   "cell_type": "code",
   "execution_count": 44,
   "metadata": {},
   "outputs": [
    {
     "data": {
      "text/html": [
       "<div>\n",
       "<style scoped>\n",
       "    .dataframe tbody tr th:only-of-type {\n",
       "        vertical-align: middle;\n",
       "    }\n",
       "\n",
       "    .dataframe tbody tr th {\n",
       "        vertical-align: top;\n",
       "    }\n",
       "\n",
       "    .dataframe thead th {\n",
       "        text-align: right;\n",
       "    }\n",
       "</style>\n",
       "<table border=\"1\" class=\"dataframe\">\n",
       "  <thead>\n",
       "    <tr style=\"text-align: right;\">\n",
       "      <th></th>\n",
       "      <th>authors</th>\n",
       "      <th>category</th>\n",
       "      <th>date</th>\n",
       "      <th>headline</th>\n",
       "      <th>link</th>\n",
       "      <th>short_description</th>\n",
       "    </tr>\n",
       "  </thead>\n",
       "  <tbody>\n",
       "    <tr>\n",
       "      <th>36290</th>\n",
       "      <td>Darin Graham, ContributorJournalist</td>\n",
       "      <td>WOMEN</td>\n",
       "      <td>2017-01-25</td>\n",
       "      <td>“We Shall Overcomb!” Say The 100,000 Marching ...</td>\n",
       "      <td>https://www.huffingtonpost.com/entry/we-shall-...</td>\n",
       "      <td>Thousands of activists descended on London to ...</td>\n",
       "    </tr>\n",
       "    <tr>\n",
       "      <th>21194</th>\n",
       "      <td>Mycah Hazel, Contributorblogger, equal opportu...</td>\n",
       "      <td>HEALTHY LIVING</td>\n",
       "      <td>2017-07-18</td>\n",
       "      <td>“To The Bone” Didn’t Teach Me Glamour. It Taug...</td>\n",
       "      <td>https://www.huffingtonpost.com/entry/to-the-bo...</td>\n",
       "      <td>Oftentimes, films or TV shows about eating dis...</td>\n",
       "    </tr>\n",
       "    <tr>\n",
       "      <th>29672</th>\n",
       "      <td>Dana Brownlee, ContributorPresident of Profess...</td>\n",
       "      <td>BUSINESS</td>\n",
       "      <td>2017-04-10</td>\n",
       "      <td>“I’m Sorry\"--The Two Tragically Forgotten Word...</td>\n",
       "      <td>https://www.huffingtonpost.com/entry/im-sorryt...</td>\n",
       "      <td>Unfortunately, I was one of those frustrated p...</td>\n",
       "    </tr>\n",
       "    <tr>\n",
       "      <th>199048</th>\n",
       "      <td></td>\n",
       "      <td>DIVORCE</td>\n",
       "      <td>2012-02-16</td>\n",
       "      <td>‘Your Divorce Ruined My Life' What To Do When ...</td>\n",
       "      <td>https://www.huffingtonpost.comhttp://www.thegl...</td>\n",
       "      <td>It was Sunday night and Lucas’s mother had had...</td>\n",
       "    </tr>\n",
       "    <tr>\n",
       "      <th>193783</th>\n",
       "      <td></td>\n",
       "      <td>DIVORCE</td>\n",
       "      <td>2012-04-13</td>\n",
       "      <td>‘You Better Sit Down,' By The Civilians, At Fl...</td>\n",
       "      <td>https://www.huffingtonpost.comhttp://theater.n...</td>\n",
       "      <td>The Civilians, the enterprising troupe special...</td>\n",
       "    </tr>\n",
       "    <tr>\n",
       "      <th>112446</th>\n",
       "      <td></td>\n",
       "      <td>WOMEN</td>\n",
       "      <td>2014-09-09</td>\n",
       "      <td>‘Yes' Is Better Than ‘No' When It Comes To Con...</td>\n",
       "      <td>https://www.huffingtonpost.com/entry/michael-k...</td>\n",
       "      <td></td>\n",
       "    </tr>\n",
       "    <tr>\n",
       "      <th>123546</th>\n",
       "      <td></td>\n",
       "      <td>WEIRD NEWS</td>\n",
       "      <td>2014-05-05</td>\n",
       "      <td>‘Worst Mom In The World' Selfies</td>\n",
       "      <td>https://www.huffingtonpost.com/entry/worst-mom...</td>\n",
       "      <td></td>\n",
       "    </tr>\n",
       "    <tr>\n",
       "      <th>2932</th>\n",
       "      <td>Elyse Wanshel</td>\n",
       "      <td>QUEER VOICES</td>\n",
       "      <td>2018-04-02</td>\n",
       "      <td>‘Will &amp; Grace’ Creator To Donate Gay Bunny Boo...</td>\n",
       "      <td>https://www.huffingtonpost.com/entry/will-grac...</td>\n",
       "      <td>It's about to be a lot easier for kids in Mike...</td>\n",
       "    </tr>\n",
       "    <tr>\n",
       "      <th>67601</th>\n",
       "      <td>Nina Golgowski</td>\n",
       "      <td>WEIRD NEWS</td>\n",
       "      <td>2016-02-03</td>\n",
       "      <td>‘Wild Boar Curling’ Rescues Stranded Wild Boar...</td>\n",
       "      <td>https://www.huffingtonpost.com/entry/wild-boar...</td>\n",
       "      <td>Get this pig in a blanket!</td>\n",
       "    </tr>\n",
       "    <tr>\n",
       "      <th>85380</th>\n",
       "      <td>Lilly Workneh</td>\n",
       "      <td>BLACK VOICES</td>\n",
       "      <td>2015-07-17</td>\n",
       "      <td>‘We’re Never Gonna Forget’: Eric Garner’s Fami...</td>\n",
       "      <td>https://www.huffingtonpost.com/entry/were-neve...</td>\n",
       "      <td>Eric Garner's family share memories of the fam...</td>\n",
       "    </tr>\n",
       "    <tr>\n",
       "      <th>25186</th>\n",
       "      <td>Sara Hylton, Women &amp; Girls Hub</td>\n",
       "      <td>WORLD NEWS</td>\n",
       "      <td>2017-05-31</td>\n",
       "      <td>‘We Are the Same Blood’: The Invisible Lives O...</td>\n",
       "      <td>https://www.huffingtonpost.com/entry/we-are-th...</td>\n",
       "      <td>A girl from the Dalit village of Harirajpur, i...</td>\n",
       "    </tr>\n",
       "    <tr>\n",
       "      <th>26210</th>\n",
       "      <td>Stateline, ContributorStateline provides daily...</td>\n",
       "      <td>POLITICS</td>\n",
       "      <td>2017-05-19</td>\n",
       "      <td>‘WannaCry’ Ransomware Attack Raises Alarm Bell...</td>\n",
       "      <td>https://www.huffingtonpost.com/entry/wannacry-...</td>\n",
       "      <td>While the recent global cyberattack has spared...</td>\n",
       "    </tr>\n",
       "    <tr>\n",
       "      <th>20973</th>\n",
       "      <td>Bill Bradley</td>\n",
       "      <td>ENTERTAINMENT</td>\n",
       "      <td>2017-07-20</td>\n",
       "      <td>‘Walking Dead’ Reportedly Cancels Comic-Con Pr...</td>\n",
       "      <td>https://www.huffingtonpost.com/entry/walking-d...</td>\n",
       "      <td>But the panel will still happen.</td>\n",
       "    </tr>\n",
       "    <tr>\n",
       "      <th>26939</th>\n",
       "      <td>Robert Weissman, ContributorPresident of Publi...</td>\n",
       "      <td>POLITICS</td>\n",
       "      <td>2017-05-11</td>\n",
       "      <td>‘Voter Fraud’ Executive Order: Trump’s Fraud O...</td>\n",
       "      <td>https://www.huffingtonpost.com/entry/voter-fra...</td>\n",
       "      <td>Horrifying, disgusting and shameful. Those are...</td>\n",
       "    </tr>\n",
       "    <tr>\n",
       "      <th>15705</th>\n",
       "      <td>Spencer Smith, ContributorTech-worker + Concer...</td>\n",
       "      <td>QUEER VOICES</td>\n",
       "      <td>2017-09-25</td>\n",
       "      <td>‘Voices 4 Chechnya’ Speaks Out On Giving Voice...</td>\n",
       "      <td>https://www.huffingtonpost.com/entry/voices-4-...</td>\n",
       "      <td>\"When people are being rounded up, tortured, a...</td>\n",
       "    </tr>\n",
       "    <tr>\n",
       "      <th>83968</th>\n",
       "      <td>Alanna Vagianos</td>\n",
       "      <td>WOMEN</td>\n",
       "      <td>2015-08-03</td>\n",
       "      <td>‘UnREAL’ Director On Why ‘White Men’ Shouldn’t...</td>\n",
       "      <td>https://www.huffingtonpost.com/entry/unreal-di...</td>\n",
       "      <td>“We’ve already tried having only white men tel...</td>\n",
       "    </tr>\n",
       "    <tr>\n",
       "      <th>35588</th>\n",
       "      <td>Elyse Wanshel</td>\n",
       "      <td>COMEDY</td>\n",
       "      <td>2017-02-01</td>\n",
       "      <td>‘Trump Draws’ Hilariously Mocks President Sign...</td>\n",
       "      <td>https://www.huffingtonpost.com/entry/trump-dra...</td>\n",
       "      <td>Fine art.</td>\n",
       "    </tr>\n",
       "    <tr>\n",
       "      <th>16236</th>\n",
       "      <td>The Conversation Global, ContributorThe Conver...</td>\n",
       "      <td>WORLD NEWS</td>\n",
       "      <td>2017-09-18</td>\n",
       "      <td>‘Triple Talaq’ Abolition Is Only The Start Of ...</td>\n",
       "      <td>https://www.huffingtonpost.com/entry/triple-ta...</td>\n",
       "      <td>The egregious practice that some Muslim men em...</td>\n",
       "    </tr>\n",
       "    <tr>\n",
       "      <th>14817</th>\n",
       "      <td>The Conversation Global, ContributorThe Conver...</td>\n",
       "      <td>WORLD NEWS</td>\n",
       "      <td>2017-10-05</td>\n",
       "      <td>‘Triple Talaq’ Abolition Is Only The Start Of ...</td>\n",
       "      <td>https://www.huffingtonpost.com/entry/triple-ta...</td>\n",
       "      <td>By Zoya Hasan, Jawahawlal Nehru University The...</td>\n",
       "    </tr>\n",
       "    <tr>\n",
       "      <th>74066</th>\n",
       "      <td>Juliet Linderman, AP</td>\n",
       "      <td>BLACK VOICES</td>\n",
       "      <td>2015-11-21</td>\n",
       "      <td>‘To Hear A Mother’s Cries … It Does Something ...</td>\n",
       "      <td>https://www.huffingtonpost.com/entry/to-hear-a...</td>\n",
       "      <td>Meet the funeral home director who buries the ...</td>\n",
       "    </tr>\n",
       "    <tr>\n",
       "      <th>39284</th>\n",
       "      <td>Patricia Allard and Lill M. Hewko, Contributors</td>\n",
       "      <td>IMPACT</td>\n",
       "      <td>2016-12-22</td>\n",
       "      <td>‘Tis The Season For Miracles: Eight-Year-Old D...</td>\n",
       "      <td>https://www.huffingtonpost.com/entry/tis-the-s...</td>\n",
       "      <td>For many faiths and traditions, the winter hol...</td>\n",
       "    </tr>\n",
       "    <tr>\n",
       "      <th>10348</th>\n",
       "      <td>Ed Mazza</td>\n",
       "      <td>COMEDY</td>\n",
       "      <td>2017-12-04</td>\n",
       "      <td>‘Tis The Season For Impeachment In Chipmunks C...</td>\n",
       "      <td>https://www.huffingtonpost.com/entry/chipmunks...</td>\n",
       "      <td>\"Please Mueller don't be late.\"</td>\n",
       "    </tr>\n",
       "    <tr>\n",
       "      <th>19088</th>\n",
       "      <td>Rumbi Chakamba, Women &amp; Girls</td>\n",
       "      <td>WORLD NEWS</td>\n",
       "      <td>2017-08-12</td>\n",
       "      <td>‘They Say We’re Sinners’: Protecting Malawi’s ...</td>\n",
       "      <td>https://www.huffingtonpost.com/entry/protectin...</td>\n",
       "      <td>Discrimination and misunderstanding of the law...</td>\n",
       "    </tr>\n",
       "    <tr>\n",
       "      <th>10318</th>\n",
       "      <td>Igor Bobic</td>\n",
       "      <td>POLITICS</td>\n",
       "      <td>2017-12-05</td>\n",
       "      <td>‘They Cannot Hide From Him’: Democrats See Big...</td>\n",
       "      <td>https://www.huffingtonpost.com/entry/dga-jay-i...</td>\n",
       "      <td>The stakes are high with redistricting battles...</td>\n",
       "    </tr>\n",
       "    <tr>\n",
       "      <th>66764</th>\n",
       "      <td></td>\n",
       "      <td>WOMEN</td>\n",
       "      <td>2016-02-12</td>\n",
       "      <td>‘There’s An Image Problem’: The Drive To Attra...</td>\n",
       "      <td>https://www.huffingtonpost.comhttp://www.irish...</td>\n",
       "      <td>Don’t date the nerd, “be the nerd”, was Facebo...</td>\n",
       "    </tr>\n",
       "    <tr>\n",
       "      <th>85147</th>\n",
       "      <td></td>\n",
       "      <td>BLACK VOICES</td>\n",
       "      <td>2015-07-20</td>\n",
       "      <td>‘The Wire’ Cast Reunited In Baltimore To Uplif...</td>\n",
       "      <td>https://www.huffingtonpost.comhttp://baltimore...</td>\n",
       "      <td>BALTIMORE (WJZ)–The cast of HBO’s The Wire reu...</td>\n",
       "    </tr>\n",
       "    <tr>\n",
       "      <th>46537</th>\n",
       "      <td>Bill Bradley</td>\n",
       "      <td>ENTERTAINMENT</td>\n",
       "      <td>2016-09-30</td>\n",
       "      <td>‘The Walking Dead’ Show And Comics Won’t End T...</td>\n",
       "      <td>https://www.huffingtonpost.com/entry/the-walki...</td>\n",
       "      <td>And you thought the finale was upsetting.</td>\n",
       "    </tr>\n",
       "    <tr>\n",
       "      <th>9375</th>\n",
       "      <td>Leigh Blickley</td>\n",
       "      <td>ENTERTAINMENT</td>\n",
       "      <td>2017-12-17</td>\n",
       "      <td>‘The Voice’ Is Great TV. It’s Just Not Always ...</td>\n",
       "      <td>https://www.huffingtonpost.com/entry/the-voice...</td>\n",
       "      <td>A handful of former contestants, plus host and...</td>\n",
       "    </tr>\n",
       "    <tr>\n",
       "      <th>4487</th>\n",
       "      <td>Lyndsey Parker, Yahoo Entertainment</td>\n",
       "      <td>QUEER VOICES</td>\n",
       "      <td>2018-03-06</td>\n",
       "      <td>‘The Voice’ Blind Auditions Make History With ...</td>\n",
       "      <td>https://www.huffingtonpost.com/entry/the-voice...</td>\n",
       "      <td>Austin Giorgio, 21: “How Sweet It Is (To Be Lo...</td>\n",
       "    </tr>\n",
       "    <tr>\n",
       "      <th>12525</th>\n",
       "      <td>Lee Moran</td>\n",
       "      <td>ENTERTAINMENT</td>\n",
       "      <td>2017-11-04</td>\n",
       "      <td>‘The Simpsons’ Trolls Donald Trump With Messag...</td>\n",
       "      <td>https://www.huffingtonpost.com/entry/the-simps...</td>\n",
       "      <td>\"I personally know how it feels when somebody ...</td>\n",
       "    </tr>\n",
       "    <tr>\n",
       "      <th>...</th>\n",
       "      <td>...</td>\n",
       "      <td>...</td>\n",
       "      <td>...</td>\n",
       "      <td>...</td>\n",
       "      <td>...</td>\n",
       "      <td>...</td>\n",
       "    </tr>\n",
       "    <tr>\n",
       "      <th>79194</th>\n",
       "      <td></td>\n",
       "      <td>LATINO VOICES</td>\n",
       "      <td>2015-09-25</td>\n",
       "      <td>\"Endgame\": Carmen Marrón Makes Inspiring Film ...</td>\n",
       "      <td>https://www.huffingtonpost.comhttp://www.nbcne...</td>\n",
       "      <td>Young José has problems. He lives under the sh...</td>\n",
       "    </tr>\n",
       "    <tr>\n",
       "      <th>184553</th>\n",
       "      <td>Sarah Leon</td>\n",
       "      <td>STYLE &amp; BEAUTY</td>\n",
       "      <td>2012-07-21</td>\n",
       "      <td>\"Dynasty\" Actress Stephanie Beacham Let Her Fr...</td>\n",
       "      <td>https://www.huffingtonpost.com/entry/dynasty-a...</td>\n",
       "      <td>Art by Raydene Salinas Lichfield/Getty Images ...</td>\n",
       "    </tr>\n",
       "    <tr>\n",
       "      <th>127174</th>\n",
       "      <td>Pippa Biddle , Contributor\\nWriter.</td>\n",
       "      <td>TRAVEL</td>\n",
       "      <td>2014-03-25</td>\n",
       "      <td>\"Don't Worry, Be Happy\" and a Dirt Road in Tan...</td>\n",
       "      <td>https://www.huffingtonpost.com/entry/dont-worr...</td>\n",
       "      <td>This young girl whose parents struggled to scr...</td>\n",
       "    </tr>\n",
       "    <tr>\n",
       "      <th>93360</th>\n",
       "      <td>Style.com, Contributor</td>\n",
       "      <td>STYLE</td>\n",
       "      <td>2015-04-17</td>\n",
       "      <td>\"Dior and I\"...and I: How Frédéric Tcheng Made...</td>\n",
       "      <td>https://www.huffingtonpost.com/entry/dior-and-...</td>\n",
       "      <td>The moment Raf Simons cries isn't even the bes...</td>\n",
       "    </tr>\n",
       "    <tr>\n",
       "      <th>170481</th>\n",
       "      <td>Broke Girls Guide, Contributor\\nCo-founders Er...</td>\n",
       "      <td>FOOD &amp; DRINK</td>\n",
       "      <td>2012-12-20</td>\n",
       "      <td>\"Dinner for One: Pomegranates &amp; Pork Chops\" (V...</td>\n",
       "      <td>https://www.huffingtonpost.com/entry/dinner-fo...</td>\n",
       "      <td>This episode is all about pomegranates -- a Po...</td>\n",
       "    </tr>\n",
       "    <tr>\n",
       "      <th>180013</th>\n",
       "      <td></td>\n",
       "      <td>SCIENCE</td>\n",
       "      <td>2012-09-09</td>\n",
       "      <td>\"Demon Star\" Algol Of Perseus Constellation Vi...</td>\n",
       "      <td>https://www.huffingtonpost.com/entry/demon-sta...</td>\n",
       "      <td>Magnitudes are celestial numbers that measures...</td>\n",
       "    </tr>\n",
       "    <tr>\n",
       "      <th>25151</th>\n",
       "      <td>Anna Sabino, ContributorBusiness Growth and Li...</td>\n",
       "      <td>COMEDY</td>\n",
       "      <td>2017-06-01</td>\n",
       "      <td>\"Covfefe\" - Social Confetti - Laughing Togethe...</td>\n",
       "      <td>https://www.huffingtonpost.com/entry/covfefe-s...</td>\n",
       "      <td>This post is very different from what I usuall...</td>\n",
       "    </tr>\n",
       "    <tr>\n",
       "      <th>118713</th>\n",
       "      <td>Brian Holton Henderson, ContributorBlogger</td>\n",
       "      <td>POLITICS</td>\n",
       "      <td>2014-07-01</td>\n",
       "      <td>\"Conservatives Don't Like Taxes\" and Other Les...</td>\n",
       "      <td>https://www.huffingtonpost.com/entry/conservat...</td>\n",
       "      <td>Politicians like Mike Turner willfully sling a...</td>\n",
       "    </tr>\n",
       "    <tr>\n",
       "      <th>137976</th>\n",
       "      <td>Jackie K Cooper, Contributor\\nFilm Critic</td>\n",
       "      <td>ENTERTAINMENT</td>\n",
       "      <td>2013-11-29</td>\n",
       "      <td>\"Christmas in Conway\" Is a Winner For the Hall...</td>\n",
       "      <td>https://www.huffingtonpost.com/entry/christmas...</td>\n",
       "      <td>With its latest production, \"Christmas in Conw...</td>\n",
       "    </tr>\n",
       "    <tr>\n",
       "      <th>120489</th>\n",
       "      <td>James Scarborough, ContributorArt, theatre, an...</td>\n",
       "      <td>ARTS</td>\n",
       "      <td>2014-06-10</td>\n",
       "      <td>\"Cartographia: Artifacts of a Creative Journey...</td>\n",
       "      <td>https://www.huffingtonpost.com/entry/cartograp...</td>\n",
       "      <td>This exhibition proposes that artists are mapm...</td>\n",
       "    </tr>\n",
       "    <tr>\n",
       "      <th>106321</th>\n",
       "      <td>Brennan Williams</td>\n",
       "      <td>BLACK VOICES</td>\n",
       "      <td>2014-11-19</td>\n",
       "      <td>\"Bye Felicia\" Is The Name Of a New TV Show And...</td>\n",
       "      <td>https://www.huffingtonpost.com/entry/vh1-bye-f...</td>\n",
       "      <td></td>\n",
       "    </tr>\n",
       "    <tr>\n",
       "      <th>184863</th>\n",
       "      <td>Lisa Earle McLeod, Contributor\\nCreator of Nob...</td>\n",
       "      <td>MONEY</td>\n",
       "      <td>2012-07-18</td>\n",
       "      <td>\"But We've Already Spent the Money!\"</td>\n",
       "      <td>https://www.huffingtonpost.com/entry/but-weve-...</td>\n",
       "      <td>It doesn't matter how much time or money you'v...</td>\n",
       "    </tr>\n",
       "    <tr>\n",
       "      <th>60589</th>\n",
       "      <td>Jackie K. Cooper, ContributorFilm Critic</td>\n",
       "      <td>ENTERTAINMENT</td>\n",
       "      <td>2016-04-24</td>\n",
       "      <td>\"Bosch\" Is Back and Better Than Ever</td>\n",
       "      <td>https://www.huffingtonpost.com/entry/bosch-is-...</td>\n",
       "      <td></td>\n",
       "    </tr>\n",
       "    <tr>\n",
       "      <th>68627</th>\n",
       "      <td>Rick Horowitz, ContributorMilwaukee Public TV ...</td>\n",
       "      <td>POLITICS</td>\n",
       "      <td>2016-01-23</td>\n",
       "      <td>\"Black Lives Matter\" (the \"Too\" Is Silent)</td>\n",
       "      <td>https://www.huffingtonpost.com/entry/black-liv...</td>\n",
       "      <td>It's pretty easy to understand. Unless you're ...</td>\n",
       "    </tr>\n",
       "    <tr>\n",
       "      <th>91213</th>\n",
       "      <td>John Shore, ContributorAuthor, \"Ashes to Ashev...</td>\n",
       "      <td>RELIGION</td>\n",
       "      <td>2015-05-12</td>\n",
       "      <td>\"Bible Believing\" Pastors and the Enabling of ...</td>\n",
       "      <td>https://www.huffingtonpost.com/entry/bible-bel...</td>\n",
       "      <td>I didn't know the pastor who phoned me from Al...</td>\n",
       "    </tr>\n",
       "    <tr>\n",
       "      <th>115463</th>\n",
       "      <td>H. Adam Ackley, Ph.D., ContributorTrans suicid...</td>\n",
       "      <td>RELIGION</td>\n",
       "      <td>2014-08-06</td>\n",
       "      <td>\"Better to Marry\": For Christians, Gay Marriag...</td>\n",
       "      <td>https://www.huffingtonpost.com/entry/who-sinne...</td>\n",
       "      <td>As a scholar of religion who is gay (and -- by...</td>\n",
       "    </tr>\n",
       "    <tr>\n",
       "      <th>135037</th>\n",
       "      <td>Kate Scharff, Contributor\\nPsychotherapist, Di...</td>\n",
       "      <td>DIVORCE</td>\n",
       "      <td>2013-12-30</td>\n",
       "      <td>\"Because We Both Love You\" -- New Year's Resol...</td>\n",
       "      <td>https://www.huffingtonpost.com/entry/new-years...</td>\n",
       "      <td>We'll compliment the good traits we still see ...</td>\n",
       "    </tr>\n",
       "    <tr>\n",
       "      <th>50799</th>\n",
       "      <td>Jackie K. Cooper, ContributorFilm Critic</td>\n",
       "      <td>ENTERTAINMENT</td>\n",
       "      <td>2016-08-13</td>\n",
       "      <td>\"Bachelors\" Is a Profanity Laden RomCom</td>\n",
       "      <td>https://www.huffingtonpost.com/entry/bachelors...</td>\n",
       "      <td></td>\n",
       "    </tr>\n",
       "    <tr>\n",
       "      <th>147824</th>\n",
       "      <td>Jackie K Cooper, Contributor\\nFilm Critic</td>\n",
       "      <td>ENTERTAINMENT</td>\n",
       "      <td>2013-08-17</td>\n",
       "      <td>\"Baby Sellers\" Shows the Evil Side of Kirstie ...</td>\n",
       "      <td>https://www.huffingtonpost.com/entry/baby-sell...</td>\n",
       "      <td>The true story is that Carla is a cold hearted...</td>\n",
       "    </tr>\n",
       "    <tr>\n",
       "      <th>193086</th>\n",
       "      <td></td>\n",
       "      <td>CULTURE &amp; ARTS</td>\n",
       "      <td>2012-04-21</td>\n",
       "      <td>\"Archizines + Arch-Art! Books\" Comes To Storef...</td>\n",
       "      <td>https://www.huffingtonpost.com/entry/archizine...</td>\n",
       "      <td>The double exhibition \"Archizines + Arch-Art! ...</td>\n",
       "    </tr>\n",
       "    <tr>\n",
       "      <th>40225</th>\n",
       "      <td>E. Nina Rothe, ContributorCultural Activist</td>\n",
       "      <td>ENTERTAINMENT</td>\n",
       "      <td>2016-12-11</td>\n",
       "      <td>\"An International Film Festival with an Arab H...</td>\n",
       "      <td>https://www.huffingtonpost.com/entry/an-intern...</td>\n",
       "      <td></td>\n",
       "    </tr>\n",
       "    <tr>\n",
       "      <th>120801</th>\n",
       "      <td>Tanene Allison, ContributorPolitical communica...</td>\n",
       "      <td>POLITICS</td>\n",
       "      <td>2014-06-07</td>\n",
       "      <td>\"Amazing Grace\" Garcia and Her Legacy Among Te...</td>\n",
       "      <td>https://www.huffingtonpost.com/entry/amazing-g...</td>\n",
       "      <td>Grace Garcia was the matriarch of a tight-knit...</td>\n",
       "    </tr>\n",
       "    <tr>\n",
       "      <th>57464</th>\n",
       "      <td>Paul_Smith, ContributorDirector, British Counc...</td>\n",
       "      <td>ARTS</td>\n",
       "      <td>2016-05-30</td>\n",
       "      <td>\"Age Shall Not Weary Them\" - Shakespeare and M...</td>\n",
       "      <td>https://www.huffingtonpost.com/entry/age-shall...</td>\n",
       "      <td>It's a phrase that resonates as we remember th...</td>\n",
       "    </tr>\n",
       "    <tr>\n",
       "      <th>197915</th>\n",
       "      <td>Steven Kurlander, Contributor\\nAttorney and Bl...</td>\n",
       "      <td>PARENTING</td>\n",
       "      <td>2012-02-29</td>\n",
       "      <td>\"Adoption\" Needs to Become a Buzz Word in the ...</td>\n",
       "      <td>https://www.huffingtonpost.com/entry/-adoption...</td>\n",
       "      <td>Any adoptive mother or father will tell you th...</td>\n",
       "    </tr>\n",
       "    <tr>\n",
       "      <th>151118</th>\n",
       "      <td>David Wild, Contributor\\nTV Writer; Contributi...</td>\n",
       "      <td>ENTERTAINMENT</td>\n",
       "      <td>2013-07-13</td>\n",
       "      <td>\"A Legal Matter\": A Playlist for The Zimmerman...</td>\n",
       "      <td>https://www.huffingtonpost.com/entry/a-legal-m...</td>\n",
       "      <td>Robert Frost once noted, \"A jury consists of t...</td>\n",
       "    </tr>\n",
       "    <tr>\n",
       "      <th>146670</th>\n",
       "      <td>Tessie Castillo, Contributor\\nAdvocacy and Com...</td>\n",
       "      <td>PARENTING</td>\n",
       "      <td>2013-08-29</td>\n",
       "      <td>\"A Doctor Prescribed My Son 140 Pain Pills in ...</td>\n",
       "      <td>https://www.huffingtonpost.com/entry/a-doctor-...</td>\n",
       "      <td>\"I thought Riley was exempt from hard drugs,\" ...</td>\n",
       "    </tr>\n",
       "    <tr>\n",
       "      <th>110111</th>\n",
       "      <td>MutualArt, ContributorWorld's largest online a...</td>\n",
       "      <td>ARTS</td>\n",
       "      <td>2014-10-06</td>\n",
       "      <td>\"@Large\" and Absent, Ai Weiwei on Alcatraz</td>\n",
       "      <td>https://www.huffingtonpost.com/entry/large-and...</td>\n",
       "      <td>The United States' most storied island prison,...</td>\n",
       "    </tr>\n",
       "    <tr>\n",
       "      <th>194610</th>\n",
       "      <td>Cheryl Krueger, Contributor\\nFounder, Growing ...</td>\n",
       "      <td>MONEY</td>\n",
       "      <td>2012-04-04</td>\n",
       "      <td>\"4% Rule\" Serves as Guideline for Today's Reti...</td>\n",
       "      <td>https://www.huffingtonpost.com/entry/retiremen...</td>\n",
       "      <td>An estimated 10,000 baby boomers turn age 65 e...</td>\n",
       "    </tr>\n",
       "    <tr>\n",
       "      <th>130009</th>\n",
       "      <td>Jackie K Cooper, Contributor\\nFilm Critic</td>\n",
       "      <td>ENTERTAINMENT</td>\n",
       "      <td>2014-02-22</td>\n",
       "      <td>\"3 Days to Kill\" Proves Costner's Still Got It</td>\n",
       "      <td>https://www.huffingtonpost.com/entry/3-days-to...</td>\n",
       "      <td>Kevin Costner is starring in the new action fl...</td>\n",
       "    </tr>\n",
       "    <tr>\n",
       "      <th>149150</th>\n",
       "      <td>Jackie K Cooper, Contributor\\nFilm Critic</td>\n",
       "      <td>ENTERTAINMENT</td>\n",
       "      <td>2013-08-03</td>\n",
       "      <td>\"2 Guns\": Two Pros In Action</td>\n",
       "      <td>https://www.huffingtonpost.com/entry/2-guns-tw...</td>\n",
       "      <td>It helps that the supporting cast is almost as...</td>\n",
       "    </tr>\n",
       "  </tbody>\n",
       "</table>\n",
       "<p>180543 rows × 6 columns</p>\n",
       "</div>"
      ],
      "text/plain": [
       "                                                  authors        category  \\\n",
       "36290                 Darin Graham, ContributorJournalist           WOMEN   \n",
       "21194   Mycah Hazel, Contributorblogger, equal opportu...  HEALTHY LIVING   \n",
       "29672   Dana Brownlee, ContributorPresident of Profess...        BUSINESS   \n",
       "199048                                                            DIVORCE   \n",
       "193783                                                            DIVORCE   \n",
       "112446                                                              WOMEN   \n",
       "123546                                                         WEIRD NEWS   \n",
       "2932                                        Elyse Wanshel    QUEER VOICES   \n",
       "67601                                      Nina Golgowski      WEIRD NEWS   \n",
       "85380                                       Lilly Workneh    BLACK VOICES   \n",
       "25186                      Sara Hylton, Women & Girls Hub      WORLD NEWS   \n",
       "26210   Stateline, ContributorStateline provides daily...        POLITICS   \n",
       "20973                                        Bill Bradley   ENTERTAINMENT   \n",
       "26939   Robert Weissman, ContributorPresident of Publi...        POLITICS   \n",
       "15705   Spencer Smith, ContributorTech-worker + Concer...    QUEER VOICES   \n",
       "83968                                     Alanna Vagianos           WOMEN   \n",
       "35588                                       Elyse Wanshel          COMEDY   \n",
       "16236   The Conversation Global, ContributorThe Conver...      WORLD NEWS   \n",
       "14817   The Conversation Global, ContributorThe Conver...      WORLD NEWS   \n",
       "74066                                Juliet Linderman, AP    BLACK VOICES   \n",
       "39284     Patricia Allard and Lill M. Hewko, Contributors          IMPACT   \n",
       "10348                                            Ed Mazza          COMEDY   \n",
       "19088                       Rumbi Chakamba, Women & Girls      WORLD NEWS   \n",
       "10318                                          Igor Bobic        POLITICS   \n",
       "66764                                                               WOMEN   \n",
       "85147                                                        BLACK VOICES   \n",
       "46537                                        Bill Bradley   ENTERTAINMENT   \n",
       "9375                                       Leigh Blickley   ENTERTAINMENT   \n",
       "4487                  Lyndsey Parker, Yahoo Entertainment    QUEER VOICES   \n",
       "12525                                           Lee Moran   ENTERTAINMENT   \n",
       "...                                                   ...             ...   \n",
       "79194                                                       LATINO VOICES   \n",
       "184553                                         Sarah Leon  STYLE & BEAUTY   \n",
       "127174                Pippa Biddle , Contributor\\nWriter.          TRAVEL   \n",
       "93360                              Style.com, Contributor           STYLE   \n",
       "170481  Broke Girls Guide, Contributor\\nCo-founders Er...    FOOD & DRINK   \n",
       "180013                                                            SCIENCE   \n",
       "25151   Anna Sabino, ContributorBusiness Growth and Li...          COMEDY   \n",
       "118713         Brian Holton Henderson, ContributorBlogger        POLITICS   \n",
       "137976          Jackie K Cooper, Contributor\\nFilm Critic   ENTERTAINMENT   \n",
       "120489  James Scarborough, ContributorArt, theatre, an...            ARTS   \n",
       "106321                                   Brennan Williams    BLACK VOICES   \n",
       "184863  Lisa Earle McLeod, Contributor\\nCreator of Nob...           MONEY   \n",
       "60589            Jackie K. Cooper, ContributorFilm Critic   ENTERTAINMENT   \n",
       "68627   Rick Horowitz, ContributorMilwaukee Public TV ...        POLITICS   \n",
       "91213   John Shore, ContributorAuthor, \"Ashes to Ashev...        RELIGION   \n",
       "115463  H. Adam Ackley, Ph.D., ContributorTrans suicid...        RELIGION   \n",
       "135037  Kate Scharff, Contributor\\nPsychotherapist, Di...         DIVORCE   \n",
       "50799            Jackie K. Cooper, ContributorFilm Critic   ENTERTAINMENT   \n",
       "147824          Jackie K Cooper, Contributor\\nFilm Critic   ENTERTAINMENT   \n",
       "193086                                                     CULTURE & ARTS   \n",
       "40225         E. Nina Rothe, ContributorCultural Activist   ENTERTAINMENT   \n",
       "120801  Tanene Allison, ContributorPolitical communica...        POLITICS   \n",
       "57464   Paul_Smith, ContributorDirector, British Counc...            ARTS   \n",
       "197915  Steven Kurlander, Contributor\\nAttorney and Bl...       PARENTING   \n",
       "151118  David Wild, Contributor\\nTV Writer; Contributi...   ENTERTAINMENT   \n",
       "146670  Tessie Castillo, Contributor\\nAdvocacy and Com...       PARENTING   \n",
       "110111  MutualArt, ContributorWorld's largest online a...            ARTS   \n",
       "194610  Cheryl Krueger, Contributor\\nFounder, Growing ...           MONEY   \n",
       "130009          Jackie K Cooper, Contributor\\nFilm Critic   ENTERTAINMENT   \n",
       "149150          Jackie K Cooper, Contributor\\nFilm Critic   ENTERTAINMENT   \n",
       "\n",
       "             date                                           headline  \\\n",
       "36290  2017-01-25  “We Shall Overcomb!” Say The 100,000 Marching ...   \n",
       "21194  2017-07-18  “To The Bone” Didn’t Teach Me Glamour. It Taug...   \n",
       "29672  2017-04-10  “I’m Sorry\"--The Two Tragically Forgotten Word...   \n",
       "199048 2012-02-16  ‘Your Divorce Ruined My Life' What To Do When ...   \n",
       "193783 2012-04-13  ‘You Better Sit Down,' By The Civilians, At Fl...   \n",
       "112446 2014-09-09  ‘Yes' Is Better Than ‘No' When It Comes To Con...   \n",
       "123546 2014-05-05                   ‘Worst Mom In The World' Selfies   \n",
       "2932   2018-04-02  ‘Will & Grace’ Creator To Donate Gay Bunny Boo...   \n",
       "67601  2016-02-03  ‘Wild Boar Curling’ Rescues Stranded Wild Boar...   \n",
       "85380  2015-07-17  ‘We’re Never Gonna Forget’: Eric Garner’s Fami...   \n",
       "25186  2017-05-31  ‘We Are the Same Blood’: The Invisible Lives O...   \n",
       "26210  2017-05-19  ‘WannaCry’ Ransomware Attack Raises Alarm Bell...   \n",
       "20973  2017-07-20  ‘Walking Dead’ Reportedly Cancels Comic-Con Pr...   \n",
       "26939  2017-05-11  ‘Voter Fraud’ Executive Order: Trump’s Fraud O...   \n",
       "15705  2017-09-25  ‘Voices 4 Chechnya’ Speaks Out On Giving Voice...   \n",
       "83968  2015-08-03  ‘UnREAL’ Director On Why ‘White Men’ Shouldn’t...   \n",
       "35588  2017-02-01  ‘Trump Draws’ Hilariously Mocks President Sign...   \n",
       "16236  2017-09-18  ‘Triple Talaq’ Abolition Is Only The Start Of ...   \n",
       "14817  2017-10-05  ‘Triple Talaq’ Abolition Is Only The Start Of ...   \n",
       "74066  2015-11-21  ‘To Hear A Mother’s Cries … It Does Something ...   \n",
       "39284  2016-12-22  ‘Tis The Season For Miracles: Eight-Year-Old D...   \n",
       "10348  2017-12-04  ‘Tis The Season For Impeachment In Chipmunks C...   \n",
       "19088  2017-08-12  ‘They Say We’re Sinners’: Protecting Malawi’s ...   \n",
       "10318  2017-12-05  ‘They Cannot Hide From Him’: Democrats See Big...   \n",
       "66764  2016-02-12  ‘There’s An Image Problem’: The Drive To Attra...   \n",
       "85147  2015-07-20  ‘The Wire’ Cast Reunited In Baltimore To Uplif...   \n",
       "46537  2016-09-30  ‘The Walking Dead’ Show And Comics Won’t End T...   \n",
       "9375   2017-12-17  ‘The Voice’ Is Great TV. It’s Just Not Always ...   \n",
       "4487   2018-03-06  ‘The Voice’ Blind Auditions Make History With ...   \n",
       "12525  2017-11-04  ‘The Simpsons’ Trolls Donald Trump With Messag...   \n",
       "...           ...                                                ...   \n",
       "79194  2015-09-25  \"Endgame\": Carmen Marrón Makes Inspiring Film ...   \n",
       "184553 2012-07-21  \"Dynasty\" Actress Stephanie Beacham Let Her Fr...   \n",
       "127174 2014-03-25  \"Don't Worry, Be Happy\" and a Dirt Road in Tan...   \n",
       "93360  2015-04-17  \"Dior and I\"...and I: How Frédéric Tcheng Made...   \n",
       "170481 2012-12-20  \"Dinner for One: Pomegranates & Pork Chops\" (V...   \n",
       "180013 2012-09-09  \"Demon Star\" Algol Of Perseus Constellation Vi...   \n",
       "25151  2017-06-01  \"Covfefe\" - Social Confetti - Laughing Togethe...   \n",
       "118713 2014-07-01  \"Conservatives Don't Like Taxes\" and Other Les...   \n",
       "137976 2013-11-29  \"Christmas in Conway\" Is a Winner For the Hall...   \n",
       "120489 2014-06-10  \"Cartographia: Artifacts of a Creative Journey...   \n",
       "106321 2014-11-19  \"Bye Felicia\" Is The Name Of a New TV Show And...   \n",
       "184863 2012-07-18               \"But We've Already Spent the Money!\"   \n",
       "60589  2016-04-24               \"Bosch\" Is Back and Better Than Ever   \n",
       "68627  2016-01-23         \"Black Lives Matter\" (the \"Too\" Is Silent)   \n",
       "91213  2015-05-12  \"Bible Believing\" Pastors and the Enabling of ...   \n",
       "115463 2014-08-06  \"Better to Marry\": For Christians, Gay Marriag...   \n",
       "135037 2013-12-30  \"Because We Both Love You\" -- New Year's Resol...   \n",
       "50799  2016-08-13            \"Bachelors\" Is a Profanity Laden RomCom   \n",
       "147824 2013-08-17  \"Baby Sellers\" Shows the Evil Side of Kirstie ...   \n",
       "193086 2012-04-21  \"Archizines + Arch-Art! Books\" Comes To Storef...   \n",
       "40225  2016-12-11  \"An International Film Festival with an Arab H...   \n",
       "120801 2014-06-07  \"Amazing Grace\" Garcia and Her Legacy Among Te...   \n",
       "57464  2016-05-30  \"Age Shall Not Weary Them\" - Shakespeare and M...   \n",
       "197915 2012-02-29  \"Adoption\" Needs to Become a Buzz Word in the ...   \n",
       "151118 2013-07-13  \"A Legal Matter\": A Playlist for The Zimmerman...   \n",
       "146670 2013-08-29  \"A Doctor Prescribed My Son 140 Pain Pills in ...   \n",
       "110111 2014-10-06         \"@Large\" and Absent, Ai Weiwei on Alcatraz   \n",
       "194610 2012-04-04  \"4% Rule\" Serves as Guideline for Today's Reti...   \n",
       "130009 2014-02-22     \"3 Days to Kill\" Proves Costner's Still Got It   \n",
       "149150 2013-08-03                       \"2 Guns\": Two Pros In Action   \n",
       "\n",
       "                                                     link  \\\n",
       "36290   https://www.huffingtonpost.com/entry/we-shall-...   \n",
       "21194   https://www.huffingtonpost.com/entry/to-the-bo...   \n",
       "29672   https://www.huffingtonpost.com/entry/im-sorryt...   \n",
       "199048  https://www.huffingtonpost.comhttp://www.thegl...   \n",
       "193783  https://www.huffingtonpost.comhttp://theater.n...   \n",
       "112446  https://www.huffingtonpost.com/entry/michael-k...   \n",
       "123546  https://www.huffingtonpost.com/entry/worst-mom...   \n",
       "2932    https://www.huffingtonpost.com/entry/will-grac...   \n",
       "67601   https://www.huffingtonpost.com/entry/wild-boar...   \n",
       "85380   https://www.huffingtonpost.com/entry/were-neve...   \n",
       "25186   https://www.huffingtonpost.com/entry/we-are-th...   \n",
       "26210   https://www.huffingtonpost.com/entry/wannacry-...   \n",
       "20973   https://www.huffingtonpost.com/entry/walking-d...   \n",
       "26939   https://www.huffingtonpost.com/entry/voter-fra...   \n",
       "15705   https://www.huffingtonpost.com/entry/voices-4-...   \n",
       "83968   https://www.huffingtonpost.com/entry/unreal-di...   \n",
       "35588   https://www.huffingtonpost.com/entry/trump-dra...   \n",
       "16236   https://www.huffingtonpost.com/entry/triple-ta...   \n",
       "14817   https://www.huffingtonpost.com/entry/triple-ta...   \n",
       "74066   https://www.huffingtonpost.com/entry/to-hear-a...   \n",
       "39284   https://www.huffingtonpost.com/entry/tis-the-s...   \n",
       "10348   https://www.huffingtonpost.com/entry/chipmunks...   \n",
       "19088   https://www.huffingtonpost.com/entry/protectin...   \n",
       "10318   https://www.huffingtonpost.com/entry/dga-jay-i...   \n",
       "66764   https://www.huffingtonpost.comhttp://www.irish...   \n",
       "85147   https://www.huffingtonpost.comhttp://baltimore...   \n",
       "46537   https://www.huffingtonpost.com/entry/the-walki...   \n",
       "9375    https://www.huffingtonpost.com/entry/the-voice...   \n",
       "4487    https://www.huffingtonpost.com/entry/the-voice...   \n",
       "12525   https://www.huffingtonpost.com/entry/the-simps...   \n",
       "...                                                   ...   \n",
       "79194   https://www.huffingtonpost.comhttp://www.nbcne...   \n",
       "184553  https://www.huffingtonpost.com/entry/dynasty-a...   \n",
       "127174  https://www.huffingtonpost.com/entry/dont-worr...   \n",
       "93360   https://www.huffingtonpost.com/entry/dior-and-...   \n",
       "170481  https://www.huffingtonpost.com/entry/dinner-fo...   \n",
       "180013  https://www.huffingtonpost.com/entry/demon-sta...   \n",
       "25151   https://www.huffingtonpost.com/entry/covfefe-s...   \n",
       "118713  https://www.huffingtonpost.com/entry/conservat...   \n",
       "137976  https://www.huffingtonpost.com/entry/christmas...   \n",
       "120489  https://www.huffingtonpost.com/entry/cartograp...   \n",
       "106321  https://www.huffingtonpost.com/entry/vh1-bye-f...   \n",
       "184863  https://www.huffingtonpost.com/entry/but-weve-...   \n",
       "60589   https://www.huffingtonpost.com/entry/bosch-is-...   \n",
       "68627   https://www.huffingtonpost.com/entry/black-liv...   \n",
       "91213   https://www.huffingtonpost.com/entry/bible-bel...   \n",
       "115463  https://www.huffingtonpost.com/entry/who-sinne...   \n",
       "135037  https://www.huffingtonpost.com/entry/new-years...   \n",
       "50799   https://www.huffingtonpost.com/entry/bachelors...   \n",
       "147824  https://www.huffingtonpost.com/entry/baby-sell...   \n",
       "193086  https://www.huffingtonpost.com/entry/archizine...   \n",
       "40225   https://www.huffingtonpost.com/entry/an-intern...   \n",
       "120801  https://www.huffingtonpost.com/entry/amazing-g...   \n",
       "57464   https://www.huffingtonpost.com/entry/age-shall...   \n",
       "197915  https://www.huffingtonpost.com/entry/-adoption...   \n",
       "151118  https://www.huffingtonpost.com/entry/a-legal-m...   \n",
       "146670  https://www.huffingtonpost.com/entry/a-doctor-...   \n",
       "110111  https://www.huffingtonpost.com/entry/large-and...   \n",
       "194610  https://www.huffingtonpost.com/entry/retiremen...   \n",
       "130009  https://www.huffingtonpost.com/entry/3-days-to...   \n",
       "149150  https://www.huffingtonpost.com/entry/2-guns-tw...   \n",
       "\n",
       "                                        short_description  \n",
       "36290   Thousands of activists descended on London to ...  \n",
       "21194   Oftentimes, films or TV shows about eating dis...  \n",
       "29672   Unfortunately, I was one of those frustrated p...  \n",
       "199048  It was Sunday night and Lucas’s mother had had...  \n",
       "193783  The Civilians, the enterprising troupe special...  \n",
       "112446                                                     \n",
       "123546                                                     \n",
       "2932    It's about to be a lot easier for kids in Mike...  \n",
       "67601                          Get this pig in a blanket!  \n",
       "85380   Eric Garner's family share memories of the fam...  \n",
       "25186   A girl from the Dalit village of Harirajpur, i...  \n",
       "26210   While the recent global cyberattack has spared...  \n",
       "20973                    But the panel will still happen.  \n",
       "26939   Horrifying, disgusting and shameful. Those are...  \n",
       "15705   \"When people are being rounded up, tortured, a...  \n",
       "83968   “We’ve already tried having only white men tel...  \n",
       "35588                                           Fine art.  \n",
       "16236   The egregious practice that some Muslim men em...  \n",
       "14817   By Zoya Hasan, Jawahawlal Nehru University The...  \n",
       "74066   Meet the funeral home director who buries the ...  \n",
       "39284   For many faiths and traditions, the winter hol...  \n",
       "10348                     \"Please Mueller don't be late.\"  \n",
       "19088   Discrimination and misunderstanding of the law...  \n",
       "10318   The stakes are high with redistricting battles...  \n",
       "66764   Don’t date the nerd, “be the nerd”, was Facebo...  \n",
       "85147   BALTIMORE (WJZ)–The cast of HBO’s The Wire reu...  \n",
       "46537           And you thought the finale was upsetting.  \n",
       "9375    A handful of former contestants, plus host and...  \n",
       "4487    Austin Giorgio, 21: “How Sweet It Is (To Be Lo...  \n",
       "12525   \"I personally know how it feels when somebody ...  \n",
       "...                                                   ...  \n",
       "79194   Young José has problems. He lives under the sh...  \n",
       "184553  Art by Raydene Salinas Lichfield/Getty Images ...  \n",
       "127174  This young girl whose parents struggled to scr...  \n",
       "93360   The moment Raf Simons cries isn't even the bes...  \n",
       "170481  This episode is all about pomegranates -- a Po...  \n",
       "180013  Magnitudes are celestial numbers that measures...  \n",
       "25151   This post is very different from what I usuall...  \n",
       "118713  Politicians like Mike Turner willfully sling a...  \n",
       "137976  With its latest production, \"Christmas in Conw...  \n",
       "120489  This exhibition proposes that artists are mapm...  \n",
       "106321                                                     \n",
       "184863  It doesn't matter how much time or money you'v...  \n",
       "60589                                                      \n",
       "68627   It's pretty easy to understand. Unless you're ...  \n",
       "91213   I didn't know the pastor who phoned me from Al...  \n",
       "115463  As a scholar of religion who is gay (and -- by...  \n",
       "135037  We'll compliment the good traits we still see ...  \n",
       "50799                                                      \n",
       "147824  The true story is that Carla is a cold hearted...  \n",
       "193086  The double exhibition \"Archizines + Arch-Art! ...  \n",
       "40225                                                      \n",
       "120801  Grace Garcia was the matriarch of a tight-knit...  \n",
       "57464   It's a phrase that resonates as we remember th...  \n",
       "197915  Any adoptive mother or father will tell you th...  \n",
       "151118  Robert Frost once noted, \"A jury consists of t...  \n",
       "146670  \"I thought Riley was exempt from hard drugs,\" ...  \n",
       "110111  The United States' most storied island prison,...  \n",
       "194610  An estimated 10,000 baby boomers turn age 65 e...  \n",
       "130009  Kevin Costner is starring in the new action fl...  \n",
       "149150  It helps that the supporting cast is almost as...  \n",
       "\n",
       "[180543 rows x 6 columns]"
      ]
     },
     "execution_count": 44,
     "metadata": {},
     "output_type": "execute_result"
    }
   ],
   "source": [
    "news_data.sort_values('headline', inplace=True, ascending=False)\n",
    "news_data"
   ]
  },
  {
   "cell_type": "code",
   "execution_count": 45,
   "metadata": {},
   "outputs": [
    {
     "data": {
      "text/plain": [
       "36290     False\n",
       "21194     False\n",
       "29672     False\n",
       "199048    False\n",
       "193783    False\n",
       "112446    False\n",
       "123546    False\n",
       "2932      False\n",
       "67601     False\n",
       "85380     False\n",
       "25186     False\n",
       "26210     False\n",
       "20973     False\n",
       "26939     False\n",
       "15705     False\n",
       "83968     False\n",
       "35588     False\n",
       "16236      True\n",
       "14817      True\n",
       "74066     False\n",
       "39284     False\n",
       "10348     False\n",
       "19088     False\n",
       "10318     False\n",
       "66764     False\n",
       "85147     False\n",
       "46537     False\n",
       "9375      False\n",
       "4487      False\n",
       "12525     False\n",
       "          ...  \n",
       "79194     False\n",
       "184553    False\n",
       "127174    False\n",
       "93360     False\n",
       "170481    False\n",
       "180013    False\n",
       "25151     False\n",
       "118713    False\n",
       "137976    False\n",
       "120489    False\n",
       "106321    False\n",
       "184863    False\n",
       "60589     False\n",
       "68627     False\n",
       "91213     False\n",
       "115463    False\n",
       "135037    False\n",
       "50799     False\n",
       "147824    False\n",
       "193086    False\n",
       "40225     False\n",
       "120801    False\n",
       "57464     False\n",
       "197915    False\n",
       "151118    False\n",
       "146670    False\n",
       "110111    False\n",
       "194610    False\n",
       "130009    False\n",
       "149150    False\n",
       "Length: 180543, dtype: bool"
      ]
     },
     "execution_count": 45,
     "metadata": {},
     "output_type": "execute_result"
    }
   ],
   "source": [
    "duplicates = news_data.duplicated('headline', keep=False)\n",
    "duplicates"
   ]
  },
  {
   "cell_type": "code",
   "execution_count": 46,
   "metadata": {},
   "outputs": [
    {
     "name": "stdout",
     "output_type": "stream",
     "text": [
      "Total Articles before removal of duplicate title articles: 180543\n",
      "Total Articles after removal of duplicate title articles: 178760\n"
     ]
    }
   ],
   "source": [
    "print('Total Articles before removal of duplicate title articles:', news_data.shape[0])\n",
    "news_data = news_data[~duplicates]\n",
    "print('Total Articles after removal of duplicate title articles:', news_data.shape[0])"
   ]
  },
  {
   "cell_type": "code",
   "execution_count": 47,
   "metadata": {},
   "outputs": [
    {
     "data": {
      "text/plain": [
       "authors              0\n",
       "category             0\n",
       "date                 0\n",
       "headline             0\n",
       "link                 0\n",
       "short_description    0\n",
       "dtype: int64"
      ]
     },
     "execution_count": 47,
     "metadata": {},
     "output_type": "execute_result"
    }
   ],
   "source": [
    "# Checking for missing values\n",
    "news_data.isna().sum()"
   ]
  },
  {
   "cell_type": "markdown",
   "metadata": {},
   "source": [
    "Data Exploration"
   ]
  },
  {
   "cell_type": "code",
   "execution_count": 48,
   "metadata": {},
   "outputs": [
    {
     "name": "stdout",
     "output_type": "stream",
     "text": [
      "<class 'pandas.core.frame.DataFrame'>\n",
      "Int64Index: 178760 entries, 36290 to 149150\n",
      "Data columns (total 6 columns):\n",
      "authors              178760 non-null object\n",
      "category             178760 non-null object\n",
      "date                 178760 non-null datetime64[ns]\n",
      "headline             178760 non-null object\n",
      "link                 178760 non-null object\n",
      "short_description    178760 non-null object\n",
      "dtypes: datetime64[ns](1), object(5)\n",
      "memory usage: 9.5+ MB\n"
     ]
    }
   ],
   "source": [
    "news_data.info()"
   ]
  },
  {
   "cell_type": "code",
   "execution_count": 49,
   "metadata": {},
   "outputs": [
    {
     "data": {
      "text/plain": [
       "(178760, 6)"
      ]
     },
     "execution_count": 49,
     "metadata": {},
     "output_type": "execute_result"
    }
   ],
   "source": [
    "news_data.shape"
   ]
  },
  {
   "cell_type": "code",
   "execution_count": 50,
   "metadata": {},
   "outputs": [
    {
     "name": "stdout",
     "output_type": "stream",
     "text": [
      "Total number of Articles: 178760\n"
     ]
    }
   ],
   "source": [
    "print('Total number of Articles:', news_data.shape[0])"
   ]
  },
  {
   "cell_type": "code",
   "execution_count": 51,
   "metadata": {},
   "outputs": [
    {
     "name": "stdout",
     "output_type": "stream",
     "text": [
      "Total number of unique authors: 24589\n"
     ]
    }
   ],
   "source": [
    "print('Total number of unique authors:', news_data['authors'].nunique())"
   ]
  },
  {
   "cell_type": "code",
   "execution_count": 52,
   "metadata": {},
   "outputs": [
    {
     "name": "stdout",
     "output_type": "stream",
     "text": [
      "Total number of unique categories: 41\n"
     ]
    }
   ],
   "source": [
    "print('Total number of unique categories:', news_data['category'].nunique())"
   ]
  },
  {
   "cell_type": "markdown",
   "metadata": {},
   "source": [
    "Grouping articles category-wise"
   ]
  },
  {
   "cell_type": "code",
   "execution_count": 53,
   "metadata": {},
   "outputs": [
    {
     "data": {
      "application/vnd.plotly.v1+json": {
       "config": {
        "plotlyServerURL": "https://plot.ly"
       },
       "data": [
        {
         "type": "bar",
         "x": [
          "POLITICS",
          "ENTERTAINMENT",
          "WELLNESS",
          "TRAVEL",
          "STYLE & BEAUTY",
          "PARENTING",
          "QUEER VOICES",
          "HEALTHY LIVING",
          "BUSINESS",
          "FOOD & DRINK",
          "COMEDY",
          "SPORTS",
          "BLACK VOICES",
          "HOME & LIVING",
          "THE WORLDPOST",
          "PARENTS",
          "CRIME",
          "WEDDINGS",
          "WOMEN",
          "IMPACT",
          "DIVORCE",
          "MEDIA",
          "WEIRD NEWS",
          "GREEN",
          "WORLDPOST",
          "STYLE",
          "WORLD NEWS",
          "RELIGION",
          "SCIENCE",
          "TECH",
          "TASTE",
          "MONEY",
          "GOOD NEWS",
          "ARTS & CULTURE",
          "FIFTY",
          "ARTS",
          "ENVIRONMENT",
          "LATINO VOICES",
          "COLLEGE",
          "EDUCATION",
          "CULTURE & ARTS"
         ],
         "y": [
          30721,
          15463,
          13846,
          8242,
          8238,
          7027,
          5898,
          5798,
          5342,
          4906,
          4678,
          4645,
          4294,
          3702,
          3600,
          3510,
          3293,
          3157,
          3015,
          2941,
          2930,
          2645,
          2597,
          2377,
          2218,
          2143,
          2106,
          2079,
          2034,
          1906,
          1888,
          1559,
          1324,
          1310,
          1249,
          1216,
          1140,
          1084,
          1018,
          820,
          801
         ]
        }
       ],
       "layout": {
        "height": 700,
        "template": {
         "data": {
          "bar": [
           {
            "error_x": {
             "color": "#2a3f5f"
            },
            "error_y": {
             "color": "#2a3f5f"
            },
            "marker": {
             "line": {
              "color": "#E5ECF6",
              "width": 0.5
             }
            },
            "type": "bar"
           }
          ],
          "barpolar": [
           {
            "marker": {
             "line": {
              "color": "#E5ECF6",
              "width": 0.5
             }
            },
            "type": "barpolar"
           }
          ],
          "carpet": [
           {
            "aaxis": {
             "endlinecolor": "#2a3f5f",
             "gridcolor": "white",
             "linecolor": "white",
             "minorgridcolor": "white",
             "startlinecolor": "#2a3f5f"
            },
            "baxis": {
             "endlinecolor": "#2a3f5f",
             "gridcolor": "white",
             "linecolor": "white",
             "minorgridcolor": "white",
             "startlinecolor": "#2a3f5f"
            },
            "type": "carpet"
           }
          ],
          "choropleth": [
           {
            "colorbar": {
             "outlinewidth": 0,
             "ticks": ""
            },
            "type": "choropleth"
           }
          ],
          "contour": [
           {
            "colorbar": {
             "outlinewidth": 0,
             "ticks": ""
            },
            "colorscale": [
             [
              0,
              "#0d0887"
             ],
             [
              0.1111111111111111,
              "#46039f"
             ],
             [
              0.2222222222222222,
              "#7201a8"
             ],
             [
              0.3333333333333333,
              "#9c179e"
             ],
             [
              0.4444444444444444,
              "#bd3786"
             ],
             [
              0.5555555555555556,
              "#d8576b"
             ],
             [
              0.6666666666666666,
              "#ed7953"
             ],
             [
              0.7777777777777778,
              "#fb9f3a"
             ],
             [
              0.8888888888888888,
              "#fdca26"
             ],
             [
              1,
              "#f0f921"
             ]
            ],
            "type": "contour"
           }
          ],
          "contourcarpet": [
           {
            "colorbar": {
             "outlinewidth": 0,
             "ticks": ""
            },
            "type": "contourcarpet"
           }
          ],
          "heatmap": [
           {
            "colorbar": {
             "outlinewidth": 0,
             "ticks": ""
            },
            "colorscale": [
             [
              0,
              "#0d0887"
             ],
             [
              0.1111111111111111,
              "#46039f"
             ],
             [
              0.2222222222222222,
              "#7201a8"
             ],
             [
              0.3333333333333333,
              "#9c179e"
             ],
             [
              0.4444444444444444,
              "#bd3786"
             ],
             [
              0.5555555555555556,
              "#d8576b"
             ],
             [
              0.6666666666666666,
              "#ed7953"
             ],
             [
              0.7777777777777778,
              "#fb9f3a"
             ],
             [
              0.8888888888888888,
              "#fdca26"
             ],
             [
              1,
              "#f0f921"
             ]
            ],
            "type": "heatmap"
           }
          ],
          "heatmapgl": [
           {
            "colorbar": {
             "outlinewidth": 0,
             "ticks": ""
            },
            "colorscale": [
             [
              0,
              "#0d0887"
             ],
             [
              0.1111111111111111,
              "#46039f"
             ],
             [
              0.2222222222222222,
              "#7201a8"
             ],
             [
              0.3333333333333333,
              "#9c179e"
             ],
             [
              0.4444444444444444,
              "#bd3786"
             ],
             [
              0.5555555555555556,
              "#d8576b"
             ],
             [
              0.6666666666666666,
              "#ed7953"
             ],
             [
              0.7777777777777778,
              "#fb9f3a"
             ],
             [
              0.8888888888888888,
              "#fdca26"
             ],
             [
              1,
              "#f0f921"
             ]
            ],
            "type": "heatmapgl"
           }
          ],
          "histogram": [
           {
            "marker": {
             "colorbar": {
              "outlinewidth": 0,
              "ticks": ""
             }
            },
            "type": "histogram"
           }
          ],
          "histogram2d": [
           {
            "colorbar": {
             "outlinewidth": 0,
             "ticks": ""
            },
            "colorscale": [
             [
              0,
              "#0d0887"
             ],
             [
              0.1111111111111111,
              "#46039f"
             ],
             [
              0.2222222222222222,
              "#7201a8"
             ],
             [
              0.3333333333333333,
              "#9c179e"
             ],
             [
              0.4444444444444444,
              "#bd3786"
             ],
             [
              0.5555555555555556,
              "#d8576b"
             ],
             [
              0.6666666666666666,
              "#ed7953"
             ],
             [
              0.7777777777777778,
              "#fb9f3a"
             ],
             [
              0.8888888888888888,
              "#fdca26"
             ],
             [
              1,
              "#f0f921"
             ]
            ],
            "type": "histogram2d"
           }
          ],
          "histogram2dcontour": [
           {
            "colorbar": {
             "outlinewidth": 0,
             "ticks": ""
            },
            "colorscale": [
             [
              0,
              "#0d0887"
             ],
             [
              0.1111111111111111,
              "#46039f"
             ],
             [
              0.2222222222222222,
              "#7201a8"
             ],
             [
              0.3333333333333333,
              "#9c179e"
             ],
             [
              0.4444444444444444,
              "#bd3786"
             ],
             [
              0.5555555555555556,
              "#d8576b"
             ],
             [
              0.6666666666666666,
              "#ed7953"
             ],
             [
              0.7777777777777778,
              "#fb9f3a"
             ],
             [
              0.8888888888888888,
              "#fdca26"
             ],
             [
              1,
              "#f0f921"
             ]
            ],
            "type": "histogram2dcontour"
           }
          ],
          "mesh3d": [
           {
            "colorbar": {
             "outlinewidth": 0,
             "ticks": ""
            },
            "type": "mesh3d"
           }
          ],
          "parcoords": [
           {
            "line": {
             "colorbar": {
              "outlinewidth": 0,
              "ticks": ""
             }
            },
            "type": "parcoords"
           }
          ],
          "pie": [
           {
            "automargin": true,
            "type": "pie"
           }
          ],
          "scatter": [
           {
            "marker": {
             "colorbar": {
              "outlinewidth": 0,
              "ticks": ""
             }
            },
            "type": "scatter"
           }
          ],
          "scatter3d": [
           {
            "line": {
             "colorbar": {
              "outlinewidth": 0,
              "ticks": ""
             }
            },
            "marker": {
             "colorbar": {
              "outlinewidth": 0,
              "ticks": ""
             }
            },
            "type": "scatter3d"
           }
          ],
          "scattercarpet": [
           {
            "marker": {
             "colorbar": {
              "outlinewidth": 0,
              "ticks": ""
             }
            },
            "type": "scattercarpet"
           }
          ],
          "scattergeo": [
           {
            "marker": {
             "colorbar": {
              "outlinewidth": 0,
              "ticks": ""
             }
            },
            "type": "scattergeo"
           }
          ],
          "scattergl": [
           {
            "marker": {
             "colorbar": {
              "outlinewidth": 0,
              "ticks": ""
             }
            },
            "type": "scattergl"
           }
          ],
          "scattermapbox": [
           {
            "marker": {
             "colorbar": {
              "outlinewidth": 0,
              "ticks": ""
             }
            },
            "type": "scattermapbox"
           }
          ],
          "scatterpolar": [
           {
            "marker": {
             "colorbar": {
              "outlinewidth": 0,
              "ticks": ""
             }
            },
            "type": "scatterpolar"
           }
          ],
          "scatterpolargl": [
           {
            "marker": {
             "colorbar": {
              "outlinewidth": 0,
              "ticks": ""
             }
            },
            "type": "scatterpolargl"
           }
          ],
          "scatterternary": [
           {
            "marker": {
             "colorbar": {
              "outlinewidth": 0,
              "ticks": ""
             }
            },
            "type": "scatterternary"
           }
          ],
          "surface": [
           {
            "colorbar": {
             "outlinewidth": 0,
             "ticks": ""
            },
            "colorscale": [
             [
              0,
              "#0d0887"
             ],
             [
              0.1111111111111111,
              "#46039f"
             ],
             [
              0.2222222222222222,
              "#7201a8"
             ],
             [
              0.3333333333333333,
              "#9c179e"
             ],
             [
              0.4444444444444444,
              "#bd3786"
             ],
             [
              0.5555555555555556,
              "#d8576b"
             ],
             [
              0.6666666666666666,
              "#ed7953"
             ],
             [
              0.7777777777777778,
              "#fb9f3a"
             ],
             [
              0.8888888888888888,
              "#fdca26"
             ],
             [
              1,
              "#f0f921"
             ]
            ],
            "type": "surface"
           }
          ],
          "table": [
           {
            "cells": {
             "fill": {
              "color": "#EBF0F8"
             },
             "line": {
              "color": "white"
             }
            },
            "header": {
             "fill": {
              "color": "#C8D4E3"
             },
             "line": {
              "color": "white"
             }
            },
            "type": "table"
           }
          ]
         },
         "layout": {
          "annotationdefaults": {
           "arrowcolor": "#2a3f5f",
           "arrowhead": 0,
           "arrowwidth": 1
          },
          "coloraxis": {
           "colorbar": {
            "outlinewidth": 0,
            "ticks": ""
           }
          },
          "colorscale": {
           "diverging": [
            [
             0,
             "#8e0152"
            ],
            [
             0.1,
             "#c51b7d"
            ],
            [
             0.2,
             "#de77ae"
            ],
            [
             0.3,
             "#f1b6da"
            ],
            [
             0.4,
             "#fde0ef"
            ],
            [
             0.5,
             "#f7f7f7"
            ],
            [
             0.6,
             "#e6f5d0"
            ],
            [
             0.7,
             "#b8e186"
            ],
            [
             0.8,
             "#7fbc41"
            ],
            [
             0.9,
             "#4d9221"
            ],
            [
             1,
             "#276419"
            ]
           ],
           "sequential": [
            [
             0,
             "#0d0887"
            ],
            [
             0.1111111111111111,
             "#46039f"
            ],
            [
             0.2222222222222222,
             "#7201a8"
            ],
            [
             0.3333333333333333,
             "#9c179e"
            ],
            [
             0.4444444444444444,
             "#bd3786"
            ],
            [
             0.5555555555555556,
             "#d8576b"
            ],
            [
             0.6666666666666666,
             "#ed7953"
            ],
            [
             0.7777777777777778,
             "#fb9f3a"
            ],
            [
             0.8888888888888888,
             "#fdca26"
            ],
            [
             1,
             "#f0f921"
            ]
           ],
           "sequentialminus": [
            [
             0,
             "#0d0887"
            ],
            [
             0.1111111111111111,
             "#46039f"
            ],
            [
             0.2222222222222222,
             "#7201a8"
            ],
            [
             0.3333333333333333,
             "#9c179e"
            ],
            [
             0.4444444444444444,
             "#bd3786"
            ],
            [
             0.5555555555555556,
             "#d8576b"
            ],
            [
             0.6666666666666666,
             "#ed7953"
            ],
            [
             0.7777777777777778,
             "#fb9f3a"
            ],
            [
             0.8888888888888888,
             "#fdca26"
            ],
            [
             1,
             "#f0f921"
            ]
           ]
          },
          "colorway": [
           "#636efa",
           "#EF553B",
           "#00cc96",
           "#ab63fa",
           "#FFA15A",
           "#19d3f3",
           "#FF6692",
           "#B6E880",
           "#FF97FF",
           "#FECB52"
          ],
          "font": {
           "color": "#2a3f5f"
          },
          "geo": {
           "bgcolor": "white",
           "lakecolor": "white",
           "landcolor": "#E5ECF6",
           "showlakes": true,
           "showland": true,
           "subunitcolor": "white"
          },
          "hoverlabel": {
           "align": "left"
          },
          "hovermode": "closest",
          "mapbox": {
           "style": "light"
          },
          "paper_bgcolor": "white",
          "plot_bgcolor": "#E5ECF6",
          "polar": {
           "angularaxis": {
            "gridcolor": "white",
            "linecolor": "white",
            "ticks": ""
           },
           "bgcolor": "#E5ECF6",
           "radialaxis": {
            "gridcolor": "white",
            "linecolor": "white",
            "ticks": ""
           }
          },
          "scene": {
           "xaxis": {
            "backgroundcolor": "#E5ECF6",
            "gridcolor": "white",
            "gridwidth": 2,
            "linecolor": "white",
            "showbackground": true,
            "ticks": "",
            "zerolinecolor": "white"
           },
           "yaxis": {
            "backgroundcolor": "#E5ECF6",
            "gridcolor": "white",
            "gridwidth": 2,
            "linecolor": "white",
            "showbackground": true,
            "ticks": "",
            "zerolinecolor": "white"
           },
           "zaxis": {
            "backgroundcolor": "#E5ECF6",
            "gridcolor": "white",
            "gridwidth": 2,
            "linecolor": "white",
            "showbackground": true,
            "ticks": "",
            "zerolinecolor": "white"
           }
          },
          "shapedefaults": {
           "line": {
            "color": "#2a3f5f"
           }
          },
          "ternary": {
           "aaxis": {
            "gridcolor": "white",
            "linecolor": "white",
            "ticks": ""
           },
           "baxis": {
            "gridcolor": "white",
            "linecolor": "white",
            "ticks": ""
           },
           "bgcolor": "#E5ECF6",
           "caxis": {
            "gridcolor": "white",
            "linecolor": "white",
            "ticks": ""
           }
          },
          "title": {
           "x": 0.05
          },
          "xaxis": {
           "automargin": true,
           "gridcolor": "white",
           "linecolor": "white",
           "ticks": "",
           "title": {
            "standoff": 15
           },
           "zerolinecolor": "white",
           "zerolinewidth": 2
          },
          "yaxis": {
           "automargin": true,
           "gridcolor": "white",
           "linecolor": "white",
           "ticks": "",
           "title": {
            "standoff": 15
           },
           "zerolinecolor": "white",
           "zerolinewidth": 2
          }
         }
        },
        "title": {
         "text": "Distribution of articles category-wise",
         "x": 0.5,
         "xanchor": "center",
         "y": 0.9,
         "yanchor": "top"
        },
        "width": 800,
        "xaxis": {
         "title": {
          "text": "Category name"
         }
        },
        "yaxis": {
         "title": {
          "text": "Number of articles"
         }
        }
       }
      },
      "text/html": [
       "<div>\n",
       "        \n",
       "        \n",
       "            <div id=\"aeefe6f1-d600-4a1e-9f0f-c09d93e82925\" class=\"plotly-graph-div\" style=\"height:700px; width:800px;\"></div>\n",
       "            <script type=\"text/javascript\">\n",
       "                require([\"plotly\"], function(Plotly) {\n",
       "                    window.PLOTLYENV=window.PLOTLYENV || {};\n",
       "                    \n",
       "                if (document.getElementById(\"aeefe6f1-d600-4a1e-9f0f-c09d93e82925\")) {\n",
       "                    Plotly.newPlot(\n",
       "                        'aeefe6f1-d600-4a1e-9f0f-c09d93e82925',\n",
       "                        [{\"type\": \"bar\", \"x\": [\"POLITICS\", \"ENTERTAINMENT\", \"WELLNESS\", \"TRAVEL\", \"STYLE & BEAUTY\", \"PARENTING\", \"QUEER VOICES\", \"HEALTHY LIVING\", \"BUSINESS\", \"FOOD & DRINK\", \"COMEDY\", \"SPORTS\", \"BLACK VOICES\", \"HOME & LIVING\", \"THE WORLDPOST\", \"PARENTS\", \"CRIME\", \"WEDDINGS\", \"WOMEN\", \"IMPACT\", \"DIVORCE\", \"MEDIA\", \"WEIRD NEWS\", \"GREEN\", \"WORLDPOST\", \"STYLE\", \"WORLD NEWS\", \"RELIGION\", \"SCIENCE\", \"TECH\", \"TASTE\", \"MONEY\", \"GOOD NEWS\", \"ARTS & CULTURE\", \"FIFTY\", \"ARTS\", \"ENVIRONMENT\", \"LATINO VOICES\", \"COLLEGE\", \"EDUCATION\", \"CULTURE & ARTS\"], \"y\": [30721, 15463, 13846, 8242, 8238, 7027, 5898, 5798, 5342, 4906, 4678, 4645, 4294, 3702, 3600, 3510, 3293, 3157, 3015, 2941, 2930, 2645, 2597, 2377, 2218, 2143, 2106, 2079, 2034, 1906, 1888, 1559, 1324, 1310, 1249, 1216, 1140, 1084, 1018, 820, 801]}],\n",
       "                        {\"height\": 700, \"template\": {\"data\": {\"bar\": [{\"error_x\": {\"color\": \"#2a3f5f\"}, \"error_y\": {\"color\": \"#2a3f5f\"}, \"marker\": {\"line\": {\"color\": \"#E5ECF6\", \"width\": 0.5}}, \"type\": \"bar\"}], \"barpolar\": [{\"marker\": {\"line\": {\"color\": \"#E5ECF6\", \"width\": 0.5}}, \"type\": \"barpolar\"}], \"carpet\": [{\"aaxis\": {\"endlinecolor\": \"#2a3f5f\", \"gridcolor\": \"white\", \"linecolor\": \"white\", \"minorgridcolor\": \"white\", \"startlinecolor\": \"#2a3f5f\"}, \"baxis\": {\"endlinecolor\": \"#2a3f5f\", \"gridcolor\": \"white\", \"linecolor\": \"white\", \"minorgridcolor\": \"white\", \"startlinecolor\": \"#2a3f5f\"}, \"type\": \"carpet\"}], \"choropleth\": [{\"colorbar\": {\"outlinewidth\": 0, \"ticks\": \"\"}, \"type\": \"choropleth\"}], \"contour\": [{\"colorbar\": {\"outlinewidth\": 0, \"ticks\": \"\"}, \"colorscale\": [[0.0, \"#0d0887\"], [0.1111111111111111, \"#46039f\"], [0.2222222222222222, \"#7201a8\"], [0.3333333333333333, \"#9c179e\"], [0.4444444444444444, \"#bd3786\"], [0.5555555555555556, \"#d8576b\"], [0.6666666666666666, \"#ed7953\"], [0.7777777777777778, \"#fb9f3a\"], [0.8888888888888888, \"#fdca26\"], [1.0, \"#f0f921\"]], \"type\": \"contour\"}], \"contourcarpet\": [{\"colorbar\": {\"outlinewidth\": 0, \"ticks\": \"\"}, \"type\": \"contourcarpet\"}], \"heatmap\": [{\"colorbar\": {\"outlinewidth\": 0, \"ticks\": \"\"}, \"colorscale\": [[0.0, \"#0d0887\"], [0.1111111111111111, \"#46039f\"], [0.2222222222222222, \"#7201a8\"], [0.3333333333333333, \"#9c179e\"], [0.4444444444444444, \"#bd3786\"], [0.5555555555555556, \"#d8576b\"], [0.6666666666666666, \"#ed7953\"], [0.7777777777777778, \"#fb9f3a\"], [0.8888888888888888, \"#fdca26\"], [1.0, \"#f0f921\"]], \"type\": \"heatmap\"}], \"heatmapgl\": [{\"colorbar\": {\"outlinewidth\": 0, \"ticks\": \"\"}, \"colorscale\": [[0.0, \"#0d0887\"], [0.1111111111111111, \"#46039f\"], [0.2222222222222222, \"#7201a8\"], [0.3333333333333333, \"#9c179e\"], [0.4444444444444444, \"#bd3786\"], [0.5555555555555556, \"#d8576b\"], [0.6666666666666666, \"#ed7953\"], [0.7777777777777778, \"#fb9f3a\"], [0.8888888888888888, \"#fdca26\"], [1.0, \"#f0f921\"]], \"type\": \"heatmapgl\"}], \"histogram\": [{\"marker\": {\"colorbar\": {\"outlinewidth\": 0, \"ticks\": \"\"}}, \"type\": \"histogram\"}], \"histogram2d\": [{\"colorbar\": {\"outlinewidth\": 0, \"ticks\": \"\"}, \"colorscale\": [[0.0, \"#0d0887\"], [0.1111111111111111, \"#46039f\"], [0.2222222222222222, \"#7201a8\"], [0.3333333333333333, \"#9c179e\"], [0.4444444444444444, \"#bd3786\"], [0.5555555555555556, \"#d8576b\"], [0.6666666666666666, \"#ed7953\"], [0.7777777777777778, \"#fb9f3a\"], [0.8888888888888888, \"#fdca26\"], [1.0, \"#f0f921\"]], \"type\": \"histogram2d\"}], \"histogram2dcontour\": [{\"colorbar\": {\"outlinewidth\": 0, \"ticks\": \"\"}, \"colorscale\": [[0.0, \"#0d0887\"], [0.1111111111111111, \"#46039f\"], [0.2222222222222222, \"#7201a8\"], [0.3333333333333333, \"#9c179e\"], [0.4444444444444444, \"#bd3786\"], [0.5555555555555556, \"#d8576b\"], [0.6666666666666666, \"#ed7953\"], [0.7777777777777778, \"#fb9f3a\"], [0.8888888888888888, \"#fdca26\"], [1.0, \"#f0f921\"]], \"type\": \"histogram2dcontour\"}], \"mesh3d\": [{\"colorbar\": {\"outlinewidth\": 0, \"ticks\": \"\"}, \"type\": \"mesh3d\"}], \"parcoords\": [{\"line\": {\"colorbar\": {\"outlinewidth\": 0, \"ticks\": \"\"}}, \"type\": \"parcoords\"}], \"pie\": [{\"automargin\": true, \"type\": \"pie\"}], \"scatter\": [{\"marker\": {\"colorbar\": {\"outlinewidth\": 0, \"ticks\": \"\"}}, \"type\": \"scatter\"}], \"scatter3d\": [{\"line\": {\"colorbar\": {\"outlinewidth\": 0, \"ticks\": \"\"}}, \"marker\": {\"colorbar\": {\"outlinewidth\": 0, \"ticks\": \"\"}}, \"type\": \"scatter3d\"}], \"scattercarpet\": [{\"marker\": {\"colorbar\": {\"outlinewidth\": 0, \"ticks\": \"\"}}, \"type\": \"scattercarpet\"}], \"scattergeo\": [{\"marker\": {\"colorbar\": {\"outlinewidth\": 0, \"ticks\": \"\"}}, \"type\": \"scattergeo\"}], \"scattergl\": [{\"marker\": {\"colorbar\": {\"outlinewidth\": 0, \"ticks\": \"\"}}, \"type\": \"scattergl\"}], \"scattermapbox\": [{\"marker\": {\"colorbar\": {\"outlinewidth\": 0, \"ticks\": \"\"}}, \"type\": \"scattermapbox\"}], \"scatterpolar\": [{\"marker\": {\"colorbar\": {\"outlinewidth\": 0, \"ticks\": \"\"}}, \"type\": \"scatterpolar\"}], \"scatterpolargl\": [{\"marker\": {\"colorbar\": {\"outlinewidth\": 0, \"ticks\": \"\"}}, \"type\": \"scatterpolargl\"}], \"scatterternary\": [{\"marker\": {\"colorbar\": {\"outlinewidth\": 0, \"ticks\": \"\"}}, \"type\": \"scatterternary\"}], \"surface\": [{\"colorbar\": {\"outlinewidth\": 0, \"ticks\": \"\"}, \"colorscale\": [[0.0, \"#0d0887\"], [0.1111111111111111, \"#46039f\"], [0.2222222222222222, \"#7201a8\"], [0.3333333333333333, \"#9c179e\"], [0.4444444444444444, \"#bd3786\"], [0.5555555555555556, \"#d8576b\"], [0.6666666666666666, \"#ed7953\"], [0.7777777777777778, \"#fb9f3a\"], [0.8888888888888888, \"#fdca26\"], [1.0, \"#f0f921\"]], \"type\": \"surface\"}], \"table\": [{\"cells\": {\"fill\": {\"color\": \"#EBF0F8\"}, \"line\": {\"color\": \"white\"}}, \"header\": {\"fill\": {\"color\": \"#C8D4E3\"}, \"line\": {\"color\": \"white\"}}, \"type\": \"table\"}]}, \"layout\": {\"annotationdefaults\": {\"arrowcolor\": \"#2a3f5f\", \"arrowhead\": 0, \"arrowwidth\": 1}, \"coloraxis\": {\"colorbar\": {\"outlinewidth\": 0, \"ticks\": \"\"}}, \"colorscale\": {\"diverging\": [[0, \"#8e0152\"], [0.1, \"#c51b7d\"], [0.2, \"#de77ae\"], [0.3, \"#f1b6da\"], [0.4, \"#fde0ef\"], [0.5, \"#f7f7f7\"], [0.6, \"#e6f5d0\"], [0.7, \"#b8e186\"], [0.8, \"#7fbc41\"], [0.9, \"#4d9221\"], [1, \"#276419\"]], \"sequential\": [[0.0, \"#0d0887\"], [0.1111111111111111, \"#46039f\"], [0.2222222222222222, \"#7201a8\"], [0.3333333333333333, \"#9c179e\"], [0.4444444444444444, \"#bd3786\"], [0.5555555555555556, \"#d8576b\"], [0.6666666666666666, \"#ed7953\"], [0.7777777777777778, \"#fb9f3a\"], [0.8888888888888888, \"#fdca26\"], [1.0, \"#f0f921\"]], \"sequentialminus\": [[0.0, \"#0d0887\"], [0.1111111111111111, \"#46039f\"], [0.2222222222222222, \"#7201a8\"], [0.3333333333333333, \"#9c179e\"], [0.4444444444444444, \"#bd3786\"], [0.5555555555555556, \"#d8576b\"], [0.6666666666666666, \"#ed7953\"], [0.7777777777777778, \"#fb9f3a\"], [0.8888888888888888, \"#fdca26\"], [1.0, \"#f0f921\"]]}, \"colorway\": [\"#636efa\", \"#EF553B\", \"#00cc96\", \"#ab63fa\", \"#FFA15A\", \"#19d3f3\", \"#FF6692\", \"#B6E880\", \"#FF97FF\", \"#FECB52\"], \"font\": {\"color\": \"#2a3f5f\"}, \"geo\": {\"bgcolor\": \"white\", \"lakecolor\": \"white\", \"landcolor\": \"#E5ECF6\", \"showlakes\": true, \"showland\": true, \"subunitcolor\": \"white\"}, \"hoverlabel\": {\"align\": \"left\"}, \"hovermode\": \"closest\", \"mapbox\": {\"style\": \"light\"}, \"paper_bgcolor\": \"white\", \"plot_bgcolor\": \"#E5ECF6\", \"polar\": {\"angularaxis\": {\"gridcolor\": \"white\", \"linecolor\": \"white\", \"ticks\": \"\"}, \"bgcolor\": \"#E5ECF6\", \"radialaxis\": {\"gridcolor\": \"white\", \"linecolor\": \"white\", \"ticks\": \"\"}}, \"scene\": {\"xaxis\": {\"backgroundcolor\": \"#E5ECF6\", \"gridcolor\": \"white\", \"gridwidth\": 2, \"linecolor\": \"white\", \"showbackground\": true, \"ticks\": \"\", \"zerolinecolor\": \"white\"}, \"yaxis\": {\"backgroundcolor\": \"#E5ECF6\", \"gridcolor\": \"white\", \"gridwidth\": 2, \"linecolor\": \"white\", \"showbackground\": true, \"ticks\": \"\", \"zerolinecolor\": \"white\"}, \"zaxis\": {\"backgroundcolor\": \"#E5ECF6\", \"gridcolor\": \"white\", \"gridwidth\": 2, \"linecolor\": \"white\", \"showbackground\": true, \"ticks\": \"\", \"zerolinecolor\": \"white\"}}, \"shapedefaults\": {\"line\": {\"color\": \"#2a3f5f\"}}, \"ternary\": {\"aaxis\": {\"gridcolor\": \"white\", \"linecolor\": \"white\", \"ticks\": \"\"}, \"baxis\": {\"gridcolor\": \"white\", \"linecolor\": \"white\", \"ticks\": \"\"}, \"bgcolor\": \"#E5ECF6\", \"caxis\": {\"gridcolor\": \"white\", \"linecolor\": \"white\", \"ticks\": \"\"}}, \"title\": {\"x\": 0.05}, \"xaxis\": {\"automargin\": true, \"gridcolor\": \"white\", \"linecolor\": \"white\", \"ticks\": \"\", \"title\": {\"standoff\": 15}, \"zerolinecolor\": \"white\", \"zerolinewidth\": 2}, \"yaxis\": {\"automargin\": true, \"gridcolor\": \"white\", \"linecolor\": \"white\", \"ticks\": \"\", \"title\": {\"standoff\": 15}, \"zerolinecolor\": \"white\", \"zerolinewidth\": 2}}}, \"title\": {\"text\": \"Distribution of articles category-wise\", \"x\": 0.5, \"xanchor\": \"center\", \"y\": 0.9, \"yanchor\": \"top\"}, \"width\": 800, \"xaxis\": {\"title\": {\"text\": \"Category name\"}}, \"yaxis\": {\"title\": {\"text\": \"Number of articles\"}}},\n",
       "                        {\"responsive\": true}\n",
       "                    ).then(function(){\n",
       "                            \n",
       "var gd = document.getElementById('aeefe6f1-d600-4a1e-9f0f-c09d93e82925');\n",
       "var x = new MutationObserver(function (mutations, observer) {{\n",
       "        var display = window.getComputedStyle(gd).display;\n",
       "        if (!display || display === 'none') {{\n",
       "            console.log([gd, 'removed!']);\n",
       "            Plotly.purge(gd);\n",
       "            observer.disconnect();\n",
       "        }}\n",
       "}});\n",
       "\n",
       "// Listen for the removal of the full notebook cells\n",
       "var notebookContainer = gd.closest('#notebook-container');\n",
       "if (notebookContainer) {{\n",
       "    x.observe(notebookContainer, {childList: true});\n",
       "}}\n",
       "\n",
       "// Listen for the clearing of the current output cell\n",
       "var outputEl = gd.closest('.output');\n",
       "if (outputEl) {{\n",
       "    x.observe(outputEl, {childList: true});\n",
       "}}\n",
       "\n",
       "                        })\n",
       "                };\n",
       "                });\n",
       "            </script>\n",
       "        </div>"
      ]
     },
     "metadata": {},
     "output_type": "display_data"
    }
   ],
   "source": [
    "# replace with Matplotlib?\n",
    "fig = go.Figure([go.Bar(x=news_data[\"category\"].value_counts().index, y=news_data[\"category\"].value_counts().values)])\n",
    "fig['layout'].update(title={\"text\" : 'Distribution of articles category-wise','y':0.9,'x':0.5,'xanchor': 'center','yanchor': 'top'}, xaxis_title=\"Category name\",yaxis_title=\"Number of articles\")\n",
    "fig.update_layout(width=800,height=700)\n",
    "fig"
   ]
  },
  {
   "cell_type": "markdown",
   "metadata": {},
   "source": [
    "From the bar chart, is is clear that 'Politics' category has the highest nubmer of articles."
   ]
  },
  {
   "cell_type": "markdown",
   "metadata": {},
   "source": [
    "No. of articles per month"
   ]
  },
  {
   "cell_type": "code",
   "execution_count": 54,
   "metadata": {},
   "outputs": [],
   "source": [
    "# needed?"
   ]
  },
  {
   "cell_type": "markdown",
   "metadata": {},
   "source": [
    "Probability Distribution Function of length of headlines"
   ]
  },
  {
   "cell_type": "code",
   "execution_count": 55,
   "metadata": {},
   "outputs": [
    {
     "data": {
      "application/vnd.plotly.v1+json": {
       "config": {
        "plotlyServerURL": "https://plot.ly"
       },
       "data": [
        {
         "legendgroup": "ht",
         "marker": {
          "color": "rgb(31, 119, 180)"
         },
         "mode": "lines",
         "name": "ht",
         "showlegend": true,
         "type": "scatter",
         "x": [
          18,
          18.604,
          19.208,
          19.812,
          20.416,
          21.02,
          21.624,
          22.228,
          22.832,
          23.436,
          24.04,
          24.644,
          25.248,
          25.852,
          26.456,
          27.060000000000002,
          27.664,
          28.268,
          28.872,
          29.476,
          30.08,
          30.683999999999997,
          31.288,
          31.892,
          32.496,
          33.1,
          33.704,
          34.308,
          34.912,
          35.516,
          36.120000000000005,
          36.724000000000004,
          37.328,
          37.932,
          38.536,
          39.14,
          39.744,
          40.348,
          40.952,
          41.556,
          42.16,
          42.763999999999996,
          43.367999999999995,
          43.972,
          44.576,
          45.18,
          45.784,
          46.388000000000005,
          46.992000000000004,
          47.596000000000004,
          48.2,
          48.804,
          49.408,
          50.012,
          50.616,
          51.22,
          51.824,
          52.428,
          53.032,
          53.636,
          54.24,
          54.844,
          55.448,
          56.052,
          56.656,
          57.26,
          57.864,
          58.468,
          59.072,
          59.676,
          60.28,
          60.884,
          61.488,
          62.092,
          62.696,
          63.3,
          63.904,
          64.50800000000001,
          65.112,
          65.71600000000001,
          66.32,
          66.924,
          67.52799999999999,
          68.132,
          68.73599999999999,
          69.34,
          69.944,
          70.548,
          71.152,
          71.756,
          72.36,
          72.964,
          73.568,
          74.172,
          74.77600000000001,
          75.38,
          75.98400000000001,
          76.588,
          77.19200000000001,
          77.79599999999999,
          78.4,
          79.00399999999999,
          79.608,
          80.212,
          80.816,
          81.42,
          82.024,
          82.628,
          83.232,
          83.836,
          84.44,
          85.044,
          85.648,
          86.252,
          86.856,
          87.46,
          88.064,
          88.668,
          89.272,
          89.876,
          90.48,
          91.084,
          91.688,
          92.292,
          92.896,
          93.5,
          94.104,
          94.708,
          95.312,
          95.916,
          96.52,
          97.124,
          97.728,
          98.332,
          98.936,
          99.54,
          100.144,
          100.748,
          101.352,
          101.956,
          102.56,
          103.164,
          103.768,
          104.372,
          104.976,
          105.58,
          106.184,
          106.788,
          107.392,
          107.996,
          108.6,
          109.204,
          109.808,
          110.412,
          111.016,
          111.62,
          112.224,
          112.828,
          113.432,
          114.036,
          114.64,
          115.244,
          115.848,
          116.452,
          117.056,
          117.66,
          118.264,
          118.868,
          119.472,
          120.076,
          120.68,
          121.284,
          121.888,
          122.492,
          123.096,
          123.7,
          124.304,
          124.908,
          125.512,
          126.116,
          126.72,
          127.324,
          127.928,
          128.53199999999998,
          129.136,
          129.74,
          130.344,
          130.94799999999998,
          131.55200000000002,
          132.156,
          132.76,
          133.364,
          133.96800000000002,
          134.572,
          135.176,
          135.78,
          136.38400000000001,
          136.988,
          137.59199999999998,
          138.196,
          138.8,
          139.404,
          140.00799999999998,
          140.612,
          141.216,
          141.82,
          142.424,
          143.02800000000002,
          143.632,
          144.236,
          144.84,
          145.44400000000002,
          146.048,
          146.652,
          147.256,
          147.86,
          148.464,
          149.068,
          149.672,
          150.276,
          150.88,
          151.484,
          152.088,
          152.692,
          153.296,
          153.9,
          154.504,
          155.108,
          155.712,
          156.316,
          156.92,
          157.524,
          158.128,
          158.732,
          159.336,
          159.94,
          160.544,
          161.148,
          161.752,
          162.356,
          162.96,
          163.564,
          164.168,
          164.772,
          165.376,
          165.98,
          166.584,
          167.188,
          167.792,
          168.396,
          169,
          169.604,
          170.208,
          170.812,
          171.416,
          172.02,
          172.624,
          173.228,
          173.832,
          174.436,
          175.04,
          175.644,
          176.248,
          176.852,
          177.456,
          178.06,
          178.664,
          179.268,
          179.872,
          180.476,
          181.08,
          181.684,
          182.288,
          182.892,
          183.496,
          184.1,
          184.704,
          185.308,
          185.912,
          186.516,
          187.12,
          187.724,
          188.328,
          188.932,
          189.536,
          190.14,
          190.744,
          191.348,
          191.952,
          192.556,
          193.16,
          193.764,
          194.368,
          194.972,
          195.576,
          196.18,
          196.784,
          197.388,
          197.992,
          198.596,
          199.2,
          199.804,
          200.408,
          201.012,
          201.616,
          202.22,
          202.824,
          203.428,
          204.032,
          204.636,
          205.24,
          205.844,
          206.448,
          207.052,
          207.656,
          208.26,
          208.864,
          209.468,
          210.072,
          210.676,
          211.28,
          211.884,
          212.488,
          213.092,
          213.696,
          214.3,
          214.904,
          215.508,
          216.112,
          216.716,
          217.32,
          217.924,
          218.528,
          219.132,
          219.736,
          220.34,
          220.944,
          221.548,
          222.152,
          222.756,
          223.36,
          223.964,
          224.568,
          225.172,
          225.776,
          226.38,
          226.984,
          227.588,
          228.192,
          228.796,
          229.4,
          230.004,
          230.608,
          231.212,
          231.816,
          232.42,
          233.024,
          233.628,
          234.232,
          234.836,
          235.44,
          236.044,
          236.648,
          237.252,
          237.856,
          238.46,
          239.064,
          239.668,
          240.272,
          240.876,
          241.48,
          242.084,
          242.688,
          243.292,
          243.896,
          244.5,
          245.104,
          245.708,
          246.312,
          246.916,
          247.52,
          248.124,
          248.728,
          249.332,
          249.936,
          250.54,
          251.144,
          251.748,
          252.352,
          252.956,
          253.56,
          254.164,
          254.768,
          255.372,
          255.976,
          256.58000000000004,
          257.18399999999997,
          257.788,
          258.392,
          258.996,
          259.6,
          260.204,
          260.808,
          261.41200000000003,
          262.01599999999996,
          262.62,
          263.224,
          263.828,
          264.432,
          265.036,
          265.64,
          266.244,
          266.848,
          267.452,
          268.05600000000004,
          268.65999999999997,
          269.264,
          269.868,
          270.472,
          271.076,
          271.68,
          272.284,
          272.88800000000003,
          273.49199999999996,
          274.096,
          274.7,
          275.304,
          275.908,
          276.512,
          277.116,
          277.72,
          278.324,
          278.928,
          279.532,
          280.136,
          280.74,
          281.344,
          281.948,
          282.552,
          283.156,
          283.76,
          284.364,
          284.968,
          285.572,
          286.176,
          286.78,
          287.384,
          287.988,
          288.592,
          289.196,
          289.8,
          290.404,
          291.008,
          291.612,
          292.216,
          292.82,
          293.424,
          294.028,
          294.632,
          295.236,
          295.84,
          296.444,
          297.048,
          297.652,
          298.256,
          298.86,
          299.464,
          300.068,
          300.672,
          301.276,
          301.88,
          302.484,
          303.088,
          303.692,
          304.296,
          304.9,
          305.504,
          306.108,
          306.712,
          307.316,
          307.92,
          308.524,
          309.128,
          309.732,
          310.336,
          310.94,
          311.544,
          312.148,
          312.752,
          313.356,
          313.96,
          314.564,
          315.168,
          315.772,
          316.376,
          316.98,
          317.584,
          318.188,
          318.792,
          319.396
         ],
         "xaxis": "x",
         "y": [
          8.465127018228137e-06,
          1.5101882818670624e-05,
          2.613666628839583e-05,
          4.344472167838463e-05,
          6.8981998482012e-05,
          0.00010493097659946516,
          0.00015432361436954752,
          0.00022162908302962434,
          0.00031243990429544714,
          0.0004321310117476194,
          0.0005845979246718186,
          0.0007721800008810745,
          0.0009964432115106006,
          0.0012587411267578146,
          0.0015604176738586335,
          0.0019030084857114063,
          0.0022874679266667117,
          0.0027112767076111596,
          0.0031656280139154697,
          0.0036373175511691326,
          0.0041159118335347055,
          0.004599950596938705,
          0.005095801497340565,
          0.005610374285304537,
          0.006144679903658876,
          0.006692815604284977,
          0.007245110361642219,
          0.007791976471809365,
          0.008326659414649636,
          0.008846658726320093,
          0.009353445655926626,
          0.009849872055366202,
          0.010336611173484238,
          0.01081168498934405,
          0.011275282626832032,
          0.011735087008737901,
          0.012204193144201587,
          0.012690999710276159,
          0.013190351271490432,
          0.013685050868430746,
          0.014156877808401504,
          0.014598075586473087,
          0.015014889705635885,
          0.015421163526795054,
          0.01582703205009827,
          0.016231346451857396,
          0.01662308444436685,
          0.016988770137142478,
          0.017318975039226518,
          0.01761144374448932,
          0.017872902541929477,
          0.018118572738521053,
          0.01836498780742387,
          0.01861820844451264,
          0.01886916036114386,
          0.019104034485421622,
          0.019320991748394772,
          0.019535750546666352,
          0.019770836565196022,
          0.020041555228950993,
          0.02035277593646217,
          0.02070439883812489,
          0.021092797262397697,
          0.02150411237503531,
          0.021909638193664323,
          0.022274122751030277,
          0.022574588630477656,
          0.0228157494472565,
          0.023029196013665418,
          0.023255467887267123,
          0.023521248007467646,
          0.02382757929863571,
          0.024155255273592677,
          0.024478677776511325,
          0.024773877443042342,
          0.02501539201343151,
          0.025170542901378316,
          0.025203705750492682,
          0.025092351077649625,
          0.024841648898438262,
          0.024482971096402,
          0.024057036343053347,
          0.02359614257277473,
          0.023116127423730037,
          0.022616895462162664,
          0.022087799584573197,
          0.021518398373314873,
          0.02091248032289024,
          0.02029483869835095,
          0.01970106160033048,
          0.01915532417460661,
          0.01865462476005183,
          0.018173326102310438,
          0.017682761050443162,
          0.017167594153415514,
          0.016626876352564907,
          0.01606462648602576,
          0.015483508139813938,
          0.01488815186598098,
          0.014291594659534319,
          0.013713829876338353,
          0.013170138293418005,
          0.012659223387967046,
          0.012163294831498106,
          0.011660846496823125,
          0.011140390766196358,
          0.010604157506342866,
          0.010062719711836672,
          0.009528989497118804,
          0.009015556763382636,
          0.00853269112829507,
          0.008085271025609915,
          0.007670978909775552,
          0.007281622834524791,
          0.0069064315745291545,
          0.006535489864943122,
          0.006162372557764353,
          0.00578560012552333,
          0.005409110646754777,
          0.005041954533357601,
          0.004696270541070593,
          0.0043825536905686465,
          0.004103979754070458,
          0.0038541634509016024,
          0.0036209700625840727,
          0.0033936845327324603,
          0.0031678010392894285,
          0.002944564132718243,
          0.0027275842239867973,
          0.0025203908914161466,
          0.00232615891424633,
          0.0021481707025762793,
          0.001989303760500385,
          0.0018502914003358905,
          0.0017282369234749603,
          0.0016172086226725817,
          0.0015109298175115186,
          0.0014055073020574698,
          0.0013003262217609927,
          0.0011971692057719397,
          0.0010988056684655269,
          0.0010079486070274915,
          0.0009267342668683625,
          0.000856482779088712,
          0.0007973637729058182,
          0.0007479007845631319,
          0.00070496294729882,
          0.0006649237488695739,
          0.0006253946516557867,
          0.0005858723239013279,
          0.0005466234926773123,
          0.0005072941496607571,
          0.00046716695056458145,
          0.00042683831342860297,
          0.0003890454116863065,
          0.00035716968263082324,
          0.0003326409336862949,
          0.0003137866880182439,
          0.00029722597808427435,
          0.0002804885709124545,
          0.00026355268667102084,
          0.00024808859981067025,
          0.0002352715976410903,
          0.00022430190161493125,
          0.0002130313883328943,
          0.0001999624764223161,
          0.00018556768383969476,
          0.0001717841486330317,
          0.0001604461168679331,
          0.00015211281310328824,
          0.0001459142862893829,
          0.00014016101043701237,
          0.0001333187395964156,
          0.00012490795650051267,
          0.00011568644141677792,
          0.00010685881196986356,
          9.90727419146105e-05,
          9.226135413413603e-05,
          8.630426768359426e-05,
          8.14340808879291e-05,
          7.783187226322445e-05,
          7.512491387744637e-05,
          7.260371063411119e-05,
          6.98713541002486e-05,
          6.706168682935899e-05,
          6.443312671640894e-05,
          6.191707470493156e-05,
          5.908073995360047e-05,
          5.540504412888637e-05,
          5.0587616163219285e-05,
          4.473438501102404e-05,
          3.838388311879513e-05,
          3.231477785454079e-05,
          2.7217471093626057e-05,
          2.345040734427397e-05,
          2.1022804781734014e-05,
          1.9734182995461166e-05,
          1.932497150408728e-05,
          1.958450938037828e-05,
          2.0418712785015114e-05,
          2.182244420162316e-05,
          2.370294348161052e-05,
          2.5673254534014613e-05,
          2.7075867586847403e-05,
          2.7326425269178758e-05,
          2.6291745521970356e-05,
          2.4309916165075123e-05,
          2.183475798019925e-05,
          1.9109373563202564e-05,
          1.620104891859034e-05,
          1.3268933639221906e-05,
          1.0693585168310423e-05,
          8.929636010161087e-06,
          8.263332052384177e-06,
          8.672383712841502e-06,
          9.814542106952239e-06,
          1.1114225316533203e-05,
          1.1957574008428453e-05,
          1.1953008231138719e-05,
          1.1103066200960877e-05,
          9.757120219727688e-06,
          8.374772114496259e-06,
          7.256346258544205e-06,
          6.4090998686270315e-06,
          5.633068774515868e-06,
          4.752570718567388e-06,
          3.7912696093803875e-06,
          2.940130345025114e-06,
          2.37168418128388e-06,
          2.0948962927908956e-06,
          1.9809094267088243e-06,
          1.9052277293540624e-06,
          1.8434947443312778e-06,
          1.8323793005546616e-06,
          1.8716600047519304e-06,
          1.9020934447966725e-06,
          1.8792955301602811e-06,
          1.8310775562272376e-06,
          1.8112746844520363e-06,
          1.8084441380563196e-06,
          1.7329514043748994e-06,
          1.505437931878915e-06,
          1.1437522217438692e-06,
          7.56756501801496e-07,
          4.6881456673124145e-07,
          3.598611504886017e-07,
          4.5551520035448535e-07,
          7.334396100888118e-07,
          1.1174302841337845e-06,
          1.4847445914670462e-06,
          1.722726150198759e-06,
          1.805407128890483e-06,
          1.804861226324122e-06,
          1.805168235091744e-06,
          1.8045648371019953e-06,
          1.717502255436088e-06,
          1.4741999786646879e-06,
          1.1042690432164286e-06,
          7.221355573597517e-07,
          4.5011878146745057e-07,
          3.645345652743497e-07,
          4.924268640038083e-07,
          8.225278811050364e-07,
          1.3040968154402976e-06,
          1.8551634901638428e-06,
          2.4027652892893616e-06,
          2.9224994245557053e-06,
          3.420677555365942e-06,
          3.865771072524013e-06,
          4.1486114911048125e-06,
          4.128247270795371e-06,
          3.7298085545233056e-06,
          3.0111633476194583e-06,
          2.1459287146493975e-06,
          1.337307750150618e-06,
          7.260231091452667e-07,
          3.5356491064506823e-07,
          1.9240667174724684e-07,
          2.030238450560388e-07,
          3.660812000542269e-07,
          6.661479528982587e-07,
          1.046204749812206e-06,
          1.3851381832021082e-06,
          1.541165418009012e-06,
          1.4404877186228034e-06,
          1.1309844786975728e-06,
          7.460096007309747e-07,
          4.139472519106034e-07,
          1.9577657338340643e-07,
          8.892205716346431e-08,
          7.017566820354002e-08,
          1.3314806600947202e-07,
          2.962778975047188e-07,
          5.777356927192459e-07,
          9.504661114241168e-07,
          1.3143138324638618e-06,
          1.5280633781758656e-06,
          1.497902766660966e-06,
          1.2527410774256014e-06,
          9.361762223102422e-07,
          7.2226551243146e-07,
          7.230431558629193e-07,
          9.381099270636219e-07,
          1.254797836290612e-06,
          1.4989173608952084e-06,
          1.5274038571158556e-06,
          1.3122387222948399e-06,
          9.47827742151757e-07,
          5.751921536839012e-07,
          2.9322078953256633e-07,
          1.2556211032926868e-07,
          4.5164859516831505e-08,
          1.364646061782541e-08,
          3.4635102730468837e-09,
          7.383970874881052e-10,
          1.322331972846396e-10,
          1.9891523587031145e-11,
          2.5134637428040273e-12,
          2.667805883394687e-13,
          2.3785531067976175e-14,
          1.7813469085394917e-15,
          1.1206272572127635e-16,
          5.921761120927649e-18,
          2.6285582907108047e-19,
          9.800797262448923e-21,
          3.0701146878093636e-22,
          1.052531230171565e-23,
          9.85957061209853e-23,
          3.321404098181053e-21,
          9.415608888928061e-20,
          2.2420875202379424e-18,
          4.484703525945768e-17,
          7.535150659930785e-16,
          1.06347471242498e-14,
          1.2607803179224547e-13,
          1.2555346378948203e-12,
          1.050255590968891e-11,
          7.379693608481102e-11,
          4.355707275310432e-10,
          2.1595142044866254e-09,
          8.993535847199262e-09,
          3.1461679344085424e-08,
          9.245073243831471e-08,
          2.2820010363882433e-07,
          4.731494545978538e-07,
          8.240581817413385e-07,
          1.2055755536997425e-06,
          1.4815216948128114e-06,
          1.5293208990772998e-06,
          1.3260694099968824e-06,
          9.658527384467066e-07,
          5.909253206831764e-07,
          3.0369057159825e-07,
          1.3110131376911145e-07,
          4.754006858654044e-08,
          1.448070110818369e-08,
          3.705069853765494e-09,
          7.963064558294755e-10,
          1.4376100438207197e-10,
          2.180112903044743e-11,
          2.7771152140147477e-12,
          2.971569111933374e-13,
          2.6708825982343798e-14,
          2.0165118895491906e-15,
          1.2788623470814491e-16,
          6.812771767846949e-18,
          3.0486032243163923e-19,
          1.145921834425847e-20,
          3.6181461856008346e-22,
          9.596088631583117e-24,
          2.1378607631242717e-25,
          4.000751788088505e-27,
          6.288988850616945e-29,
          8.304185978052633e-31,
          9.210651162403966e-33,
          8.58144903055763e-35,
          6.715957599335326e-37,
          4.4150160753405004e-39,
          2.437999758115779e-41,
          1.1308683579572627e-43,
          4.4062331370741624e-46,
          1.4421150770929554e-48,
          3.964691391366158e-51,
          9.155791278118251e-54,
          1.7760672446806214e-56,
          2.894009493066308e-59,
          3.961115658327817e-62,
          4.554200226875712e-65,
          4.398288807013026e-68,
          3.5680619921617124e-71,
          2.4314092505073787e-74,
          1.3917485049103264e-77,
          6.691762018030022e-81,
          2.702696237609063e-84,
          9.169190841155105e-88,
          2.6130144546341856e-91,
          6.255033467967565e-95,
          1.2577504712636933e-98,
          2.124400353707656e-102,
          3.014083411375525e-106,
          3.592122955684728e-110,
          3.5960369559128514e-114,
          3.023946645226501e-118,
          2.2635841731514147e-122,
          1.9003641534149775e-119,
          2.377671191013229e-115,
          2.4988708792705036e-111,
          2.2060373527997068e-107,
          1.6359082128047835e-103,
          1.019018407429232e-99,
          5.331901906505838e-96,
          2.3434694592103248e-92,
          8.651939433068124e-89,
          2.683148245914252e-85,
          6.989609157015791e-82,
          1.5294600596001766e-78,
          2.811256122405501e-75,
          4.340499530750524e-72,
          5.629321314176749e-69,
          6.132667070507218e-66,
          5.612027155783745e-63,
          4.313871105743977e-60,
          2.7854257802513615e-57,
          1.5107515287861132e-54,
          6.882900942645719e-52,
          2.634068238167528e-49,
          8.467584694829237e-47,
          2.2864889257122553e-44,
          5.186276664017106e-42,
          9.881418304358546e-40,
          1.581466197023399e-37,
          2.1260700422957714e-35,
          2.4008899179790905e-33,
          2.2774243150911677e-31,
          1.814649208863586e-29,
          1.2145585054461549e-27,
          6.828435649181938e-26,
          3.2247869502638403e-24,
          1.2792571698857768e-22,
          4.262768198778875e-21,
          1.1931707546047699e-19,
          2.8053723236018374e-18,
          5.540582700452184e-17,
          9.191733000585742e-16,
          1.2809034188949237e-14,
          1.4993823508208317e-13,
          1.4742985197053959e-12,
          1.21768649615616e-11,
          8.448168660201245e-11,
          4.923417745891065e-10,
          2.410170814576777e-09,
          9.910737764994927e-09,
          3.42327014232243e-08,
          9.932381327109565e-08,
          2.420709210987018e-07,
          4.955744253182853e-07,
          8.522208882177175e-07,
          1.2310409187239859e-06,
          1.4937221743260303e-06,
          1.5224540468433973e-06,
          1.3034536215948135e-06,
          9.373979481898022e-07,
          5.662776739313077e-07,
          2.873504659616065e-07,
          1.2248175407870488e-07,
          4.3853868935623496e-08,
          1.3189291191452556e-08,
          3.3320539486974043e-09,
          7.070980140040761e-10,
          1.2604459754377478e-10,
          1.8873214669782126e-11,
          2.373802314330365e-12,
          2.507957909044607e-13,
          2.2257324795430457e-14,
          1.659215165872793e-15,
          1.0389854825844975e-16,
          5.4650391238602926e-18,
          2.41464962988334e-19,
          8.962461890426847e-21,
          3.1039074462344245e-22,
          1.1132512418746792e-21,
          3.313825584727297e-20,
          8.340701324690718e-19,
          1.7634153796678413e-17,
          3.131725623068112e-16,
          4.671859919058397e-15,
          5.854272646058622e-14,
          6.162161867071194e-13,
          5.448416318879165e-12,
          4.046546108304044e-11,
          2.5245020457197237e-10,
          1.3229516916754894e-09,
          5.823569600903957e-09,
          2.153334904181047e-08,
          6.688225621142407e-08,
          1.7449672309658857e-07,
          3.824200566834084e-07,
          7.039974284202941e-07,
          1.088625515781681e-06,
          1.4140441559889882e-06
         ],
         "yaxis": "y"
        }
       ],
       "layout": {
        "barmode": "overlay",
        "height": 500,
        "hovermode": "closest",
        "legend": {
         "traceorder": "reversed"
        },
        "showlegend": false,
        "template": {
         "data": {
          "bar": [
           {
            "error_x": {
             "color": "#2a3f5f"
            },
            "error_y": {
             "color": "#2a3f5f"
            },
            "marker": {
             "line": {
              "color": "#E5ECF6",
              "width": 0.5
             }
            },
            "type": "bar"
           }
          ],
          "barpolar": [
           {
            "marker": {
             "line": {
              "color": "#E5ECF6",
              "width": 0.5
             }
            },
            "type": "barpolar"
           }
          ],
          "carpet": [
           {
            "aaxis": {
             "endlinecolor": "#2a3f5f",
             "gridcolor": "white",
             "linecolor": "white",
             "minorgridcolor": "white",
             "startlinecolor": "#2a3f5f"
            },
            "baxis": {
             "endlinecolor": "#2a3f5f",
             "gridcolor": "white",
             "linecolor": "white",
             "minorgridcolor": "white",
             "startlinecolor": "#2a3f5f"
            },
            "type": "carpet"
           }
          ],
          "choropleth": [
           {
            "colorbar": {
             "outlinewidth": 0,
             "ticks": ""
            },
            "type": "choropleth"
           }
          ],
          "contour": [
           {
            "colorbar": {
             "outlinewidth": 0,
             "ticks": ""
            },
            "colorscale": [
             [
              0,
              "#0d0887"
             ],
             [
              0.1111111111111111,
              "#46039f"
             ],
             [
              0.2222222222222222,
              "#7201a8"
             ],
             [
              0.3333333333333333,
              "#9c179e"
             ],
             [
              0.4444444444444444,
              "#bd3786"
             ],
             [
              0.5555555555555556,
              "#d8576b"
             ],
             [
              0.6666666666666666,
              "#ed7953"
             ],
             [
              0.7777777777777778,
              "#fb9f3a"
             ],
             [
              0.8888888888888888,
              "#fdca26"
             ],
             [
              1,
              "#f0f921"
             ]
            ],
            "type": "contour"
           }
          ],
          "contourcarpet": [
           {
            "colorbar": {
             "outlinewidth": 0,
             "ticks": ""
            },
            "type": "contourcarpet"
           }
          ],
          "heatmap": [
           {
            "colorbar": {
             "outlinewidth": 0,
             "ticks": ""
            },
            "colorscale": [
             [
              0,
              "#0d0887"
             ],
             [
              0.1111111111111111,
              "#46039f"
             ],
             [
              0.2222222222222222,
              "#7201a8"
             ],
             [
              0.3333333333333333,
              "#9c179e"
             ],
             [
              0.4444444444444444,
              "#bd3786"
             ],
             [
              0.5555555555555556,
              "#d8576b"
             ],
             [
              0.6666666666666666,
              "#ed7953"
             ],
             [
              0.7777777777777778,
              "#fb9f3a"
             ],
             [
              0.8888888888888888,
              "#fdca26"
             ],
             [
              1,
              "#f0f921"
             ]
            ],
            "type": "heatmap"
           }
          ],
          "heatmapgl": [
           {
            "colorbar": {
             "outlinewidth": 0,
             "ticks": ""
            },
            "colorscale": [
             [
              0,
              "#0d0887"
             ],
             [
              0.1111111111111111,
              "#46039f"
             ],
             [
              0.2222222222222222,
              "#7201a8"
             ],
             [
              0.3333333333333333,
              "#9c179e"
             ],
             [
              0.4444444444444444,
              "#bd3786"
             ],
             [
              0.5555555555555556,
              "#d8576b"
             ],
             [
              0.6666666666666666,
              "#ed7953"
             ],
             [
              0.7777777777777778,
              "#fb9f3a"
             ],
             [
              0.8888888888888888,
              "#fdca26"
             ],
             [
              1,
              "#f0f921"
             ]
            ],
            "type": "heatmapgl"
           }
          ],
          "histogram": [
           {
            "marker": {
             "colorbar": {
              "outlinewidth": 0,
              "ticks": ""
             }
            },
            "type": "histogram"
           }
          ],
          "histogram2d": [
           {
            "colorbar": {
             "outlinewidth": 0,
             "ticks": ""
            },
            "colorscale": [
             [
              0,
              "#0d0887"
             ],
             [
              0.1111111111111111,
              "#46039f"
             ],
             [
              0.2222222222222222,
              "#7201a8"
             ],
             [
              0.3333333333333333,
              "#9c179e"
             ],
             [
              0.4444444444444444,
              "#bd3786"
             ],
             [
              0.5555555555555556,
              "#d8576b"
             ],
             [
              0.6666666666666666,
              "#ed7953"
             ],
             [
              0.7777777777777778,
              "#fb9f3a"
             ],
             [
              0.8888888888888888,
              "#fdca26"
             ],
             [
              1,
              "#f0f921"
             ]
            ],
            "type": "histogram2d"
           }
          ],
          "histogram2dcontour": [
           {
            "colorbar": {
             "outlinewidth": 0,
             "ticks": ""
            },
            "colorscale": [
             [
              0,
              "#0d0887"
             ],
             [
              0.1111111111111111,
              "#46039f"
             ],
             [
              0.2222222222222222,
              "#7201a8"
             ],
             [
              0.3333333333333333,
              "#9c179e"
             ],
             [
              0.4444444444444444,
              "#bd3786"
             ],
             [
              0.5555555555555556,
              "#d8576b"
             ],
             [
              0.6666666666666666,
              "#ed7953"
             ],
             [
              0.7777777777777778,
              "#fb9f3a"
             ],
             [
              0.8888888888888888,
              "#fdca26"
             ],
             [
              1,
              "#f0f921"
             ]
            ],
            "type": "histogram2dcontour"
           }
          ],
          "mesh3d": [
           {
            "colorbar": {
             "outlinewidth": 0,
             "ticks": ""
            },
            "type": "mesh3d"
           }
          ],
          "parcoords": [
           {
            "line": {
             "colorbar": {
              "outlinewidth": 0,
              "ticks": ""
             }
            },
            "type": "parcoords"
           }
          ],
          "pie": [
           {
            "automargin": true,
            "type": "pie"
           }
          ],
          "scatter": [
           {
            "marker": {
             "colorbar": {
              "outlinewidth": 0,
              "ticks": ""
             }
            },
            "type": "scatter"
           }
          ],
          "scatter3d": [
           {
            "line": {
             "colorbar": {
              "outlinewidth": 0,
              "ticks": ""
             }
            },
            "marker": {
             "colorbar": {
              "outlinewidth": 0,
              "ticks": ""
             }
            },
            "type": "scatter3d"
           }
          ],
          "scattercarpet": [
           {
            "marker": {
             "colorbar": {
              "outlinewidth": 0,
              "ticks": ""
             }
            },
            "type": "scattercarpet"
           }
          ],
          "scattergeo": [
           {
            "marker": {
             "colorbar": {
              "outlinewidth": 0,
              "ticks": ""
             }
            },
            "type": "scattergeo"
           }
          ],
          "scattergl": [
           {
            "marker": {
             "colorbar": {
              "outlinewidth": 0,
              "ticks": ""
             }
            },
            "type": "scattergl"
           }
          ],
          "scattermapbox": [
           {
            "marker": {
             "colorbar": {
              "outlinewidth": 0,
              "ticks": ""
             }
            },
            "type": "scattermapbox"
           }
          ],
          "scatterpolar": [
           {
            "marker": {
             "colorbar": {
              "outlinewidth": 0,
              "ticks": ""
             }
            },
            "type": "scatterpolar"
           }
          ],
          "scatterpolargl": [
           {
            "marker": {
             "colorbar": {
              "outlinewidth": 0,
              "ticks": ""
             }
            },
            "type": "scatterpolargl"
           }
          ],
          "scatterternary": [
           {
            "marker": {
             "colorbar": {
              "outlinewidth": 0,
              "ticks": ""
             }
            },
            "type": "scatterternary"
           }
          ],
          "surface": [
           {
            "colorbar": {
             "outlinewidth": 0,
             "ticks": ""
            },
            "colorscale": [
             [
              0,
              "#0d0887"
             ],
             [
              0.1111111111111111,
              "#46039f"
             ],
             [
              0.2222222222222222,
              "#7201a8"
             ],
             [
              0.3333333333333333,
              "#9c179e"
             ],
             [
              0.4444444444444444,
              "#bd3786"
             ],
             [
              0.5555555555555556,
              "#d8576b"
             ],
             [
              0.6666666666666666,
              "#ed7953"
             ],
             [
              0.7777777777777778,
              "#fb9f3a"
             ],
             [
              0.8888888888888888,
              "#fdca26"
             ],
             [
              1,
              "#f0f921"
             ]
            ],
            "type": "surface"
           }
          ],
          "table": [
           {
            "cells": {
             "fill": {
              "color": "#EBF0F8"
             },
             "line": {
              "color": "white"
             }
            },
            "header": {
             "fill": {
              "color": "#C8D4E3"
             },
             "line": {
              "color": "white"
             }
            },
            "type": "table"
           }
          ]
         },
         "layout": {
          "annotationdefaults": {
           "arrowcolor": "#2a3f5f",
           "arrowhead": 0,
           "arrowwidth": 1
          },
          "coloraxis": {
           "colorbar": {
            "outlinewidth": 0,
            "ticks": ""
           }
          },
          "colorscale": {
           "diverging": [
            [
             0,
             "#8e0152"
            ],
            [
             0.1,
             "#c51b7d"
            ],
            [
             0.2,
             "#de77ae"
            ],
            [
             0.3,
             "#f1b6da"
            ],
            [
             0.4,
             "#fde0ef"
            ],
            [
             0.5,
             "#f7f7f7"
            ],
            [
             0.6,
             "#e6f5d0"
            ],
            [
             0.7,
             "#b8e186"
            ],
            [
             0.8,
             "#7fbc41"
            ],
            [
             0.9,
             "#4d9221"
            ],
            [
             1,
             "#276419"
            ]
           ],
           "sequential": [
            [
             0,
             "#0d0887"
            ],
            [
             0.1111111111111111,
             "#46039f"
            ],
            [
             0.2222222222222222,
             "#7201a8"
            ],
            [
             0.3333333333333333,
             "#9c179e"
            ],
            [
             0.4444444444444444,
             "#bd3786"
            ],
            [
             0.5555555555555556,
             "#d8576b"
            ],
            [
             0.6666666666666666,
             "#ed7953"
            ],
            [
             0.7777777777777778,
             "#fb9f3a"
            ],
            [
             0.8888888888888888,
             "#fdca26"
            ],
            [
             1,
             "#f0f921"
            ]
           ],
           "sequentialminus": [
            [
             0,
             "#0d0887"
            ],
            [
             0.1111111111111111,
             "#46039f"
            ],
            [
             0.2222222222222222,
             "#7201a8"
            ],
            [
             0.3333333333333333,
             "#9c179e"
            ],
            [
             0.4444444444444444,
             "#bd3786"
            ],
            [
             0.5555555555555556,
             "#d8576b"
            ],
            [
             0.6666666666666666,
             "#ed7953"
            ],
            [
             0.7777777777777778,
             "#fb9f3a"
            ],
            [
             0.8888888888888888,
             "#fdca26"
            ],
            [
             1,
             "#f0f921"
            ]
           ]
          },
          "colorway": [
           "#636efa",
           "#EF553B",
           "#00cc96",
           "#ab63fa",
           "#FFA15A",
           "#19d3f3",
           "#FF6692",
           "#B6E880",
           "#FF97FF",
           "#FECB52"
          ],
          "font": {
           "color": "#2a3f5f"
          },
          "geo": {
           "bgcolor": "white",
           "lakecolor": "white",
           "landcolor": "#E5ECF6",
           "showlakes": true,
           "showland": true,
           "subunitcolor": "white"
          },
          "hoverlabel": {
           "align": "left"
          },
          "hovermode": "closest",
          "mapbox": {
           "style": "light"
          },
          "paper_bgcolor": "white",
          "plot_bgcolor": "#E5ECF6",
          "polar": {
           "angularaxis": {
            "gridcolor": "white",
            "linecolor": "white",
            "ticks": ""
           },
           "bgcolor": "#E5ECF6",
           "radialaxis": {
            "gridcolor": "white",
            "linecolor": "white",
            "ticks": ""
           }
          },
          "scene": {
           "xaxis": {
            "backgroundcolor": "#E5ECF6",
            "gridcolor": "white",
            "gridwidth": 2,
            "linecolor": "white",
            "showbackground": true,
            "ticks": "",
            "zerolinecolor": "white"
           },
           "yaxis": {
            "backgroundcolor": "#E5ECF6",
            "gridcolor": "white",
            "gridwidth": 2,
            "linecolor": "white",
            "showbackground": true,
            "ticks": "",
            "zerolinecolor": "white"
           },
           "zaxis": {
            "backgroundcolor": "#E5ECF6",
            "gridcolor": "white",
            "gridwidth": 2,
            "linecolor": "white",
            "showbackground": true,
            "ticks": "",
            "zerolinecolor": "white"
           }
          },
          "shapedefaults": {
           "line": {
            "color": "#2a3f5f"
           }
          },
          "ternary": {
           "aaxis": {
            "gridcolor": "white",
            "linecolor": "white",
            "ticks": ""
           },
           "baxis": {
            "gridcolor": "white",
            "linecolor": "white",
            "ticks": ""
           },
           "bgcolor": "#E5ECF6",
           "caxis": {
            "gridcolor": "white",
            "linecolor": "white",
            "ticks": ""
           }
          },
          "title": {
           "x": 0.05
          },
          "xaxis": {
           "automargin": true,
           "gridcolor": "white",
           "linecolor": "white",
           "ticks": "",
           "title": {
            "standoff": 15
           },
           "zerolinecolor": "white",
           "zerolinewidth": 2
          },
          "yaxis": {
           "automargin": true,
           "gridcolor": "white",
           "linecolor": "white",
           "ticks": "",
           "title": {
            "standoff": 15
           },
           "zerolinecolor": "white",
           "zerolinewidth": 2
          }
         }
        },
        "title": {
         "text": "PDF",
         "x": 0.5,
         "xanchor": "center",
         "y": 0.9,
         "yanchor": "top"
        },
        "width": 500,
        "xaxis": {
         "anchor": "y2",
         "domain": [
          0,
          1
         ],
         "title": {
          "text": "Length of a headline"
         },
         "zeroline": false
        },
        "yaxis": {
         "anchor": "free",
         "domain": [
          0,
          1
         ],
         "position": 0,
         "title": {
          "text": "probability"
         }
        }
       }
      },
      "text/html": [
       "<div>\n",
       "        \n",
       "        \n",
       "            <div id=\"4e880bd9-ce4a-4d38-a9a4-05b0125464df\" class=\"plotly-graph-div\" style=\"height:500px; width:500px;\"></div>\n",
       "            <script type=\"text/javascript\">\n",
       "                require([\"plotly\"], function(Plotly) {\n",
       "                    window.PLOTLYENV=window.PLOTLYENV || {};\n",
       "                    \n",
       "                if (document.getElementById(\"4e880bd9-ce4a-4d38-a9a4-05b0125464df\")) {\n",
       "                    Plotly.newPlot(\n",
       "                        '4e880bd9-ce4a-4d38-a9a4-05b0125464df',\n",
       "                        [{\"legendgroup\": \"ht\", \"marker\": {\"color\": \"rgb(31, 119, 180)\"}, \"mode\": \"lines\", \"name\": \"ht\", \"showlegend\": true, \"type\": \"scatter\", \"x\": [18.0, 18.604, 19.208, 19.812, 20.416, 21.02, 21.624, 22.228, 22.832, 23.436, 24.04, 24.644, 25.248, 25.852, 26.456, 27.060000000000002, 27.664, 28.268, 28.872, 29.476, 30.08, 30.683999999999997, 31.288, 31.892, 32.496, 33.1, 33.704, 34.308, 34.912, 35.516, 36.120000000000005, 36.724000000000004, 37.328, 37.932, 38.536, 39.14, 39.744, 40.348, 40.952, 41.556, 42.16, 42.763999999999996, 43.367999999999995, 43.972, 44.576, 45.18, 45.784, 46.388000000000005, 46.992000000000004, 47.596000000000004, 48.2, 48.804, 49.408, 50.012, 50.616, 51.22, 51.824, 52.428, 53.032, 53.636, 54.24, 54.844, 55.448, 56.052, 56.656, 57.26, 57.864, 58.468, 59.072, 59.676, 60.28, 60.884, 61.488, 62.092, 62.696, 63.3, 63.904, 64.50800000000001, 65.112, 65.71600000000001, 66.32, 66.924, 67.52799999999999, 68.132, 68.73599999999999, 69.34, 69.944, 70.548, 71.152, 71.756, 72.36, 72.964, 73.568, 74.172, 74.77600000000001, 75.38, 75.98400000000001, 76.588, 77.19200000000001, 77.79599999999999, 78.4, 79.00399999999999, 79.608, 80.212, 80.816, 81.42, 82.024, 82.628, 83.232, 83.836, 84.44, 85.044, 85.648, 86.252, 86.856, 87.46, 88.064, 88.668, 89.272, 89.876, 90.48, 91.084, 91.688, 92.292, 92.896, 93.5, 94.104, 94.708, 95.312, 95.916, 96.52, 97.124, 97.728, 98.332, 98.936, 99.54, 100.144, 100.748, 101.352, 101.956, 102.56, 103.164, 103.768, 104.372, 104.976, 105.58, 106.184, 106.788, 107.392, 107.996, 108.6, 109.204, 109.808, 110.412, 111.016, 111.62, 112.224, 112.828, 113.432, 114.036, 114.64, 115.244, 115.848, 116.452, 117.056, 117.66, 118.264, 118.868, 119.472, 120.076, 120.68, 121.284, 121.888, 122.492, 123.096, 123.7, 124.304, 124.908, 125.512, 126.116, 126.72, 127.324, 127.928, 128.53199999999998, 129.136, 129.74, 130.344, 130.94799999999998, 131.55200000000002, 132.156, 132.76, 133.364, 133.96800000000002, 134.572, 135.176, 135.78, 136.38400000000001, 136.988, 137.59199999999998, 138.196, 138.8, 139.404, 140.00799999999998, 140.612, 141.216, 141.82, 142.424, 143.02800000000002, 143.632, 144.236, 144.84, 145.44400000000002, 146.048, 146.652, 147.256, 147.86, 148.464, 149.068, 149.672, 150.276, 150.88, 151.484, 152.088, 152.692, 153.296, 153.9, 154.504, 155.108, 155.712, 156.316, 156.92, 157.524, 158.128, 158.732, 159.336, 159.94, 160.544, 161.148, 161.752, 162.356, 162.96, 163.564, 164.168, 164.772, 165.376, 165.98, 166.584, 167.188, 167.792, 168.396, 169.0, 169.604, 170.208, 170.812, 171.416, 172.02, 172.624, 173.228, 173.832, 174.436, 175.04, 175.644, 176.248, 176.852, 177.456, 178.06, 178.664, 179.268, 179.872, 180.476, 181.08, 181.684, 182.288, 182.892, 183.496, 184.1, 184.704, 185.308, 185.912, 186.516, 187.12, 187.724, 188.328, 188.932, 189.536, 190.14, 190.744, 191.348, 191.952, 192.556, 193.16, 193.764, 194.368, 194.972, 195.576, 196.18, 196.784, 197.388, 197.992, 198.596, 199.2, 199.804, 200.408, 201.012, 201.616, 202.22, 202.824, 203.428, 204.032, 204.636, 205.24, 205.844, 206.448, 207.052, 207.656, 208.26, 208.864, 209.468, 210.072, 210.676, 211.28, 211.884, 212.488, 213.092, 213.696, 214.3, 214.904, 215.508, 216.112, 216.716, 217.32, 217.924, 218.528, 219.132, 219.736, 220.34, 220.944, 221.548, 222.152, 222.756, 223.36, 223.964, 224.568, 225.172, 225.776, 226.38, 226.984, 227.588, 228.192, 228.796, 229.4, 230.004, 230.608, 231.212, 231.816, 232.42, 233.024, 233.628, 234.232, 234.836, 235.44, 236.044, 236.648, 237.252, 237.856, 238.46, 239.064, 239.668, 240.272, 240.876, 241.48, 242.084, 242.688, 243.292, 243.896, 244.5, 245.104, 245.708, 246.312, 246.916, 247.52, 248.124, 248.728, 249.332, 249.936, 250.54, 251.144, 251.748, 252.352, 252.956, 253.56, 254.164, 254.768, 255.372, 255.976, 256.58000000000004, 257.18399999999997, 257.788, 258.392, 258.996, 259.6, 260.204, 260.808, 261.41200000000003, 262.01599999999996, 262.62, 263.224, 263.828, 264.432, 265.036, 265.64, 266.244, 266.848, 267.452, 268.05600000000004, 268.65999999999997, 269.264, 269.868, 270.472, 271.076, 271.68, 272.284, 272.88800000000003, 273.49199999999996, 274.096, 274.7, 275.304, 275.908, 276.512, 277.116, 277.72, 278.324, 278.928, 279.532, 280.136, 280.74, 281.344, 281.948, 282.552, 283.156, 283.76, 284.364, 284.968, 285.572, 286.176, 286.78, 287.384, 287.988, 288.592, 289.196, 289.8, 290.404, 291.008, 291.612, 292.216, 292.82, 293.424, 294.028, 294.632, 295.236, 295.84, 296.444, 297.048, 297.652, 298.256, 298.86, 299.464, 300.068, 300.672, 301.276, 301.88, 302.484, 303.088, 303.692, 304.296, 304.9, 305.504, 306.108, 306.712, 307.316, 307.92, 308.524, 309.128, 309.732, 310.336, 310.94, 311.544, 312.148, 312.752, 313.356, 313.96, 314.564, 315.168, 315.772, 316.376, 316.98, 317.584, 318.188, 318.792, 319.396], \"xaxis\": \"x\", \"y\": [8.465127018228137e-06, 1.5101882818670624e-05, 2.613666628839583e-05, 4.344472167838463e-05, 6.8981998482012e-05, 0.00010493097659946516, 0.00015432361436954752, 0.00022162908302962434, 0.00031243990429544714, 0.0004321310117476194, 0.0005845979246718186, 0.0007721800008810745, 0.0009964432115106006, 0.0012587411267578146, 0.0015604176738586335, 0.0019030084857114063, 0.0022874679266667117, 0.0027112767076111596, 0.0031656280139154697, 0.0036373175511691326, 0.0041159118335347055, 0.004599950596938705, 0.005095801497340565, 0.005610374285304537, 0.006144679903658876, 0.006692815604284977, 0.007245110361642219, 0.007791976471809365, 0.008326659414649636, 0.008846658726320093, 0.009353445655926626, 0.009849872055366202, 0.010336611173484238, 0.01081168498934405, 0.011275282626832032, 0.011735087008737901, 0.012204193144201587, 0.012690999710276159, 0.013190351271490432, 0.013685050868430746, 0.014156877808401504, 0.014598075586473087, 0.015014889705635885, 0.015421163526795054, 0.01582703205009827, 0.016231346451857396, 0.01662308444436685, 0.016988770137142478, 0.017318975039226518, 0.01761144374448932, 0.017872902541929477, 0.018118572738521053, 0.01836498780742387, 0.01861820844451264, 0.01886916036114386, 0.019104034485421622, 0.019320991748394772, 0.019535750546666352, 0.019770836565196022, 0.020041555228950993, 0.02035277593646217, 0.02070439883812489, 0.021092797262397697, 0.02150411237503531, 0.021909638193664323, 0.022274122751030277, 0.022574588630477656, 0.0228157494472565, 0.023029196013665418, 0.023255467887267123, 0.023521248007467646, 0.02382757929863571, 0.024155255273592677, 0.024478677776511325, 0.024773877443042342, 0.02501539201343151, 0.025170542901378316, 0.025203705750492682, 0.025092351077649625, 0.024841648898438262, 0.024482971096402, 0.024057036343053347, 0.02359614257277473, 0.023116127423730037, 0.022616895462162664, 0.022087799584573197, 0.021518398373314873, 0.02091248032289024, 0.02029483869835095, 0.01970106160033048, 0.01915532417460661, 0.01865462476005183, 0.018173326102310438, 0.017682761050443162, 0.017167594153415514, 0.016626876352564907, 0.01606462648602576, 0.015483508139813938, 0.01488815186598098, 0.014291594659534319, 0.013713829876338353, 0.013170138293418005, 0.012659223387967046, 0.012163294831498106, 0.011660846496823125, 0.011140390766196358, 0.010604157506342866, 0.010062719711836672, 0.009528989497118804, 0.009015556763382636, 0.00853269112829507, 0.008085271025609915, 0.007670978909775552, 0.007281622834524791, 0.0069064315745291545, 0.006535489864943122, 0.006162372557764353, 0.00578560012552333, 0.005409110646754777, 0.005041954533357601, 0.004696270541070593, 0.0043825536905686465, 0.004103979754070458, 0.0038541634509016024, 0.0036209700625840727, 0.0033936845327324603, 0.0031678010392894285, 0.002944564132718243, 0.0027275842239867973, 0.0025203908914161466, 0.00232615891424633, 0.0021481707025762793, 0.001989303760500385, 0.0018502914003358905, 0.0017282369234749603, 0.0016172086226725817, 0.0015109298175115186, 0.0014055073020574698, 0.0013003262217609927, 0.0011971692057719397, 0.0010988056684655269, 0.0010079486070274915, 0.0009267342668683625, 0.000856482779088712, 0.0007973637729058182, 0.0007479007845631319, 0.00070496294729882, 0.0006649237488695739, 0.0006253946516557867, 0.0005858723239013279, 0.0005466234926773123, 0.0005072941496607571, 0.00046716695056458145, 0.00042683831342860297, 0.0003890454116863065, 0.00035716968263082324, 0.0003326409336862949, 0.0003137866880182439, 0.00029722597808427435, 0.0002804885709124545, 0.00026355268667102084, 0.00024808859981067025, 0.0002352715976410903, 0.00022430190161493125, 0.0002130313883328943, 0.0001999624764223161, 0.00018556768383969476, 0.0001717841486330317, 0.0001604461168679331, 0.00015211281310328824, 0.0001459142862893829, 0.00014016101043701237, 0.0001333187395964156, 0.00012490795650051267, 0.00011568644141677792, 0.00010685881196986356, 9.90727419146105e-05, 9.226135413413603e-05, 8.630426768359426e-05, 8.14340808879291e-05, 7.783187226322445e-05, 7.512491387744637e-05, 7.260371063411119e-05, 6.98713541002486e-05, 6.706168682935899e-05, 6.443312671640894e-05, 6.191707470493156e-05, 5.908073995360047e-05, 5.540504412888637e-05, 5.0587616163219285e-05, 4.473438501102404e-05, 3.838388311879513e-05, 3.231477785454079e-05, 2.7217471093626057e-05, 2.345040734427397e-05, 2.1022804781734014e-05, 1.9734182995461166e-05, 1.932497150408728e-05, 1.958450938037828e-05, 2.0418712785015114e-05, 2.182244420162316e-05, 2.370294348161052e-05, 2.5673254534014613e-05, 2.7075867586847403e-05, 2.7326425269178758e-05, 2.6291745521970356e-05, 2.4309916165075123e-05, 2.183475798019925e-05, 1.9109373563202564e-05, 1.620104891859034e-05, 1.3268933639221906e-05, 1.0693585168310423e-05, 8.929636010161087e-06, 8.263332052384177e-06, 8.672383712841502e-06, 9.814542106952239e-06, 1.1114225316533203e-05, 1.1957574008428453e-05, 1.1953008231138719e-05, 1.1103066200960877e-05, 9.757120219727688e-06, 8.374772114496259e-06, 7.256346258544205e-06, 6.4090998686270315e-06, 5.633068774515868e-06, 4.752570718567388e-06, 3.7912696093803875e-06, 2.940130345025114e-06, 2.37168418128388e-06, 2.0948962927908956e-06, 1.9809094267088243e-06, 1.9052277293540624e-06, 1.8434947443312778e-06, 1.8323793005546616e-06, 1.8716600047519304e-06, 1.9020934447966725e-06, 1.8792955301602811e-06, 1.8310775562272376e-06, 1.8112746844520363e-06, 1.8084441380563196e-06, 1.7329514043748994e-06, 1.505437931878915e-06, 1.1437522217438692e-06, 7.56756501801496e-07, 4.6881456673124145e-07, 3.598611504886017e-07, 4.5551520035448535e-07, 7.334396100888118e-07, 1.1174302841337845e-06, 1.4847445914670462e-06, 1.722726150198759e-06, 1.805407128890483e-06, 1.804861226324122e-06, 1.805168235091744e-06, 1.8045648371019953e-06, 1.717502255436088e-06, 1.4741999786646879e-06, 1.1042690432164286e-06, 7.221355573597517e-07, 4.5011878146745057e-07, 3.645345652743497e-07, 4.924268640038083e-07, 8.225278811050364e-07, 1.3040968154402976e-06, 1.8551634901638428e-06, 2.4027652892893616e-06, 2.9224994245557053e-06, 3.420677555365942e-06, 3.865771072524013e-06, 4.1486114911048125e-06, 4.128247270795371e-06, 3.7298085545233056e-06, 3.0111633476194583e-06, 2.1459287146493975e-06, 1.337307750150618e-06, 7.260231091452667e-07, 3.5356491064506823e-07, 1.9240667174724684e-07, 2.030238450560388e-07, 3.660812000542269e-07, 6.661479528982587e-07, 1.046204749812206e-06, 1.3851381832021082e-06, 1.541165418009012e-06, 1.4404877186228034e-06, 1.1309844786975728e-06, 7.460096007309747e-07, 4.139472519106034e-07, 1.9577657338340643e-07, 8.892205716346431e-08, 7.017566820354002e-08, 1.3314806600947202e-07, 2.962778975047188e-07, 5.777356927192459e-07, 9.504661114241168e-07, 1.3143138324638618e-06, 1.5280633781758656e-06, 1.497902766660966e-06, 1.2527410774256014e-06, 9.361762223102422e-07, 7.2226551243146e-07, 7.230431558629193e-07, 9.381099270636219e-07, 1.254797836290612e-06, 1.4989173608952084e-06, 1.5274038571158556e-06, 1.3122387222948399e-06, 9.47827742151757e-07, 5.751921536839012e-07, 2.9322078953256633e-07, 1.2556211032926868e-07, 4.5164859516831505e-08, 1.364646061782541e-08, 3.4635102730468837e-09, 7.383970874881052e-10, 1.322331972846396e-10, 1.9891523587031145e-11, 2.5134637428040273e-12, 2.667805883394687e-13, 2.3785531067976175e-14, 1.7813469085394917e-15, 1.1206272572127635e-16, 5.921761120927649e-18, 2.6285582907108047e-19, 9.800797262448923e-21, 3.0701146878093636e-22, 1.052531230171565e-23, 9.85957061209853e-23, 3.321404098181053e-21, 9.415608888928061e-20, 2.2420875202379424e-18, 4.484703525945768e-17, 7.535150659930785e-16, 1.06347471242498e-14, 1.2607803179224547e-13, 1.2555346378948203e-12, 1.050255590968891e-11, 7.379693608481102e-11, 4.355707275310432e-10, 2.1595142044866254e-09, 8.993535847199262e-09, 3.1461679344085424e-08, 9.245073243831471e-08, 2.2820010363882433e-07, 4.731494545978538e-07, 8.240581817413385e-07, 1.2055755536997425e-06, 1.4815216948128114e-06, 1.5293208990772998e-06, 1.3260694099968824e-06, 9.658527384467066e-07, 5.909253206831764e-07, 3.0369057159825e-07, 1.3110131376911145e-07, 4.754006858654044e-08, 1.448070110818369e-08, 3.705069853765494e-09, 7.963064558294755e-10, 1.4376100438207197e-10, 2.180112903044743e-11, 2.7771152140147477e-12, 2.971569111933374e-13, 2.6708825982343798e-14, 2.0165118895491906e-15, 1.2788623470814491e-16, 6.812771767846949e-18, 3.0486032243163923e-19, 1.145921834425847e-20, 3.6181461856008346e-22, 9.596088631583117e-24, 2.1378607631242717e-25, 4.000751788088505e-27, 6.288988850616945e-29, 8.304185978052633e-31, 9.210651162403966e-33, 8.58144903055763e-35, 6.715957599335326e-37, 4.4150160753405004e-39, 2.437999758115779e-41, 1.1308683579572627e-43, 4.4062331370741624e-46, 1.4421150770929554e-48, 3.964691391366158e-51, 9.155791278118251e-54, 1.7760672446806214e-56, 2.894009493066308e-59, 3.961115658327817e-62, 4.554200226875712e-65, 4.398288807013026e-68, 3.5680619921617124e-71, 2.4314092505073787e-74, 1.3917485049103264e-77, 6.691762018030022e-81, 2.702696237609063e-84, 9.169190841155105e-88, 2.6130144546341856e-91, 6.255033467967565e-95, 1.2577504712636933e-98, 2.124400353707656e-102, 3.014083411375525e-106, 3.592122955684728e-110, 3.5960369559128514e-114, 3.023946645226501e-118, 2.2635841731514147e-122, 1.9003641534149775e-119, 2.377671191013229e-115, 2.4988708792705036e-111, 2.2060373527997068e-107, 1.6359082128047835e-103, 1.019018407429232e-99, 5.331901906505838e-96, 2.3434694592103248e-92, 8.651939433068124e-89, 2.683148245914252e-85, 6.989609157015791e-82, 1.5294600596001766e-78, 2.811256122405501e-75, 4.340499530750524e-72, 5.629321314176749e-69, 6.132667070507218e-66, 5.612027155783745e-63, 4.313871105743977e-60, 2.7854257802513615e-57, 1.5107515287861132e-54, 6.882900942645719e-52, 2.634068238167528e-49, 8.467584694829237e-47, 2.2864889257122553e-44, 5.186276664017106e-42, 9.881418304358546e-40, 1.581466197023399e-37, 2.1260700422957714e-35, 2.4008899179790905e-33, 2.2774243150911677e-31, 1.814649208863586e-29, 1.2145585054461549e-27, 6.828435649181938e-26, 3.2247869502638403e-24, 1.2792571698857768e-22, 4.262768198778875e-21, 1.1931707546047699e-19, 2.8053723236018374e-18, 5.540582700452184e-17, 9.191733000585742e-16, 1.2809034188949237e-14, 1.4993823508208317e-13, 1.4742985197053959e-12, 1.21768649615616e-11, 8.448168660201245e-11, 4.923417745891065e-10, 2.410170814576777e-09, 9.910737764994927e-09, 3.42327014232243e-08, 9.932381327109565e-08, 2.420709210987018e-07, 4.955744253182853e-07, 8.522208882177175e-07, 1.2310409187239859e-06, 1.4937221743260303e-06, 1.5224540468433973e-06, 1.3034536215948135e-06, 9.373979481898022e-07, 5.662776739313077e-07, 2.873504659616065e-07, 1.2248175407870488e-07, 4.3853868935623496e-08, 1.3189291191452556e-08, 3.3320539486974043e-09, 7.070980140040761e-10, 1.2604459754377478e-10, 1.8873214669782126e-11, 2.373802314330365e-12, 2.507957909044607e-13, 2.2257324795430457e-14, 1.659215165872793e-15, 1.0389854825844975e-16, 5.4650391238602926e-18, 2.41464962988334e-19, 8.962461890426847e-21, 3.1039074462344245e-22, 1.1132512418746792e-21, 3.313825584727297e-20, 8.340701324690718e-19, 1.7634153796678413e-17, 3.131725623068112e-16, 4.671859919058397e-15, 5.854272646058622e-14, 6.162161867071194e-13, 5.448416318879165e-12, 4.046546108304044e-11, 2.5245020457197237e-10, 1.3229516916754894e-09, 5.823569600903957e-09, 2.153334904181047e-08, 6.688225621142407e-08, 1.7449672309658857e-07, 3.824200566834084e-07, 7.039974284202941e-07, 1.088625515781681e-06, 1.4140441559889882e-06], \"yaxis\": \"y\"}],\n",
       "                        {\"barmode\": \"overlay\", \"height\": 500, \"hovermode\": \"closest\", \"legend\": {\"traceorder\": \"reversed\"}, \"showlegend\": false, \"template\": {\"data\": {\"bar\": [{\"error_x\": {\"color\": \"#2a3f5f\"}, \"error_y\": {\"color\": \"#2a3f5f\"}, \"marker\": {\"line\": {\"color\": \"#E5ECF6\", \"width\": 0.5}}, \"type\": \"bar\"}], \"barpolar\": [{\"marker\": {\"line\": {\"color\": \"#E5ECF6\", \"width\": 0.5}}, \"type\": \"barpolar\"}], \"carpet\": [{\"aaxis\": {\"endlinecolor\": \"#2a3f5f\", \"gridcolor\": \"white\", \"linecolor\": \"white\", \"minorgridcolor\": \"white\", \"startlinecolor\": \"#2a3f5f\"}, \"baxis\": {\"endlinecolor\": \"#2a3f5f\", \"gridcolor\": \"white\", \"linecolor\": \"white\", \"minorgridcolor\": \"white\", \"startlinecolor\": \"#2a3f5f\"}, \"type\": \"carpet\"}], \"choropleth\": [{\"colorbar\": {\"outlinewidth\": 0, \"ticks\": \"\"}, \"type\": \"choropleth\"}], \"contour\": [{\"colorbar\": {\"outlinewidth\": 0, \"ticks\": \"\"}, \"colorscale\": [[0.0, \"#0d0887\"], [0.1111111111111111, \"#46039f\"], [0.2222222222222222, \"#7201a8\"], [0.3333333333333333, \"#9c179e\"], [0.4444444444444444, \"#bd3786\"], [0.5555555555555556, \"#d8576b\"], [0.6666666666666666, \"#ed7953\"], [0.7777777777777778, \"#fb9f3a\"], [0.8888888888888888, \"#fdca26\"], [1.0, \"#f0f921\"]], \"type\": \"contour\"}], \"contourcarpet\": [{\"colorbar\": {\"outlinewidth\": 0, \"ticks\": \"\"}, \"type\": \"contourcarpet\"}], \"heatmap\": [{\"colorbar\": {\"outlinewidth\": 0, \"ticks\": \"\"}, \"colorscale\": [[0.0, \"#0d0887\"], [0.1111111111111111, \"#46039f\"], [0.2222222222222222, \"#7201a8\"], [0.3333333333333333, \"#9c179e\"], [0.4444444444444444, \"#bd3786\"], [0.5555555555555556, \"#d8576b\"], [0.6666666666666666, \"#ed7953\"], [0.7777777777777778, \"#fb9f3a\"], [0.8888888888888888, \"#fdca26\"], [1.0, \"#f0f921\"]], \"type\": \"heatmap\"}], \"heatmapgl\": [{\"colorbar\": {\"outlinewidth\": 0, \"ticks\": \"\"}, \"colorscale\": [[0.0, \"#0d0887\"], [0.1111111111111111, \"#46039f\"], [0.2222222222222222, \"#7201a8\"], [0.3333333333333333, \"#9c179e\"], [0.4444444444444444, \"#bd3786\"], [0.5555555555555556, \"#d8576b\"], [0.6666666666666666, \"#ed7953\"], [0.7777777777777778, \"#fb9f3a\"], [0.8888888888888888, \"#fdca26\"], [1.0, \"#f0f921\"]], \"type\": \"heatmapgl\"}], \"histogram\": [{\"marker\": {\"colorbar\": {\"outlinewidth\": 0, \"ticks\": \"\"}}, \"type\": \"histogram\"}], \"histogram2d\": [{\"colorbar\": {\"outlinewidth\": 0, \"ticks\": \"\"}, \"colorscale\": [[0.0, \"#0d0887\"], [0.1111111111111111, \"#46039f\"], [0.2222222222222222, \"#7201a8\"], [0.3333333333333333, \"#9c179e\"], [0.4444444444444444, \"#bd3786\"], [0.5555555555555556, \"#d8576b\"], [0.6666666666666666, \"#ed7953\"], [0.7777777777777778, \"#fb9f3a\"], [0.8888888888888888, \"#fdca26\"], [1.0, \"#f0f921\"]], \"type\": \"histogram2d\"}], \"histogram2dcontour\": [{\"colorbar\": {\"outlinewidth\": 0, \"ticks\": \"\"}, \"colorscale\": [[0.0, \"#0d0887\"], [0.1111111111111111, \"#46039f\"], [0.2222222222222222, \"#7201a8\"], [0.3333333333333333, \"#9c179e\"], [0.4444444444444444, \"#bd3786\"], [0.5555555555555556, \"#d8576b\"], [0.6666666666666666, \"#ed7953\"], [0.7777777777777778, \"#fb9f3a\"], [0.8888888888888888, \"#fdca26\"], [1.0, \"#f0f921\"]], \"type\": \"histogram2dcontour\"}], \"mesh3d\": [{\"colorbar\": {\"outlinewidth\": 0, \"ticks\": \"\"}, \"type\": \"mesh3d\"}], \"parcoords\": [{\"line\": {\"colorbar\": {\"outlinewidth\": 0, \"ticks\": \"\"}}, \"type\": \"parcoords\"}], \"pie\": [{\"automargin\": true, \"type\": \"pie\"}], \"scatter\": [{\"marker\": {\"colorbar\": {\"outlinewidth\": 0, \"ticks\": \"\"}}, \"type\": \"scatter\"}], \"scatter3d\": [{\"line\": {\"colorbar\": {\"outlinewidth\": 0, \"ticks\": \"\"}}, \"marker\": {\"colorbar\": {\"outlinewidth\": 0, \"ticks\": \"\"}}, \"type\": \"scatter3d\"}], \"scattercarpet\": [{\"marker\": {\"colorbar\": {\"outlinewidth\": 0, \"ticks\": \"\"}}, \"type\": \"scattercarpet\"}], \"scattergeo\": [{\"marker\": {\"colorbar\": {\"outlinewidth\": 0, \"ticks\": \"\"}}, \"type\": \"scattergeo\"}], \"scattergl\": [{\"marker\": {\"colorbar\": {\"outlinewidth\": 0, \"ticks\": \"\"}}, \"type\": \"scattergl\"}], \"scattermapbox\": [{\"marker\": {\"colorbar\": {\"outlinewidth\": 0, \"ticks\": \"\"}}, \"type\": \"scattermapbox\"}], \"scatterpolar\": [{\"marker\": {\"colorbar\": {\"outlinewidth\": 0, \"ticks\": \"\"}}, \"type\": \"scatterpolar\"}], \"scatterpolargl\": [{\"marker\": {\"colorbar\": {\"outlinewidth\": 0, \"ticks\": \"\"}}, \"type\": \"scatterpolargl\"}], \"scatterternary\": [{\"marker\": {\"colorbar\": {\"outlinewidth\": 0, \"ticks\": \"\"}}, \"type\": \"scatterternary\"}], \"surface\": [{\"colorbar\": {\"outlinewidth\": 0, \"ticks\": \"\"}, \"colorscale\": [[0.0, \"#0d0887\"], [0.1111111111111111, \"#46039f\"], [0.2222222222222222, \"#7201a8\"], [0.3333333333333333, \"#9c179e\"], [0.4444444444444444, \"#bd3786\"], [0.5555555555555556, \"#d8576b\"], [0.6666666666666666, \"#ed7953\"], [0.7777777777777778, \"#fb9f3a\"], [0.8888888888888888, \"#fdca26\"], [1.0, \"#f0f921\"]], \"type\": \"surface\"}], \"table\": [{\"cells\": {\"fill\": {\"color\": \"#EBF0F8\"}, \"line\": {\"color\": \"white\"}}, \"header\": {\"fill\": {\"color\": \"#C8D4E3\"}, \"line\": {\"color\": \"white\"}}, \"type\": \"table\"}]}, \"layout\": {\"annotationdefaults\": {\"arrowcolor\": \"#2a3f5f\", \"arrowhead\": 0, \"arrowwidth\": 1}, \"coloraxis\": {\"colorbar\": {\"outlinewidth\": 0, \"ticks\": \"\"}}, \"colorscale\": {\"diverging\": [[0, \"#8e0152\"], [0.1, \"#c51b7d\"], [0.2, \"#de77ae\"], [0.3, \"#f1b6da\"], [0.4, \"#fde0ef\"], [0.5, \"#f7f7f7\"], [0.6, \"#e6f5d0\"], [0.7, \"#b8e186\"], [0.8, \"#7fbc41\"], [0.9, \"#4d9221\"], [1, \"#276419\"]], \"sequential\": [[0.0, \"#0d0887\"], [0.1111111111111111, \"#46039f\"], [0.2222222222222222, \"#7201a8\"], [0.3333333333333333, \"#9c179e\"], [0.4444444444444444, \"#bd3786\"], [0.5555555555555556, \"#d8576b\"], [0.6666666666666666, \"#ed7953\"], [0.7777777777777778, \"#fb9f3a\"], [0.8888888888888888, \"#fdca26\"], [1.0, \"#f0f921\"]], \"sequentialminus\": [[0.0, \"#0d0887\"], [0.1111111111111111, \"#46039f\"], [0.2222222222222222, \"#7201a8\"], [0.3333333333333333, \"#9c179e\"], [0.4444444444444444, \"#bd3786\"], [0.5555555555555556, \"#d8576b\"], [0.6666666666666666, \"#ed7953\"], [0.7777777777777778, \"#fb9f3a\"], [0.8888888888888888, \"#fdca26\"], [1.0, \"#f0f921\"]]}, \"colorway\": [\"#636efa\", \"#EF553B\", \"#00cc96\", \"#ab63fa\", \"#FFA15A\", \"#19d3f3\", \"#FF6692\", \"#B6E880\", \"#FF97FF\", \"#FECB52\"], \"font\": {\"color\": \"#2a3f5f\"}, \"geo\": {\"bgcolor\": \"white\", \"lakecolor\": \"white\", \"landcolor\": \"#E5ECF6\", \"showlakes\": true, \"showland\": true, \"subunitcolor\": \"white\"}, \"hoverlabel\": {\"align\": \"left\"}, \"hovermode\": \"closest\", \"mapbox\": {\"style\": \"light\"}, \"paper_bgcolor\": \"white\", \"plot_bgcolor\": \"#E5ECF6\", \"polar\": {\"angularaxis\": {\"gridcolor\": \"white\", \"linecolor\": \"white\", \"ticks\": \"\"}, \"bgcolor\": \"#E5ECF6\", \"radialaxis\": {\"gridcolor\": \"white\", \"linecolor\": \"white\", \"ticks\": \"\"}}, \"scene\": {\"xaxis\": {\"backgroundcolor\": \"#E5ECF6\", \"gridcolor\": \"white\", \"gridwidth\": 2, \"linecolor\": \"white\", \"showbackground\": true, \"ticks\": \"\", \"zerolinecolor\": \"white\"}, \"yaxis\": {\"backgroundcolor\": \"#E5ECF6\", \"gridcolor\": \"white\", \"gridwidth\": 2, \"linecolor\": \"white\", \"showbackground\": true, \"ticks\": \"\", \"zerolinecolor\": \"white\"}, \"zaxis\": {\"backgroundcolor\": \"#E5ECF6\", \"gridcolor\": \"white\", \"gridwidth\": 2, \"linecolor\": \"white\", \"showbackground\": true, \"ticks\": \"\", \"zerolinecolor\": \"white\"}}, \"shapedefaults\": {\"line\": {\"color\": \"#2a3f5f\"}}, \"ternary\": {\"aaxis\": {\"gridcolor\": \"white\", \"linecolor\": \"white\", \"ticks\": \"\"}, \"baxis\": {\"gridcolor\": \"white\", \"linecolor\": \"white\", \"ticks\": \"\"}, \"bgcolor\": \"#E5ECF6\", \"caxis\": {\"gridcolor\": \"white\", \"linecolor\": \"white\", \"ticks\": \"\"}}, \"title\": {\"x\": 0.05}, \"xaxis\": {\"automargin\": true, \"gridcolor\": \"white\", \"linecolor\": \"white\", \"ticks\": \"\", \"title\": {\"standoff\": 15}, \"zerolinecolor\": \"white\", \"zerolinewidth\": 2}, \"yaxis\": {\"automargin\": true, \"gridcolor\": \"white\", \"linecolor\": \"white\", \"ticks\": \"\", \"title\": {\"standoff\": 15}, \"zerolinecolor\": \"white\", \"zerolinewidth\": 2}}}, \"title\": {\"text\": \"PDF\", \"x\": 0.5, \"xanchor\": \"center\", \"y\": 0.9, \"yanchor\": \"top\"}, \"width\": 500, \"xaxis\": {\"anchor\": \"y2\", \"domain\": [0.0, 1.0], \"title\": {\"text\": \"Length of a headline\"}, \"zeroline\": false}, \"yaxis\": {\"anchor\": \"free\", \"domain\": [0.0, 1], \"position\": 0.0, \"title\": {\"text\": \"probability\"}}},\n",
       "                        {\"responsive\": true}\n",
       "                    ).then(function(){\n",
       "                            \n",
       "var gd = document.getElementById('4e880bd9-ce4a-4d38-a9a4-05b0125464df');\n",
       "var x = new MutationObserver(function (mutations, observer) {{\n",
       "        var display = window.getComputedStyle(gd).display;\n",
       "        if (!display || display === 'none') {{\n",
       "            console.log([gd, 'removed!']);\n",
       "            Plotly.purge(gd);\n",
       "            observer.disconnect();\n",
       "        }}\n",
       "}});\n",
       "\n",
       "// Listen for the removal of the full notebook cells\n",
       "var notebookContainer = gd.closest('#notebook-container');\n",
       "if (notebookContainer) {{\n",
       "    x.observe(notebookContainer, {childList: true});\n",
       "}}\n",
       "\n",
       "// Listen for the clearing of the current output cell\n",
       "var outputEl = gd.closest('.output');\n",
       "if (outputEl) {{\n",
       "    x.observe(outputEl, {childList: true});\n",
       "}}\n",
       "\n",
       "                        })\n",
       "                };\n",
       "                });\n",
       "            </script>\n",
       "        </div>"
      ]
     },
     "metadata": {},
     "output_type": "display_data"
    }
   ],
   "source": [
    "fig = ff.create_distplot(\n",
    "            [news_data['headline'].str.len()],\n",
    "            ['ht'],\n",
    "            show_hist=False,\n",
    "            show_rug=False\n",
    "        )\n",
    "fig['layout'].update(\n",
    "        title={\n",
    "            'text': 'PDF',\n",
    "            'y': 0.9,\n",
    "            'x': 0.5,\n",
    "            'xanchor': 'center', \n",
    "            'yanchor': 'top'\n",
    "        },\n",
    "        xaxis_title='Length of a headline',\n",
    "        yaxis_title='probability'\n",
    "        )\n",
    "fig.update_layout(showlegend=False, width=500, height=500)\n",
    "fig"
   ]
  },
  {
   "cell_type": "code",
   "execution_count": null,
   "metadata": {},
   "outputs": [],
   "source": []
  }
 ],
 "metadata": {
  "kernelspec": {
   "display_name": "Python 3.6 - AzureML",
   "language": "python",
   "name": "python3-azureml"
  },
  "language_info": {
   "codemirror_mode": {
    "name": "ipython",
    "version": 3
   },
   "file_extension": ".py",
   "mimetype": "text/x-python",
   "name": "python",
   "nbconvert_exporter": "python",
   "pygments_lexer": "ipython3",
   "version": "3.6.9"
  }
 },
 "nbformat": 4,
 "nbformat_minor": 2
}
