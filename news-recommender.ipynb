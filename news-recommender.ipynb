{
 "cells": [
  {
   "cell_type": "markdown",
   "metadata": {},
   "source": [
    "# News Recommender"
   ]
  },
  {
   "cell_type": "markdown",
   "metadata": {},
   "source": [
    "## Install requirements and import packages"
   ]
  },
  {
   "cell_type": "code",
   "execution_count": 57,
   "metadata": {
    "scrolled": true
   },
   "outputs": [
    {
     "name": "stdout",
     "output_type": "stream",
     "text": [
      "Requirement already satisfied: plotly in /anaconda/envs/azureml_py36/lib/python3.6/site-packages (4.8.1)\n",
      "Requirement already satisfied: six in /anaconda/envs/azureml_py36/lib/python3.6/site-packages (from plotly) (1.12.0)\n",
      "Requirement already satisfied: retrying>=1.3.3 in /anaconda/envs/azureml_py36/lib/python3.6/site-packages (from plotly) (1.3.3)\n",
      "Note: you may need to restart the kernel to use updated packages.\n"
     ]
    }
   ],
   "source": [
    "pip install plotly"
   ]
  },
  {
   "cell_type": "code",
   "execution_count": 58,
   "metadata": {},
   "outputs": [],
   "source": [
    "import os\n",
    "import math\n",
    "import time\n",
    "import numpy as np\n",
    "import pandas as pd\n",
    "from collections import defaultdict\n",
    "\n",
    "import matplotlib.pyplot as plt\n",
    "import seaborn as sns\n",
    "import plotly.figure_factory as ff\n",
    "import plotly.graph_objects as go\n",
    "import plotly.express as px\n",
    "\n",
    "import nltk\n",
    "from nltk.corpus import stopwords\n",
    "from nltk.tokenize import word_tokenize\n",
    "from nltk.stem import WordNetLemmatizer\n",
    "\n",
    "from sklearn.feature_extraction.text import CountVectorizer\n",
    "from sklearn.feature_extraction.text import TfidfVectorizer\n",
    "\n",
    "from sklearn.metrics.pairwise import cosine_similarity\n",
    "from sklearn.metrics import pairwise_distances\n",
    "\n",
    "from tqdm import tqdm"
   ]
  },
  {
   "cell_type": "markdown",
   "metadata": {},
   "source": [
    "## Load Data"
   ]
  },
  {
   "cell_type": "code",
   "execution_count": 59,
   "metadata": {},
   "outputs": [],
   "source": [
    "news_data = pd.read_json(\"News_Category_Dataset_v2.json\", lines=True)"
   ]
  },
  {
   "cell_type": "code",
   "execution_count": 60,
   "metadata": {
    "scrolled": true
   },
   "outputs": [
    {
     "name": "stdout",
     "output_type": "stream",
     "text": [
      "<class 'pandas.core.frame.DataFrame'>\n",
      "RangeIndex: 200853 entries, 0 to 200852\n",
      "Data columns (total 6 columns):\n",
      "authors              200853 non-null object\n",
      "category             200853 non-null object\n",
      "date                 200853 non-null datetime64[ns]\n",
      "headline             200853 non-null object\n",
      "link                 200853 non-null object\n",
      "short_description    200853 non-null object\n",
      "dtypes: datetime64[ns](1), object(5)\n",
      "memory usage: 9.2+ MB\n"
     ]
    }
   ],
   "source": [
    "news_data.info()"
   ]
  },
  {
   "cell_type": "code",
   "execution_count": 61,
   "metadata": {},
   "outputs": [
    {
     "data": {
      "text/html": [
       "<div>\n",
       "<style scoped>\n",
       "    .dataframe tbody tr th:only-of-type {\n",
       "        vertical-align: middle;\n",
       "    }\n",
       "\n",
       "    .dataframe tbody tr th {\n",
       "        vertical-align: top;\n",
       "    }\n",
       "\n",
       "    .dataframe thead th {\n",
       "        text-align: right;\n",
       "    }\n",
       "</style>\n",
       "<table border=\"1\" class=\"dataframe\">\n",
       "  <thead>\n",
       "    <tr style=\"text-align: right;\">\n",
       "      <th></th>\n",
       "      <th>authors</th>\n",
       "      <th>category</th>\n",
       "      <th>date</th>\n",
       "      <th>headline</th>\n",
       "      <th>link</th>\n",
       "      <th>short_description</th>\n",
       "    </tr>\n",
       "  </thead>\n",
       "  <tbody>\n",
       "    <tr>\n",
       "      <th>0</th>\n",
       "      <td>Melissa Jeltsen</td>\n",
       "      <td>CRIME</td>\n",
       "      <td>2018-05-26</td>\n",
       "      <td>There Were 2 Mass Shootings In Texas Last Week, But Only 1 On TV</td>\n",
       "      <td>https://www.huffingtonpost.com/entry/texas-amanda-painter-mass-shooting_us_5b081ab4e4b0802d69caad89</td>\n",
       "      <td>She left her husband. He killed their children. Just another day in America.</td>\n",
       "    </tr>\n",
       "    <tr>\n",
       "      <th>1</th>\n",
       "      <td>Andy McDonald</td>\n",
       "      <td>ENTERTAINMENT</td>\n",
       "      <td>2018-05-26</td>\n",
       "      <td>Will Smith Joins Diplo And Nicky Jam For The 2018 World Cup's Official Song</td>\n",
       "      <td>https://www.huffingtonpost.com/entry/will-smith-joins-diplo-and-nicky-jam-for-the-official-2018-world-cup-song_us_5b09726fe4b0fdb2aa541201</td>\n",
       "      <td>Of course it has a song.</td>\n",
       "    </tr>\n",
       "    <tr>\n",
       "      <th>2</th>\n",
       "      <td>Ron Dicker</td>\n",
       "      <td>ENTERTAINMENT</td>\n",
       "      <td>2018-05-26</td>\n",
       "      <td>Hugh Grant Marries For The First Time At Age 57</td>\n",
       "      <td>https://www.huffingtonpost.com/entry/hugh-grant-marries_us_5b09212ce4b0568a880b9a8c</td>\n",
       "      <td>The actor and his longtime girlfriend Anna Eberstein tied the knot in a civil ceremony.</td>\n",
       "    </tr>\n",
       "    <tr>\n",
       "      <th>3</th>\n",
       "      <td>Ron Dicker</td>\n",
       "      <td>ENTERTAINMENT</td>\n",
       "      <td>2018-05-26</td>\n",
       "      <td>Jim Carrey Blasts 'Castrato' Adam Schiff And Democrats In New Artwork</td>\n",
       "      <td>https://www.huffingtonpost.com/entry/jim-carrey-adam-schiff-democrats_us_5b0950e8e4b0fdb2aa53e675</td>\n",
       "      <td>The actor gives Dems an ass-kicking for not fighting hard enough against Donald Trump.</td>\n",
       "    </tr>\n",
       "    <tr>\n",
       "      <th>4</th>\n",
       "      <td>Ron Dicker</td>\n",
       "      <td>ENTERTAINMENT</td>\n",
       "      <td>2018-05-26</td>\n",
       "      <td>Julianna Margulies Uses Donald Trump Poop Bags To Pick Up After Her Dog</td>\n",
       "      <td>https://www.huffingtonpost.com/entry/julianna-margulies-trump-poop-bag_us_5b093ec2e4b0fdb2aa53df70</td>\n",
       "      <td>The \"Dietland\" actress said using the bags is a \"really cathartic, therapeutic moment.\"</td>\n",
       "    </tr>\n",
       "  </tbody>\n",
       "</table>\n",
       "</div>"
      ],
      "text/plain": [
       "           authors       category       date  \\\n",
       "0  Melissa Jeltsen  CRIME         2018-05-26   \n",
       "1  Andy McDonald    ENTERTAINMENT 2018-05-26   \n",
       "2  Ron Dicker       ENTERTAINMENT 2018-05-26   \n",
       "3  Ron Dicker       ENTERTAINMENT 2018-05-26   \n",
       "4  Ron Dicker       ENTERTAINMENT 2018-05-26   \n",
       "\n",
       "                                                                      headline  \\\n",
       "0  There Were 2 Mass Shootings In Texas Last Week, But Only 1 On TV              \n",
       "1  Will Smith Joins Diplo And Nicky Jam For The 2018 World Cup's Official Song   \n",
       "2  Hugh Grant Marries For The First Time At Age 57                               \n",
       "3  Jim Carrey Blasts 'Castrato' Adam Schiff And Democrats In New Artwork         \n",
       "4  Julianna Margulies Uses Donald Trump Poop Bags To Pick Up After Her Dog       \n",
       "\n",
       "                                                                                                                                         link  \\\n",
       "0  https://www.huffingtonpost.com/entry/texas-amanda-painter-mass-shooting_us_5b081ab4e4b0802d69caad89                                          \n",
       "1  https://www.huffingtonpost.com/entry/will-smith-joins-diplo-and-nicky-jam-for-the-official-2018-world-cup-song_us_5b09726fe4b0fdb2aa541201   \n",
       "2  https://www.huffingtonpost.com/entry/hugh-grant-marries_us_5b09212ce4b0568a880b9a8c                                                          \n",
       "3  https://www.huffingtonpost.com/entry/jim-carrey-adam-schiff-democrats_us_5b0950e8e4b0fdb2aa53e675                                            \n",
       "4  https://www.huffingtonpost.com/entry/julianna-margulies-trump-poop-bag_us_5b093ec2e4b0fdb2aa53df70                                           \n",
       "\n",
       "                                                                         short_description  \n",
       "0  She left her husband. He killed their children. Just another day in America.             \n",
       "1  Of course it has a song.                                                                 \n",
       "2  The actor and his longtime girlfriend Anna Eberstein tied the knot in a civil ceremony.  \n",
       "3  The actor gives Dems an ass-kicking for not fighting hard enough against Donald Trump.   \n",
       "4  The \"Dietland\" actress said using the bags is a \"really cathartic, therapeutic moment.\"  "
      ]
     },
     "execution_count": 61,
     "metadata": {},
     "output_type": "execute_result"
    }
   ],
   "source": [
    "news_data.head()"
   ]
  },
  {
   "cell_type": "markdown",
   "metadata": {},
   "source": [
    "## Preprocessing"
   ]
  },
  {
   "cell_type": "code",
   "execution_count": 62,
   "metadata": {},
   "outputs": [
    {
     "data": {
      "text/plain": [
       "(200853, 6)"
      ]
     },
     "execution_count": 62,
     "metadata": {},
     "output_type": "execute_result"
    }
   ],
   "source": [
    "news_data.shape"
   ]
  },
  {
   "cell_type": "markdown",
   "metadata": {},
   "source": [
    "### Checking article headline word lengths"
   ]
  },
  {
   "cell_type": "code",
   "execution_count": 63,
   "metadata": {},
   "outputs": [],
   "source": [
    "hl_len = defaultdict(int)\n",
    "\n",
    "for h in news_data['headline']:\n",
    "    hl_len[len(h.split())] += 1"
   ]
  },
  {
   "cell_type": "code",
   "execution_count": 64,
   "metadata": {},
   "outputs": [
    {
     "name": "stdout",
     "output_type": "stream",
     "text": [
      "0:6\n",
      "1:256\n",
      "2:1428\n",
      "3:3332\n",
      "4:6068\n",
      "5:9220\n",
      "6:13183\n",
      "7:17168\n",
      "8:21721\n",
      "9:25259\n",
      "10:26682\n",
      "11:24716\n",
      "12:19607\n",
      "13:13688\n",
      "14:8415\n",
      "15:4910\n",
      "16:2631\n",
      "17:1255\n",
      "18:626\n",
      "19:296\n",
      "20:172\n",
      "21:95\n",
      "22:50\n",
      "23:24\n",
      "24:15\n",
      "25:6\n",
      "26:6\n",
      "27:6\n",
      "28:6\n",
      "29:1\n",
      "30:1\n",
      "31:1\n",
      "34:1\n",
      "38:1\n",
      "44:1\n"
     ]
    }
   ],
   "source": [
    "for k in sorted(hl_len):\n",
    "    print('{}:{}'.format(k, hl_len[k]))"
   ]
  },
  {
   "cell_type": "code",
   "execution_count": 65,
   "metadata": {},
   "outputs": [],
   "source": [
    "# Add Graph?"
   ]
  },
  {
   "cell_type": "code",
   "execution_count": 66,
   "metadata": {},
   "outputs": [
    {
     "name": "stdout",
     "output_type": "stream",
     "text": [
      "Total Articles before removal of short title articles: 200853\n",
      "Total Articles after removal of short title articles: 180543\n"
     ]
    }
   ],
   "source": [
    "#Retaining articles with headline word lengths > 5\n",
    "print('Total Articles before removal of short title articles:', news_data.shape[0])\n",
    "news_data = news_data[news_data['headline'].apply(lambda x: len(x.split()) > 5)]\n",
    "print('Total Articles after removal of short title articles:', news_data.shape[0])"
   ]
  },
  {
   "cell_type": "markdown",
   "metadata": {},
   "source": [
    "### Check and remove duplicates"
   ]
  },
  {
   "cell_type": "code",
   "execution_count": 67,
   "metadata": {},
   "outputs": [
    {
     "data": {
      "text/html": [
       "<div>\n",
       "<style scoped>\n",
       "    .dataframe tbody tr th:only-of-type {\n",
       "        vertical-align: middle;\n",
       "    }\n",
       "\n",
       "    .dataframe tbody tr th {\n",
       "        vertical-align: top;\n",
       "    }\n",
       "\n",
       "    .dataframe thead th {\n",
       "        text-align: right;\n",
       "    }\n",
       "</style>\n",
       "<table border=\"1\" class=\"dataframe\">\n",
       "  <thead>\n",
       "    <tr style=\"text-align: right;\">\n",
       "      <th></th>\n",
       "      <th>authors</th>\n",
       "      <th>category</th>\n",
       "      <th>date</th>\n",
       "      <th>headline</th>\n",
       "      <th>link</th>\n",
       "      <th>short_description</th>\n",
       "    </tr>\n",
       "  </thead>\n",
       "  <tbody>\n",
       "    <tr>\n",
       "      <th>0</th>\n",
       "      <td>Melissa Jeltsen</td>\n",
       "      <td>CRIME</td>\n",
       "      <td>2018-05-26</td>\n",
       "      <td>There Were 2 Mass Shootings In Texas Last Week, But Only 1 On TV</td>\n",
       "      <td>https://www.huffingtonpost.com/entry/texas-amanda-painter-mass-shooting_us_5b081ab4e4b0802d69caad89</td>\n",
       "      <td>She left her husband. He killed their children. Just another day in America.</td>\n",
       "    </tr>\n",
       "    <tr>\n",
       "      <th>1</th>\n",
       "      <td>Andy McDonald</td>\n",
       "      <td>ENTERTAINMENT</td>\n",
       "      <td>2018-05-26</td>\n",
       "      <td>Will Smith Joins Diplo And Nicky Jam For The 2018 World Cup's Official Song</td>\n",
       "      <td>https://www.huffingtonpost.com/entry/will-smith-joins-diplo-and-nicky-jam-for-the-official-2018-world-cup-song_us_5b09726fe4b0fdb2aa541201</td>\n",
       "      <td>Of course it has a song.</td>\n",
       "    </tr>\n",
       "    <tr>\n",
       "      <th>2</th>\n",
       "      <td>Ron Dicker</td>\n",
       "      <td>ENTERTAINMENT</td>\n",
       "      <td>2018-05-26</td>\n",
       "      <td>Hugh Grant Marries For The First Time At Age 57</td>\n",
       "      <td>https://www.huffingtonpost.com/entry/hugh-grant-marries_us_5b09212ce4b0568a880b9a8c</td>\n",
       "      <td>The actor and his longtime girlfriend Anna Eberstein tied the knot in a civil ceremony.</td>\n",
       "    </tr>\n",
       "    <tr>\n",
       "      <th>3</th>\n",
       "      <td>Ron Dicker</td>\n",
       "      <td>ENTERTAINMENT</td>\n",
       "      <td>2018-05-26</td>\n",
       "      <td>Jim Carrey Blasts 'Castrato' Adam Schiff And Democrats In New Artwork</td>\n",
       "      <td>https://www.huffingtonpost.com/entry/jim-carrey-adam-schiff-democrats_us_5b0950e8e4b0fdb2aa53e675</td>\n",
       "      <td>The actor gives Dems an ass-kicking for not fighting hard enough against Donald Trump.</td>\n",
       "    </tr>\n",
       "    <tr>\n",
       "      <th>4</th>\n",
       "      <td>Ron Dicker</td>\n",
       "      <td>ENTERTAINMENT</td>\n",
       "      <td>2018-05-26</td>\n",
       "      <td>Julianna Margulies Uses Donald Trump Poop Bags To Pick Up After Her Dog</td>\n",
       "      <td>https://www.huffingtonpost.com/entry/julianna-margulies-trump-poop-bag_us_5b093ec2e4b0fdb2aa53df70</td>\n",
       "      <td>The \"Dietland\" actress said using the bags is a \"really cathartic, therapeutic moment.\"</td>\n",
       "    </tr>\n",
       "    <tr>\n",
       "      <th>5</th>\n",
       "      <td>Ron Dicker</td>\n",
       "      <td>ENTERTAINMENT</td>\n",
       "      <td>2018-05-26</td>\n",
       "      <td>Morgan Freeman 'Devastated' That Sexual Harassment Claims Could Undermine Legacy</td>\n",
       "      <td>https://www.huffingtonpost.com/entry/morgan-freeman-devastated-sexual-misconduct_us_5b096319e4b0802d69cba298</td>\n",
       "      <td>\"It is not right to equate horrific incidents of sexual assault with misplaced compliments or humor,\" he said in a statement.</td>\n",
       "    </tr>\n",
       "    <tr>\n",
       "      <th>6</th>\n",
       "      <td>Ron Dicker</td>\n",
       "      <td>ENTERTAINMENT</td>\n",
       "      <td>2018-05-26</td>\n",
       "      <td>Donald Trump Is Lovin' New McDonald's Jingle In 'Tonight Show' Bit</td>\n",
       "      <td>https://www.huffingtonpost.com/entry/donald-trump-mcondalds-tonight-show_us_5b093561e4b0fdb2aa53daba</td>\n",
       "      <td>It's catchy, all right.</td>\n",
       "    </tr>\n",
       "    <tr>\n",
       "      <th>7</th>\n",
       "      <td>Todd Van Luling</td>\n",
       "      <td>ENTERTAINMENT</td>\n",
       "      <td>2018-05-26</td>\n",
       "      <td>What To Watch On Amazon Prime That’s New This Week</td>\n",
       "      <td>https://www.huffingtonpost.com/entry/amazon-prime-what-to-watch_us_5b044625e4b0c0b8b23ec14f</td>\n",
       "      <td>There's a great mini-series joining this week.</td>\n",
       "    </tr>\n",
       "    <tr>\n",
       "      <th>8</th>\n",
       "      <td>Andy McDonald</td>\n",
       "      <td>ENTERTAINMENT</td>\n",
       "      <td>2018-05-26</td>\n",
       "      <td>Mike Myers Reveals He'd 'Like To' Do A Fourth Austin Powers Film</td>\n",
       "      <td>https://www.huffingtonpost.com/entry/mike-myers-reveals-he-wants-to-do-a-fourth-austin-powers-film_us_5b096198e4b0802d69cb9f15</td>\n",
       "      <td>Myer's kids may be pushing for a new \"Powers\" film more than anyone.</td>\n",
       "    </tr>\n",
       "    <tr>\n",
       "      <th>9</th>\n",
       "      <td>Todd Van Luling</td>\n",
       "      <td>ENTERTAINMENT</td>\n",
       "      <td>2018-05-26</td>\n",
       "      <td>What To Watch On Hulu That’s New This Week</td>\n",
       "      <td>https://www.huffingtonpost.com/entry/hulu-what-to-watch_us_5b0445bae4b0c0b8b23ec046</td>\n",
       "      <td>You're getting a recent Academy Award-winning movie.</td>\n",
       "    </tr>\n",
       "    <tr>\n",
       "      <th>10</th>\n",
       "      <td>Sebastian Murdock</td>\n",
       "      <td>ENTERTAINMENT</td>\n",
       "      <td>2018-05-26</td>\n",
       "      <td>Justin Timberlake Visits Texas School Shooting Victims</td>\n",
       "      <td>https://www.huffingtonpost.com/entry/justin-timberlake-visits-texas-school-shooting-victims_us_5b098161e4b0fdb2aa54167e</td>\n",
       "      <td>The pop star also wore a \"Santa Fe Strong\" shirt at his show in Houston.</td>\n",
       "    </tr>\n",
       "    <tr>\n",
       "      <th>11</th>\n",
       "      <td></td>\n",
       "      <td>WORLD NEWS</td>\n",
       "      <td>2018-05-26</td>\n",
       "      <td>South Korean President Meets North Korea's Kim Jong Un To Talk Trump Summit</td>\n",
       "      <td>https://www.huffingtonpost.com/entry/south-korean-president-meets-north-koreas-kim-jong-un_us_5b094ebae4b0fdb2aa53e504</td>\n",
       "      <td>The two met to pave the way for a summit between North Korean and the U.S.</td>\n",
       "    </tr>\n",
       "    <tr>\n",
       "      <th>12</th>\n",
       "      <td>Karen Pinchin</td>\n",
       "      <td>IMPACT</td>\n",
       "      <td>2018-05-26</td>\n",
       "      <td>With Its Way Of Life At Risk, This Remote Oyster-Growing Region Called In Robots</td>\n",
       "      <td>https://www.huffingtonpost.com/entry/remote-oyster-growing-region-called-in-robots_us_5b083658e4b0fdb2aa53415d</td>\n",
       "      <td>The revolution is coming to rural New Brunswick.</td>\n",
       "    </tr>\n",
       "    <tr>\n",
       "      <th>13</th>\n",
       "      <td>Elise Foley and Roque Planas</td>\n",
       "      <td>POLITICS</td>\n",
       "      <td>2018-05-26</td>\n",
       "      <td>Trump's Crackdown On Immigrant Parents Puts More Kids In An Already Strained System</td>\n",
       "      <td>https://www.huffingtonpost.com/entry/immigrant-children-separated-from-parents_us_5b087b90e4b0802d69cb4070</td>\n",
       "      <td>Last month a Health and Human Services official revealed the government was unable to locate nearly 1,500 children who had been released from its custody.</td>\n",
       "    </tr>\n",
       "    <tr>\n",
       "      <th>14</th>\n",
       "      <td>Michael Isikoff, Yahoo News</td>\n",
       "      <td>POLITICS</td>\n",
       "      <td>2018-05-26</td>\n",
       "      <td>'Trump's Son Should Be Concerned': FBI Obtained Wiretaps Of Putin Ally Who Met With Trump Jr.</td>\n",
       "      <td>https://www.huffingtonpost.com/entry/fbi-wiretaps-putin-ally-trump-jr_us_5b08bf56e4b0568a880b7859</td>\n",
       "      <td>The wiretaps feature conversations between Alexander Torshin and Alexander Romanov, a convicted Russian money launderer.</td>\n",
       "    </tr>\n",
       "    <tr>\n",
       "      <th>15</th>\n",
       "      <td>Mary Papenfuss</td>\n",
       "      <td>POLITICS</td>\n",
       "      <td>2018-05-26</td>\n",
       "      <td>Edward Snowden: There's No One Trump Loves More Than Vladimir Putin</td>\n",
       "      <td>https://www.huffingtonpost.com/entry/edward-snowden-trump-loves-putin_us_5b08ae41e4b0568a880b7451</td>\n",
       "      <td>But don't count on Robert Mueller to nail him, the NSA whistleblower warns.</td>\n",
       "    </tr>\n",
       "    <tr>\n",
       "      <th>16</th>\n",
       "      <td>Mary Papenfuss</td>\n",
       "      <td>POLITICS</td>\n",
       "      <td>2018-05-26</td>\n",
       "      <td>Booyah: Obama Photographer Hilariously Trolls Trump's 'Spy' Claim</td>\n",
       "      <td>https://www.huffingtonpost.com/entry/obama-photog-pete-souza-trolls-trump-spy-claim_us_5b08f77ee4b0568a880b8752</td>\n",
       "      <td>Just a peeping minute.</td>\n",
       "    </tr>\n",
       "    <tr>\n",
       "      <th>17</th>\n",
       "      <td>Laura Bassett</td>\n",
       "      <td>POLITICS</td>\n",
       "      <td>2018-05-26</td>\n",
       "      <td>Ireland Votes To Repeal Abortion Amendment In Landslide Referendum</td>\n",
       "      <td>https://www.huffingtonpost.com/entry/results-for-irelands-historic-abortion-referendum-show-yes-vote-leads_us_5b086497e4b0802d69cb2cff</td>\n",
       "      <td>Irish women will no longer have to travel to the United Kingdom to end their pregnancies.</td>\n",
       "    </tr>\n",
       "    <tr>\n",
       "      <th>18</th>\n",
       "      <td>Chris D'Angelo</td>\n",
       "      <td>POLITICS</td>\n",
       "      <td>2018-05-26</td>\n",
       "      <td>Ryan Zinke Looks To Reel Back Some Critics With 'Grand Pivot' To Conservation</td>\n",
       "      <td>https://www.huffingtonpost.com/entry/ryan-zinke-reel-back-critics-grand-pivot-conservation_us_5b086c78e4b0fdb2aa538b3f</td>\n",
       "      <td>The interior secretary attempts damage control with hunting and fishing groups that didn’t like his fossil fuel focus.</td>\n",
       "    </tr>\n",
       "    <tr>\n",
       "      <th>19</th>\n",
       "      <td>Mary Papenfuss</td>\n",
       "      <td>POLITICS</td>\n",
       "      <td>2018-05-26</td>\n",
       "      <td>Trump's Scottish Golf Resort Pays Women Significantly Less Than Men: Report</td>\n",
       "      <td>https://www.huffingtonpost.com/entry/trump-scottish-golf-resort-pays-women-less-than-men_us_5b08ca29e4b0802d69cb4d37</td>\n",
       "      <td>And there are four times as many male as female executives.</td>\n",
       "    </tr>\n",
       "    <tr>\n",
       "      <th>20</th>\n",
       "      <td>David Moye</td>\n",
       "      <td>WEIRD NEWS</td>\n",
       "      <td>2018-05-26</td>\n",
       "      <td>Weird Father's Day Gifts Your Dad Doesn't Know He Wants (But He Does)</td>\n",
       "      <td>https://www.huffingtonpost.com/entry/weird-fathers-day-gifts-2018_us_5b05bf18e4b05f0fc84438f6</td>\n",
       "      <td>Why buy a boring tie when you can give him testicle plush toys?</td>\n",
       "    </tr>\n",
       "    <tr>\n",
       "      <th>21</th>\n",
       "      <td>Andy McDonald</td>\n",
       "      <td>ENTERTAINMENT</td>\n",
       "      <td>2018-05-26</td>\n",
       "      <td>Twitter #PutStarWarsInOtherFilms And It Was Universally Entertaining</td>\n",
       "      <td>https://www.huffingtonpost.com/entry/twitter-put-star-wars-in-other-films_us_5b098875e4b0568a880be92c</td>\n",
       "      <td>There's no such thing as too much \"Star Wars.\"</td>\n",
       "    </tr>\n",
       "    <tr>\n",
       "      <th>22</th>\n",
       "      <td>Hilary Hanson</td>\n",
       "      <td>WEIRD NEWS</td>\n",
       "      <td>2018-05-26</td>\n",
       "      <td>Mystery 'Wolf-Like' Animal Reportedly Shot In Montana, Baffles Wildlife Officials</td>\n",
       "      <td>https://www.huffingtonpost.com/entry/montana-wolf-like-animal-mystery_us_5b04533de4b003dc7e4708af</td>\n",
       "      <td>“We have no idea what this was until we get a DNA report back.\"</td>\n",
       "    </tr>\n",
       "    <tr>\n",
       "      <th>23</th>\n",
       "      <td>Josh Smith and Christine Kim, Reuters</td>\n",
       "      <td>WORLD NEWS</td>\n",
       "      <td>2018-05-25</td>\n",
       "      <td>North Korea Still Open To Talks After Trump Cancels Summit</td>\n",
       "      <td>https://www.huffingtonpost.com/entry/north-korea-reax-canceled-summit_us_5b07a93de4b0568a8809ccf2</td>\n",
       "      <td>Trump’s announcement came after repeated threats by North Korea to pull out of the summit over what it saw as confrontational remarks by U.S. officials.</td>\n",
       "    </tr>\n",
       "    <tr>\n",
       "      <th>24</th>\n",
       "      <td></td>\n",
       "      <td>WORLD NEWS</td>\n",
       "      <td>2018-05-25</td>\n",
       "      <td>2 Men Detonate Bomb Inside Indian Restaurant Near Toronto, Authorities Say</td>\n",
       "      <td>https://www.huffingtonpost.com/entry/mississauga-canada-restaurant-bombing_us_5b079d47e4b0fdb2aa51f4dd</td>\n",
       "      <td>Fifteen people were taken to the hospital, three of them with critical injuries.</td>\n",
       "    </tr>\n",
       "    <tr>\n",
       "      <th>25</th>\n",
       "      <td>Antonia Blumberg</td>\n",
       "      <td>WORLD NEWS</td>\n",
       "      <td>2018-05-25</td>\n",
       "      <td>Thousands Travel Home To Ireland To Vote On Abortion Access</td>\n",
       "      <td>https://www.huffingtonpost.com/entry/irish-traveled-home-vote-abortion_us_5b083753e4b0802d69cae69a</td>\n",
       "      <td>Just try to read these #HomeToVote tweets without crying.</td>\n",
       "    </tr>\n",
       "    <tr>\n",
       "      <th>26</th>\n",
       "      <td></td>\n",
       "      <td>WORLD NEWS</td>\n",
       "      <td>2018-05-25</td>\n",
       "      <td>Irish Voters Set To Liberalize Abortion Laws In Landslide, Exit Poll Signals</td>\n",
       "      <td>https://www.huffingtonpost.com/entry/ireland-abortion-vote-exit-poll_us_5b087cebe4b0802d69cb40f1</td>\n",
       "      <td>Vote counting will begin Saturday.</td>\n",
       "    </tr>\n",
       "    <tr>\n",
       "      <th>27</th>\n",
       "      <td>Sebastian Murdock</td>\n",
       "      <td>BLACK VOICES</td>\n",
       "      <td>2018-05-25</td>\n",
       "      <td>Warriors Coach Steve Kerr Calls NFL Ban On Protests 'Fake Patriotism'</td>\n",
       "      <td>https://www.huffingtonpost.com/entry/warriors-coach-steve-kerr-nfl-ban-protests-fake-patriotism_us_5b082c41e4b0802d69cad469</td>\n",
       "      <td>Forbidding players to take a knee during the national anthem is “idiotic,” the coach said.</td>\n",
       "    </tr>\n",
       "    <tr>\n",
       "      <th>28</th>\n",
       "      <td>Kenya Downs</td>\n",
       "      <td>BLACK VOICES</td>\n",
       "      <td>2018-05-25</td>\n",
       "      <td>In Historic Victory, Barbados Elects First Female Prime Minister</td>\n",
       "      <td>https://www.huffingtonpost.com/entry/mia-victory-barbados-elects-first-female-prime-minister-amor-mottley_us_5b0832eae4b0802d69cae087</td>\n",
       "      <td>Mia Amor Mottley even earned the backing of the country's most recognizable national: Rihanna.</td>\n",
       "    </tr>\n",
       "    <tr>\n",
       "      <th>29</th>\n",
       "      <td>Sebastian Murdock</td>\n",
       "      <td>BLACK VOICES</td>\n",
       "      <td>2018-05-25</td>\n",
       "      <td>Police Killed At Least 378 Black Americans From The Moment Colin Kaepernick Protested</td>\n",
       "      <td>https://www.huffingtonpost.com/entry/police-killed-378-black-americans-colin-kaepernick_us_5b070160e4b07c4ea10655be</td>\n",
       "      <td>These Americans deserve to be more than another statistic.</td>\n",
       "    </tr>\n",
       "    <tr>\n",
       "      <th>...</th>\n",
       "      <td>...</td>\n",
       "      <td>...</td>\n",
       "      <td>...</td>\n",
       "      <td>...</td>\n",
       "      <td>...</td>\n",
       "      <td>...</td>\n",
       "    </tr>\n",
       "    <tr>\n",
       "      <th>200820</th>\n",
       "      <td>Thomas Greenwald, Contributor\\nPartner, GoransonBain</td>\n",
       "      <td>QUEER VOICES</td>\n",
       "      <td>2012-01-28</td>\n",
       "      <td>Gay Divorce: How the Collaborative Family Law Model Can Help Parting LGBT Couples</td>\n",
       "      <td>https://www.huffingtonpost.com/entry/gay-divorce-collaborative-family-law-model_us_5baf9f88e4b0ad76925ef918</td>\n",
       "      <td>One of the many unjust results of a state legal system that refuses to recognize and validate a same-sex marriage or civil union is the absence of a binding structure and system for dissolving a fractured same-sex couple.</td>\n",
       "    </tr>\n",
       "    <tr>\n",
       "      <th>200821</th>\n",
       "      <td>The Six Pack, Contributor\\nRadio show hosted by DJ Ben Harvey and comedian Dave Rubin</td>\n",
       "      <td>QUEER VOICES</td>\n",
       "      <td>2012-01-28</td>\n",
       "      <td>Episode 87: Life Is a Highway (AUDIO)</td>\n",
       "      <td>https://www.huffingtonpost.com/entry/the-six-pack-life-is-a-highway_us_5baf9f89e4b0ad76925ef921</td>\n",
       "      <td>On this episode of The Six Pack, we hit up the biggest car show around, the North American International Auto Show in Detroit.</td>\n",
       "    </tr>\n",
       "    <tr>\n",
       "      <th>200822</th>\n",
       "      <td></td>\n",
       "      <td>QUEER VOICES</td>\n",
       "      <td>2012-01-28</td>\n",
       "      <td>Something To Celebrate: The Best LGBT Moments Of The Week January 23 - January 27</td>\n",
       "      <td>https://www.huffingtonpost.com/entry/something-to-celebrate-best-gay-january-23-27_us_5baf9f93e4b0ad76925ef954</td>\n",
       "      <td>Every other week we'll take a look at a few of the most exciting and inspirational stories from the previous week or two</td>\n",
       "    </tr>\n",
       "    <tr>\n",
       "      <th>200823</th>\n",
       "      <td>Michelangelo Signorile, Columnist</td>\n",
       "      <td>QUEER VOICES</td>\n",
       "      <td>2012-01-28</td>\n",
       "      <td>Chris Gregoire, Washington State Governor, Discusses Gay Marriage, Chris Christie, And More</td>\n",
       "      <td>https://www.huffingtonpost.com/entry/chris-gregoire-washington-governor-gay-marriage_us_5baf9f93e4b0ad76925ef960</td>\n",
       "      <td>Regarding her own journey Gregoire said: “I wished I could have come to the point that I am today six years ago, seven years</td>\n",
       "    </tr>\n",
       "    <tr>\n",
       "      <th>200824</th>\n",
       "      <td></td>\n",
       "      <td>QUEER VOICES</td>\n",
       "      <td>2012-01-28</td>\n",
       "      <td>Glenn Close On 'Albert Nobbs', Gender Bending And 'Damages'</td>\n",
       "      <td>https://www.huffingtonpost.comhttp://www.windycitymediagroup.com/gay/lesbian/news/ARTICLE.php?AID=35843</td>\n",
       "      <td>Twenty-four hours before the Golden Globes ceremony, for which she's been nominated as Best Actress in a Motion Picture Drama</td>\n",
       "    </tr>\n",
       "    <tr>\n",
       "      <th>200826</th>\n",
       "      <td>Sarah Costa, Contributor\\nExecutive Director of Women's Refugee Commission</td>\n",
       "      <td>IMPACT</td>\n",
       "      <td>2012-01-28</td>\n",
       "      <td>Pregnant and Displaced: Double the Danger</td>\n",
       "      <td>https://www.huffingtonpost.com/entry/maternal-health-care_us_5bb18dd3e4b01857b707cfd2</td>\n",
       "      <td>It's time we all step up our efforts to ensure that women everywhere can decide freely if and when they want to have children, that all mothers can deliver their babies safely and services are available for women who have suffered violence.</td>\n",
       "    </tr>\n",
       "    <tr>\n",
       "      <th>200827</th>\n",
       "      <td></td>\n",
       "      <td>IMPACT</td>\n",
       "      <td>2012-01-28</td>\n",
       "      <td>Tom Brady Helps Mentor, Tom Martinez, Find A Kidney Match</td>\n",
       "      <td>https://www.huffingtonpost.com/entry/tom-brady-helps-mentor-to_us_5bb18ddbe4b01857b707d109</td>\n",
       "      <td>Since Brady started promoting Martinez's cause, 100 people have registered with Matching Donors and two matched with recipients</td>\n",
       "    </tr>\n",
       "    <tr>\n",
       "      <th>200828</th>\n",
       "      <td></td>\n",
       "      <td>ENVIRONMENT</td>\n",
       "      <td>2012-01-28</td>\n",
       "      <td>Boxer Puppy And Cows Make Friends During Walk In Newcastle (VIDEO)</td>\n",
       "      <td>https://www.huffingtonpost.com/entry/boxer-puppy-cows-make-friends_us_5bb1088be4b09bbe9a596f79</td>\n",
       "      <td>This bevy of otters were also filmed having a pretty fun time with an unlucky butterfly that had made its way into the otters</td>\n",
       "    </tr>\n",
       "    <tr>\n",
       "      <th>200829</th>\n",
       "      <td></td>\n",
       "      <td>ENVIRONMENT</td>\n",
       "      <td>2012-01-28</td>\n",
       "      <td>'Black Smoker' Vents: New Species Discovered Near Deepest Undersea Hot Springs (PHOTOS)</td>\n",
       "      <td>https://www.huffingtonpost.com/entry/black-smoker-vents-new-species_us_5bb10820e4b09bbe9a596463</td>\n",
       "      <td>Photos and captions courtesy of University of Southampton and NOC. Connelly's co-leader, marine biologist Dr. Jon Copley</td>\n",
       "    </tr>\n",
       "    <tr>\n",
       "      <th>200831</th>\n",
       "      <td></td>\n",
       "      <td>ENVIRONMENT</td>\n",
       "      <td>2012-01-28</td>\n",
       "      <td>Winter Weather Photo Contest: Submit Your Own Pictures</td>\n",
       "      <td>https://www.huffingtonpost.com/entry/winter-weather-photo-contest_us_5bb10a6ae4b09bbe9a598a89</td>\n",
       "      <td>While severe winter weather has devastated some regions around the world, other storms have created visually stunning scenes</td>\n",
       "    </tr>\n",
       "    <tr>\n",
       "      <th>200832</th>\n",
       "      <td></td>\n",
       "      <td>ENVIRONMENT</td>\n",
       "      <td>2012-01-28</td>\n",
       "      <td>Insects Top Newly Discovered Species List</td>\n",
       "      <td>https://www.huffingtonpost.com/entry/insects-top-newly-discove_us_5bb10a81e4b09bbe9a598ba4</td>\n",
       "      <td>Species IDs need improvement In addition to the new report, the species institute is releasing a Retro State of Observed</td>\n",
       "    </tr>\n",
       "    <tr>\n",
       "      <th>200833</th>\n",
       "      <td>Dennis Santiago, Contributor\\nGlobal Risk and Financial Analyst</td>\n",
       "      <td>BUSINESS</td>\n",
       "      <td>2012-01-28</td>\n",
       "      <td>Four More Bank Closures Mark the Week of January 27, 2012</td>\n",
       "      <td>https://www.huffingtonpost.com/entry/four-more-bank-closures-m_us_5bb2b3b2e4b0480ca659c35c</td>\n",
       "      <td>The general pattern of the FDIC closing banks with weak operating characteristics and deepening asset quality troubles continues. The FDIC shuttered four additional banks today bringing the 2012 count to seven.</td>\n",
       "    </tr>\n",
       "    <tr>\n",
       "      <th>200834</th>\n",
       "      <td>Harry Bradford</td>\n",
       "      <td>BUSINESS</td>\n",
       "      <td>2012-01-28</td>\n",
       "      <td>Everything You Need To Know About Overdraft Fees [GRAPHIC]</td>\n",
       "      <td>https://www.huffingtonpost.com/entry/bank-fees-a-visual-guide-overdraft-fees_us_5bb2b3abe4b0480ca659c110</td>\n",
       "      <td>Don't like keeping all of your money stuffed underneath the mattress? That could cost you a pretty penny. Here's all the</td>\n",
       "    </tr>\n",
       "    <tr>\n",
       "      <th>200835</th>\n",
       "      <td></td>\n",
       "      <td>BUSINESS</td>\n",
       "      <td>2012-01-28</td>\n",
       "      <td>Walmart Waving Goodbye To Some Greeters</td>\n",
       "      <td>https://www.huffingtonpost.comhttp://jobs.aol.com/articles/2012/01/27/walmart-greeters-will-no-longer-greet-at-the-door/</td>\n",
       "      <td>After 30 years, \"People Greeters\" will no longer welcome Walmart customers with a \"cart and a smile.\" Four months after Walmart</td>\n",
       "    </tr>\n",
       "    <tr>\n",
       "      <th>200836</th>\n",
       "      <td>Peter S. Goodman, Contributor\\nExecutive Business and Global News Editor, The Huffington Post</td>\n",
       "      <td>BUSINESS</td>\n",
       "      <td>2012-01-28</td>\n",
       "      <td>At World Economic Forum, Fear of Global Contagion Dominates</td>\n",
       "      <td>https://www.huffingtonpost.com/entry/world-economic-forum-global-financial-crisis-davos_us_5bb2b3b6e4b0480ca659c4ea</td>\n",
       "      <td>For decades, as crises have assailed developing countries from Indonesia to Argentina, the powers-that-be in the United States</td>\n",
       "    </tr>\n",
       "    <tr>\n",
       "      <th>200837</th>\n",
       "      <td>Ernan Roman, Contributor\\nPresident</td>\n",
       "      <td>BUSINESS</td>\n",
       "      <td>2012-01-28</td>\n",
       "      <td>Positive Customer Experience: What's the Return on Investment?</td>\n",
       "      <td>https://www.huffingtonpost.com/entry/positive-customer-experie_us_5bb2b329e4b0480ca659a6d1</td>\n",
       "      <td>\"Analysts at Adobe combined historical purchase and upgrade data with survey data and found that customers with the highest</td>\n",
       "    </tr>\n",
       "    <tr>\n",
       "      <th>200838</th>\n",
       "      <td>Courtney Garcia, Contributor\\nI tell stories and drink wine.</td>\n",
       "      <td>ENTERTAINMENT</td>\n",
       "      <td>2012-01-28</td>\n",
       "      <td>Sundance, Ice-T, and Shades of the American Race in Cinema</td>\n",
       "      <td>https://www.huffingtonpost.com/entry/sundance-ice-t-and-shades_us_5bb3e3c5e4b066f8d2513a4e</td>\n",
       "      <td>Representation of the collective diaspora has always been thwarted by our need to classify films according to races other than white. Still, while labels can be debilitating, they can also be manipulated.</td>\n",
       "    </tr>\n",
       "    <tr>\n",
       "      <th>200839</th>\n",
       "      <td></td>\n",
       "      <td>ENTERTAINMENT</td>\n",
       "      <td>2012-01-28</td>\n",
       "      <td>'Girl With the Dragon Tattoo' India Release Canceled After Local Censor Board Deemed Film 'Unsuitable'</td>\n",
       "      <td>https://www.huffingtonpost.com/entry/girl-with-the-dragon-tattoo-india_us_5bb3e3f1e4b066f8d2513c8e</td>\n",
       "      <td>\"Sony Pictures will not be releasing The Girl with the Dragon Tattoo in India. The Censor Board has adjudged the film unsuitable</td>\n",
       "    </tr>\n",
       "    <tr>\n",
       "      <th>200840</th>\n",
       "      <td>Kia Makarechi</td>\n",
       "      <td>CULTURE &amp; ARTS</td>\n",
       "      <td>2012-01-28</td>\n",
       "      <td>'Don't Think': A Look At The Chemical Brothers' Concert Film, Set To Hit Theaters</td>\n",
       "      <td>https://www.huffingtonpost.com/entry/dont-think-the-chemical-brothers-concert_us_5bb21e37e4b0171db69d5bf6</td>\n",
       "      <td>Amid cheers and the occasional \"Here we go!\" from the theater's speakers, the duo danced alone for a few songs. Eventually</td>\n",
       "    </tr>\n",
       "    <tr>\n",
       "      <th>200841</th>\n",
       "      <td></td>\n",
       "      <td>CULTURE &amp; ARTS</td>\n",
       "      <td>2012-01-28</td>\n",
       "      <td>Matthew Marks Discusses His New LA Gallery</td>\n",
       "      <td>https://www.huffingtonpost.com/entry/matthew-marks-discusses-his-new-gallery_us_5bb21e76e4b0171db69d600c</td>\n",
       "      <td>Was it an obvious choice to recruit Ellsworth Kelly for your inaugural exhibition, this being his 15th solo show with Matthew</td>\n",
       "    </tr>\n",
       "    <tr>\n",
       "      <th>200842</th>\n",
       "      <td></td>\n",
       "      <td>CULTURE &amp; ARTS</td>\n",
       "      <td>2012-01-28</td>\n",
       "      <td>Allard Van Hoorn's 'Urban Songline' Explores Relationship Between Sound, Space and Materials (PHOTOS, VIDEO)</td>\n",
       "      <td>https://www.huffingtonpost.com/entry/allard-van-hoorns-007_us_5bb21eb3e4b0171db69d6144</td>\n",
       "      <td>A recent exhibition at Storefront for Art and Architecture is shifting the connection between song and space from the nomadic</td>\n",
       "    </tr>\n",
       "    <tr>\n",
       "      <th>200843</th>\n",
       "      <td>Mateo Gutierrez, Contributor\\nArtist</td>\n",
       "      <td>TECH</td>\n",
       "      <td>2012-01-28</td>\n",
       "      <td>Good Games -- Is It possible?</td>\n",
       "      <td>https://www.huffingtonpost.com/entry/games-for-change_us_5bb34b30e4b0fa920b95bab3</td>\n",
       "      <td>I don't think people who play Zynga games are bad. Just like I don't think the grandma in Vegas is bad. They're just sad.</td>\n",
       "    </tr>\n",
       "    <tr>\n",
       "      <th>200844</th>\n",
       "      <td>Larry Magid, Contributor\\nTechnology journalist</td>\n",
       "      <td>TECH</td>\n",
       "      <td>2012-01-28</td>\n",
       "      <td>Google+ Now Open for Teens With Some Safeguards</td>\n",
       "      <td>https://www.huffingtonpost.com/entry/google-plus-safety_us_5bb34b7de4b0fa920b95c2d7</td>\n",
       "      <td>For the most part, teens' experience on Google+ will be just like adults, but there are some special safeguards for users under 18. Google didn't put any major breaks on teens -- it's giving them freedom, but it did make some default settings for teens more restrictive.</td>\n",
       "    </tr>\n",
       "    <tr>\n",
       "      <th>200846</th>\n",
       "      <td></td>\n",
       "      <td>TECH</td>\n",
       "      <td>2012-01-28</td>\n",
       "      <td>First White House Chief Technology Officer, Aneesh Chopra, Steps Down</td>\n",
       "      <td>https://www.huffingtonpost.comhttp://www.engadget.com/2012/01/27/first-white-house-chief-technology-officer-aneesh-chopra-steps/</td>\n",
       "      <td>He was appointed with a fair bit of fanfare as the United States' first Chief Technology Officer back in May of 2009, but</td>\n",
       "    </tr>\n",
       "    <tr>\n",
       "      <th>200847</th>\n",
       "      <td>Catharine Smith</td>\n",
       "      <td>TECH</td>\n",
       "      <td>2012-01-28</td>\n",
       "      <td>Watch The Top 9 YouTube Videos Of The Week</td>\n",
       "      <td>https://www.huffingtonpost.com/entry/watch-top-youtube-videos_us_5bb34b88e4b0fa920b95c42a</td>\n",
       "      <td>If you're looking to see the most popular YouTube videos of the week, look no further. Once again, we're bringing you the</td>\n",
       "    </tr>\n",
       "    <tr>\n",
       "      <th>200848</th>\n",
       "      <td>Reuters, Reuters</td>\n",
       "      <td>TECH</td>\n",
       "      <td>2012-01-28</td>\n",
       "      <td>RIM CEO Thorsten Heins' 'Significant' Plans For BlackBerry</td>\n",
       "      <td>https://www.huffingtonpost.com/entry/rim-ceo-thorsten-heins_us_5bb34b8ce4b0fa920b95c4e1</td>\n",
       "      <td>Verizon Wireless and AT&amp;T are already promoting LTE devices including smartphones and tablets from RIM's rivals. RIM's first</td>\n",
       "    </tr>\n",
       "    <tr>\n",
       "      <th>200849</th>\n",
       "      <td></td>\n",
       "      <td>SPORTS</td>\n",
       "      <td>2012-01-28</td>\n",
       "      <td>Maria Sharapova Stunned By Victoria Azarenka In Australian Open Final</td>\n",
       "      <td>https://www.huffingtonpost.com/entry/maria-sharapova-stunned-victoria-azarenka-australian-open_us_5bb69b21e4b097869fd1b2f1</td>\n",
       "      <td>Afterward, Azarenka, more effusive with the press than normal, credited her coach of two years, Sam Sumyk, for his patient</td>\n",
       "    </tr>\n",
       "    <tr>\n",
       "      <th>200850</th>\n",
       "      <td></td>\n",
       "      <td>SPORTS</td>\n",
       "      <td>2012-01-28</td>\n",
       "      <td>Giants Over Patriots, Jets Over Colts Among  Most Improbable Super Bowl Upsets Of All Time (VIDEOS)</td>\n",
       "      <td>https://www.huffingtonpost.com/entry/super-bowl-upsets-the-mos_us_5bb69b1de4b097869fd1b26d</td>\n",
       "      <td>Leading up to Super Bowl XLVI, the most talked about game could end up being one that occurred a few years ago. After all</td>\n",
       "    </tr>\n",
       "    <tr>\n",
       "      <th>200851</th>\n",
       "      <td></td>\n",
       "      <td>SPORTS</td>\n",
       "      <td>2012-01-28</td>\n",
       "      <td>Aldon Smith Arrested: 49ers Linebacker Busted For DUI</td>\n",
       "      <td>https://www.huffingtonpost.com/entry/aldon-smith-arrested-dui-49ers_us_5bb69b25e4b097869fd1b33c</td>\n",
       "      <td>CORRECTION: An earlier version of this story incorrectly stated the location of KTVU and the 2011 league leader in sacks</td>\n",
       "    </tr>\n",
       "    <tr>\n",
       "      <th>200852</th>\n",
       "      <td></td>\n",
       "      <td>SPORTS</td>\n",
       "      <td>2012-01-28</td>\n",
       "      <td>Dwight Howard Rips Teammates After Magic Loss To Hornets</td>\n",
       "      <td>https://www.huffingtonpost.com/entry/dwight-howard-rips-teammates-magic-hornets_us_5bb69b24e4b097869fd1b331</td>\n",
       "      <td>The five-time all-star center tore into his teammates Friday night after Orlando committed 23 turnovers en route to losing</td>\n",
       "    </tr>\n",
       "  </tbody>\n",
       "</table>\n",
       "<p>180543 rows × 6 columns</p>\n",
       "</div>"
      ],
      "text/plain": [
       "                                                                                              authors  \\\n",
       "0       Melissa Jeltsen                                                                                 \n",
       "1       Andy McDonald                                                                                   \n",
       "2       Ron Dicker                                                                                      \n",
       "3       Ron Dicker                                                                                      \n",
       "4       Ron Dicker                                                                                      \n",
       "5       Ron Dicker                                                                                      \n",
       "6       Ron Dicker                                                                                      \n",
       "7       Todd Van Luling                                                                                 \n",
       "8       Andy McDonald                                                                                   \n",
       "9       Todd Van Luling                                                                                 \n",
       "10      Sebastian Murdock                                                                               \n",
       "11                                                                                                      \n",
       "12      Karen Pinchin                                                                                   \n",
       "13      Elise Foley and Roque Planas                                                                    \n",
       "14      Michael Isikoff, Yahoo News                                                                     \n",
       "15      Mary Papenfuss                                                                                  \n",
       "16      Mary Papenfuss                                                                                  \n",
       "17      Laura Bassett                                                                                   \n",
       "18      Chris D'Angelo                                                                                  \n",
       "19      Mary Papenfuss                                                                                  \n",
       "20      David Moye                                                                                      \n",
       "21      Andy McDonald                                                                                   \n",
       "22      Hilary Hanson                                                                                   \n",
       "23      Josh Smith and Christine Kim, Reuters                                                           \n",
       "24                                                                                                      \n",
       "25      Antonia Blumberg                                                                                \n",
       "26                                                                                                      \n",
       "27      Sebastian Murdock                                                                               \n",
       "28      Kenya Downs                                                                                     \n",
       "29      Sebastian Murdock                                                                               \n",
       "...                   ...                                                                               \n",
       "200820  Thomas Greenwald, Contributor\\nPartner, GoransonBain                                            \n",
       "200821  The Six Pack, Contributor\\nRadio show hosted by DJ Ben Harvey and comedian Dave Rubin           \n",
       "200822                                                                                                  \n",
       "200823  Michelangelo Signorile, Columnist                                                               \n",
       "200824                                                                                                  \n",
       "200826  Sarah Costa, Contributor\\nExecutive Director of Women's Refugee Commission                      \n",
       "200827                                                                                                  \n",
       "200828                                                                                                  \n",
       "200829                                                                                                  \n",
       "200831                                                                                                  \n",
       "200832                                                                                                  \n",
       "200833  Dennis Santiago, Contributor\\nGlobal Risk and Financial Analyst                                 \n",
       "200834  Harry Bradford                                                                                  \n",
       "200835                                                                                                  \n",
       "200836  Peter S. Goodman, Contributor\\nExecutive Business and Global News Editor, The Huffington Post   \n",
       "200837  Ernan Roman, Contributor\\nPresident                                                             \n",
       "200838  Courtney Garcia, Contributor\\nI tell stories and drink wine.                                    \n",
       "200839                                                                                                  \n",
       "200840  Kia Makarechi                                                                                   \n",
       "200841                                                                                                  \n",
       "200842                                                                                                  \n",
       "200843  Mateo Gutierrez, Contributor\\nArtist                                                            \n",
       "200844  Larry Magid, Contributor\\nTechnology journalist                                                 \n",
       "200846                                                                                                  \n",
       "200847  Catharine Smith                                                                                 \n",
       "200848  Reuters, Reuters                                                                                \n",
       "200849                                                                                                  \n",
       "200850                                                                                                  \n",
       "200851                                                                                                  \n",
       "200852                                                                                                  \n",
       "\n",
       "              category       date  \\\n",
       "0       CRIME          2018-05-26   \n",
       "1       ENTERTAINMENT  2018-05-26   \n",
       "2       ENTERTAINMENT  2018-05-26   \n",
       "3       ENTERTAINMENT  2018-05-26   \n",
       "4       ENTERTAINMENT  2018-05-26   \n",
       "5       ENTERTAINMENT  2018-05-26   \n",
       "6       ENTERTAINMENT  2018-05-26   \n",
       "7       ENTERTAINMENT  2018-05-26   \n",
       "8       ENTERTAINMENT  2018-05-26   \n",
       "9       ENTERTAINMENT  2018-05-26   \n",
       "10      ENTERTAINMENT  2018-05-26   \n",
       "11      WORLD NEWS     2018-05-26   \n",
       "12      IMPACT         2018-05-26   \n",
       "13      POLITICS       2018-05-26   \n",
       "14      POLITICS       2018-05-26   \n",
       "15      POLITICS       2018-05-26   \n",
       "16      POLITICS       2018-05-26   \n",
       "17      POLITICS       2018-05-26   \n",
       "18      POLITICS       2018-05-26   \n",
       "19      POLITICS       2018-05-26   \n",
       "20      WEIRD NEWS     2018-05-26   \n",
       "21      ENTERTAINMENT  2018-05-26   \n",
       "22      WEIRD NEWS     2018-05-26   \n",
       "23      WORLD NEWS     2018-05-25   \n",
       "24      WORLD NEWS     2018-05-25   \n",
       "25      WORLD NEWS     2018-05-25   \n",
       "26      WORLD NEWS     2018-05-25   \n",
       "27      BLACK VOICES   2018-05-25   \n",
       "28      BLACK VOICES   2018-05-25   \n",
       "29      BLACK VOICES   2018-05-25   \n",
       "...              ...          ...   \n",
       "200820  QUEER VOICES   2012-01-28   \n",
       "200821  QUEER VOICES   2012-01-28   \n",
       "200822  QUEER VOICES   2012-01-28   \n",
       "200823  QUEER VOICES   2012-01-28   \n",
       "200824  QUEER VOICES   2012-01-28   \n",
       "200826  IMPACT         2012-01-28   \n",
       "200827  IMPACT         2012-01-28   \n",
       "200828  ENVIRONMENT    2012-01-28   \n",
       "200829  ENVIRONMENT    2012-01-28   \n",
       "200831  ENVIRONMENT    2012-01-28   \n",
       "200832  ENVIRONMENT    2012-01-28   \n",
       "200833  BUSINESS       2012-01-28   \n",
       "200834  BUSINESS       2012-01-28   \n",
       "200835  BUSINESS       2012-01-28   \n",
       "200836  BUSINESS       2012-01-28   \n",
       "200837  BUSINESS       2012-01-28   \n",
       "200838  ENTERTAINMENT  2012-01-28   \n",
       "200839  ENTERTAINMENT  2012-01-28   \n",
       "200840  CULTURE & ARTS 2012-01-28   \n",
       "200841  CULTURE & ARTS 2012-01-28   \n",
       "200842  CULTURE & ARTS 2012-01-28   \n",
       "200843  TECH           2012-01-28   \n",
       "200844  TECH           2012-01-28   \n",
       "200846  TECH           2012-01-28   \n",
       "200847  TECH           2012-01-28   \n",
       "200848  TECH           2012-01-28   \n",
       "200849  SPORTS         2012-01-28   \n",
       "200850  SPORTS         2012-01-28   \n",
       "200851  SPORTS         2012-01-28   \n",
       "200852  SPORTS         2012-01-28   \n",
       "\n",
       "                                                                                                            headline  \\\n",
       "0       There Were 2 Mass Shootings In Texas Last Week, But Only 1 On TV                                               \n",
       "1       Will Smith Joins Diplo And Nicky Jam For The 2018 World Cup's Official Song                                    \n",
       "2       Hugh Grant Marries For The First Time At Age 57                                                                \n",
       "3       Jim Carrey Blasts 'Castrato' Adam Schiff And Democrats In New Artwork                                          \n",
       "4       Julianna Margulies Uses Donald Trump Poop Bags To Pick Up After Her Dog                                        \n",
       "5       Morgan Freeman 'Devastated' That Sexual Harassment Claims Could Undermine Legacy                               \n",
       "6       Donald Trump Is Lovin' New McDonald's Jingle In 'Tonight Show' Bit                                             \n",
       "7       What To Watch On Amazon Prime That’s New This Week                                                             \n",
       "8       Mike Myers Reveals He'd 'Like To' Do A Fourth Austin Powers Film                                               \n",
       "9       What To Watch On Hulu That’s New This Week                                                                     \n",
       "10      Justin Timberlake Visits Texas School Shooting Victims                                                         \n",
       "11      South Korean President Meets North Korea's Kim Jong Un To Talk Trump Summit                                    \n",
       "12      With Its Way Of Life At Risk, This Remote Oyster-Growing Region Called In Robots                               \n",
       "13      Trump's Crackdown On Immigrant Parents Puts More Kids In An Already Strained System                            \n",
       "14      'Trump's Son Should Be Concerned': FBI Obtained Wiretaps Of Putin Ally Who Met With Trump Jr.                  \n",
       "15      Edward Snowden: There's No One Trump Loves More Than Vladimir Putin                                            \n",
       "16      Booyah: Obama Photographer Hilariously Trolls Trump's 'Spy' Claim                                              \n",
       "17      Ireland Votes To Repeal Abortion Amendment In Landslide Referendum                                             \n",
       "18      Ryan Zinke Looks To Reel Back Some Critics With 'Grand Pivot' To Conservation                                  \n",
       "19      Trump's Scottish Golf Resort Pays Women Significantly Less Than Men: Report                                    \n",
       "20      Weird Father's Day Gifts Your Dad Doesn't Know He Wants (But He Does)                                          \n",
       "21      Twitter #PutStarWarsInOtherFilms And It Was Universally Entertaining                                           \n",
       "22      Mystery 'Wolf-Like' Animal Reportedly Shot In Montana, Baffles Wildlife Officials                              \n",
       "23      North Korea Still Open To Talks After Trump Cancels Summit                                                     \n",
       "24      2 Men Detonate Bomb Inside Indian Restaurant Near Toronto, Authorities Say                                     \n",
       "25      Thousands Travel Home To Ireland To Vote On Abortion Access                                                    \n",
       "26      Irish Voters Set To Liberalize Abortion Laws In Landslide, Exit Poll Signals                                   \n",
       "27      Warriors Coach Steve Kerr Calls NFL Ban On Protests 'Fake Patriotism'                                          \n",
       "28      In Historic Victory, Barbados Elects First Female Prime Minister                                               \n",
       "29      Police Killed At Least 378 Black Americans From The Moment Colin Kaepernick Protested                          \n",
       "...                                                                                       ...                          \n",
       "200820  Gay Divorce: How the Collaborative Family Law Model Can Help Parting LGBT Couples                              \n",
       "200821  Episode 87: Life Is a Highway (AUDIO)                                                                          \n",
       "200822  Something To Celebrate: The Best LGBT Moments Of The Week January 23 - January 27                              \n",
       "200823  Chris Gregoire, Washington State Governor, Discusses Gay Marriage, Chris Christie, And More                    \n",
       "200824  Glenn Close On 'Albert Nobbs', Gender Bending And 'Damages'                                                    \n",
       "200826  Pregnant and Displaced: Double the Danger                                                                      \n",
       "200827  Tom Brady Helps Mentor, Tom Martinez, Find A Kidney Match                                                      \n",
       "200828  Boxer Puppy And Cows Make Friends During Walk In Newcastle (VIDEO)                                             \n",
       "200829  'Black Smoker' Vents: New Species Discovered Near Deepest Undersea Hot Springs (PHOTOS)                        \n",
       "200831  Winter Weather Photo Contest: Submit Your Own Pictures                                                         \n",
       "200832  Insects Top Newly Discovered Species List                                                                      \n",
       "200833  Four More Bank Closures Mark the Week of January 27, 2012                                                      \n",
       "200834  Everything You Need To Know About Overdraft Fees [GRAPHIC]                                                     \n",
       "200835  Walmart Waving Goodbye To Some Greeters                                                                        \n",
       "200836  At World Economic Forum, Fear of Global Contagion Dominates                                                    \n",
       "200837  Positive Customer Experience: What's the Return on Investment?                                                 \n",
       "200838  Sundance, Ice-T, and Shades of the American Race in Cinema                                                     \n",
       "200839  'Girl With the Dragon Tattoo' India Release Canceled After Local Censor Board Deemed Film 'Unsuitable'         \n",
       "200840  'Don't Think': A Look At The Chemical Brothers' Concert Film, Set To Hit Theaters                              \n",
       "200841  Matthew Marks Discusses His New LA Gallery                                                                     \n",
       "200842  Allard Van Hoorn's 'Urban Songline' Explores Relationship Between Sound, Space and Materials (PHOTOS, VIDEO)   \n",
       "200843  Good Games -- Is It possible?                                                                                  \n",
       "200844  Google+ Now Open for Teens With Some Safeguards                                                                \n",
       "200846  First White House Chief Technology Officer, Aneesh Chopra, Steps Down                                          \n",
       "200847  Watch The Top 9 YouTube Videos Of The Week                                                                     \n",
       "200848  RIM CEO Thorsten Heins' 'Significant' Plans For BlackBerry                                                     \n",
       "200849  Maria Sharapova Stunned By Victoria Azarenka In Australian Open Final                                          \n",
       "200850  Giants Over Patriots, Jets Over Colts Among  Most Improbable Super Bowl Upsets Of All Time (VIDEOS)            \n",
       "200851  Aldon Smith Arrested: 49ers Linebacker Busted For DUI                                                          \n",
       "200852  Dwight Howard Rips Teammates After Magic Loss To Hornets                                                       \n",
       "\n",
       "                                                                                                                                              link  \\\n",
       "0       https://www.huffingtonpost.com/entry/texas-amanda-painter-mass-shooting_us_5b081ab4e4b0802d69caad89                                          \n",
       "1       https://www.huffingtonpost.com/entry/will-smith-joins-diplo-and-nicky-jam-for-the-official-2018-world-cup-song_us_5b09726fe4b0fdb2aa541201   \n",
       "2       https://www.huffingtonpost.com/entry/hugh-grant-marries_us_5b09212ce4b0568a880b9a8c                                                          \n",
       "3       https://www.huffingtonpost.com/entry/jim-carrey-adam-schiff-democrats_us_5b0950e8e4b0fdb2aa53e675                                            \n",
       "4       https://www.huffingtonpost.com/entry/julianna-margulies-trump-poop-bag_us_5b093ec2e4b0fdb2aa53df70                                           \n",
       "5       https://www.huffingtonpost.com/entry/morgan-freeman-devastated-sexual-misconduct_us_5b096319e4b0802d69cba298                                 \n",
       "6       https://www.huffingtonpost.com/entry/donald-trump-mcondalds-tonight-show_us_5b093561e4b0fdb2aa53daba                                         \n",
       "7       https://www.huffingtonpost.com/entry/amazon-prime-what-to-watch_us_5b044625e4b0c0b8b23ec14f                                                  \n",
       "8       https://www.huffingtonpost.com/entry/mike-myers-reveals-he-wants-to-do-a-fourth-austin-powers-film_us_5b096198e4b0802d69cb9f15               \n",
       "9       https://www.huffingtonpost.com/entry/hulu-what-to-watch_us_5b0445bae4b0c0b8b23ec046                                                          \n",
       "10      https://www.huffingtonpost.com/entry/justin-timberlake-visits-texas-school-shooting-victims_us_5b098161e4b0fdb2aa54167e                      \n",
       "11      https://www.huffingtonpost.com/entry/south-korean-president-meets-north-koreas-kim-jong-un_us_5b094ebae4b0fdb2aa53e504                       \n",
       "12      https://www.huffingtonpost.com/entry/remote-oyster-growing-region-called-in-robots_us_5b083658e4b0fdb2aa53415d                               \n",
       "13      https://www.huffingtonpost.com/entry/immigrant-children-separated-from-parents_us_5b087b90e4b0802d69cb4070                                   \n",
       "14      https://www.huffingtonpost.com/entry/fbi-wiretaps-putin-ally-trump-jr_us_5b08bf56e4b0568a880b7859                                            \n",
       "15      https://www.huffingtonpost.com/entry/edward-snowden-trump-loves-putin_us_5b08ae41e4b0568a880b7451                                            \n",
       "16      https://www.huffingtonpost.com/entry/obama-photog-pete-souza-trolls-trump-spy-claim_us_5b08f77ee4b0568a880b8752                              \n",
       "17      https://www.huffingtonpost.com/entry/results-for-irelands-historic-abortion-referendum-show-yes-vote-leads_us_5b086497e4b0802d69cb2cff       \n",
       "18      https://www.huffingtonpost.com/entry/ryan-zinke-reel-back-critics-grand-pivot-conservation_us_5b086c78e4b0fdb2aa538b3f                       \n",
       "19      https://www.huffingtonpost.com/entry/trump-scottish-golf-resort-pays-women-less-than-men_us_5b08ca29e4b0802d69cb4d37                         \n",
       "20      https://www.huffingtonpost.com/entry/weird-fathers-day-gifts-2018_us_5b05bf18e4b05f0fc84438f6                                                \n",
       "21      https://www.huffingtonpost.com/entry/twitter-put-star-wars-in-other-films_us_5b098875e4b0568a880be92c                                        \n",
       "22      https://www.huffingtonpost.com/entry/montana-wolf-like-animal-mystery_us_5b04533de4b003dc7e4708af                                            \n",
       "23      https://www.huffingtonpost.com/entry/north-korea-reax-canceled-summit_us_5b07a93de4b0568a8809ccf2                                            \n",
       "24      https://www.huffingtonpost.com/entry/mississauga-canada-restaurant-bombing_us_5b079d47e4b0fdb2aa51f4dd                                       \n",
       "25      https://www.huffingtonpost.com/entry/irish-traveled-home-vote-abortion_us_5b083753e4b0802d69cae69a                                           \n",
       "26      https://www.huffingtonpost.com/entry/ireland-abortion-vote-exit-poll_us_5b087cebe4b0802d69cb40f1                                             \n",
       "27      https://www.huffingtonpost.com/entry/warriors-coach-steve-kerr-nfl-ban-protests-fake-patriotism_us_5b082c41e4b0802d69cad469                  \n",
       "28      https://www.huffingtonpost.com/entry/mia-victory-barbados-elects-first-female-prime-minister-amor-mottley_us_5b0832eae4b0802d69cae087        \n",
       "29      https://www.huffingtonpost.com/entry/police-killed-378-black-americans-colin-kaepernick_us_5b070160e4b07c4ea10655be                          \n",
       "...                                                                                                                     ...                          \n",
       "200820  https://www.huffingtonpost.com/entry/gay-divorce-collaborative-family-law-model_us_5baf9f88e4b0ad76925ef918                                  \n",
       "200821  https://www.huffingtonpost.com/entry/the-six-pack-life-is-a-highway_us_5baf9f89e4b0ad76925ef921                                              \n",
       "200822  https://www.huffingtonpost.com/entry/something-to-celebrate-best-gay-january-23-27_us_5baf9f93e4b0ad76925ef954                               \n",
       "200823  https://www.huffingtonpost.com/entry/chris-gregoire-washington-governor-gay-marriage_us_5baf9f93e4b0ad76925ef960                             \n",
       "200824  https://www.huffingtonpost.comhttp://www.windycitymediagroup.com/gay/lesbian/news/ARTICLE.php?AID=35843                                      \n",
       "200826  https://www.huffingtonpost.com/entry/maternal-health-care_us_5bb18dd3e4b01857b707cfd2                                                        \n",
       "200827  https://www.huffingtonpost.com/entry/tom-brady-helps-mentor-to_us_5bb18ddbe4b01857b707d109                                                   \n",
       "200828  https://www.huffingtonpost.com/entry/boxer-puppy-cows-make-friends_us_5bb1088be4b09bbe9a596f79                                               \n",
       "200829  https://www.huffingtonpost.com/entry/black-smoker-vents-new-species_us_5bb10820e4b09bbe9a596463                                              \n",
       "200831  https://www.huffingtonpost.com/entry/winter-weather-photo-contest_us_5bb10a6ae4b09bbe9a598a89                                                \n",
       "200832  https://www.huffingtonpost.com/entry/insects-top-newly-discove_us_5bb10a81e4b09bbe9a598ba4                                                   \n",
       "200833  https://www.huffingtonpost.com/entry/four-more-bank-closures-m_us_5bb2b3b2e4b0480ca659c35c                                                   \n",
       "200834  https://www.huffingtonpost.com/entry/bank-fees-a-visual-guide-overdraft-fees_us_5bb2b3abe4b0480ca659c110                                     \n",
       "200835  https://www.huffingtonpost.comhttp://jobs.aol.com/articles/2012/01/27/walmart-greeters-will-no-longer-greet-at-the-door/                     \n",
       "200836  https://www.huffingtonpost.com/entry/world-economic-forum-global-financial-crisis-davos_us_5bb2b3b6e4b0480ca659c4ea                          \n",
       "200837  https://www.huffingtonpost.com/entry/positive-customer-experie_us_5bb2b329e4b0480ca659a6d1                                                   \n",
       "200838  https://www.huffingtonpost.com/entry/sundance-ice-t-and-shades_us_5bb3e3c5e4b066f8d2513a4e                                                   \n",
       "200839  https://www.huffingtonpost.com/entry/girl-with-the-dragon-tattoo-india_us_5bb3e3f1e4b066f8d2513c8e                                           \n",
       "200840  https://www.huffingtonpost.com/entry/dont-think-the-chemical-brothers-concert_us_5bb21e37e4b0171db69d5bf6                                    \n",
       "200841  https://www.huffingtonpost.com/entry/matthew-marks-discusses-his-new-gallery_us_5bb21e76e4b0171db69d600c                                     \n",
       "200842  https://www.huffingtonpost.com/entry/allard-van-hoorns-007_us_5bb21eb3e4b0171db69d6144                                                       \n",
       "200843  https://www.huffingtonpost.com/entry/games-for-change_us_5bb34b30e4b0fa920b95bab3                                                            \n",
       "200844  https://www.huffingtonpost.com/entry/google-plus-safety_us_5bb34b7de4b0fa920b95c2d7                                                          \n",
       "200846  https://www.huffingtonpost.comhttp://www.engadget.com/2012/01/27/first-white-house-chief-technology-officer-aneesh-chopra-steps/             \n",
       "200847  https://www.huffingtonpost.com/entry/watch-top-youtube-videos_us_5bb34b88e4b0fa920b95c42a                                                    \n",
       "200848  https://www.huffingtonpost.com/entry/rim-ceo-thorsten-heins_us_5bb34b8ce4b0fa920b95c4e1                                                      \n",
       "200849  https://www.huffingtonpost.com/entry/maria-sharapova-stunned-victoria-azarenka-australian-open_us_5bb69b21e4b097869fd1b2f1                   \n",
       "200850  https://www.huffingtonpost.com/entry/super-bowl-upsets-the-mos_us_5bb69b1de4b097869fd1b26d                                                   \n",
       "200851  https://www.huffingtonpost.com/entry/aldon-smith-arrested-dui-49ers_us_5bb69b25e4b097869fd1b33c                                              \n",
       "200852  https://www.huffingtonpost.com/entry/dwight-howard-rips-teammates-magic-hornets_us_5bb69b24e4b097869fd1b331                                  \n",
       "\n",
       "                                                                                                                                                                                                                                                                     short_description  \n",
       "0       She left her husband. He killed their children. Just another day in America.                                                                                                                                                                                                    \n",
       "1       Of course it has a song.                                                                                                                                                                                                                                                        \n",
       "2       The actor and his longtime girlfriend Anna Eberstein tied the knot in a civil ceremony.                                                                                                                                                                                         \n",
       "3       The actor gives Dems an ass-kicking for not fighting hard enough against Donald Trump.                                                                                                                                                                                          \n",
       "4       The \"Dietland\" actress said using the bags is a \"really cathartic, therapeutic moment.\"                                                                                                                                                                                         \n",
       "5       \"It is not right to equate horrific incidents of sexual assault with misplaced compliments or humor,\" he said in a statement.                                                                                                                                                   \n",
       "6       It's catchy, all right.                                                                                                                                                                                                                                                         \n",
       "7       There's a great mini-series joining this week.                                                                                                                                                                                                                                  \n",
       "8       Myer's kids may be pushing for a new \"Powers\" film more than anyone.                                                                                                                                                                                                            \n",
       "9       You're getting a recent Academy Award-winning movie.                                                                                                                                                                                                                            \n",
       "10      The pop star also wore a \"Santa Fe Strong\" shirt at his show in Houston.                                                                                                                                                                                                        \n",
       "11      The two met to pave the way for a summit between North Korean and the U.S.                                                                                                                                                                                                      \n",
       "12      The revolution is coming to rural New Brunswick.                                                                                                                                                                                                                                \n",
       "13      Last month a Health and Human Services official revealed the government was unable to locate nearly 1,500 children who had been released from its custody.                                                                                                                      \n",
       "14      The wiretaps feature conversations between Alexander Torshin and Alexander Romanov, a convicted Russian money launderer.                                                                                                                                                        \n",
       "15      But don't count on Robert Mueller to nail him, the NSA whistleblower warns.                                                                                                                                                                                                     \n",
       "16      Just a peeping minute.                                                                                                                                                                                                                                                          \n",
       "17      Irish women will no longer have to travel to the United Kingdom to end their pregnancies.                                                                                                                                                                                       \n",
       "18      The interior secretary attempts damage control with hunting and fishing groups that didn’t like his fossil fuel focus.                                                                                                                                                          \n",
       "19      And there are four times as many male as female executives.                                                                                                                                                                                                                     \n",
       "20      Why buy a boring tie when you can give him testicle plush toys?                                                                                                                                                                                                                 \n",
       "21      There's no such thing as too much \"Star Wars.\"                                                                                                                                                                                                                                  \n",
       "22      “We have no idea what this was until we get a DNA report back.\"                                                                                                                                                                                                                 \n",
       "23      Trump’s announcement came after repeated threats by North Korea to pull out of the summit over what it saw as confrontational remarks by U.S. officials.                                                                                                                        \n",
       "24      Fifteen people were taken to the hospital, three of them with critical injuries.                                                                                                                                                                                                \n",
       "25      Just try to read these #HomeToVote tweets without crying.                                                                                                                                                                                                                       \n",
       "26      Vote counting will begin Saturday.                                                                                                                                                                                                                                              \n",
       "27      Forbidding players to take a knee during the national anthem is “idiotic,” the coach said.                                                                                                                                                                                      \n",
       "28      Mia Amor Mottley even earned the backing of the country's most recognizable national: Rihanna.                                                                                                                                                                                  \n",
       "29      These Americans deserve to be more than another statistic.                                                                                                                                                                                                                      \n",
       "...                                                            ...                                                                                                                                                                                                                      \n",
       "200820  One of the many unjust results of a state legal system that refuses to recognize and validate a same-sex marriage or civil union is the absence of a binding structure and system for dissolving a fractured same-sex couple.                                                   \n",
       "200821  On this episode of The Six Pack, we hit up the biggest car show around, the North American International Auto Show in Detroit.                                                                                                                                                  \n",
       "200822  Every other week we'll take a look at a few of the most exciting and inspirational stories from the previous week or two                                                                                                                                                        \n",
       "200823  Regarding her own journey Gregoire said: “I wished I could have come to the point that I am today six years ago, seven years                                                                                                                                                    \n",
       "200824  Twenty-four hours before the Golden Globes ceremony, for which she's been nominated as Best Actress in a Motion Picture Drama                                                                                                                                                   \n",
       "200826  It's time we all step up our efforts to ensure that women everywhere can decide freely if and when they want to have children, that all mothers can deliver their babies safely and services are available for women who have suffered violence.                                \n",
       "200827  Since Brady started promoting Martinez's cause, 100 people have registered with Matching Donors and two matched with recipients                                                                                                                                                 \n",
       "200828  This bevy of otters were also filmed having a pretty fun time with an unlucky butterfly that had made its way into the otters                                                                                                                                                   \n",
       "200829  Photos and captions courtesy of University of Southampton and NOC. Connelly's co-leader, marine biologist Dr. Jon Copley                                                                                                                                                        \n",
       "200831  While severe winter weather has devastated some regions around the world, other storms have created visually stunning scenes                                                                                                                                                    \n",
       "200832  Species IDs need improvement In addition to the new report, the species institute is releasing a Retro State of Observed                                                                                                                                                        \n",
       "200833  The general pattern of the FDIC closing banks with weak operating characteristics and deepening asset quality troubles continues. The FDIC shuttered four additional banks today bringing the 2012 count to seven.                                                              \n",
       "200834  Don't like keeping all of your money stuffed underneath the mattress? That could cost you a pretty penny. Here's all the                                                                                                                                                        \n",
       "200835  After 30 years, \"People Greeters\" will no longer welcome Walmart customers with a \"cart and a smile.\" Four months after Walmart                                                                                                                                                 \n",
       "200836  For decades, as crises have assailed developing countries from Indonesia to Argentina, the powers-that-be in the United States                                                                                                                                                  \n",
       "200837  \"Analysts at Adobe combined historical purchase and upgrade data with survey data and found that customers with the highest                                                                                                                                                     \n",
       "200838  Representation of the collective diaspora has always been thwarted by our need to classify films according to races other than white. Still, while labels can be debilitating, they can also be manipulated.                                                                    \n",
       "200839  \"Sony Pictures will not be releasing The Girl with the Dragon Tattoo in India. The Censor Board has adjudged the film unsuitable                                                                                                                                                \n",
       "200840  Amid cheers and the occasional \"Here we go!\" from the theater's speakers, the duo danced alone for a few songs. Eventually                                                                                                                                                      \n",
       "200841  Was it an obvious choice to recruit Ellsworth Kelly for your inaugural exhibition, this being his 15th solo show with Matthew                                                                                                                                                   \n",
       "200842  A recent exhibition at Storefront for Art and Architecture is shifting the connection between song and space from the nomadic                                                                                                                                                   \n",
       "200843  I don't think people who play Zynga games are bad. Just like I don't think the grandma in Vegas is bad. They're just sad.                                                                                                                                                       \n",
       "200844  For the most part, teens' experience on Google+ will be just like adults, but there are some special safeguards for users under 18. Google didn't put any major breaks on teens -- it's giving them freedom, but it did make some default settings for teens more restrictive.  \n",
       "200846  He was appointed with a fair bit of fanfare as the United States' first Chief Technology Officer back in May of 2009, but                                                                                                                                                       \n",
       "200847  If you're looking to see the most popular YouTube videos of the week, look no further. Once again, we're bringing you the                                                                                                                                                       \n",
       "200848  Verizon Wireless and AT&T are already promoting LTE devices including smartphones and tablets from RIM's rivals. RIM's first                                                                                                                                                    \n",
       "200849  Afterward, Azarenka, more effusive with the press than normal, credited her coach of two years, Sam Sumyk, for his patient                                                                                                                                                      \n",
       "200850  Leading up to Super Bowl XLVI, the most talked about game could end up being one that occurred a few years ago. After all                                                                                                                                                       \n",
       "200851  CORRECTION: An earlier version of this story incorrectly stated the location of KTVU and the 2011 league leader in sacks                                                                                                                                                        \n",
       "200852  The five-time all-star center tore into his teammates Friday night after Orlando committed 23 turnovers en route to losing                                                                                                                                                      \n",
       "\n",
       "[180543 rows x 6 columns]"
      ]
     },
     "execution_count": 67,
     "metadata": {},
     "output_type": "execute_result"
    }
   ],
   "source": [
    "news_data"
   ]
  },
  {
   "cell_type": "code",
   "execution_count": 68,
   "metadata": {},
   "outputs": [
    {
     "data": {
      "text/html": [
       "<div>\n",
       "<style scoped>\n",
       "    .dataframe tbody tr th:only-of-type {\n",
       "        vertical-align: middle;\n",
       "    }\n",
       "\n",
       "    .dataframe tbody tr th {\n",
       "        vertical-align: top;\n",
       "    }\n",
       "\n",
       "    .dataframe thead th {\n",
       "        text-align: right;\n",
       "    }\n",
       "</style>\n",
       "<table border=\"1\" class=\"dataframe\">\n",
       "  <thead>\n",
       "    <tr style=\"text-align: right;\">\n",
       "      <th></th>\n",
       "      <th>authors</th>\n",
       "      <th>category</th>\n",
       "      <th>date</th>\n",
       "      <th>headline</th>\n",
       "      <th>link</th>\n",
       "      <th>short_description</th>\n",
       "    </tr>\n",
       "  </thead>\n",
       "  <tbody>\n",
       "    <tr>\n",
       "      <th>36290</th>\n",
       "      <td>Darin Graham, ContributorJournalist</td>\n",
       "      <td>WOMEN</td>\n",
       "      <td>2017-01-25</td>\n",
       "      <td>“We Shall Overcomb!” Say The 100,000 Marching Against Trump In London</td>\n",
       "      <td>https://www.huffingtonpost.com/entry/we-shall-overcomb-say-the-100000-marching-against_us_5888bf29e4b05a82fd5b30b3</td>\n",
       "      <td>Thousands of activists descended on London to march for women’s rights, diversity and equality last Saturday. The Women’s</td>\n",
       "    </tr>\n",
       "    <tr>\n",
       "      <th>21194</th>\n",
       "      <td>Mycah Hazel, Contributorblogger, equal opportunity enthusiast</td>\n",
       "      <td>HEALTHY LIVING</td>\n",
       "      <td>2017-07-18</td>\n",
       "      <td>“To The Bone” Didn’t Teach Me Glamour. It Taught Me Respect.</td>\n",
       "      <td>https://www.huffingtonpost.com/entry/to-the-bone-didnt-teach-me-glamour-it-taught-me_us_596d50afe4b05561da5a5a0c</td>\n",
       "      <td>Oftentimes, films or TV shows about eating disorders try to convince victims to stop by showing them their sickly thin appearance</td>\n",
       "    </tr>\n",
       "    <tr>\n",
       "      <th>29672</th>\n",
       "      <td>Dana Brownlee, ContributorPresident of Professionalism Matters, a corporate training/key...</td>\n",
       "      <td>BUSINESS</td>\n",
       "      <td>2017-04-10</td>\n",
       "      <td>“I’m Sorry\"--The Two Tragically Forgotten Words In Customer Service</td>\n",
       "      <td>https://www.huffingtonpost.com/entry/im-sorrythe-two-tragically-forgotten-words-in-customer_us_58eadad7e4b00dd8e016ed62</td>\n",
       "      <td>Unfortunately, I was one of those frustrated passengers caught in the midst of the recent spring break travel nightmare that</td>\n",
       "    </tr>\n",
       "    <tr>\n",
       "      <th>199048</th>\n",
       "      <td></td>\n",
       "      <td>DIVORCE</td>\n",
       "      <td>2012-02-16</td>\n",
       "      <td>‘Your Divorce Ruined My Life' What To Do When Your Child Blames You</td>\n",
       "      <td>https://www.huffingtonpost.comhttp://www.theglobeandmail.com/life/parenting/advice/anthony-e-wolf/your-divorce-ruined-my-life-what-to-do-when-your-child-blames-you/article2340805/?utm_medium=Feeds:%20RSS/Atom&amp;utm_source=Home&amp;utm_content=2340805</td>\n",
       "      <td>It was Sunday night and Lucas’s mother had had it with her 15-year-old son. “I am just sick of this. Look at this mess. I</td>\n",
       "    </tr>\n",
       "    <tr>\n",
       "      <th>193783</th>\n",
       "      <td></td>\n",
       "      <td>DIVORCE</td>\n",
       "      <td>2012-04-13</td>\n",
       "      <td>‘You Better Sit Down,' By The Civilians, At Flea Theater</td>\n",
       "      <td>https://www.huffingtonpost.comhttp://theater.nytimes.com/2012/04/13/theater/reviews/you-better-sit-down-by-the-civilians-at-flea-theater.html</td>\n",
       "      <td>The Civilians, the enterprising troupe specializing in documentary theater drawn from interviews, takes its tape recorders</td>\n",
       "    </tr>\n",
       "    <tr>\n",
       "      <th>112446</th>\n",
       "      <td></td>\n",
       "      <td>WOMEN</td>\n",
       "      <td>2014-09-09</td>\n",
       "      <td>‘Yes' Is Better Than ‘No' When It Comes To Consensual Sex On Campus</td>\n",
       "      <td>https://www.huffingtonpost.com/entry/michael-kimmel-and-gloria_n_5790164.html</td>\n",
       "      <td></td>\n",
       "    </tr>\n",
       "    <tr>\n",
       "      <th>123546</th>\n",
       "      <td></td>\n",
       "      <td>WEIRD NEWS</td>\n",
       "      <td>2014-05-05</td>\n",
       "      <td>‘Worst Mom In The World' Selfies</td>\n",
       "      <td>https://www.huffingtonpost.com/entry/worst-mom-selfie_n_5268445.html</td>\n",
       "      <td></td>\n",
       "    </tr>\n",
       "    <tr>\n",
       "      <th>2932</th>\n",
       "      <td>Elyse Wanshel</td>\n",
       "      <td>QUEER VOICES</td>\n",
       "      <td>2018-04-02</td>\n",
       "      <td>‘Will &amp; Grace’ Creator To Donate Gay Bunny Book To Every Grade School In Indiana</td>\n",
       "      <td>https://www.huffingtonpost.com/entry/will-grace-creator-donate-john-olivers-gay-bunny-book-to-every-elementary-school-in-indiana_us_5ac28265e4b00fa46f854225</td>\n",
       "      <td>It's about to be a lot easier for kids in Mike Pence's home state to read “A Day in the Life of Marlon Bundo.”</td>\n",
       "    </tr>\n",
       "    <tr>\n",
       "      <th>67601</th>\n",
       "      <td>Nina Golgowski</td>\n",
       "      <td>WEIRD NEWS</td>\n",
       "      <td>2016-02-03</td>\n",
       "      <td>‘Wild Boar Curling’ Rescues Stranded Wild Boars From Frozen Lake</td>\n",
       "      <td>https://www.huffingtonpost.com/entry/wild-boar-curling-rescues-boars_us_56b25c45e4b04f9b57d82cd8</td>\n",
       "      <td>Get this pig in a blanket!</td>\n",
       "    </tr>\n",
       "    <tr>\n",
       "      <th>85380</th>\n",
       "      <td>Lilly Workneh</td>\n",
       "      <td>BLACK VOICES</td>\n",
       "      <td>2015-07-17</td>\n",
       "      <td>‘We’re Never Gonna Forget’: Eric Garner’s Family Reflects On His Death One Year Later</td>\n",
       "      <td>https://www.huffingtonpost.com/entry/were-never-gonna-forget-eric-garners-family-reflects-on-his-death-one-year-later_us_55a91617e4b04740a3dfb353</td>\n",
       "      <td>Eric Garner's family share memories of the family man one year after his death.</td>\n",
       "    </tr>\n",
       "    <tr>\n",
       "      <th>25186</th>\n",
       "      <td>Sara Hylton, Women &amp; Girls Hub</td>\n",
       "      <td>WORLD NEWS</td>\n",
       "      <td>2017-05-31</td>\n",
       "      <td>‘We Are the Same Blood’: The Invisible Lives Of India’s Dalit Women</td>\n",
       "      <td>https://www.huffingtonpost.com/entry/we-are-the-same-blood-the-invisible-lives-of-indias-dalit-women_us_592f1419e4b0e09b11ed2469</td>\n",
       "      <td>A girl from the Dalit village of Harirajpur, in Odisha, chases a kite on the dried-up Mahanadi riverbed. This is the primary</td>\n",
       "    </tr>\n",
       "    <tr>\n",
       "      <th>26210</th>\n",
       "      <td>Stateline, ContributorStateline provides daily reporting and analysis on trends in s...</td>\n",
       "      <td>POLITICS</td>\n",
       "      <td>2017-05-19</td>\n",
       "      <td>‘WannaCry’ Ransomware Attack Raises Alarm Bells For Cities, States</td>\n",
       "      <td>https://www.huffingtonpost.com/entry/wannacry-ransomware-attack-raises-alarm-bells-for_us_591f0192e4b07617ae4cbb44</td>\n",
       "      <td>While the recent global cyberattack has spared federal government agencies, some state and local governments have been affected</td>\n",
       "    </tr>\n",
       "    <tr>\n",
       "      <th>20973</th>\n",
       "      <td>Bill Bradley</td>\n",
       "      <td>ENTERTAINMENT</td>\n",
       "      <td>2017-07-20</td>\n",
       "      <td>‘Walking Dead’ Reportedly Cancels Comic-Con Press Events Following Stuntman's Death</td>\n",
       "      <td>https://www.huffingtonpost.com/entry/walking-dead-reportedly-cancels-comic-con-press-events-following-stuntmans-death_us_59705e2ae4b0110cb3cbae59</td>\n",
       "      <td>But the panel will still happen.</td>\n",
       "    </tr>\n",
       "    <tr>\n",
       "      <th>26939</th>\n",
       "      <td>Robert Weissman, ContributorPresident of Public Citizen</td>\n",
       "      <td>POLITICS</td>\n",
       "      <td>2017-05-11</td>\n",
       "      <td>‘Voter Fraud’ Executive Order: Trump’s Fraud On Democracy</td>\n",
       "      <td>https://www.huffingtonpost.com/entry/voter-fraud-executive-order-trumps-fraud-on-democracy_us_59149a39e4b016248243f28a</td>\n",
       "      <td>Horrifying, disgusting and shameful. Those are the words that come to mind for President Donald Trump’s transparent attempt</td>\n",
       "    </tr>\n",
       "    <tr>\n",
       "      <th>15705</th>\n",
       "      <td>Spencer Smith, ContributorTech-worker + Concerned Citizen</td>\n",
       "      <td>QUEER VOICES</td>\n",
       "      <td>2017-09-25</td>\n",
       "      <td>‘Voices 4 Chechnya’ Speaks Out On Giving Voices To LGBTQ+ Chechens</td>\n",
       "      <td>https://www.huffingtonpost.com/entry/voices-4-chechnya-on-giving-voices-to-lgbtq-chechens_us_59c91360e4b0f2df5e83b01c</td>\n",
       "      <td>\"When people are being rounded up, tortured, and murdered for who they are, you must act.”</td>\n",
       "    </tr>\n",
       "    <tr>\n",
       "      <th>83968</th>\n",
       "      <td>Alanna Vagianos</td>\n",
       "      <td>WOMEN</td>\n",
       "      <td>2015-08-03</td>\n",
       "      <td>‘UnREAL’ Director On Why ‘White Men’ Shouldn’t Be Hollywood’s Only Storytellers</td>\n",
       "      <td>https://www.huffingtonpost.com/entry/unreal-director-on-why-white-men-shouldnt-be-hollywoods-only-storytellers_us_55bf9bb5e4b0d4f33a036d5d</td>\n",
       "      <td>“We’ve already tried having only white men tell our stories.\"</td>\n",
       "    </tr>\n",
       "    <tr>\n",
       "      <th>35588</th>\n",
       "      <td>Elyse Wanshel</td>\n",
       "      <td>COMEDY</td>\n",
       "      <td>2017-02-01</td>\n",
       "      <td>‘Trump Draws’ Hilariously Mocks President Signing Executive Orders</td>\n",
       "      <td>https://www.huffingtonpost.com/entry/trump-draws-twitter_us_589209f9e4b0c90eff015813</td>\n",
       "      <td>Fine art.</td>\n",
       "    </tr>\n",
       "    <tr>\n",
       "      <th>16236</th>\n",
       "      <td>The Conversation Global, ContributorThe Conversation is a collaboration between editors and academ...</td>\n",
       "      <td>WORLD NEWS</td>\n",
       "      <td>2017-09-18</td>\n",
       "      <td>‘Triple Talaq’ Abolition Is Only The Start Of A Larger Campaign For Gender Justice In India</td>\n",
       "      <td>https://www.huffingtonpost.com/entry/triple-talaq-abolition-is-only-the-start-of-a-larger_us_59c0010fe4b06ecee6b2a2cd</td>\n",
       "      <td>The egregious practice that some Muslim men employ to divorce their wives instantaneously and without their consent, merely</td>\n",
       "    </tr>\n",
       "    <tr>\n",
       "      <th>14817</th>\n",
       "      <td>The Conversation Global, ContributorThe Conversation is a collaboration between editors and academ...</td>\n",
       "      <td>WORLD NEWS</td>\n",
       "      <td>2017-10-05</td>\n",
       "      <td>‘Triple Talaq’ Abolition Is Only The Start Of A Larger Campaign For Gender Justice In India</td>\n",
       "      <td>https://www.huffingtonpost.com/entry/triple-talaq-abolition-is-only-the-start-of-a-larger_us_59d688cae4b0705dc79aa650</td>\n",
       "      <td>By Zoya Hasan, Jawahawlal Nehru University The egregious practice that some Muslim men employ to divorce their wives instantaneously</td>\n",
       "    </tr>\n",
       "    <tr>\n",
       "      <th>74066</th>\n",
       "      <td>Juliet Linderman, AP</td>\n",
       "      <td>BLACK VOICES</td>\n",
       "      <td>2015-11-21</td>\n",
       "      <td>‘To Hear A Mother’s Cries … It Does Something To You'</td>\n",
       "      <td>https://www.huffingtonpost.com/entry/to-hear-a-mothers-cries-it-does-something-to-you_us_5650dcece4b0879a5b0b4947</td>\n",
       "      <td>Meet the funeral home director who buries the dead in Baltimore's most violent year.</td>\n",
       "    </tr>\n",
       "    <tr>\n",
       "      <th>39284</th>\n",
       "      <td>Patricia Allard and Lill M. Hewko, Contributors</td>\n",
       "      <td>IMPACT</td>\n",
       "      <td>2016-12-22</td>\n",
       "      <td>‘Tis The Season For Miracles: Eight-Year-Old Darina Tries To Get Her Incarcerated Dad Closer To Home</td>\n",
       "      <td>https://www.huffingtonpost.com/entry/tis-the-season-for-miracles-8-yr-old-darina-tries_us_585c4cade4b068764965bb6e</td>\n",
       "      <td>For many faiths and traditions, the winter holidays are rooted in stories about miracles that generate hope and something</td>\n",
       "    </tr>\n",
       "    <tr>\n",
       "      <th>10348</th>\n",
       "      <td>Ed Mazza</td>\n",
       "      <td>COMEDY</td>\n",
       "      <td>2017-12-04</td>\n",
       "      <td>‘Tis The Season For Impeachment In Chipmunks Christmas Parody</td>\n",
       "      <td>https://www.huffingtonpost.com/entry/chipmunks-christmas-impeachment_us_5a24fc5ce4b03c44072e77d8</td>\n",
       "      <td>\"Please Mueller don't be late.\"</td>\n",
       "    </tr>\n",
       "    <tr>\n",
       "      <th>19088</th>\n",
       "      <td>Rumbi Chakamba, Women &amp; Girls</td>\n",
       "      <td>WORLD NEWS</td>\n",
       "      <td>2017-08-12</td>\n",
       "      <td>‘They Say We’re Sinners’: Protecting Malawi’s Sex Workers From Police</td>\n",
       "      <td>https://www.huffingtonpost.com/entry/protecting-malawi-sex-workers-from-police_us_598f2a5ce4b08a247274a7c8</td>\n",
       "      <td>Discrimination and misunderstanding of the law are causing tensions between Malawi’s police and sex workers, who often accuse</td>\n",
       "    </tr>\n",
       "    <tr>\n",
       "      <th>10318</th>\n",
       "      <td>Igor Bobic</td>\n",
       "      <td>POLITICS</td>\n",
       "      <td>2017-12-05</td>\n",
       "      <td>‘They Cannot Hide From Him’: Democrats See Big Gains In Gubernatorial Races Under Trump</td>\n",
       "      <td>https://www.huffingtonpost.com/entry/dga-jay-inslee-trump_us_5a25f819e4b07324e8402204</td>\n",
       "      <td>The stakes are high with redistricting battles on the horizon.</td>\n",
       "    </tr>\n",
       "    <tr>\n",
       "      <th>66764</th>\n",
       "      <td></td>\n",
       "      <td>WOMEN</td>\n",
       "      <td>2016-02-12</td>\n",
       "      <td>‘There’s An Image Problem’: The Drive To Attract Girls To STEM</td>\n",
       "      <td>https://www.huffingtonpost.comhttp://www.irishtimes.com/news/education/there-s-an-image-problem-the-drive-to-attract-girls-to-stem-1.2522659</td>\n",
       "      <td>Don’t date the nerd, “be the nerd”, was Facebook founder Mark Zuckerberg’s advice last month. He was responding to a social</td>\n",
       "    </tr>\n",
       "    <tr>\n",
       "      <th>85147</th>\n",
       "      <td></td>\n",
       "      <td>BLACK VOICES</td>\n",
       "      <td>2015-07-20</td>\n",
       "      <td>‘The Wire’ Cast Reunited In Baltimore To Uplift Community</td>\n",
       "      <td>https://www.huffingtonpost.comhttp://baltimore.cbslocal.com/2015/07/18/the-wire-cast-reunited-in-baltimore-to-uplift-community/</td>\n",
       "      <td>BALTIMORE (WJZ)–The cast of HBO’s The Wire reunites for a special performance right here in Baltimore on Saturday.</td>\n",
       "    </tr>\n",
       "    <tr>\n",
       "      <th>46537</th>\n",
       "      <td>Bill Bradley</td>\n",
       "      <td>ENTERTAINMENT</td>\n",
       "      <td>2016-09-30</td>\n",
       "      <td>‘The Walking Dead’ Show And Comics Won’t End The Same Way</td>\n",
       "      <td>https://www.huffingtonpost.com/entry/the-walking-dead-show-comics_us_57eeab29e4b0c2407cddb94e</td>\n",
       "      <td>And you thought the finale was upsetting.</td>\n",
       "    </tr>\n",
       "    <tr>\n",
       "      <th>9375</th>\n",
       "      <td>Leigh Blickley</td>\n",
       "      <td>ENTERTAINMENT</td>\n",
       "      <td>2017-12-17</td>\n",
       "      <td>‘The Voice’ Is Great TV. It’s Just Not Always Great For The Winners.</td>\n",
       "      <td>https://www.huffingtonpost.com/entry/the-voice-success-for-winners_us_5a0b545ee4b00a6eece4e116</td>\n",
       "      <td>A handful of former contestants, plus host and producer Carson Daly, break down what happens after each season wraps.</td>\n",
       "    </tr>\n",
       "    <tr>\n",
       "      <th>4487</th>\n",
       "      <td>Lyndsey Parker, Yahoo Entertainment</td>\n",
       "      <td>QUEER VOICES</td>\n",
       "      <td>2018-03-06</td>\n",
       "      <td>‘The Voice’ Blind Auditions Make History With First Trans Contestant</td>\n",
       "      <td>https://www.huffingtonpost.com/entry/the-voice-blind-auditions-make-history-with-first-trans-contestant_us_5a9ece6ee4b002df2c5e39c2</td>\n",
       "      <td>Austin Giorgio, 21: “How Sweet It Is (To Be Loved by You)” Young crooners have appeared on singing competitions since “American</td>\n",
       "    </tr>\n",
       "    <tr>\n",
       "      <th>12525</th>\n",
       "      <td>Lee Moran</td>\n",
       "      <td>ENTERTAINMENT</td>\n",
       "      <td>2017-11-04</td>\n",
       "      <td>‘The Simpsons’ Trolls Donald Trump With Message For San Juan Mayor</td>\n",
       "      <td>https://www.huffingtonpost.com/entry/the-simpsons-donald-trump-donation-puerto-rico_us_59fd75fbe4b04cdbeb335a39</td>\n",
       "      <td>\"I personally know how it feels when somebody comes and throws paper towels at you,\" said bartender Moe Szyslak.</td>\n",
       "    </tr>\n",
       "    <tr>\n",
       "      <th>...</th>\n",
       "      <td>...</td>\n",
       "      <td>...</td>\n",
       "      <td>...</td>\n",
       "      <td>...</td>\n",
       "      <td>...</td>\n",
       "      <td>...</td>\n",
       "    </tr>\n",
       "    <tr>\n",
       "      <th>79194</th>\n",
       "      <td></td>\n",
       "      <td>LATINO VOICES</td>\n",
       "      <td>2015-09-25</td>\n",
       "      <td>\"Endgame\": Carmen Marrón Makes Inspiring Film About Latino Life</td>\n",
       "      <td>https://www.huffingtonpost.comhttp://www.nbcnews.com/news/latino/endgame-carmen-carron-makes-inspiring-film-about-latino-life-n432831</td>\n",
       "      <td>Young José has problems. He lives under the shadow of his athletic older brother. His single mother is stressed out. His</td>\n",
       "    </tr>\n",
       "    <tr>\n",
       "      <th>184553</th>\n",
       "      <td>Sarah Leon</td>\n",
       "      <td>STYLE &amp; BEAUTY</td>\n",
       "      <td>2012-07-21</td>\n",
       "      <td>\"Dynasty\" Actress Stephanie Beacham Let Her Freckles Shine Through In 1972 (PHOTO)</td>\n",
       "      <td>https://www.huffingtonpost.com/entry/dynasty-actress-stephanie-beacham-photo_us_5b9c03ffe4b03a1dcc7bc7a2</td>\n",
       "      <td>Art by Raydene Salinas Lichfield/Getty Images British actress Stephanie Beacham knew what she was doing when it came to big</td>\n",
       "    </tr>\n",
       "    <tr>\n",
       "      <th>127174</th>\n",
       "      <td>Pippa Biddle , Contributor\\nWriter.</td>\n",
       "      <td>TRAVEL</td>\n",
       "      <td>2014-03-25</td>\n",
       "      <td>\"Don't Worry, Be Happy\" and a Dirt Road in Tanzania</td>\n",
       "      <td>https://www.huffingtonpost.com/entry/dont-worry-be-happy-and-a_us_5b9df1b9e4b03a1dcc8f4152</td>\n",
       "      <td>This young girl whose parents struggled to scrape together the funds to send her to school and who works in the fields when she isn't studying to become a doctor, had made me a necklace and brought me the very t-shirt she had been wearing the day before as gifts.</td>\n",
       "    </tr>\n",
       "    <tr>\n",
       "      <th>93360</th>\n",
       "      <td>Style.com, Contributor</td>\n",
       "      <td>STYLE</td>\n",
       "      <td>2015-04-17</td>\n",
       "      <td>\"Dior and I\"...and I: How Frédéric Tcheng Made the Fashion Documentary of the Decade</td>\n",
       "      <td>https://www.huffingtonpost.com/entry/dior-and-iand-i-how-frede_b_7079976.html</td>\n",
       "      <td>The moment Raf Simons cries isn't even the best part of Frédéric Tcheng's documentary Dior and I. Neither is Simons' triumphant bow at the Fall 2012 Haute Couture show or the suspenseful moment when it seems no couture dresses will arrive at a fitting.</td>\n",
       "    </tr>\n",
       "    <tr>\n",
       "      <th>170481</th>\n",
       "      <td>Broke Girls Guide, Contributor\\nCo-founders Erin Bunch and Michelle Vick</td>\n",
       "      <td>FOOD &amp; DRINK</td>\n",
       "      <td>2012-12-20</td>\n",
       "      <td>\"Dinner for One: Pomegranates &amp; Pork Chops\" (VIDEO)</td>\n",
       "      <td>https://www.huffingtonpost.com/entry/dinner-for-one-pomegranat_us_5b9ca7ade4b03a1dcc809a57</td>\n",
       "      <td>This episode is all about pomegranates -- a Pom Royale cocktail, a Pomegranate Cast Iron Porkchop and a Blueberry &amp; Pomegranate Shortbread Crumble.</td>\n",
       "    </tr>\n",
       "    <tr>\n",
       "      <th>180013</th>\n",
       "      <td></td>\n",
       "      <td>SCIENCE</td>\n",
       "      <td>2012-09-09</td>\n",
       "      <td>\"Demon Star\" Algol Of Perseus Constellation Visible In Night Sky This Week</td>\n",
       "      <td>https://www.huffingtonpost.com/entry/demon-star-algol-night-sky_us_5baeb121e4b014374e2dcc44</td>\n",
       "      <td>Magnitudes are celestial numbers that measures how bright a sky object is; the smaller the value, the brighter the object</td>\n",
       "    </tr>\n",
       "    <tr>\n",
       "      <th>25151</th>\n",
       "      <td>Anna Sabino, ContributorBusiness Growth and Life Coach, Designer, Author</td>\n",
       "      <td>COMEDY</td>\n",
       "      <td>2017-06-01</td>\n",
       "      <td>\"Covfefe\" - Social Confetti - Laughing Together And Being United Regardless Of Our Beliefs.</td>\n",
       "      <td>https://www.huffingtonpost.com/entry/covfefe-social-confetti-laughing-together-and_us_592fcab6e4b0d80e3a8a3360</td>\n",
       "      <td>This post is very different from what I usually write about although it’s somewhat related to writing and its process. If</td>\n",
       "    </tr>\n",
       "    <tr>\n",
       "      <th>118713</th>\n",
       "      <td>Brian Holton Henderson, ContributorBlogger</td>\n",
       "      <td>POLITICS</td>\n",
       "      <td>2014-07-01</td>\n",
       "      <td>\"Conservatives Don't Like Taxes\" and Other Lessons on Running for Office (from a 27-year-old Oklahoman Who Couldn't)</td>\n",
       "      <td>https://www.huffingtonpost.com/entry/conservatives-dont-like-t_b_5542584.html</td>\n",
       "      <td>Politicians like Mike Turner willfully sling about phrases like \"the big hand of government\" and \"despotic solar subsidies\" while ignoring the fact that increasing numbers of conservatives are adamantly pro-solar.</td>\n",
       "    </tr>\n",
       "    <tr>\n",
       "      <th>137976</th>\n",
       "      <td>Jackie K Cooper, Contributor\\nFilm Critic</td>\n",
       "      <td>ENTERTAINMENT</td>\n",
       "      <td>2013-11-29</td>\n",
       "      <td>\"Christmas in Conway\" Is a Winner For the Hallmark Hall of Fame</td>\n",
       "      <td>https://www.huffingtonpost.com/entry/christmas-in-conway-is-a_us_5bb44417e4b066f8d2572ff6</td>\n",
       "      <td>With its latest production, \"Christmas in Conway,\" the Hallmark Hall of Fame reaches back to its emotional roots and delivers a story that touches our hearts in this holiday season.</td>\n",
       "    </tr>\n",
       "    <tr>\n",
       "      <th>120489</th>\n",
       "      <td>James Scarborough, ContributorArt, theatre, and film critic</td>\n",
       "      <td>ARTS</td>\n",
       "      <td>2014-06-10</td>\n",
       "      <td>\"Cartographia: Artifacts of a Creative Journey,\" Torrance Art Museum</td>\n",
       "      <td>https://www.huffingtonpost.com/entry/cartographia-artifacts-of_b_5373336.html</td>\n",
       "      <td>This exhibition proposes that artists are mapmakers, their works, maps, and their audience, orienteers. It also suggests a correlation between its content and form. If maps and mapping strategies are the content, then a virtual exhibition is its form.</td>\n",
       "    </tr>\n",
       "    <tr>\n",
       "      <th>106321</th>\n",
       "      <td>Brennan Williams</td>\n",
       "      <td>BLACK VOICES</td>\n",
       "      <td>2014-11-19</td>\n",
       "      <td>\"Bye Felicia\" Is The Name Of a New TV Show And You'll Never Guess What It's About</td>\n",
       "      <td>https://www.huffingtonpost.com/entry/vh1-bye-felicia_n_6188070.html</td>\n",
       "      <td></td>\n",
       "    </tr>\n",
       "    <tr>\n",
       "      <th>184863</th>\n",
       "      <td>Lisa Earle McLeod, Contributor\\nCreator of Noble Purpose in business concept</td>\n",
       "      <td>MONEY</td>\n",
       "      <td>2012-07-18</td>\n",
       "      <td>\"But We've Already Spent the Money!\"</td>\n",
       "      <td>https://www.huffingtonpost.com/entry/but-weve-already-spent-th_us_5b9c000de4b03a1dcc7ba9e3</td>\n",
       "      <td>It doesn't matter how much time or money you've spent. Given where you are right now, do you want to continue on this path, or take a different one?</td>\n",
       "    </tr>\n",
       "    <tr>\n",
       "      <th>60589</th>\n",
       "      <td>Jackie K. Cooper, ContributorFilm Critic</td>\n",
       "      <td>ENTERTAINMENT</td>\n",
       "      <td>2016-04-24</td>\n",
       "      <td>\"Bosch\" Is Back and Better Than Ever</td>\n",
       "      <td>https://www.huffingtonpost.com/entry/bosch-is-back-and-better_b_9766320.html</td>\n",
       "      <td></td>\n",
       "    </tr>\n",
       "    <tr>\n",
       "      <th>68627</th>\n",
       "      <td>Rick Horowitz, ContributorMilwaukee Public TV Commentator, Writing Coach, Writing &amp; ...</td>\n",
       "      <td>POLITICS</td>\n",
       "      <td>2016-01-23</td>\n",
       "      <td>\"Black Lives Matter\" (the \"Too\" Is Silent)</td>\n",
       "      <td>https://www.huffingtonpost.com/entry/black-lives-matter-the-to_b_9059290.html</td>\n",
       "      <td>It's pretty easy to understand. Unless you're trying not to.</td>\n",
       "    </tr>\n",
       "    <tr>\n",
       "      <th>91213</th>\n",
       "      <td>John Shore, ContributorAuthor, \"Ashes to Asheville.\"</td>\n",
       "      <td>RELIGION</td>\n",
       "      <td>2015-05-12</td>\n",
       "      <td>\"Bible Believing\" Pastors and the Enabling of Domestic Violence</td>\n",
       "      <td>https://www.huffingtonpost.com/entry/bible-believing-pastors-and-the-enabling-of-domestic-violence_b_7240602.html</td>\n",
       "      <td>I didn't know the pastor who phoned me from Alabama. But my alarm bells went off the moment he identified himself as a \"Bible-believing Christian.\"</td>\n",
       "    </tr>\n",
       "    <tr>\n",
       "      <th>115463</th>\n",
       "      <td>H. Adam Ackley, Ph.D., ContributorTrans suicide prevention trainer, retired college prof, licens...</td>\n",
       "      <td>RELIGION</td>\n",
       "      <td>2014-08-06</td>\n",
       "      <td>\"Better to Marry\": For Christians, Gay Marriage -- Not Celibacy</td>\n",
       "      <td>https://www.huffingtonpost.com/entry/who-sinned-remembering-je_b_5549197.html</td>\n",
       "      <td>As a scholar of religion who is gay (and -- by the way -- currently celibate), I staunchly oppose this heretical Christian claim that the rare spiritual gift of and vocation to celibacy is automatically to be assigned to an entire group of people merely because of their affectional or sexual orientation.</td>\n",
       "    </tr>\n",
       "    <tr>\n",
       "      <th>135037</th>\n",
       "      <td>Kate Scharff, Contributor\\nPsychotherapist, Divorce Expert, Author, Founder of Collaborat...</td>\n",
       "      <td>DIVORCE</td>\n",
       "      <td>2013-12-30</td>\n",
       "      <td>\"Because We Both Love You\" -- New Year's Resolutions for Divorced Parents</td>\n",
       "      <td>https://www.huffingtonpost.com/entry/new-years-resolutions-for_us_5b9dbd9ce4b03a1dcc8c4b4d</td>\n",
       "      <td>We'll compliment the good traits we still see in each other, and we'll tell you how, if given the choice, we'd do it all again -- because not being your parents is unimaginable.</td>\n",
       "    </tr>\n",
       "    <tr>\n",
       "      <th>50799</th>\n",
       "      <td>Jackie K. Cooper, ContributorFilm Critic</td>\n",
       "      <td>ENTERTAINMENT</td>\n",
       "      <td>2016-08-13</td>\n",
       "      <td>\"Bachelors\" Is a Profanity Laden RomCom</td>\n",
       "      <td>https://www.huffingtonpost.com/entry/bachelors-is-a-profanity_b_11486294.html</td>\n",
       "      <td></td>\n",
       "    </tr>\n",
       "    <tr>\n",
       "      <th>147824</th>\n",
       "      <td>Jackie K Cooper, Contributor\\nFilm Critic</td>\n",
       "      <td>ENTERTAINMENT</td>\n",
       "      <td>2013-08-17</td>\n",
       "      <td>\"Baby Sellers\" Shows the Evil Side of Kirstie Alley</td>\n",
       "      <td>https://www.huffingtonpost.com/entry/baby-sellers-shows-the-ev_us_5bb43526e4b066f8d25641f2</td>\n",
       "      <td>The true story is that Carla is a cold hearted woman who thinks nothing of stealing children from their natural parents and</td>\n",
       "    </tr>\n",
       "    <tr>\n",
       "      <th>193086</th>\n",
       "      <td></td>\n",
       "      <td>CULTURE &amp; ARTS</td>\n",
       "      <td>2012-04-21</td>\n",
       "      <td>\"Archizines + Arch-Art! Books\" Comes To Storefront For Art And Architecture (PHOTOS)</td>\n",
       "      <td>https://www.huffingtonpost.com/entry/archizines-arch-art-books_us_5bb225b0e4b0171db69dc78c</td>\n",
       "      <td>The double exhibition \"Archizines + Arch-Art! Books\" will show that even if print is not the norm, its importance and influence</td>\n",
       "    </tr>\n",
       "    <tr>\n",
       "      <th>40225</th>\n",
       "      <td>E. Nina Rothe, ContributorCultural Activist</td>\n",
       "      <td>ENTERTAINMENT</td>\n",
       "      <td>2016-12-11</td>\n",
       "      <td>\"An International Film Festival with an Arab Heart\": Masoud Amralla Al Ali Opens Up About Dubai Film Fest</td>\n",
       "      <td>https://www.huffingtonpost.com/entry/an-international-film-fes_b_13560356.html</td>\n",
       "      <td></td>\n",
       "    </tr>\n",
       "    <tr>\n",
       "      <th>120801</th>\n",
       "      <td>Tanene Allison, ContributorPolitical communications strategist</td>\n",
       "      <td>POLITICS</td>\n",
       "      <td>2014-06-07</td>\n",
       "      <td>\"Amazing Grace\" Garcia and Her Legacy Among Texas Women</td>\n",
       "      <td>https://www.huffingtonpost.com/entry/amazing-grace-garcia-and-_b_5466244.html</td>\n",
       "      <td>Grace Garcia was the matriarch of a tight-knit circle of women working to change the face of power in Texas politics.</td>\n",
       "    </tr>\n",
       "    <tr>\n",
       "      <th>57464</th>\n",
       "      <td>Paul_Smith, ContributorDirector, British Council USA</td>\n",
       "      <td>ARTS</td>\n",
       "      <td>2016-05-30</td>\n",
       "      <td>\"Age Shall Not Weary Them\" - Shakespeare and Memorial Day</td>\n",
       "      <td>https://www.huffingtonpost.com/entry/age-shall-not-weary-them-_b_10201566.html</td>\n",
       "      <td>It's a phrase that resonates as we remember the warriors, the heroes, the veterans, those we continuously applaud, and particularly on Memorial Day, for their service.</td>\n",
       "    </tr>\n",
       "    <tr>\n",
       "      <th>197915</th>\n",
       "      <td>Steven Kurlander, Contributor\\nAttorney and Blogger</td>\n",
       "      <td>PARENTING</td>\n",
       "      <td>2012-02-29</td>\n",
       "      <td>\"Adoption\" Needs to Become a Buzz Word in the Social Lexicon of America</td>\n",
       "      <td>https://www.huffingtonpost.com/entry/-adoption-needs-to-become_us_5b9b63f2e4b03a1dcc772b09</td>\n",
       "      <td>Any adoptive mother or father will tell you that the memory of the first day they held, hugged and began bonding with their adopted child is the strongest remembrance of fulfillment in a lifetime.</td>\n",
       "    </tr>\n",
       "    <tr>\n",
       "      <th>151118</th>\n",
       "      <td>David Wild, Contributor\\nTV Writer; Contributing Editor, Rolling Stone; Co-Author, 'Eve...</td>\n",
       "      <td>ENTERTAINMENT</td>\n",
       "      <td>2013-07-13</td>\n",
       "      <td>\"A Legal Matter\": A Playlist for The Zimmerman Jury</td>\n",
       "      <td>https://www.huffingtonpost.com/entry/a-legal-matter-a-playlist_us_5bb430afe4b066f8d255f23d</td>\n",
       "      <td>Robert Frost once noted, \"A jury consists of twelve persons chosen to decide who has the better lawyer.\" The jury in the trial of George Zimmerman consists of six woman, and this playlist goes out to these sequestered Americans as they try to make sense of this case.</td>\n",
       "    </tr>\n",
       "    <tr>\n",
       "      <th>146670</th>\n",
       "      <td>Tessie Castillo, Contributor\\nAdvocacy and Communications Coordinator for the North Carolina...</td>\n",
       "      <td>PARENTING</td>\n",
       "      <td>2013-08-29</td>\n",
       "      <td>\"A Doctor Prescribed My Son 140 Pain Pills in One Week. Now My Son is Dead.\"</td>\n",
       "      <td>https://www.huffingtonpost.com/entry/a-doctor-prescribed-my-so_us_5b9d78ffe4b03a1dcc8872fd</td>\n",
       "      <td>\"I thought Riley was exempt from hard drugs,\" says Peggy. \"We raised our boys in church; we did everything we thought we</td>\n",
       "    </tr>\n",
       "    <tr>\n",
       "      <th>110111</th>\n",
       "      <td>MutualArt, ContributorWorld's largest online art information service</td>\n",
       "      <td>ARTS</td>\n",
       "      <td>2014-10-06</td>\n",
       "      <td>\"@Large\" and Absent, Ai Weiwei on Alcatraz</td>\n",
       "      <td>https://www.huffingtonpost.com/entry/large-and-absent-ai-weiwe_b_5918448.html</td>\n",
       "      <td>The United States' most storied island prison, Alcatraz, is a fitting home for artist and activist Ai Weiwei's latest project, @Large.</td>\n",
       "    </tr>\n",
       "    <tr>\n",
       "      <th>194610</th>\n",
       "      <td>Cheryl Krueger, Contributor\\nFounder, Growing Fortunes Financial Partners</td>\n",
       "      <td>MONEY</td>\n",
       "      <td>2012-04-04</td>\n",
       "      <td>\"4% Rule\" Serves as Guideline for Today's Retirees, But Use With Caution</td>\n",
       "      <td>https://www.huffingtonpost.com/entry/retirement-planning-four-percent-rule_us_5b9b8975e4b03a1dcc786d0b</td>\n",
       "      <td>An estimated 10,000 baby boomers turn age 65 each day. Many of them have a significant portion of their retirement savings invested in non-guaranteed defined contribution plans such as 401(k)s and IRAs. As they retire, they will need to switch from saving to spending down.</td>\n",
       "    </tr>\n",
       "    <tr>\n",
       "      <th>130009</th>\n",
       "      <td>Jackie K Cooper, Contributor\\nFilm Critic</td>\n",
       "      <td>ENTERTAINMENT</td>\n",
       "      <td>2014-02-22</td>\n",
       "      <td>\"3 Days to Kill\" Proves Costner's Still Got It</td>\n",
       "      <td>https://www.huffingtonpost.com/entry/3-days-to-kill-proves-cos_us_5bb44c63e4b066f8d257db8e</td>\n",
       "      <td>Kevin Costner is starring in the new action flick 3 Days to Kill and he is bringing his charm and charisma with him.</td>\n",
       "    </tr>\n",
       "    <tr>\n",
       "      <th>149150</th>\n",
       "      <td>Jackie K Cooper, Contributor\\nFilm Critic</td>\n",
       "      <td>ENTERTAINMENT</td>\n",
       "      <td>2013-08-03</td>\n",
       "      <td>\"2 Guns\": Two Pros In Action</td>\n",
       "      <td>https://www.huffingtonpost.com/entry/2-guns-two-pros-in-action_us_5bb43389e4b066f8d25622db</td>\n",
       "      <td>It helps that the supporting cast is almost as strong as the leads. Patton is a definite plus as the love interest for Washington</td>\n",
       "    </tr>\n",
       "  </tbody>\n",
       "</table>\n",
       "<p>180543 rows × 6 columns</p>\n",
       "</div>"
      ],
      "text/plain": [
       "                                                                                                      authors  \\\n",
       "36290   Darin Graham, ContributorJournalist                                                                     \n",
       "21194   Mycah Hazel, Contributorblogger, equal opportunity enthusiast                                           \n",
       "29672   Dana Brownlee, ContributorPresident of Professionalism Matters, a corporate training/key...             \n",
       "199048                                                                                                          \n",
       "193783                                                                                                          \n",
       "112446                                                                                                          \n",
       "123546                                                                                                          \n",
       "2932    Elyse Wanshel                                                                                           \n",
       "67601   Nina Golgowski                                                                                          \n",
       "85380   Lilly Workneh                                                                                           \n",
       "25186   Sara Hylton, Women & Girls Hub                                                                          \n",
       "26210   Stateline, ContributorStateline provides daily reporting and analysis on trends in s...                 \n",
       "20973   Bill Bradley                                                                                            \n",
       "26939   Robert Weissman, ContributorPresident of Public Citizen                                                 \n",
       "15705   Spencer Smith, ContributorTech-worker + Concerned Citizen                                               \n",
       "83968   Alanna Vagianos                                                                                         \n",
       "35588   Elyse Wanshel                                                                                           \n",
       "16236   The Conversation Global, ContributorThe Conversation is a collaboration between editors and academ...   \n",
       "14817   The Conversation Global, ContributorThe Conversation is a collaboration between editors and academ...   \n",
       "74066   Juliet Linderman, AP                                                                                    \n",
       "39284   Patricia Allard and Lill M. Hewko, Contributors                                                         \n",
       "10348   Ed Mazza                                                                                                \n",
       "19088   Rumbi Chakamba, Women & Girls                                                                           \n",
       "10318   Igor Bobic                                                                                              \n",
       "66764                                                                                                           \n",
       "85147                                                                                                           \n",
       "46537   Bill Bradley                                                                                            \n",
       "9375    Leigh Blickley                                                                                          \n",
       "4487    Lyndsey Parker, Yahoo Entertainment                                                                     \n",
       "12525   Lee Moran                                                                                               \n",
       "...           ...                                                                                               \n",
       "79194                                                                                                           \n",
       "184553  Sarah Leon                                                                                              \n",
       "127174  Pippa Biddle , Contributor\\nWriter.                                                                     \n",
       "93360   Style.com, Contributor                                                                                  \n",
       "170481  Broke Girls Guide, Contributor\\nCo-founders Erin Bunch and Michelle Vick                                \n",
       "180013                                                                                                          \n",
       "25151   Anna Sabino, ContributorBusiness Growth and Life Coach, Designer, Author                                \n",
       "118713  Brian Holton Henderson, ContributorBlogger                                                              \n",
       "137976  Jackie K Cooper, Contributor\\nFilm Critic                                                               \n",
       "120489  James Scarborough, ContributorArt, theatre, and film critic                                             \n",
       "106321  Brennan Williams                                                                                        \n",
       "184863  Lisa Earle McLeod, Contributor\\nCreator of Noble Purpose in business concept                            \n",
       "60589   Jackie K. Cooper, ContributorFilm Critic                                                                \n",
       "68627   Rick Horowitz, ContributorMilwaukee Public TV Commentator, Writing Coach, Writing & ...                 \n",
       "91213   John Shore, ContributorAuthor, \"Ashes to Asheville.\"                                                    \n",
       "115463  H. Adam Ackley, Ph.D., ContributorTrans suicide prevention trainer, retired college prof, licens...     \n",
       "135037  Kate Scharff, Contributor\\nPsychotherapist, Divorce Expert, Author, Founder of Collaborat...            \n",
       "50799   Jackie K. Cooper, ContributorFilm Critic                                                                \n",
       "147824  Jackie K Cooper, Contributor\\nFilm Critic                                                               \n",
       "193086                                                                                                          \n",
       "40225   E. Nina Rothe, ContributorCultural Activist                                                             \n",
       "120801  Tanene Allison, ContributorPolitical communications strategist                                          \n",
       "57464   Paul_Smith, ContributorDirector, British Council USA                                                    \n",
       "197915  Steven Kurlander, Contributor\\nAttorney and Blogger                                                     \n",
       "151118  David Wild, Contributor\\nTV Writer; Contributing Editor, Rolling Stone; Co-Author, 'Eve...              \n",
       "146670  Tessie Castillo, Contributor\\nAdvocacy and Communications Coordinator for the North Carolina...         \n",
       "110111  MutualArt, ContributorWorld's largest online art information service                                    \n",
       "194610  Cheryl Krueger, Contributor\\nFounder, Growing Fortunes Financial Partners                               \n",
       "130009  Jackie K Cooper, Contributor\\nFilm Critic                                                               \n",
       "149150  Jackie K Cooper, Contributor\\nFilm Critic                                                               \n",
       "\n",
       "              category       date  \\\n",
       "36290   WOMEN          2017-01-25   \n",
       "21194   HEALTHY LIVING 2017-07-18   \n",
       "29672   BUSINESS       2017-04-10   \n",
       "199048  DIVORCE        2012-02-16   \n",
       "193783  DIVORCE        2012-04-13   \n",
       "112446  WOMEN          2014-09-09   \n",
       "123546  WEIRD NEWS     2014-05-05   \n",
       "2932    QUEER VOICES   2018-04-02   \n",
       "67601   WEIRD NEWS     2016-02-03   \n",
       "85380   BLACK VOICES   2015-07-17   \n",
       "25186   WORLD NEWS     2017-05-31   \n",
       "26210   POLITICS       2017-05-19   \n",
       "20973   ENTERTAINMENT  2017-07-20   \n",
       "26939   POLITICS       2017-05-11   \n",
       "15705   QUEER VOICES   2017-09-25   \n",
       "83968   WOMEN          2015-08-03   \n",
       "35588   COMEDY         2017-02-01   \n",
       "16236   WORLD NEWS     2017-09-18   \n",
       "14817   WORLD NEWS     2017-10-05   \n",
       "74066   BLACK VOICES   2015-11-21   \n",
       "39284   IMPACT         2016-12-22   \n",
       "10348   COMEDY         2017-12-04   \n",
       "19088   WORLD NEWS     2017-08-12   \n",
       "10318   POLITICS       2017-12-05   \n",
       "66764   WOMEN          2016-02-12   \n",
       "85147   BLACK VOICES   2015-07-20   \n",
       "46537   ENTERTAINMENT  2016-09-30   \n",
       "9375    ENTERTAINMENT  2017-12-17   \n",
       "4487    QUEER VOICES   2018-03-06   \n",
       "12525   ENTERTAINMENT  2017-11-04   \n",
       "...               ...         ...   \n",
       "79194   LATINO VOICES  2015-09-25   \n",
       "184553  STYLE & BEAUTY 2012-07-21   \n",
       "127174  TRAVEL         2014-03-25   \n",
       "93360   STYLE          2015-04-17   \n",
       "170481  FOOD & DRINK   2012-12-20   \n",
       "180013  SCIENCE        2012-09-09   \n",
       "25151   COMEDY         2017-06-01   \n",
       "118713  POLITICS       2014-07-01   \n",
       "137976  ENTERTAINMENT  2013-11-29   \n",
       "120489  ARTS           2014-06-10   \n",
       "106321  BLACK VOICES   2014-11-19   \n",
       "184863  MONEY          2012-07-18   \n",
       "60589   ENTERTAINMENT  2016-04-24   \n",
       "68627   POLITICS       2016-01-23   \n",
       "91213   RELIGION       2015-05-12   \n",
       "115463  RELIGION       2014-08-06   \n",
       "135037  DIVORCE        2013-12-30   \n",
       "50799   ENTERTAINMENT  2016-08-13   \n",
       "147824  ENTERTAINMENT  2013-08-17   \n",
       "193086  CULTURE & ARTS 2012-04-21   \n",
       "40225   ENTERTAINMENT  2016-12-11   \n",
       "120801  POLITICS       2014-06-07   \n",
       "57464   ARTS           2016-05-30   \n",
       "197915  PARENTING      2012-02-29   \n",
       "151118  ENTERTAINMENT  2013-07-13   \n",
       "146670  PARENTING      2013-08-29   \n",
       "110111  ARTS           2014-10-06   \n",
       "194610  MONEY          2012-04-04   \n",
       "130009  ENTERTAINMENT  2014-02-22   \n",
       "149150  ENTERTAINMENT  2013-08-03   \n",
       "\n",
       "                                                                                                                    headline  \\\n",
       "36290   “We Shall Overcomb!” Say The 100,000 Marching Against Trump In London                                                  \n",
       "21194   “To The Bone” Didn’t Teach Me Glamour. It Taught Me Respect.                                                           \n",
       "29672   “I’m Sorry\"--The Two Tragically Forgotten Words In Customer Service                                                    \n",
       "199048  ‘Your Divorce Ruined My Life' What To Do When Your Child Blames You                                                    \n",
       "193783  ‘You Better Sit Down,' By The Civilians, At Flea Theater                                                               \n",
       "112446  ‘Yes' Is Better Than ‘No' When It Comes To Consensual Sex On Campus                                                    \n",
       "123546  ‘Worst Mom In The World' Selfies                                                                                       \n",
       "2932    ‘Will & Grace’ Creator To Donate Gay Bunny Book To Every Grade School In Indiana                                       \n",
       "67601   ‘Wild Boar Curling’ Rescues Stranded Wild Boars From Frozen Lake                                                       \n",
       "85380   ‘We’re Never Gonna Forget’: Eric Garner’s Family Reflects On His Death One Year Later                                  \n",
       "25186   ‘We Are the Same Blood’: The Invisible Lives Of India’s Dalit Women                                                    \n",
       "26210   ‘WannaCry’ Ransomware Attack Raises Alarm Bells For Cities, States                                                     \n",
       "20973   ‘Walking Dead’ Reportedly Cancels Comic-Con Press Events Following Stuntman's Death                                    \n",
       "26939   ‘Voter Fraud’ Executive Order: Trump’s Fraud On Democracy                                                              \n",
       "15705   ‘Voices 4 Chechnya’ Speaks Out On Giving Voices To LGBTQ+ Chechens                                                     \n",
       "83968   ‘UnREAL’ Director On Why ‘White Men’ Shouldn’t Be Hollywood’s Only Storytellers                                        \n",
       "35588   ‘Trump Draws’ Hilariously Mocks President Signing Executive Orders                                                     \n",
       "16236   ‘Triple Talaq’ Abolition Is Only The Start Of A Larger Campaign For Gender Justice In India                            \n",
       "14817   ‘Triple Talaq’ Abolition Is Only The Start Of A Larger Campaign For Gender Justice In India                            \n",
       "74066   ‘To Hear A Mother’s Cries … It Does Something To You'                                                                  \n",
       "39284   ‘Tis The Season For Miracles: Eight-Year-Old Darina Tries To Get Her Incarcerated Dad Closer To Home                   \n",
       "10348   ‘Tis The Season For Impeachment In Chipmunks Christmas Parody                                                          \n",
       "19088   ‘They Say We’re Sinners’: Protecting Malawi’s Sex Workers From Police                                                  \n",
       "10318   ‘They Cannot Hide From Him’: Democrats See Big Gains In Gubernatorial Races Under Trump                                \n",
       "66764   ‘There’s An Image Problem’: The Drive To Attract Girls To STEM                                                         \n",
       "85147   ‘The Wire’ Cast Reunited In Baltimore To Uplift Community                                                              \n",
       "46537   ‘The Walking Dead’ Show And Comics Won’t End The Same Way                                                              \n",
       "9375    ‘The Voice’ Is Great TV. It’s Just Not Always Great For The Winners.                                                   \n",
       "4487    ‘The Voice’ Blind Auditions Make History With First Trans Contestant                                                   \n",
       "12525   ‘The Simpsons’ Trolls Donald Trump With Message For San Juan Mayor                                                     \n",
       "...                                                                    ...                                                     \n",
       "79194   \"Endgame\": Carmen Marrón Makes Inspiring Film About Latino Life                                                        \n",
       "184553  \"Dynasty\" Actress Stephanie Beacham Let Her Freckles Shine Through In 1972 (PHOTO)                                     \n",
       "127174  \"Don't Worry, Be Happy\" and a Dirt Road in Tanzania                                                                    \n",
       "93360   \"Dior and I\"...and I: How Frédéric Tcheng Made the Fashion Documentary of the Decade                                   \n",
       "170481  \"Dinner for One: Pomegranates & Pork Chops\" (VIDEO)                                                                    \n",
       "180013  \"Demon Star\" Algol Of Perseus Constellation Visible In Night Sky This Week                                             \n",
       "25151   \"Covfefe\" - Social Confetti - Laughing Together And Being United Regardless Of Our Beliefs.                            \n",
       "118713  \"Conservatives Don't Like Taxes\" and Other Lessons on Running for Office (from a 27-year-old Oklahoman Who Couldn't)   \n",
       "137976  \"Christmas in Conway\" Is a Winner For the Hallmark Hall of Fame                                                        \n",
       "120489  \"Cartographia: Artifacts of a Creative Journey,\" Torrance Art Museum                                                   \n",
       "106321  \"Bye Felicia\" Is The Name Of a New TV Show And You'll Never Guess What It's About                                      \n",
       "184863  \"But We've Already Spent the Money!\"                                                                                   \n",
       "60589   \"Bosch\" Is Back and Better Than Ever                                                                                   \n",
       "68627   \"Black Lives Matter\" (the \"Too\" Is Silent)                                                                             \n",
       "91213   \"Bible Believing\" Pastors and the Enabling of Domestic Violence                                                        \n",
       "115463  \"Better to Marry\": For Christians, Gay Marriage -- Not Celibacy                                                        \n",
       "135037  \"Because We Both Love You\" -- New Year's Resolutions for Divorced Parents                                              \n",
       "50799   \"Bachelors\" Is a Profanity Laden RomCom                                                                                \n",
       "147824  \"Baby Sellers\" Shows the Evil Side of Kirstie Alley                                                                    \n",
       "193086  \"Archizines + Arch-Art! Books\" Comes To Storefront For Art And Architecture (PHOTOS)                                   \n",
       "40225   \"An International Film Festival with an Arab Heart\": Masoud Amralla Al Ali Opens Up About Dubai Film Fest              \n",
       "120801  \"Amazing Grace\" Garcia and Her Legacy Among Texas Women                                                                \n",
       "57464   \"Age Shall Not Weary Them\" - Shakespeare and Memorial Day                                                              \n",
       "197915  \"Adoption\" Needs to Become a Buzz Word in the Social Lexicon of America                                                \n",
       "151118  \"A Legal Matter\": A Playlist for The Zimmerman Jury                                                                    \n",
       "146670  \"A Doctor Prescribed My Son 140 Pain Pills in One Week. Now My Son is Dead.\"                                           \n",
       "110111  \"@Large\" and Absent, Ai Weiwei on Alcatraz                                                                             \n",
       "194610  \"4% Rule\" Serves as Guideline for Today's Retirees, But Use With Caution                                               \n",
       "130009  \"3 Days to Kill\" Proves Costner's Still Got It                                                                         \n",
       "149150  \"2 Guns\": Two Pros In Action                                                                                           \n",
       "\n",
       "                                                                                                                                                                                                                                                        link  \\\n",
       "36290   https://www.huffingtonpost.com/entry/we-shall-overcomb-say-the-100000-marching-against_us_5888bf29e4b05a82fd5b30b3                                                                                                                                     \n",
       "21194   https://www.huffingtonpost.com/entry/to-the-bone-didnt-teach-me-glamour-it-taught-me_us_596d50afe4b05561da5a5a0c                                                                                                                                       \n",
       "29672   https://www.huffingtonpost.com/entry/im-sorrythe-two-tragically-forgotten-words-in-customer_us_58eadad7e4b00dd8e016ed62                                                                                                                                \n",
       "199048  https://www.huffingtonpost.comhttp://www.theglobeandmail.com/life/parenting/advice/anthony-e-wolf/your-divorce-ruined-my-life-what-to-do-when-your-child-blames-you/article2340805/?utm_medium=Feeds:%20RSS/Atom&utm_source=Home&utm_content=2340805   \n",
       "193783  https://www.huffingtonpost.comhttp://theater.nytimes.com/2012/04/13/theater/reviews/you-better-sit-down-by-the-civilians-at-flea-theater.html                                                                                                          \n",
       "112446  https://www.huffingtonpost.com/entry/michael-kimmel-and-gloria_n_5790164.html                                                                                                                                                                          \n",
       "123546  https://www.huffingtonpost.com/entry/worst-mom-selfie_n_5268445.html                                                                                                                                                                                   \n",
       "2932    https://www.huffingtonpost.com/entry/will-grace-creator-donate-john-olivers-gay-bunny-book-to-every-elementary-school-in-indiana_us_5ac28265e4b00fa46f854225                                                                                           \n",
       "67601   https://www.huffingtonpost.com/entry/wild-boar-curling-rescues-boars_us_56b25c45e4b04f9b57d82cd8                                                                                                                                                       \n",
       "85380   https://www.huffingtonpost.com/entry/were-never-gonna-forget-eric-garners-family-reflects-on-his-death-one-year-later_us_55a91617e4b04740a3dfb353                                                                                                      \n",
       "25186   https://www.huffingtonpost.com/entry/we-are-the-same-blood-the-invisible-lives-of-indias-dalit-women_us_592f1419e4b0e09b11ed2469                                                                                                                       \n",
       "26210   https://www.huffingtonpost.com/entry/wannacry-ransomware-attack-raises-alarm-bells-for_us_591f0192e4b07617ae4cbb44                                                                                                                                     \n",
       "20973   https://www.huffingtonpost.com/entry/walking-dead-reportedly-cancels-comic-con-press-events-following-stuntmans-death_us_59705e2ae4b0110cb3cbae59                                                                                                      \n",
       "26939   https://www.huffingtonpost.com/entry/voter-fraud-executive-order-trumps-fraud-on-democracy_us_59149a39e4b016248243f28a                                                                                                                                 \n",
       "15705   https://www.huffingtonpost.com/entry/voices-4-chechnya-on-giving-voices-to-lgbtq-chechens_us_59c91360e4b0f2df5e83b01c                                                                                                                                  \n",
       "83968   https://www.huffingtonpost.com/entry/unreal-director-on-why-white-men-shouldnt-be-hollywoods-only-storytellers_us_55bf9bb5e4b0d4f33a036d5d                                                                                                             \n",
       "35588   https://www.huffingtonpost.com/entry/trump-draws-twitter_us_589209f9e4b0c90eff015813                                                                                                                                                                   \n",
       "16236   https://www.huffingtonpost.com/entry/triple-talaq-abolition-is-only-the-start-of-a-larger_us_59c0010fe4b06ecee6b2a2cd                                                                                                                                  \n",
       "14817   https://www.huffingtonpost.com/entry/triple-talaq-abolition-is-only-the-start-of-a-larger_us_59d688cae4b0705dc79aa650                                                                                                                                  \n",
       "74066   https://www.huffingtonpost.com/entry/to-hear-a-mothers-cries-it-does-something-to-you_us_5650dcece4b0879a5b0b4947                                                                                                                                      \n",
       "39284   https://www.huffingtonpost.com/entry/tis-the-season-for-miracles-8-yr-old-darina-tries_us_585c4cade4b068764965bb6e                                                                                                                                     \n",
       "10348   https://www.huffingtonpost.com/entry/chipmunks-christmas-impeachment_us_5a24fc5ce4b03c44072e77d8                                                                                                                                                       \n",
       "19088   https://www.huffingtonpost.com/entry/protecting-malawi-sex-workers-from-police_us_598f2a5ce4b08a247274a7c8                                                                                                                                             \n",
       "10318   https://www.huffingtonpost.com/entry/dga-jay-inslee-trump_us_5a25f819e4b07324e8402204                                                                                                                                                                  \n",
       "66764   https://www.huffingtonpost.comhttp://www.irishtimes.com/news/education/there-s-an-image-problem-the-drive-to-attract-girls-to-stem-1.2522659                                                                                                           \n",
       "85147   https://www.huffingtonpost.comhttp://baltimore.cbslocal.com/2015/07/18/the-wire-cast-reunited-in-baltimore-to-uplift-community/                                                                                                                        \n",
       "46537   https://www.huffingtonpost.com/entry/the-walking-dead-show-comics_us_57eeab29e4b0c2407cddb94e                                                                                                                                                          \n",
       "9375    https://www.huffingtonpost.com/entry/the-voice-success-for-winners_us_5a0b545ee4b00a6eece4e116                                                                                                                                                         \n",
       "4487    https://www.huffingtonpost.com/entry/the-voice-blind-auditions-make-history-with-first-trans-contestant_us_5a9ece6ee4b002df2c5e39c2                                                                                                                    \n",
       "12525   https://www.huffingtonpost.com/entry/the-simpsons-donald-trump-donation-puerto-rico_us_59fd75fbe4b04cdbeb335a39                                                                                                                                        \n",
       "...                                                                                                                 ...                                                                                                                                        \n",
       "79194   https://www.huffingtonpost.comhttp://www.nbcnews.com/news/latino/endgame-carmen-carron-makes-inspiring-film-about-latino-life-n432831                                                                                                                  \n",
       "184553  https://www.huffingtonpost.com/entry/dynasty-actress-stephanie-beacham-photo_us_5b9c03ffe4b03a1dcc7bc7a2                                                                                                                                               \n",
       "127174  https://www.huffingtonpost.com/entry/dont-worry-be-happy-and-a_us_5b9df1b9e4b03a1dcc8f4152                                                                                                                                                             \n",
       "93360   https://www.huffingtonpost.com/entry/dior-and-iand-i-how-frede_b_7079976.html                                                                                                                                                                          \n",
       "170481  https://www.huffingtonpost.com/entry/dinner-for-one-pomegranat_us_5b9ca7ade4b03a1dcc809a57                                                                                                                                                             \n",
       "180013  https://www.huffingtonpost.com/entry/demon-star-algol-night-sky_us_5baeb121e4b014374e2dcc44                                                                                                                                                            \n",
       "25151   https://www.huffingtonpost.com/entry/covfefe-social-confetti-laughing-together-and_us_592fcab6e4b0d80e3a8a3360                                                                                                                                         \n",
       "118713  https://www.huffingtonpost.com/entry/conservatives-dont-like-t_b_5542584.html                                                                                                                                                                          \n",
       "137976  https://www.huffingtonpost.com/entry/christmas-in-conway-is-a_us_5bb44417e4b066f8d2572ff6                                                                                                                                                              \n",
       "120489  https://www.huffingtonpost.com/entry/cartographia-artifacts-of_b_5373336.html                                                                                                                                                                          \n",
       "106321  https://www.huffingtonpost.com/entry/vh1-bye-felicia_n_6188070.html                                                                                                                                                                                    \n",
       "184863  https://www.huffingtonpost.com/entry/but-weve-already-spent-th_us_5b9c000de4b03a1dcc7ba9e3                                                                                                                                                             \n",
       "60589   https://www.huffingtonpost.com/entry/bosch-is-back-and-better_b_9766320.html                                                                                                                                                                           \n",
       "68627   https://www.huffingtonpost.com/entry/black-lives-matter-the-to_b_9059290.html                                                                                                                                                                          \n",
       "91213   https://www.huffingtonpost.com/entry/bible-believing-pastors-and-the-enabling-of-domestic-violence_b_7240602.html                                                                                                                                      \n",
       "115463  https://www.huffingtonpost.com/entry/who-sinned-remembering-je_b_5549197.html                                                                                                                                                                          \n",
       "135037  https://www.huffingtonpost.com/entry/new-years-resolutions-for_us_5b9dbd9ce4b03a1dcc8c4b4d                                                                                                                                                             \n",
       "50799   https://www.huffingtonpost.com/entry/bachelors-is-a-profanity_b_11486294.html                                                                                                                                                                          \n",
       "147824  https://www.huffingtonpost.com/entry/baby-sellers-shows-the-ev_us_5bb43526e4b066f8d25641f2                                                                                                                                                             \n",
       "193086  https://www.huffingtonpost.com/entry/archizines-arch-art-books_us_5bb225b0e4b0171db69dc78c                                                                                                                                                             \n",
       "40225   https://www.huffingtonpost.com/entry/an-international-film-fes_b_13560356.html                                                                                                                                                                         \n",
       "120801  https://www.huffingtonpost.com/entry/amazing-grace-garcia-and-_b_5466244.html                                                                                                                                                                          \n",
       "57464   https://www.huffingtonpost.com/entry/age-shall-not-weary-them-_b_10201566.html                                                                                                                                                                         \n",
       "197915  https://www.huffingtonpost.com/entry/-adoption-needs-to-become_us_5b9b63f2e4b03a1dcc772b09                                                                                                                                                             \n",
       "151118  https://www.huffingtonpost.com/entry/a-legal-matter-a-playlist_us_5bb430afe4b066f8d255f23d                                                                                                                                                             \n",
       "146670  https://www.huffingtonpost.com/entry/a-doctor-prescribed-my-so_us_5b9d78ffe4b03a1dcc8872fd                                                                                                                                                             \n",
       "110111  https://www.huffingtonpost.com/entry/large-and-absent-ai-weiwe_b_5918448.html                                                                                                                                                                          \n",
       "194610  https://www.huffingtonpost.com/entry/retirement-planning-four-percent-rule_us_5b9b8975e4b03a1dcc786d0b                                                                                                                                                 \n",
       "130009  https://www.huffingtonpost.com/entry/3-days-to-kill-proves-cos_us_5bb44c63e4b066f8d257db8e                                                                                                                                                             \n",
       "149150  https://www.huffingtonpost.com/entry/2-guns-two-pros-in-action_us_5bb43389e4b066f8d25622db                                                                                                                                                             \n",
       "\n",
       "                                                                                                                                                                                                                                                                                                        short_description  \n",
       "36290   Thousands of activists descended on London to march for women’s rights, diversity and equality last Saturday. The Women’s                                                                                                                                                                                          \n",
       "21194   Oftentimes, films or TV shows about eating disorders try to convince victims to stop by showing them their sickly thin appearance                                                                                                                                                                                  \n",
       "29672   Unfortunately, I was one of those frustrated passengers caught in the midst of the recent spring break travel nightmare that                                                                                                                                                                                       \n",
       "199048  It was Sunday night and Lucas’s mother had had it with her 15-year-old son. “I am just sick of this. Look at this mess. I                                                                                                                                                                                          \n",
       "193783  The Civilians, the enterprising troupe specializing in documentary theater drawn from interviews, takes its tape recorders                                                                                                                                                                                         \n",
       "112446                                                                                                                                                                                                                                                                                                                     \n",
       "123546                                                                                                                                                                                                                                                                                                                     \n",
       "2932    It's about to be a lot easier for kids in Mike Pence's home state to read “A Day in the Life of Marlon Bundo.”                                                                                                                                                                                                     \n",
       "67601   Get this pig in a blanket!                                                                                                                                                                                                                                                                                         \n",
       "85380   Eric Garner's family share memories of the family man one year after his death.                                                                                                                                                                                                                                    \n",
       "25186   A girl from the Dalit village of Harirajpur, in Odisha, chases a kite on the dried-up Mahanadi riverbed. This is the primary                                                                                                                                                                                       \n",
       "26210   While the recent global cyberattack has spared federal government agencies, some state and local governments have been affected                                                                                                                                                                                    \n",
       "20973   But the panel will still happen.                                                                                                                                                                                                                                                                                   \n",
       "26939   Horrifying, disgusting and shameful. Those are the words that come to mind for President Donald Trump’s transparent attempt                                                                                                                                                                                        \n",
       "15705   \"When people are being rounded up, tortured, and murdered for who they are, you must act.”                                                                                                                                                                                                                         \n",
       "83968   “We’ve already tried having only white men tell our stories.\"                                                                                                                                                                                                                                                      \n",
       "35588   Fine art.                                                                                                                                                                                                                                                                                                          \n",
       "16236   The egregious practice that some Muslim men employ to divorce their wives instantaneously and without their consent, merely                                                                                                                                                                                        \n",
       "14817   By Zoya Hasan, Jawahawlal Nehru University The egregious practice that some Muslim men employ to divorce their wives instantaneously                                                                                                                                                                               \n",
       "74066   Meet the funeral home director who buries the dead in Baltimore's most violent year.                                                                                                                                                                                                                               \n",
       "39284   For many faiths and traditions, the winter holidays are rooted in stories about miracles that generate hope and something                                                                                                                                                                                          \n",
       "10348   \"Please Mueller don't be late.\"                                                                                                                                                                                                                                                                                    \n",
       "19088   Discrimination and misunderstanding of the law are causing tensions between Malawi’s police and sex workers, who often accuse                                                                                                                                                                                      \n",
       "10318   The stakes are high with redistricting battles on the horizon.                                                                                                                                                                                                                                                     \n",
       "66764   Don’t date the nerd, “be the nerd”, was Facebook founder Mark Zuckerberg’s advice last month. He was responding to a social                                                                                                                                                                                        \n",
       "85147   BALTIMORE (WJZ)–The cast of HBO’s The Wire reunites for a special performance right here in Baltimore on Saturday.                                                                                                                                                                                                 \n",
       "46537   And you thought the finale was upsetting.                                                                                                                                                                                                                                                                          \n",
       "9375    A handful of former contestants, plus host and producer Carson Daly, break down what happens after each season wraps.                                                                                                                                                                                              \n",
       "4487    Austin Giorgio, 21: “How Sweet It Is (To Be Loved by You)” Young crooners have appeared on singing competitions since “American                                                                                                                                                                                    \n",
       "12525   \"I personally know how it feels when somebody comes and throws paper towels at you,\" said bartender Moe Szyslak.                                                                                                                                                                                                   \n",
       "...                                                                                                                  ...                                                                                                                                                                                                   \n",
       "79194   Young José has problems. He lives under the shadow of his athletic older brother. His single mother is stressed out. His                                                                                                                                                                                           \n",
       "184553  Art by Raydene Salinas Lichfield/Getty Images British actress Stephanie Beacham knew what she was doing when it came to big                                                                                                                                                                                        \n",
       "127174  This young girl whose parents struggled to scrape together the funds to send her to school and who works in the fields when she isn't studying to become a doctor, had made me a necklace and brought me the very t-shirt she had been wearing the day before as gifts.                                            \n",
       "93360   The moment Raf Simons cries isn't even the best part of Frédéric Tcheng's documentary Dior and I. Neither is Simons' triumphant bow at the Fall 2012 Haute Couture show or the suspenseful moment when it seems no couture dresses will arrive at a fitting.                                                       \n",
       "170481  This episode is all about pomegranates -- a Pom Royale cocktail, a Pomegranate Cast Iron Porkchop and a Blueberry & Pomegranate Shortbread Crumble.                                                                                                                                                                \n",
       "180013  Magnitudes are celestial numbers that measures how bright a sky object is; the smaller the value, the brighter the object                                                                                                                                                                                          \n",
       "25151   This post is very different from what I usually write about although it’s somewhat related to writing and its process. If                                                                                                                                                                                          \n",
       "118713  Politicians like Mike Turner willfully sling about phrases like \"the big hand of government\" and \"despotic solar subsidies\" while ignoring the fact that increasing numbers of conservatives are adamantly pro-solar.                                                                                              \n",
       "137976  With its latest production, \"Christmas in Conway,\" the Hallmark Hall of Fame reaches back to its emotional roots and delivers a story that touches our hearts in this holiday season.                                                                                                                              \n",
       "120489  This exhibition proposes that artists are mapmakers, their works, maps, and their audience, orienteers. It also suggests a correlation between its content and form. If maps and mapping strategies are the content, then a virtual exhibition is its form.                                                        \n",
       "106321                                                                                                                                                                                                                                                                                                                     \n",
       "184863  It doesn't matter how much time or money you've spent. Given where you are right now, do you want to continue on this path, or take a different one?                                                                                                                                                               \n",
       "60589                                                                                                                                                                                                                                                                                                                      \n",
       "68627   It's pretty easy to understand. Unless you're trying not to.                                                                                                                                                                                                                                                       \n",
       "91213   I didn't know the pastor who phoned me from Alabama. But my alarm bells went off the moment he identified himself as a \"Bible-believing Christian.\"                                                                                                                                                                \n",
       "115463  As a scholar of religion who is gay (and -- by the way -- currently celibate), I staunchly oppose this heretical Christian claim that the rare spiritual gift of and vocation to celibacy is automatically to be assigned to an entire group of people merely because of their affectional or sexual orientation.  \n",
       "135037  We'll compliment the good traits we still see in each other, and we'll tell you how, if given the choice, we'd do it all again -- because not being your parents is unimaginable.                                                                                                                                  \n",
       "50799                                                                                                                                                                                                                                                                                                                      \n",
       "147824  The true story is that Carla is a cold hearted woman who thinks nothing of stealing children from their natural parents and                                                                                                                                                                                        \n",
       "193086  The double exhibition \"Archizines + Arch-Art! Books\" will show that even if print is not the norm, its importance and influence                                                                                                                                                                                    \n",
       "40225                                                                                                                                                                                                                                                                                                                      \n",
       "120801  Grace Garcia was the matriarch of a tight-knit circle of women working to change the face of power in Texas politics.                                                                                                                                                                                              \n",
       "57464   It's a phrase that resonates as we remember the warriors, the heroes, the veterans, those we continuously applaud, and particularly on Memorial Day, for their service.                                                                                                                                            \n",
       "197915  Any adoptive mother or father will tell you that the memory of the first day they held, hugged and began bonding with their adopted child is the strongest remembrance of fulfillment in a lifetime.                                                                                                               \n",
       "151118  Robert Frost once noted, \"A jury consists of twelve persons chosen to decide who has the better lawyer.\" The jury in the trial of George Zimmerman consists of six woman, and this playlist goes out to these sequestered Americans as they try to make sense of this case.                                        \n",
       "146670  \"I thought Riley was exempt from hard drugs,\" says Peggy. \"We raised our boys in church; we did everything we thought we                                                                                                                                                                                           \n",
       "110111  The United States' most storied island prison, Alcatraz, is a fitting home for artist and activist Ai Weiwei's latest project, @Large.                                                                                                                                                                             \n",
       "194610  An estimated 10,000 baby boomers turn age 65 each day. Many of them have a significant portion of their retirement savings invested in non-guaranteed defined contribution plans such as 401(k)s and IRAs. As they retire, they will need to switch from saving to spending down.                                  \n",
       "130009  Kevin Costner is starring in the new action flick 3 Days to Kill and he is bringing his charm and charisma with him.                                                                                                                                                                                               \n",
       "149150  It helps that the supporting cast is almost as strong as the leads. Patton is a definite plus as the love interest for Washington                                                                                                                                                                                  \n",
       "\n",
       "[180543 rows x 6 columns]"
      ]
     },
     "execution_count": 68,
     "metadata": {},
     "output_type": "execute_result"
    }
   ],
   "source": [
    "news_data.sort_values('headline', inplace=True, ascending=False)\n",
    "news_data"
   ]
  },
  {
   "cell_type": "code",
   "execution_count": 69,
   "metadata": {},
   "outputs": [
    {
     "data": {
      "text/plain": [
       "36290     False\n",
       "21194     False\n",
       "29672     False\n",
       "199048    False\n",
       "193783    False\n",
       "112446    False\n",
       "123546    False\n",
       "2932      False\n",
       "67601     False\n",
       "85380     False\n",
       "25186     False\n",
       "26210     False\n",
       "20973     False\n",
       "26939     False\n",
       "15705     False\n",
       "83968     False\n",
       "35588     False\n",
       "16236     True \n",
       "14817     True \n",
       "74066     False\n",
       "39284     False\n",
       "10348     False\n",
       "19088     False\n",
       "10318     False\n",
       "66764     False\n",
       "85147     False\n",
       "46537     False\n",
       "9375      False\n",
       "4487      False\n",
       "12525     False\n",
       "          ...  \n",
       "79194     False\n",
       "184553    False\n",
       "127174    False\n",
       "93360     False\n",
       "170481    False\n",
       "180013    False\n",
       "25151     False\n",
       "118713    False\n",
       "137976    False\n",
       "120489    False\n",
       "106321    False\n",
       "184863    False\n",
       "60589     False\n",
       "68627     False\n",
       "91213     False\n",
       "115463    False\n",
       "135037    False\n",
       "50799     False\n",
       "147824    False\n",
       "193086    False\n",
       "40225     False\n",
       "120801    False\n",
       "57464     False\n",
       "197915    False\n",
       "151118    False\n",
       "146670    False\n",
       "110111    False\n",
       "194610    False\n",
       "130009    False\n",
       "149150    False\n",
       "Length: 180543, dtype: bool"
      ]
     },
     "execution_count": 69,
     "metadata": {},
     "output_type": "execute_result"
    }
   ],
   "source": [
    "duplicates = news_data.duplicated('headline', keep=False)\n",
    "duplicates"
   ]
  },
  {
   "cell_type": "code",
   "execution_count": 70,
   "metadata": {},
   "outputs": [
    {
     "name": "stdout",
     "output_type": "stream",
     "text": [
      "Total Articles before removal of duplicate title articles: 180543\n",
      "Total Articles after removal of duplicate title articles: 178760\n"
     ]
    }
   ],
   "source": [
    "print('Total Articles before removal of duplicate title articles:', news_data.shape[0])\n",
    "news_data = news_data[~duplicates]\n",
    "print('Total Articles after removal of duplicate title articles:', news_data.shape[0])"
   ]
  },
  {
   "cell_type": "markdown",
   "metadata": {},
   "source": [
    "### Checking for missing values"
   ]
  },
  {
   "cell_type": "code",
   "execution_count": 71,
   "metadata": {},
   "outputs": [
    {
     "data": {
      "text/plain": [
       "authors              0\n",
       "category             0\n",
       "date                 0\n",
       "headline             0\n",
       "link                 0\n",
       "short_description    0\n",
       "dtype: int64"
      ]
     },
     "execution_count": 71,
     "metadata": {},
     "output_type": "execute_result"
    }
   ],
   "source": [
    "news_data.isna().sum()"
   ]
  },
  {
   "cell_type": "markdown",
   "metadata": {},
   "source": [
    "## Data Exploration"
   ]
  },
  {
   "cell_type": "code",
   "execution_count": 72,
   "metadata": {},
   "outputs": [
    {
     "name": "stdout",
     "output_type": "stream",
     "text": [
      "<class 'pandas.core.frame.DataFrame'>\n",
      "Int64Index: 178760 entries, 36290 to 149150\n",
      "Data columns (total 6 columns):\n",
      "authors              178760 non-null object\n",
      "category             178760 non-null object\n",
      "date                 178760 non-null datetime64[ns]\n",
      "headline             178760 non-null object\n",
      "link                 178760 non-null object\n",
      "short_description    178760 non-null object\n",
      "dtypes: datetime64[ns](1), object(5)\n",
      "memory usage: 9.5+ MB\n"
     ]
    }
   ],
   "source": [
    "news_data.info()"
   ]
  },
  {
   "cell_type": "code",
   "execution_count": 73,
   "metadata": {},
   "outputs": [
    {
     "data": {
      "text/plain": [
       "(178760, 6)"
      ]
     },
     "execution_count": 73,
     "metadata": {},
     "output_type": "execute_result"
    }
   ],
   "source": [
    "news_data.shape"
   ]
  },
  {
   "cell_type": "code",
   "execution_count": 74,
   "metadata": {},
   "outputs": [
    {
     "name": "stdout",
     "output_type": "stream",
     "text": [
      "Total number of Articles: 178760\n"
     ]
    }
   ],
   "source": [
    "print('Total number of Articles:', news_data.shape[0])"
   ]
  },
  {
   "cell_type": "code",
   "execution_count": 75,
   "metadata": {},
   "outputs": [
    {
     "name": "stdout",
     "output_type": "stream",
     "text": [
      "Total number of unique authors: 24589\n"
     ]
    }
   ],
   "source": [
    "print('Total number of unique authors:', news_data['authors'].nunique())"
   ]
  },
  {
   "cell_type": "code",
   "execution_count": 76,
   "metadata": {},
   "outputs": [
    {
     "name": "stdout",
     "output_type": "stream",
     "text": [
      "Total number of unique categories: 41\n"
     ]
    }
   ],
   "source": [
    "print('Total number of unique categories:', news_data['category'].nunique())"
   ]
  },
  {
   "cell_type": "markdown",
   "metadata": {},
   "source": [
    "### Grouping articles category-wise"
   ]
  },
  {
   "cell_type": "code",
   "execution_count": 77,
   "metadata": {},
   "outputs": [
    {
     "data": {
      "application/vnd.plotly.v1+json": {
       "config": {
        "plotlyServerURL": "https://plot.ly"
       },
       "data": [
        {
         "type": "bar",
         "x": [
          "POLITICS",
          "ENTERTAINMENT",
          "WELLNESS",
          "TRAVEL",
          "STYLE & BEAUTY",
          "PARENTING",
          "QUEER VOICES",
          "HEALTHY LIVING",
          "BUSINESS",
          "FOOD & DRINK",
          "COMEDY",
          "SPORTS",
          "BLACK VOICES",
          "HOME & LIVING",
          "THE WORLDPOST",
          "PARENTS",
          "CRIME",
          "WEDDINGS",
          "WOMEN",
          "IMPACT",
          "DIVORCE",
          "MEDIA",
          "WEIRD NEWS",
          "GREEN",
          "WORLDPOST",
          "STYLE",
          "WORLD NEWS",
          "RELIGION",
          "SCIENCE",
          "TECH",
          "TASTE",
          "MONEY",
          "GOOD NEWS",
          "ARTS & CULTURE",
          "FIFTY",
          "ARTS",
          "ENVIRONMENT",
          "LATINO VOICES",
          "COLLEGE",
          "EDUCATION",
          "CULTURE & ARTS"
         ],
         "y": [
          30721,
          15463,
          13846,
          8242,
          8238,
          7027,
          5898,
          5798,
          5342,
          4906,
          4678,
          4645,
          4294,
          3702,
          3600,
          3510,
          3293,
          3157,
          3015,
          2941,
          2930,
          2645,
          2597,
          2377,
          2218,
          2143,
          2106,
          2079,
          2034,
          1906,
          1888,
          1559,
          1324,
          1310,
          1249,
          1216,
          1140,
          1084,
          1018,
          820,
          801
         ]
        }
       ],
       "layout": {
        "height": 700,
        "template": {
         "data": {
          "bar": [
           {
            "error_x": {
             "color": "#2a3f5f"
            },
            "error_y": {
             "color": "#2a3f5f"
            },
            "marker": {
             "line": {
              "color": "#E5ECF6",
              "width": 0.5
             }
            },
            "type": "bar"
           }
          ],
          "barpolar": [
           {
            "marker": {
             "line": {
              "color": "#E5ECF6",
              "width": 0.5
             }
            },
            "type": "barpolar"
           }
          ],
          "carpet": [
           {
            "aaxis": {
             "endlinecolor": "#2a3f5f",
             "gridcolor": "white",
             "linecolor": "white",
             "minorgridcolor": "white",
             "startlinecolor": "#2a3f5f"
            },
            "baxis": {
             "endlinecolor": "#2a3f5f",
             "gridcolor": "white",
             "linecolor": "white",
             "minorgridcolor": "white",
             "startlinecolor": "#2a3f5f"
            },
            "type": "carpet"
           }
          ],
          "choropleth": [
           {
            "colorbar": {
             "outlinewidth": 0,
             "ticks": ""
            },
            "type": "choropleth"
           }
          ],
          "contour": [
           {
            "colorbar": {
             "outlinewidth": 0,
             "ticks": ""
            },
            "colorscale": [
             [
              0,
              "#0d0887"
             ],
             [
              0.1111111111111111,
              "#46039f"
             ],
             [
              0.2222222222222222,
              "#7201a8"
             ],
             [
              0.3333333333333333,
              "#9c179e"
             ],
             [
              0.4444444444444444,
              "#bd3786"
             ],
             [
              0.5555555555555556,
              "#d8576b"
             ],
             [
              0.6666666666666666,
              "#ed7953"
             ],
             [
              0.7777777777777778,
              "#fb9f3a"
             ],
             [
              0.8888888888888888,
              "#fdca26"
             ],
             [
              1,
              "#f0f921"
             ]
            ],
            "type": "contour"
           }
          ],
          "contourcarpet": [
           {
            "colorbar": {
             "outlinewidth": 0,
             "ticks": ""
            },
            "type": "contourcarpet"
           }
          ],
          "heatmap": [
           {
            "colorbar": {
             "outlinewidth": 0,
             "ticks": ""
            },
            "colorscale": [
             [
              0,
              "#0d0887"
             ],
             [
              0.1111111111111111,
              "#46039f"
             ],
             [
              0.2222222222222222,
              "#7201a8"
             ],
             [
              0.3333333333333333,
              "#9c179e"
             ],
             [
              0.4444444444444444,
              "#bd3786"
             ],
             [
              0.5555555555555556,
              "#d8576b"
             ],
             [
              0.6666666666666666,
              "#ed7953"
             ],
             [
              0.7777777777777778,
              "#fb9f3a"
             ],
             [
              0.8888888888888888,
              "#fdca26"
             ],
             [
              1,
              "#f0f921"
             ]
            ],
            "type": "heatmap"
           }
          ],
          "heatmapgl": [
           {
            "colorbar": {
             "outlinewidth": 0,
             "ticks": ""
            },
            "colorscale": [
             [
              0,
              "#0d0887"
             ],
             [
              0.1111111111111111,
              "#46039f"
             ],
             [
              0.2222222222222222,
              "#7201a8"
             ],
             [
              0.3333333333333333,
              "#9c179e"
             ],
             [
              0.4444444444444444,
              "#bd3786"
             ],
             [
              0.5555555555555556,
              "#d8576b"
             ],
             [
              0.6666666666666666,
              "#ed7953"
             ],
             [
              0.7777777777777778,
              "#fb9f3a"
             ],
             [
              0.8888888888888888,
              "#fdca26"
             ],
             [
              1,
              "#f0f921"
             ]
            ],
            "type": "heatmapgl"
           }
          ],
          "histogram": [
           {
            "marker": {
             "colorbar": {
              "outlinewidth": 0,
              "ticks": ""
             }
            },
            "type": "histogram"
           }
          ],
          "histogram2d": [
           {
            "colorbar": {
             "outlinewidth": 0,
             "ticks": ""
            },
            "colorscale": [
             [
              0,
              "#0d0887"
             ],
             [
              0.1111111111111111,
              "#46039f"
             ],
             [
              0.2222222222222222,
              "#7201a8"
             ],
             [
              0.3333333333333333,
              "#9c179e"
             ],
             [
              0.4444444444444444,
              "#bd3786"
             ],
             [
              0.5555555555555556,
              "#d8576b"
             ],
             [
              0.6666666666666666,
              "#ed7953"
             ],
             [
              0.7777777777777778,
              "#fb9f3a"
             ],
             [
              0.8888888888888888,
              "#fdca26"
             ],
             [
              1,
              "#f0f921"
             ]
            ],
            "type": "histogram2d"
           }
          ],
          "histogram2dcontour": [
           {
            "colorbar": {
             "outlinewidth": 0,
             "ticks": ""
            },
            "colorscale": [
             [
              0,
              "#0d0887"
             ],
             [
              0.1111111111111111,
              "#46039f"
             ],
             [
              0.2222222222222222,
              "#7201a8"
             ],
             [
              0.3333333333333333,
              "#9c179e"
             ],
             [
              0.4444444444444444,
              "#bd3786"
             ],
             [
              0.5555555555555556,
              "#d8576b"
             ],
             [
              0.6666666666666666,
              "#ed7953"
             ],
             [
              0.7777777777777778,
              "#fb9f3a"
             ],
             [
              0.8888888888888888,
              "#fdca26"
             ],
             [
              1,
              "#f0f921"
             ]
            ],
            "type": "histogram2dcontour"
           }
          ],
          "mesh3d": [
           {
            "colorbar": {
             "outlinewidth": 0,
             "ticks": ""
            },
            "type": "mesh3d"
           }
          ],
          "parcoords": [
           {
            "line": {
             "colorbar": {
              "outlinewidth": 0,
              "ticks": ""
             }
            },
            "type": "parcoords"
           }
          ],
          "pie": [
           {
            "automargin": true,
            "type": "pie"
           }
          ],
          "scatter": [
           {
            "marker": {
             "colorbar": {
              "outlinewidth": 0,
              "ticks": ""
             }
            },
            "type": "scatter"
           }
          ],
          "scatter3d": [
           {
            "line": {
             "colorbar": {
              "outlinewidth": 0,
              "ticks": ""
             }
            },
            "marker": {
             "colorbar": {
              "outlinewidth": 0,
              "ticks": ""
             }
            },
            "type": "scatter3d"
           }
          ],
          "scattercarpet": [
           {
            "marker": {
             "colorbar": {
              "outlinewidth": 0,
              "ticks": ""
             }
            },
            "type": "scattercarpet"
           }
          ],
          "scattergeo": [
           {
            "marker": {
             "colorbar": {
              "outlinewidth": 0,
              "ticks": ""
             }
            },
            "type": "scattergeo"
           }
          ],
          "scattergl": [
           {
            "marker": {
             "colorbar": {
              "outlinewidth": 0,
              "ticks": ""
             }
            },
            "type": "scattergl"
           }
          ],
          "scattermapbox": [
           {
            "marker": {
             "colorbar": {
              "outlinewidth": 0,
              "ticks": ""
             }
            },
            "type": "scattermapbox"
           }
          ],
          "scatterpolar": [
           {
            "marker": {
             "colorbar": {
              "outlinewidth": 0,
              "ticks": ""
             }
            },
            "type": "scatterpolar"
           }
          ],
          "scatterpolargl": [
           {
            "marker": {
             "colorbar": {
              "outlinewidth": 0,
              "ticks": ""
             }
            },
            "type": "scatterpolargl"
           }
          ],
          "scatterternary": [
           {
            "marker": {
             "colorbar": {
              "outlinewidth": 0,
              "ticks": ""
             }
            },
            "type": "scatterternary"
           }
          ],
          "surface": [
           {
            "colorbar": {
             "outlinewidth": 0,
             "ticks": ""
            },
            "colorscale": [
             [
              0,
              "#0d0887"
             ],
             [
              0.1111111111111111,
              "#46039f"
             ],
             [
              0.2222222222222222,
              "#7201a8"
             ],
             [
              0.3333333333333333,
              "#9c179e"
             ],
             [
              0.4444444444444444,
              "#bd3786"
             ],
             [
              0.5555555555555556,
              "#d8576b"
             ],
             [
              0.6666666666666666,
              "#ed7953"
             ],
             [
              0.7777777777777778,
              "#fb9f3a"
             ],
             [
              0.8888888888888888,
              "#fdca26"
             ],
             [
              1,
              "#f0f921"
             ]
            ],
            "type": "surface"
           }
          ],
          "table": [
           {
            "cells": {
             "fill": {
              "color": "#EBF0F8"
             },
             "line": {
              "color": "white"
             }
            },
            "header": {
             "fill": {
              "color": "#C8D4E3"
             },
             "line": {
              "color": "white"
             }
            },
            "type": "table"
           }
          ]
         },
         "layout": {
          "annotationdefaults": {
           "arrowcolor": "#2a3f5f",
           "arrowhead": 0,
           "arrowwidth": 1
          },
          "coloraxis": {
           "colorbar": {
            "outlinewidth": 0,
            "ticks": ""
           }
          },
          "colorscale": {
           "diverging": [
            [
             0,
             "#8e0152"
            ],
            [
             0.1,
             "#c51b7d"
            ],
            [
             0.2,
             "#de77ae"
            ],
            [
             0.3,
             "#f1b6da"
            ],
            [
             0.4,
             "#fde0ef"
            ],
            [
             0.5,
             "#f7f7f7"
            ],
            [
             0.6,
             "#e6f5d0"
            ],
            [
             0.7,
             "#b8e186"
            ],
            [
             0.8,
             "#7fbc41"
            ],
            [
             0.9,
             "#4d9221"
            ],
            [
             1,
             "#276419"
            ]
           ],
           "sequential": [
            [
             0,
             "#0d0887"
            ],
            [
             0.1111111111111111,
             "#46039f"
            ],
            [
             0.2222222222222222,
             "#7201a8"
            ],
            [
             0.3333333333333333,
             "#9c179e"
            ],
            [
             0.4444444444444444,
             "#bd3786"
            ],
            [
             0.5555555555555556,
             "#d8576b"
            ],
            [
             0.6666666666666666,
             "#ed7953"
            ],
            [
             0.7777777777777778,
             "#fb9f3a"
            ],
            [
             0.8888888888888888,
             "#fdca26"
            ],
            [
             1,
             "#f0f921"
            ]
           ],
           "sequentialminus": [
            [
             0,
             "#0d0887"
            ],
            [
             0.1111111111111111,
             "#46039f"
            ],
            [
             0.2222222222222222,
             "#7201a8"
            ],
            [
             0.3333333333333333,
             "#9c179e"
            ],
            [
             0.4444444444444444,
             "#bd3786"
            ],
            [
             0.5555555555555556,
             "#d8576b"
            ],
            [
             0.6666666666666666,
             "#ed7953"
            ],
            [
             0.7777777777777778,
             "#fb9f3a"
            ],
            [
             0.8888888888888888,
             "#fdca26"
            ],
            [
             1,
             "#f0f921"
            ]
           ]
          },
          "colorway": [
           "#636efa",
           "#EF553B",
           "#00cc96",
           "#ab63fa",
           "#FFA15A",
           "#19d3f3",
           "#FF6692",
           "#B6E880",
           "#FF97FF",
           "#FECB52"
          ],
          "font": {
           "color": "#2a3f5f"
          },
          "geo": {
           "bgcolor": "white",
           "lakecolor": "white",
           "landcolor": "#E5ECF6",
           "showlakes": true,
           "showland": true,
           "subunitcolor": "white"
          },
          "hoverlabel": {
           "align": "left"
          },
          "hovermode": "closest",
          "mapbox": {
           "style": "light"
          },
          "paper_bgcolor": "white",
          "plot_bgcolor": "#E5ECF6",
          "polar": {
           "angularaxis": {
            "gridcolor": "white",
            "linecolor": "white",
            "ticks": ""
           },
           "bgcolor": "#E5ECF6",
           "radialaxis": {
            "gridcolor": "white",
            "linecolor": "white",
            "ticks": ""
           }
          },
          "scene": {
           "xaxis": {
            "backgroundcolor": "#E5ECF6",
            "gridcolor": "white",
            "gridwidth": 2,
            "linecolor": "white",
            "showbackground": true,
            "ticks": "",
            "zerolinecolor": "white"
           },
           "yaxis": {
            "backgroundcolor": "#E5ECF6",
            "gridcolor": "white",
            "gridwidth": 2,
            "linecolor": "white",
            "showbackground": true,
            "ticks": "",
            "zerolinecolor": "white"
           },
           "zaxis": {
            "backgroundcolor": "#E5ECF6",
            "gridcolor": "white",
            "gridwidth": 2,
            "linecolor": "white",
            "showbackground": true,
            "ticks": "",
            "zerolinecolor": "white"
           }
          },
          "shapedefaults": {
           "line": {
            "color": "#2a3f5f"
           }
          },
          "ternary": {
           "aaxis": {
            "gridcolor": "white",
            "linecolor": "white",
            "ticks": ""
           },
           "baxis": {
            "gridcolor": "white",
            "linecolor": "white",
            "ticks": ""
           },
           "bgcolor": "#E5ECF6",
           "caxis": {
            "gridcolor": "white",
            "linecolor": "white",
            "ticks": ""
           }
          },
          "title": {
           "x": 0.05
          },
          "xaxis": {
           "automargin": true,
           "gridcolor": "white",
           "linecolor": "white",
           "ticks": "",
           "title": {
            "standoff": 15
           },
           "zerolinecolor": "white",
           "zerolinewidth": 2
          },
          "yaxis": {
           "automargin": true,
           "gridcolor": "white",
           "linecolor": "white",
           "ticks": "",
           "title": {
            "standoff": 15
           },
           "zerolinecolor": "white",
           "zerolinewidth": 2
          }
         }
        },
        "title": {
         "text": "Distribution of articles category-wise",
         "x": 0.5,
         "xanchor": "center",
         "y": 0.9,
         "yanchor": "top"
        },
        "width": 800,
        "xaxis": {
         "title": {
          "text": "Category name"
         }
        },
        "yaxis": {
         "title": {
          "text": "Number of articles"
         }
        }
       }
      },
      "text/html": [
       "<div>\n",
       "        \n",
       "        \n",
       "            <div id=\"94a445e3-21c4-407d-9c31-74e146f525a2\" class=\"plotly-graph-div\" style=\"height:700px; width:800px;\"></div>\n",
       "            <script type=\"text/javascript\">\n",
       "                require([\"plotly\"], function(Plotly) {\n",
       "                    window.PLOTLYENV=window.PLOTLYENV || {};\n",
       "                    \n",
       "                if (document.getElementById(\"94a445e3-21c4-407d-9c31-74e146f525a2\")) {\n",
       "                    Plotly.newPlot(\n",
       "                        '94a445e3-21c4-407d-9c31-74e146f525a2',\n",
       "                        [{\"type\": \"bar\", \"x\": [\"POLITICS\", \"ENTERTAINMENT\", \"WELLNESS\", \"TRAVEL\", \"STYLE & BEAUTY\", \"PARENTING\", \"QUEER VOICES\", \"HEALTHY LIVING\", \"BUSINESS\", \"FOOD & DRINK\", \"COMEDY\", \"SPORTS\", \"BLACK VOICES\", \"HOME & LIVING\", \"THE WORLDPOST\", \"PARENTS\", \"CRIME\", \"WEDDINGS\", \"WOMEN\", \"IMPACT\", \"DIVORCE\", \"MEDIA\", \"WEIRD NEWS\", \"GREEN\", \"WORLDPOST\", \"STYLE\", \"WORLD NEWS\", \"RELIGION\", \"SCIENCE\", \"TECH\", \"TASTE\", \"MONEY\", \"GOOD NEWS\", \"ARTS & CULTURE\", \"FIFTY\", \"ARTS\", \"ENVIRONMENT\", \"LATINO VOICES\", \"COLLEGE\", \"EDUCATION\", \"CULTURE & ARTS\"], \"y\": [30721, 15463, 13846, 8242, 8238, 7027, 5898, 5798, 5342, 4906, 4678, 4645, 4294, 3702, 3600, 3510, 3293, 3157, 3015, 2941, 2930, 2645, 2597, 2377, 2218, 2143, 2106, 2079, 2034, 1906, 1888, 1559, 1324, 1310, 1249, 1216, 1140, 1084, 1018, 820, 801]}],\n",
       "                        {\"height\": 700, \"template\": {\"data\": {\"bar\": [{\"error_x\": {\"color\": \"#2a3f5f\"}, \"error_y\": {\"color\": \"#2a3f5f\"}, \"marker\": {\"line\": {\"color\": \"#E5ECF6\", \"width\": 0.5}}, \"type\": \"bar\"}], \"barpolar\": [{\"marker\": {\"line\": {\"color\": \"#E5ECF6\", \"width\": 0.5}}, \"type\": \"barpolar\"}], \"carpet\": [{\"aaxis\": {\"endlinecolor\": \"#2a3f5f\", \"gridcolor\": \"white\", \"linecolor\": \"white\", \"minorgridcolor\": \"white\", \"startlinecolor\": \"#2a3f5f\"}, \"baxis\": {\"endlinecolor\": \"#2a3f5f\", \"gridcolor\": \"white\", \"linecolor\": \"white\", \"minorgridcolor\": \"white\", \"startlinecolor\": \"#2a3f5f\"}, \"type\": \"carpet\"}], \"choropleth\": [{\"colorbar\": {\"outlinewidth\": 0, \"ticks\": \"\"}, \"type\": \"choropleth\"}], \"contour\": [{\"colorbar\": {\"outlinewidth\": 0, \"ticks\": \"\"}, \"colorscale\": [[0.0, \"#0d0887\"], [0.1111111111111111, \"#46039f\"], [0.2222222222222222, \"#7201a8\"], [0.3333333333333333, \"#9c179e\"], [0.4444444444444444, \"#bd3786\"], [0.5555555555555556, \"#d8576b\"], [0.6666666666666666, \"#ed7953\"], [0.7777777777777778, \"#fb9f3a\"], [0.8888888888888888, \"#fdca26\"], [1.0, \"#f0f921\"]], \"type\": \"contour\"}], \"contourcarpet\": [{\"colorbar\": {\"outlinewidth\": 0, \"ticks\": \"\"}, \"type\": \"contourcarpet\"}], \"heatmap\": [{\"colorbar\": {\"outlinewidth\": 0, \"ticks\": \"\"}, \"colorscale\": [[0.0, \"#0d0887\"], [0.1111111111111111, \"#46039f\"], [0.2222222222222222, \"#7201a8\"], [0.3333333333333333, \"#9c179e\"], [0.4444444444444444, \"#bd3786\"], [0.5555555555555556, \"#d8576b\"], [0.6666666666666666, \"#ed7953\"], [0.7777777777777778, \"#fb9f3a\"], [0.8888888888888888, \"#fdca26\"], [1.0, \"#f0f921\"]], \"type\": \"heatmap\"}], \"heatmapgl\": [{\"colorbar\": {\"outlinewidth\": 0, \"ticks\": \"\"}, \"colorscale\": [[0.0, \"#0d0887\"], [0.1111111111111111, \"#46039f\"], [0.2222222222222222, \"#7201a8\"], [0.3333333333333333, \"#9c179e\"], [0.4444444444444444, \"#bd3786\"], [0.5555555555555556, \"#d8576b\"], [0.6666666666666666, \"#ed7953\"], [0.7777777777777778, \"#fb9f3a\"], [0.8888888888888888, \"#fdca26\"], [1.0, \"#f0f921\"]], \"type\": \"heatmapgl\"}], \"histogram\": [{\"marker\": {\"colorbar\": {\"outlinewidth\": 0, \"ticks\": \"\"}}, \"type\": \"histogram\"}], \"histogram2d\": [{\"colorbar\": {\"outlinewidth\": 0, \"ticks\": \"\"}, \"colorscale\": [[0.0, \"#0d0887\"], [0.1111111111111111, \"#46039f\"], [0.2222222222222222, \"#7201a8\"], [0.3333333333333333, \"#9c179e\"], [0.4444444444444444, \"#bd3786\"], [0.5555555555555556, \"#d8576b\"], [0.6666666666666666, \"#ed7953\"], [0.7777777777777778, \"#fb9f3a\"], [0.8888888888888888, \"#fdca26\"], [1.0, \"#f0f921\"]], \"type\": \"histogram2d\"}], \"histogram2dcontour\": [{\"colorbar\": {\"outlinewidth\": 0, \"ticks\": \"\"}, \"colorscale\": [[0.0, \"#0d0887\"], [0.1111111111111111, \"#46039f\"], [0.2222222222222222, \"#7201a8\"], [0.3333333333333333, \"#9c179e\"], [0.4444444444444444, \"#bd3786\"], [0.5555555555555556, \"#d8576b\"], [0.6666666666666666, \"#ed7953\"], [0.7777777777777778, \"#fb9f3a\"], [0.8888888888888888, \"#fdca26\"], [1.0, \"#f0f921\"]], \"type\": \"histogram2dcontour\"}], \"mesh3d\": [{\"colorbar\": {\"outlinewidth\": 0, \"ticks\": \"\"}, \"type\": \"mesh3d\"}], \"parcoords\": [{\"line\": {\"colorbar\": {\"outlinewidth\": 0, \"ticks\": \"\"}}, \"type\": \"parcoords\"}], \"pie\": [{\"automargin\": true, \"type\": \"pie\"}], \"scatter\": [{\"marker\": {\"colorbar\": {\"outlinewidth\": 0, \"ticks\": \"\"}}, \"type\": \"scatter\"}], \"scatter3d\": [{\"line\": {\"colorbar\": {\"outlinewidth\": 0, \"ticks\": \"\"}}, \"marker\": {\"colorbar\": {\"outlinewidth\": 0, \"ticks\": \"\"}}, \"type\": \"scatter3d\"}], \"scattercarpet\": [{\"marker\": {\"colorbar\": {\"outlinewidth\": 0, \"ticks\": \"\"}}, \"type\": \"scattercarpet\"}], \"scattergeo\": [{\"marker\": {\"colorbar\": {\"outlinewidth\": 0, \"ticks\": \"\"}}, \"type\": \"scattergeo\"}], \"scattergl\": [{\"marker\": {\"colorbar\": {\"outlinewidth\": 0, \"ticks\": \"\"}}, \"type\": \"scattergl\"}], \"scattermapbox\": [{\"marker\": {\"colorbar\": {\"outlinewidth\": 0, \"ticks\": \"\"}}, \"type\": \"scattermapbox\"}], \"scatterpolar\": [{\"marker\": {\"colorbar\": {\"outlinewidth\": 0, \"ticks\": \"\"}}, \"type\": \"scatterpolar\"}], \"scatterpolargl\": [{\"marker\": {\"colorbar\": {\"outlinewidth\": 0, \"ticks\": \"\"}}, \"type\": \"scatterpolargl\"}], \"scatterternary\": [{\"marker\": {\"colorbar\": {\"outlinewidth\": 0, \"ticks\": \"\"}}, \"type\": \"scatterternary\"}], \"surface\": [{\"colorbar\": {\"outlinewidth\": 0, \"ticks\": \"\"}, \"colorscale\": [[0.0, \"#0d0887\"], [0.1111111111111111, \"#46039f\"], [0.2222222222222222, \"#7201a8\"], [0.3333333333333333, \"#9c179e\"], [0.4444444444444444, \"#bd3786\"], [0.5555555555555556, \"#d8576b\"], [0.6666666666666666, \"#ed7953\"], [0.7777777777777778, \"#fb9f3a\"], [0.8888888888888888, \"#fdca26\"], [1.0, \"#f0f921\"]], \"type\": \"surface\"}], \"table\": [{\"cells\": {\"fill\": {\"color\": \"#EBF0F8\"}, \"line\": {\"color\": \"white\"}}, \"header\": {\"fill\": {\"color\": \"#C8D4E3\"}, \"line\": {\"color\": \"white\"}}, \"type\": \"table\"}]}, \"layout\": {\"annotationdefaults\": {\"arrowcolor\": \"#2a3f5f\", \"arrowhead\": 0, \"arrowwidth\": 1}, \"coloraxis\": {\"colorbar\": {\"outlinewidth\": 0, \"ticks\": \"\"}}, \"colorscale\": {\"diverging\": [[0, \"#8e0152\"], [0.1, \"#c51b7d\"], [0.2, \"#de77ae\"], [0.3, \"#f1b6da\"], [0.4, \"#fde0ef\"], [0.5, \"#f7f7f7\"], [0.6, \"#e6f5d0\"], [0.7, \"#b8e186\"], [0.8, \"#7fbc41\"], [0.9, \"#4d9221\"], [1, \"#276419\"]], \"sequential\": [[0.0, \"#0d0887\"], [0.1111111111111111, \"#46039f\"], [0.2222222222222222, \"#7201a8\"], [0.3333333333333333, \"#9c179e\"], [0.4444444444444444, \"#bd3786\"], [0.5555555555555556, \"#d8576b\"], [0.6666666666666666, \"#ed7953\"], [0.7777777777777778, \"#fb9f3a\"], [0.8888888888888888, \"#fdca26\"], [1.0, \"#f0f921\"]], \"sequentialminus\": [[0.0, \"#0d0887\"], [0.1111111111111111, \"#46039f\"], [0.2222222222222222, \"#7201a8\"], [0.3333333333333333, \"#9c179e\"], [0.4444444444444444, \"#bd3786\"], [0.5555555555555556, \"#d8576b\"], [0.6666666666666666, \"#ed7953\"], [0.7777777777777778, \"#fb9f3a\"], [0.8888888888888888, \"#fdca26\"], [1.0, \"#f0f921\"]]}, \"colorway\": [\"#636efa\", \"#EF553B\", \"#00cc96\", \"#ab63fa\", \"#FFA15A\", \"#19d3f3\", \"#FF6692\", \"#B6E880\", \"#FF97FF\", \"#FECB52\"], \"font\": {\"color\": \"#2a3f5f\"}, \"geo\": {\"bgcolor\": \"white\", \"lakecolor\": \"white\", \"landcolor\": \"#E5ECF6\", \"showlakes\": true, \"showland\": true, \"subunitcolor\": \"white\"}, \"hoverlabel\": {\"align\": \"left\"}, \"hovermode\": \"closest\", \"mapbox\": {\"style\": \"light\"}, \"paper_bgcolor\": \"white\", \"plot_bgcolor\": \"#E5ECF6\", \"polar\": {\"angularaxis\": {\"gridcolor\": \"white\", \"linecolor\": \"white\", \"ticks\": \"\"}, \"bgcolor\": \"#E5ECF6\", \"radialaxis\": {\"gridcolor\": \"white\", \"linecolor\": \"white\", \"ticks\": \"\"}}, \"scene\": {\"xaxis\": {\"backgroundcolor\": \"#E5ECF6\", \"gridcolor\": \"white\", \"gridwidth\": 2, \"linecolor\": \"white\", \"showbackground\": true, \"ticks\": \"\", \"zerolinecolor\": \"white\"}, \"yaxis\": {\"backgroundcolor\": \"#E5ECF6\", \"gridcolor\": \"white\", \"gridwidth\": 2, \"linecolor\": \"white\", \"showbackground\": true, \"ticks\": \"\", \"zerolinecolor\": \"white\"}, \"zaxis\": {\"backgroundcolor\": \"#E5ECF6\", \"gridcolor\": \"white\", \"gridwidth\": 2, \"linecolor\": \"white\", \"showbackground\": true, \"ticks\": \"\", \"zerolinecolor\": \"white\"}}, \"shapedefaults\": {\"line\": {\"color\": \"#2a3f5f\"}}, \"ternary\": {\"aaxis\": {\"gridcolor\": \"white\", \"linecolor\": \"white\", \"ticks\": \"\"}, \"baxis\": {\"gridcolor\": \"white\", \"linecolor\": \"white\", \"ticks\": \"\"}, \"bgcolor\": \"#E5ECF6\", \"caxis\": {\"gridcolor\": \"white\", \"linecolor\": \"white\", \"ticks\": \"\"}}, \"title\": {\"x\": 0.05}, \"xaxis\": {\"automargin\": true, \"gridcolor\": \"white\", \"linecolor\": \"white\", \"ticks\": \"\", \"title\": {\"standoff\": 15}, \"zerolinecolor\": \"white\", \"zerolinewidth\": 2}, \"yaxis\": {\"automargin\": true, \"gridcolor\": \"white\", \"linecolor\": \"white\", \"ticks\": \"\", \"title\": {\"standoff\": 15}, \"zerolinecolor\": \"white\", \"zerolinewidth\": 2}}}, \"title\": {\"text\": \"Distribution of articles category-wise\", \"x\": 0.5, \"xanchor\": \"center\", \"y\": 0.9, \"yanchor\": \"top\"}, \"width\": 800, \"xaxis\": {\"title\": {\"text\": \"Category name\"}}, \"yaxis\": {\"title\": {\"text\": \"Number of articles\"}}},\n",
       "                        {\"responsive\": true}\n",
       "                    ).then(function(){\n",
       "                            \n",
       "var gd = document.getElementById('94a445e3-21c4-407d-9c31-74e146f525a2');\n",
       "var x = new MutationObserver(function (mutations, observer) {{\n",
       "        var display = window.getComputedStyle(gd).display;\n",
       "        if (!display || display === 'none') {{\n",
       "            console.log([gd, 'removed!']);\n",
       "            Plotly.purge(gd);\n",
       "            observer.disconnect();\n",
       "        }}\n",
       "}});\n",
       "\n",
       "// Listen for the removal of the full notebook cells\n",
       "var notebookContainer = gd.closest('#notebook-container');\n",
       "if (notebookContainer) {{\n",
       "    x.observe(notebookContainer, {childList: true});\n",
       "}}\n",
       "\n",
       "// Listen for the clearing of the current output cell\n",
       "var outputEl = gd.closest('.output');\n",
       "if (outputEl) {{\n",
       "    x.observe(outputEl, {childList: true});\n",
       "}}\n",
       "\n",
       "                        })\n",
       "                };\n",
       "                });\n",
       "            </script>\n",
       "        </div>"
      ]
     },
     "metadata": {},
     "output_type": "display_data"
    }
   ],
   "source": [
    "# replace with Matplotlib?\n",
    "fig = go.Figure([go.Bar(x=news_data[\"category\"].value_counts().index, y=news_data[\"category\"].value_counts().values)])\n",
    "fig['layout'].update(title={\"text\" : 'Distribution of articles category-wise','y':0.9,'x':0.5,'xanchor': 'center','yanchor': 'top'}, xaxis_title=\"Category name\",yaxis_title=\"Number of articles\")\n",
    "fig.update_layout(width=800,height=700)\n",
    "fig"
   ]
  },
  {
   "cell_type": "markdown",
   "metadata": {},
   "source": [
    "From the bar chart, is is clear that **Politics** category has the highest nubmer of articles."
   ]
  },
  {
   "cell_type": "markdown",
   "metadata": {},
   "source": [
    "### No. of articles per month"
   ]
  },
  {
   "cell_type": "code",
   "execution_count": 78,
   "metadata": {},
   "outputs": [],
   "source": [
    "# needed?"
   ]
  },
  {
   "cell_type": "markdown",
   "metadata": {},
   "source": [
    "### Probability Distribution Function of length of headlines"
   ]
  },
  {
   "cell_type": "code",
   "execution_count": 79,
   "metadata": {
    "scrolled": true
   },
   "outputs": [
    {
     "data": {
      "application/vnd.plotly.v1+json": {
       "config": {
        "plotlyServerURL": "https://plot.ly"
       },
       "data": [
        {
         "legendgroup": "ht",
         "marker": {
          "color": "rgb(31, 119, 180)"
         },
         "mode": "lines",
         "name": "ht",
         "showlegend": true,
         "type": "scatter",
         "x": [
          18,
          18.604,
          19.208,
          19.812,
          20.416,
          21.02,
          21.624,
          22.228,
          22.832,
          23.436,
          24.04,
          24.644,
          25.248,
          25.852,
          26.456,
          27.060000000000002,
          27.664,
          28.268,
          28.872,
          29.476,
          30.08,
          30.683999999999997,
          31.288,
          31.892,
          32.496,
          33.1,
          33.704,
          34.308,
          34.912,
          35.516,
          36.120000000000005,
          36.724000000000004,
          37.328,
          37.932,
          38.536,
          39.14,
          39.744,
          40.348,
          40.952,
          41.556,
          42.16,
          42.763999999999996,
          43.367999999999995,
          43.972,
          44.576,
          45.18,
          45.784,
          46.388000000000005,
          46.992000000000004,
          47.596000000000004,
          48.2,
          48.804,
          49.408,
          50.012,
          50.616,
          51.22,
          51.824,
          52.428,
          53.032,
          53.636,
          54.24,
          54.844,
          55.448,
          56.052,
          56.656,
          57.26,
          57.864,
          58.468,
          59.072,
          59.676,
          60.28,
          60.884,
          61.488,
          62.092,
          62.696,
          63.3,
          63.904,
          64.50800000000001,
          65.112,
          65.71600000000001,
          66.32,
          66.924,
          67.52799999999999,
          68.132,
          68.73599999999999,
          69.34,
          69.944,
          70.548,
          71.152,
          71.756,
          72.36,
          72.964,
          73.568,
          74.172,
          74.77600000000001,
          75.38,
          75.98400000000001,
          76.588,
          77.19200000000001,
          77.79599999999999,
          78.4,
          79.00399999999999,
          79.608,
          80.212,
          80.816,
          81.42,
          82.024,
          82.628,
          83.232,
          83.836,
          84.44,
          85.044,
          85.648,
          86.252,
          86.856,
          87.46,
          88.064,
          88.668,
          89.272,
          89.876,
          90.48,
          91.084,
          91.688,
          92.292,
          92.896,
          93.5,
          94.104,
          94.708,
          95.312,
          95.916,
          96.52,
          97.124,
          97.728,
          98.332,
          98.936,
          99.54,
          100.144,
          100.748,
          101.352,
          101.956,
          102.56,
          103.164,
          103.768,
          104.372,
          104.976,
          105.58,
          106.184,
          106.788,
          107.392,
          107.996,
          108.6,
          109.204,
          109.808,
          110.412,
          111.016,
          111.62,
          112.224,
          112.828,
          113.432,
          114.036,
          114.64,
          115.244,
          115.848,
          116.452,
          117.056,
          117.66,
          118.264,
          118.868,
          119.472,
          120.076,
          120.68,
          121.284,
          121.888,
          122.492,
          123.096,
          123.7,
          124.304,
          124.908,
          125.512,
          126.116,
          126.72,
          127.324,
          127.928,
          128.53199999999998,
          129.136,
          129.74,
          130.344,
          130.94799999999998,
          131.55200000000002,
          132.156,
          132.76,
          133.364,
          133.96800000000002,
          134.572,
          135.176,
          135.78,
          136.38400000000001,
          136.988,
          137.59199999999998,
          138.196,
          138.8,
          139.404,
          140.00799999999998,
          140.612,
          141.216,
          141.82,
          142.424,
          143.02800000000002,
          143.632,
          144.236,
          144.84,
          145.44400000000002,
          146.048,
          146.652,
          147.256,
          147.86,
          148.464,
          149.068,
          149.672,
          150.276,
          150.88,
          151.484,
          152.088,
          152.692,
          153.296,
          153.9,
          154.504,
          155.108,
          155.712,
          156.316,
          156.92,
          157.524,
          158.128,
          158.732,
          159.336,
          159.94,
          160.544,
          161.148,
          161.752,
          162.356,
          162.96,
          163.564,
          164.168,
          164.772,
          165.376,
          165.98,
          166.584,
          167.188,
          167.792,
          168.396,
          169,
          169.604,
          170.208,
          170.812,
          171.416,
          172.02,
          172.624,
          173.228,
          173.832,
          174.436,
          175.04,
          175.644,
          176.248,
          176.852,
          177.456,
          178.06,
          178.664,
          179.268,
          179.872,
          180.476,
          181.08,
          181.684,
          182.288,
          182.892,
          183.496,
          184.1,
          184.704,
          185.308,
          185.912,
          186.516,
          187.12,
          187.724,
          188.328,
          188.932,
          189.536,
          190.14,
          190.744,
          191.348,
          191.952,
          192.556,
          193.16,
          193.764,
          194.368,
          194.972,
          195.576,
          196.18,
          196.784,
          197.388,
          197.992,
          198.596,
          199.2,
          199.804,
          200.408,
          201.012,
          201.616,
          202.22,
          202.824,
          203.428,
          204.032,
          204.636,
          205.24,
          205.844,
          206.448,
          207.052,
          207.656,
          208.26,
          208.864,
          209.468,
          210.072,
          210.676,
          211.28,
          211.884,
          212.488,
          213.092,
          213.696,
          214.3,
          214.904,
          215.508,
          216.112,
          216.716,
          217.32,
          217.924,
          218.528,
          219.132,
          219.736,
          220.34,
          220.944,
          221.548,
          222.152,
          222.756,
          223.36,
          223.964,
          224.568,
          225.172,
          225.776,
          226.38,
          226.984,
          227.588,
          228.192,
          228.796,
          229.4,
          230.004,
          230.608,
          231.212,
          231.816,
          232.42,
          233.024,
          233.628,
          234.232,
          234.836,
          235.44,
          236.044,
          236.648,
          237.252,
          237.856,
          238.46,
          239.064,
          239.668,
          240.272,
          240.876,
          241.48,
          242.084,
          242.688,
          243.292,
          243.896,
          244.5,
          245.104,
          245.708,
          246.312,
          246.916,
          247.52,
          248.124,
          248.728,
          249.332,
          249.936,
          250.54,
          251.144,
          251.748,
          252.352,
          252.956,
          253.56,
          254.164,
          254.768,
          255.372,
          255.976,
          256.58000000000004,
          257.18399999999997,
          257.788,
          258.392,
          258.996,
          259.6,
          260.204,
          260.808,
          261.41200000000003,
          262.01599999999996,
          262.62,
          263.224,
          263.828,
          264.432,
          265.036,
          265.64,
          266.244,
          266.848,
          267.452,
          268.05600000000004,
          268.65999999999997,
          269.264,
          269.868,
          270.472,
          271.076,
          271.68,
          272.284,
          272.88800000000003,
          273.49199999999996,
          274.096,
          274.7,
          275.304,
          275.908,
          276.512,
          277.116,
          277.72,
          278.324,
          278.928,
          279.532,
          280.136,
          280.74,
          281.344,
          281.948,
          282.552,
          283.156,
          283.76,
          284.364,
          284.968,
          285.572,
          286.176,
          286.78,
          287.384,
          287.988,
          288.592,
          289.196,
          289.8,
          290.404,
          291.008,
          291.612,
          292.216,
          292.82,
          293.424,
          294.028,
          294.632,
          295.236,
          295.84,
          296.444,
          297.048,
          297.652,
          298.256,
          298.86,
          299.464,
          300.068,
          300.672,
          301.276,
          301.88,
          302.484,
          303.088,
          303.692,
          304.296,
          304.9,
          305.504,
          306.108,
          306.712,
          307.316,
          307.92,
          308.524,
          309.128,
          309.732,
          310.336,
          310.94,
          311.544,
          312.148,
          312.752,
          313.356,
          313.96,
          314.564,
          315.168,
          315.772,
          316.376,
          316.98,
          317.584,
          318.188,
          318.792,
          319.396
         ],
         "xaxis": "x",
         "y": [
          8.465127018228137e-06,
          1.5101882818670624e-05,
          2.613666628839583e-05,
          4.344472167838463e-05,
          6.8981998482012e-05,
          0.00010493097659946516,
          0.00015432361436954752,
          0.00022162908302962434,
          0.00031243990429544714,
          0.0004321310117476194,
          0.0005845979246718186,
          0.0007721800008810745,
          0.0009964432115106006,
          0.0012587411267578146,
          0.0015604176738586335,
          0.0019030084857114063,
          0.0022874679266667117,
          0.0027112767076111596,
          0.0031656280139154697,
          0.0036373175511691326,
          0.0041159118335347055,
          0.004599950596938705,
          0.005095801497340565,
          0.005610374285304537,
          0.006144679903658876,
          0.006692815604284977,
          0.007245110361642219,
          0.007791976471809365,
          0.008326659414649636,
          0.008846658726320093,
          0.009353445655926626,
          0.009849872055366202,
          0.010336611173484238,
          0.01081168498934405,
          0.011275282626832032,
          0.011735087008737901,
          0.012204193144201587,
          0.012690999710276159,
          0.013190351271490432,
          0.013685050868430746,
          0.014156877808401504,
          0.014598075586473087,
          0.015014889705635885,
          0.015421163526795054,
          0.01582703205009827,
          0.016231346451857396,
          0.01662308444436685,
          0.016988770137142478,
          0.017318975039226518,
          0.01761144374448932,
          0.017872902541929477,
          0.018118572738521053,
          0.01836498780742387,
          0.01861820844451264,
          0.01886916036114386,
          0.019104034485421622,
          0.019320991748394772,
          0.019535750546666352,
          0.019770836565196022,
          0.020041555228950993,
          0.02035277593646217,
          0.02070439883812489,
          0.021092797262397697,
          0.02150411237503531,
          0.021909638193664323,
          0.022274122751030277,
          0.022574588630477656,
          0.0228157494472565,
          0.023029196013665418,
          0.023255467887267123,
          0.023521248007467646,
          0.02382757929863571,
          0.024155255273592677,
          0.024478677776511325,
          0.024773877443042342,
          0.02501539201343151,
          0.025170542901378316,
          0.025203705750492682,
          0.025092351077649625,
          0.024841648898438262,
          0.024482971096402,
          0.024057036343053347,
          0.02359614257277473,
          0.023116127423730037,
          0.022616895462162664,
          0.022087799584573197,
          0.021518398373314873,
          0.02091248032289024,
          0.02029483869835095,
          0.01970106160033048,
          0.01915532417460661,
          0.01865462476005183,
          0.018173326102310438,
          0.017682761050443162,
          0.017167594153415514,
          0.016626876352564907,
          0.01606462648602576,
          0.015483508139813938,
          0.01488815186598098,
          0.014291594659534319,
          0.013713829876338353,
          0.013170138293418005,
          0.012659223387967046,
          0.012163294831498106,
          0.011660846496823125,
          0.011140390766196358,
          0.010604157506342866,
          0.010062719711836672,
          0.009528989497118804,
          0.009015556763382636,
          0.00853269112829507,
          0.008085271025609915,
          0.007670978909775552,
          0.007281622834524791,
          0.0069064315745291545,
          0.006535489864943122,
          0.006162372557764353,
          0.00578560012552333,
          0.005409110646754777,
          0.005041954533357601,
          0.004696270541070593,
          0.0043825536905686465,
          0.004103979754070458,
          0.0038541634509016024,
          0.0036209700625840727,
          0.0033936845327324603,
          0.0031678010392894285,
          0.002944564132718243,
          0.0027275842239867973,
          0.0025203908914161466,
          0.00232615891424633,
          0.0021481707025762793,
          0.001989303760500385,
          0.0018502914003358905,
          0.0017282369234749603,
          0.0016172086226725817,
          0.0015109298175115186,
          0.0014055073020574698,
          0.0013003262217609927,
          0.0011971692057719397,
          0.0010988056684655269,
          0.0010079486070274915,
          0.0009267342668683625,
          0.000856482779088712,
          0.0007973637729058182,
          0.0007479007845631319,
          0.00070496294729882,
          0.0006649237488695739,
          0.0006253946516557867,
          0.0005858723239013279,
          0.0005466234926773123,
          0.0005072941496607571,
          0.00046716695056458145,
          0.00042683831342860297,
          0.0003890454116863065,
          0.00035716968263082324,
          0.0003326409336862949,
          0.0003137866880182439,
          0.00029722597808427435,
          0.0002804885709124545,
          0.00026355268667102084,
          0.00024808859981067025,
          0.0002352715976410903,
          0.00022430190161493125,
          0.0002130313883328943,
          0.0001999624764223161,
          0.00018556768383969476,
          0.0001717841486330317,
          0.0001604461168679331,
          0.00015211281310328824,
          0.0001459142862893829,
          0.00014016101043701237,
          0.0001333187395964156,
          0.00012490795650051267,
          0.00011568644141677792,
          0.00010685881196986356,
          9.90727419146105e-05,
          9.226135413413603e-05,
          8.630426768359426e-05,
          8.14340808879291e-05,
          7.783187226322445e-05,
          7.512491387744637e-05,
          7.260371063411119e-05,
          6.98713541002486e-05,
          6.706168682935899e-05,
          6.443312671640894e-05,
          6.191707470493156e-05,
          5.908073995360047e-05,
          5.540504412888637e-05,
          5.0587616163219285e-05,
          4.473438501102404e-05,
          3.838388311879513e-05,
          3.231477785454079e-05,
          2.7217471093626057e-05,
          2.345040734427397e-05,
          2.1022804781734014e-05,
          1.9734182995461166e-05,
          1.932497150408728e-05,
          1.958450938037828e-05,
          2.0418712785015114e-05,
          2.182244420162316e-05,
          2.370294348161052e-05,
          2.5673254534014613e-05,
          2.7075867586847403e-05,
          2.7326425269178758e-05,
          2.6291745521970356e-05,
          2.4309916165075123e-05,
          2.183475798019925e-05,
          1.9109373563202564e-05,
          1.620104891859034e-05,
          1.3268933639221906e-05,
          1.0693585168310423e-05,
          8.929636010161087e-06,
          8.263332052384177e-06,
          8.672383712841502e-06,
          9.814542106952239e-06,
          1.1114225316533203e-05,
          1.1957574008428453e-05,
          1.1953008231138719e-05,
          1.1103066200960877e-05,
          9.757120219727688e-06,
          8.374772114496259e-06,
          7.256346258544205e-06,
          6.4090998686270315e-06,
          5.633068774515868e-06,
          4.752570718567388e-06,
          3.7912696093803875e-06,
          2.940130345025114e-06,
          2.37168418128388e-06,
          2.0948962927908956e-06,
          1.9809094267088243e-06,
          1.9052277293540624e-06,
          1.8434947443312778e-06,
          1.8323793005546616e-06,
          1.8716600047519304e-06,
          1.9020934447966725e-06,
          1.8792955301602811e-06,
          1.8310775562272376e-06,
          1.8112746844520363e-06,
          1.8084441380563196e-06,
          1.7329514043748994e-06,
          1.505437931878915e-06,
          1.1437522217438692e-06,
          7.56756501801496e-07,
          4.6881456673124145e-07,
          3.598611504886017e-07,
          4.5551520035448535e-07,
          7.334396100888118e-07,
          1.1174302841337845e-06,
          1.4847445914670462e-06,
          1.722726150198759e-06,
          1.805407128890483e-06,
          1.804861226324122e-06,
          1.805168235091744e-06,
          1.8045648371019953e-06,
          1.717502255436088e-06,
          1.4741999786646879e-06,
          1.1042690432164286e-06,
          7.221355573597517e-07,
          4.5011878146745057e-07,
          3.645345652743497e-07,
          4.924268640038083e-07,
          8.225278811050364e-07,
          1.3040968154402976e-06,
          1.8551634901638428e-06,
          2.4027652892893616e-06,
          2.9224994245557053e-06,
          3.420677555365942e-06,
          3.865771072524013e-06,
          4.1486114911048125e-06,
          4.128247270795371e-06,
          3.7298085545233056e-06,
          3.0111633476194583e-06,
          2.1459287146493975e-06,
          1.337307750150618e-06,
          7.260231091452667e-07,
          3.5356491064506823e-07,
          1.9240667174724684e-07,
          2.030238450560388e-07,
          3.660812000542269e-07,
          6.661479528982587e-07,
          1.046204749812206e-06,
          1.3851381832021082e-06,
          1.541165418009012e-06,
          1.4404877186228034e-06,
          1.1309844786975728e-06,
          7.460096007309747e-07,
          4.139472519106034e-07,
          1.9577657338340643e-07,
          8.892205716346431e-08,
          7.017566820354002e-08,
          1.3314806600947202e-07,
          2.962778975047188e-07,
          5.777356927192459e-07,
          9.504661114241168e-07,
          1.3143138324638618e-06,
          1.5280633781758656e-06,
          1.497902766660966e-06,
          1.2527410774256014e-06,
          9.361762223102422e-07,
          7.2226551243146e-07,
          7.230431558629193e-07,
          9.381099270636219e-07,
          1.254797836290612e-06,
          1.4989173608952084e-06,
          1.5274038571158556e-06,
          1.3122387222948399e-06,
          9.47827742151757e-07,
          5.751921536839012e-07,
          2.9322078953256633e-07,
          1.2556211032926868e-07,
          4.5164859516831505e-08,
          1.364646061782541e-08,
          3.4635102730468837e-09,
          7.383970874881052e-10,
          1.322331972846396e-10,
          1.9891523587031145e-11,
          2.5134637428040273e-12,
          2.667805883394687e-13,
          2.3785531067976175e-14,
          1.7813469085394917e-15,
          1.1206272572127635e-16,
          5.921761120927649e-18,
          2.6285582907108047e-19,
          9.800797262448923e-21,
          3.0701146878093636e-22,
          1.052531230171565e-23,
          9.85957061209853e-23,
          3.321404098181053e-21,
          9.415608888928061e-20,
          2.2420875202379424e-18,
          4.484703525945768e-17,
          7.535150659930785e-16,
          1.06347471242498e-14,
          1.2607803179224547e-13,
          1.2555346378948203e-12,
          1.050255590968891e-11,
          7.379693608481102e-11,
          4.355707275310432e-10,
          2.1595142044866254e-09,
          8.993535847199262e-09,
          3.1461679344085424e-08,
          9.245073243831471e-08,
          2.2820010363882433e-07,
          4.731494545978538e-07,
          8.240581817413385e-07,
          1.2055755536997425e-06,
          1.4815216948128114e-06,
          1.5293208990772998e-06,
          1.3260694099968824e-06,
          9.658527384467066e-07,
          5.909253206831764e-07,
          3.0369057159825e-07,
          1.3110131376911145e-07,
          4.754006858654044e-08,
          1.448070110818369e-08,
          3.705069853765494e-09,
          7.963064558294755e-10,
          1.4376100438207197e-10,
          2.180112903044743e-11,
          2.7771152140147477e-12,
          2.971569111933374e-13,
          2.6708825982343798e-14,
          2.0165118895491906e-15,
          1.2788623470814491e-16,
          6.812771767846949e-18,
          3.0486032243163923e-19,
          1.145921834425847e-20,
          3.6181461856008346e-22,
          9.596088631583117e-24,
          2.1378607631242717e-25,
          4.000751788088505e-27,
          6.288988850616945e-29,
          8.304185978052633e-31,
          9.210651162403966e-33,
          8.58144903055763e-35,
          6.715957599335326e-37,
          4.4150160753405004e-39,
          2.437999758115779e-41,
          1.1308683579572627e-43,
          4.4062331370741624e-46,
          1.4421150770929554e-48,
          3.964691391366158e-51,
          9.155791278118251e-54,
          1.7760672446806214e-56,
          2.894009493066308e-59,
          3.961115658327817e-62,
          4.554200226875712e-65,
          4.398288807013026e-68,
          3.5680619921617124e-71,
          2.4314092505073787e-74,
          1.3917485049103264e-77,
          6.691762018030022e-81,
          2.702696237609063e-84,
          9.169190841155105e-88,
          2.6130144546341856e-91,
          6.255033467967565e-95,
          1.2577504712636933e-98,
          2.124400353707656e-102,
          3.014083411375525e-106,
          3.592122955684728e-110,
          3.5960369559128514e-114,
          3.023946645226501e-118,
          2.2635841731514147e-122,
          1.9003641534149775e-119,
          2.377671191013229e-115,
          2.4988708792705036e-111,
          2.2060373527997068e-107,
          1.6359082128047835e-103,
          1.019018407429232e-99,
          5.331901906505838e-96,
          2.3434694592103248e-92,
          8.651939433068124e-89,
          2.683148245914252e-85,
          6.989609157015791e-82,
          1.5294600596001766e-78,
          2.811256122405501e-75,
          4.340499530750524e-72,
          5.629321314176749e-69,
          6.132667070507218e-66,
          5.612027155783745e-63,
          4.313871105743977e-60,
          2.7854257802513615e-57,
          1.5107515287861132e-54,
          6.882900942645719e-52,
          2.634068238167528e-49,
          8.467584694829237e-47,
          2.2864889257122553e-44,
          5.186276664017106e-42,
          9.881418304358546e-40,
          1.581466197023399e-37,
          2.1260700422957714e-35,
          2.4008899179790905e-33,
          2.2774243150911677e-31,
          1.814649208863586e-29,
          1.2145585054461549e-27,
          6.828435649181938e-26,
          3.2247869502638403e-24,
          1.2792571698857768e-22,
          4.262768198778875e-21,
          1.1931707546047699e-19,
          2.8053723236018374e-18,
          5.540582700452184e-17,
          9.191733000585742e-16,
          1.2809034188949237e-14,
          1.4993823508208317e-13,
          1.4742985197053959e-12,
          1.21768649615616e-11,
          8.448168660201245e-11,
          4.923417745891065e-10,
          2.410170814576777e-09,
          9.910737764994927e-09,
          3.42327014232243e-08,
          9.932381327109565e-08,
          2.420709210987018e-07,
          4.955744253182853e-07,
          8.522208882177175e-07,
          1.2310409187239859e-06,
          1.4937221743260303e-06,
          1.5224540468433973e-06,
          1.3034536215948135e-06,
          9.373979481898022e-07,
          5.662776739313077e-07,
          2.873504659616065e-07,
          1.2248175407870488e-07,
          4.3853868935623496e-08,
          1.3189291191452556e-08,
          3.3320539486974043e-09,
          7.070980140040761e-10,
          1.2604459754377478e-10,
          1.8873214669782126e-11,
          2.373802314330365e-12,
          2.507957909044607e-13,
          2.2257324795430457e-14,
          1.659215165872793e-15,
          1.0389854825844975e-16,
          5.4650391238602926e-18,
          2.41464962988334e-19,
          8.962461890426847e-21,
          3.1039074462344245e-22,
          1.1132512418746792e-21,
          3.313825584727297e-20,
          8.340701324690718e-19,
          1.7634153796678413e-17,
          3.131725623068112e-16,
          4.671859919058397e-15,
          5.854272646058622e-14,
          6.162161867071194e-13,
          5.448416318879165e-12,
          4.046546108304044e-11,
          2.5245020457197237e-10,
          1.3229516916754894e-09,
          5.823569600903957e-09,
          2.153334904181047e-08,
          6.688225621142407e-08,
          1.7449672309658857e-07,
          3.824200566834084e-07,
          7.039974284202941e-07,
          1.088625515781681e-06,
          1.4140441559889882e-06
         ],
         "yaxis": "y"
        }
       ],
       "layout": {
        "barmode": "overlay",
        "height": 500,
        "hovermode": "closest",
        "legend": {
         "traceorder": "reversed"
        },
        "showlegend": false,
        "template": {
         "data": {
          "bar": [
           {
            "error_x": {
             "color": "#2a3f5f"
            },
            "error_y": {
             "color": "#2a3f5f"
            },
            "marker": {
             "line": {
              "color": "#E5ECF6",
              "width": 0.5
             }
            },
            "type": "bar"
           }
          ],
          "barpolar": [
           {
            "marker": {
             "line": {
              "color": "#E5ECF6",
              "width": 0.5
             }
            },
            "type": "barpolar"
           }
          ],
          "carpet": [
           {
            "aaxis": {
             "endlinecolor": "#2a3f5f",
             "gridcolor": "white",
             "linecolor": "white",
             "minorgridcolor": "white",
             "startlinecolor": "#2a3f5f"
            },
            "baxis": {
             "endlinecolor": "#2a3f5f",
             "gridcolor": "white",
             "linecolor": "white",
             "minorgridcolor": "white",
             "startlinecolor": "#2a3f5f"
            },
            "type": "carpet"
           }
          ],
          "choropleth": [
           {
            "colorbar": {
             "outlinewidth": 0,
             "ticks": ""
            },
            "type": "choropleth"
           }
          ],
          "contour": [
           {
            "colorbar": {
             "outlinewidth": 0,
             "ticks": ""
            },
            "colorscale": [
             [
              0,
              "#0d0887"
             ],
             [
              0.1111111111111111,
              "#46039f"
             ],
             [
              0.2222222222222222,
              "#7201a8"
             ],
             [
              0.3333333333333333,
              "#9c179e"
             ],
             [
              0.4444444444444444,
              "#bd3786"
             ],
             [
              0.5555555555555556,
              "#d8576b"
             ],
             [
              0.6666666666666666,
              "#ed7953"
             ],
             [
              0.7777777777777778,
              "#fb9f3a"
             ],
             [
              0.8888888888888888,
              "#fdca26"
             ],
             [
              1,
              "#f0f921"
             ]
            ],
            "type": "contour"
           }
          ],
          "contourcarpet": [
           {
            "colorbar": {
             "outlinewidth": 0,
             "ticks": ""
            },
            "type": "contourcarpet"
           }
          ],
          "heatmap": [
           {
            "colorbar": {
             "outlinewidth": 0,
             "ticks": ""
            },
            "colorscale": [
             [
              0,
              "#0d0887"
             ],
             [
              0.1111111111111111,
              "#46039f"
             ],
             [
              0.2222222222222222,
              "#7201a8"
             ],
             [
              0.3333333333333333,
              "#9c179e"
             ],
             [
              0.4444444444444444,
              "#bd3786"
             ],
             [
              0.5555555555555556,
              "#d8576b"
             ],
             [
              0.6666666666666666,
              "#ed7953"
             ],
             [
              0.7777777777777778,
              "#fb9f3a"
             ],
             [
              0.8888888888888888,
              "#fdca26"
             ],
             [
              1,
              "#f0f921"
             ]
            ],
            "type": "heatmap"
           }
          ],
          "heatmapgl": [
           {
            "colorbar": {
             "outlinewidth": 0,
             "ticks": ""
            },
            "colorscale": [
             [
              0,
              "#0d0887"
             ],
             [
              0.1111111111111111,
              "#46039f"
             ],
             [
              0.2222222222222222,
              "#7201a8"
             ],
             [
              0.3333333333333333,
              "#9c179e"
             ],
             [
              0.4444444444444444,
              "#bd3786"
             ],
             [
              0.5555555555555556,
              "#d8576b"
             ],
             [
              0.6666666666666666,
              "#ed7953"
             ],
             [
              0.7777777777777778,
              "#fb9f3a"
             ],
             [
              0.8888888888888888,
              "#fdca26"
             ],
             [
              1,
              "#f0f921"
             ]
            ],
            "type": "heatmapgl"
           }
          ],
          "histogram": [
           {
            "marker": {
             "colorbar": {
              "outlinewidth": 0,
              "ticks": ""
             }
            },
            "type": "histogram"
           }
          ],
          "histogram2d": [
           {
            "colorbar": {
             "outlinewidth": 0,
             "ticks": ""
            },
            "colorscale": [
             [
              0,
              "#0d0887"
             ],
             [
              0.1111111111111111,
              "#46039f"
             ],
             [
              0.2222222222222222,
              "#7201a8"
             ],
             [
              0.3333333333333333,
              "#9c179e"
             ],
             [
              0.4444444444444444,
              "#bd3786"
             ],
             [
              0.5555555555555556,
              "#d8576b"
             ],
             [
              0.6666666666666666,
              "#ed7953"
             ],
             [
              0.7777777777777778,
              "#fb9f3a"
             ],
             [
              0.8888888888888888,
              "#fdca26"
             ],
             [
              1,
              "#f0f921"
             ]
            ],
            "type": "histogram2d"
           }
          ],
          "histogram2dcontour": [
           {
            "colorbar": {
             "outlinewidth": 0,
             "ticks": ""
            },
            "colorscale": [
             [
              0,
              "#0d0887"
             ],
             [
              0.1111111111111111,
              "#46039f"
             ],
             [
              0.2222222222222222,
              "#7201a8"
             ],
             [
              0.3333333333333333,
              "#9c179e"
             ],
             [
              0.4444444444444444,
              "#bd3786"
             ],
             [
              0.5555555555555556,
              "#d8576b"
             ],
             [
              0.6666666666666666,
              "#ed7953"
             ],
             [
              0.7777777777777778,
              "#fb9f3a"
             ],
             [
              0.8888888888888888,
              "#fdca26"
             ],
             [
              1,
              "#f0f921"
             ]
            ],
            "type": "histogram2dcontour"
           }
          ],
          "mesh3d": [
           {
            "colorbar": {
             "outlinewidth": 0,
             "ticks": ""
            },
            "type": "mesh3d"
           }
          ],
          "parcoords": [
           {
            "line": {
             "colorbar": {
              "outlinewidth": 0,
              "ticks": ""
             }
            },
            "type": "parcoords"
           }
          ],
          "pie": [
           {
            "automargin": true,
            "type": "pie"
           }
          ],
          "scatter": [
           {
            "marker": {
             "colorbar": {
              "outlinewidth": 0,
              "ticks": ""
             }
            },
            "type": "scatter"
           }
          ],
          "scatter3d": [
           {
            "line": {
             "colorbar": {
              "outlinewidth": 0,
              "ticks": ""
             }
            },
            "marker": {
             "colorbar": {
              "outlinewidth": 0,
              "ticks": ""
             }
            },
            "type": "scatter3d"
           }
          ],
          "scattercarpet": [
           {
            "marker": {
             "colorbar": {
              "outlinewidth": 0,
              "ticks": ""
             }
            },
            "type": "scattercarpet"
           }
          ],
          "scattergeo": [
           {
            "marker": {
             "colorbar": {
              "outlinewidth": 0,
              "ticks": ""
             }
            },
            "type": "scattergeo"
           }
          ],
          "scattergl": [
           {
            "marker": {
             "colorbar": {
              "outlinewidth": 0,
              "ticks": ""
             }
            },
            "type": "scattergl"
           }
          ],
          "scattermapbox": [
           {
            "marker": {
             "colorbar": {
              "outlinewidth": 0,
              "ticks": ""
             }
            },
            "type": "scattermapbox"
           }
          ],
          "scatterpolar": [
           {
            "marker": {
             "colorbar": {
              "outlinewidth": 0,
              "ticks": ""
             }
            },
            "type": "scatterpolar"
           }
          ],
          "scatterpolargl": [
           {
            "marker": {
             "colorbar": {
              "outlinewidth": 0,
              "ticks": ""
             }
            },
            "type": "scatterpolargl"
           }
          ],
          "scatterternary": [
           {
            "marker": {
             "colorbar": {
              "outlinewidth": 0,
              "ticks": ""
             }
            },
            "type": "scatterternary"
           }
          ],
          "surface": [
           {
            "colorbar": {
             "outlinewidth": 0,
             "ticks": ""
            },
            "colorscale": [
             [
              0,
              "#0d0887"
             ],
             [
              0.1111111111111111,
              "#46039f"
             ],
             [
              0.2222222222222222,
              "#7201a8"
             ],
             [
              0.3333333333333333,
              "#9c179e"
             ],
             [
              0.4444444444444444,
              "#bd3786"
             ],
             [
              0.5555555555555556,
              "#d8576b"
             ],
             [
              0.6666666666666666,
              "#ed7953"
             ],
             [
              0.7777777777777778,
              "#fb9f3a"
             ],
             [
              0.8888888888888888,
              "#fdca26"
             ],
             [
              1,
              "#f0f921"
             ]
            ],
            "type": "surface"
           }
          ],
          "table": [
           {
            "cells": {
             "fill": {
              "color": "#EBF0F8"
             },
             "line": {
              "color": "white"
             }
            },
            "header": {
             "fill": {
              "color": "#C8D4E3"
             },
             "line": {
              "color": "white"
             }
            },
            "type": "table"
           }
          ]
         },
         "layout": {
          "annotationdefaults": {
           "arrowcolor": "#2a3f5f",
           "arrowhead": 0,
           "arrowwidth": 1
          },
          "coloraxis": {
           "colorbar": {
            "outlinewidth": 0,
            "ticks": ""
           }
          },
          "colorscale": {
           "diverging": [
            [
             0,
             "#8e0152"
            ],
            [
             0.1,
             "#c51b7d"
            ],
            [
             0.2,
             "#de77ae"
            ],
            [
             0.3,
             "#f1b6da"
            ],
            [
             0.4,
             "#fde0ef"
            ],
            [
             0.5,
             "#f7f7f7"
            ],
            [
             0.6,
             "#e6f5d0"
            ],
            [
             0.7,
             "#b8e186"
            ],
            [
             0.8,
             "#7fbc41"
            ],
            [
             0.9,
             "#4d9221"
            ],
            [
             1,
             "#276419"
            ]
           ],
           "sequential": [
            [
             0,
             "#0d0887"
            ],
            [
             0.1111111111111111,
             "#46039f"
            ],
            [
             0.2222222222222222,
             "#7201a8"
            ],
            [
             0.3333333333333333,
             "#9c179e"
            ],
            [
             0.4444444444444444,
             "#bd3786"
            ],
            [
             0.5555555555555556,
             "#d8576b"
            ],
            [
             0.6666666666666666,
             "#ed7953"
            ],
            [
             0.7777777777777778,
             "#fb9f3a"
            ],
            [
             0.8888888888888888,
             "#fdca26"
            ],
            [
             1,
             "#f0f921"
            ]
           ],
           "sequentialminus": [
            [
             0,
             "#0d0887"
            ],
            [
             0.1111111111111111,
             "#46039f"
            ],
            [
             0.2222222222222222,
             "#7201a8"
            ],
            [
             0.3333333333333333,
             "#9c179e"
            ],
            [
             0.4444444444444444,
             "#bd3786"
            ],
            [
             0.5555555555555556,
             "#d8576b"
            ],
            [
             0.6666666666666666,
             "#ed7953"
            ],
            [
             0.7777777777777778,
             "#fb9f3a"
            ],
            [
             0.8888888888888888,
             "#fdca26"
            ],
            [
             1,
             "#f0f921"
            ]
           ]
          },
          "colorway": [
           "#636efa",
           "#EF553B",
           "#00cc96",
           "#ab63fa",
           "#FFA15A",
           "#19d3f3",
           "#FF6692",
           "#B6E880",
           "#FF97FF",
           "#FECB52"
          ],
          "font": {
           "color": "#2a3f5f"
          },
          "geo": {
           "bgcolor": "white",
           "lakecolor": "white",
           "landcolor": "#E5ECF6",
           "showlakes": true,
           "showland": true,
           "subunitcolor": "white"
          },
          "hoverlabel": {
           "align": "left"
          },
          "hovermode": "closest",
          "mapbox": {
           "style": "light"
          },
          "paper_bgcolor": "white",
          "plot_bgcolor": "#E5ECF6",
          "polar": {
           "angularaxis": {
            "gridcolor": "white",
            "linecolor": "white",
            "ticks": ""
           },
           "bgcolor": "#E5ECF6",
           "radialaxis": {
            "gridcolor": "white",
            "linecolor": "white",
            "ticks": ""
           }
          },
          "scene": {
           "xaxis": {
            "backgroundcolor": "#E5ECF6",
            "gridcolor": "white",
            "gridwidth": 2,
            "linecolor": "white",
            "showbackground": true,
            "ticks": "",
            "zerolinecolor": "white"
           },
           "yaxis": {
            "backgroundcolor": "#E5ECF6",
            "gridcolor": "white",
            "gridwidth": 2,
            "linecolor": "white",
            "showbackground": true,
            "ticks": "",
            "zerolinecolor": "white"
           },
           "zaxis": {
            "backgroundcolor": "#E5ECF6",
            "gridcolor": "white",
            "gridwidth": 2,
            "linecolor": "white",
            "showbackground": true,
            "ticks": "",
            "zerolinecolor": "white"
           }
          },
          "shapedefaults": {
           "line": {
            "color": "#2a3f5f"
           }
          },
          "ternary": {
           "aaxis": {
            "gridcolor": "white",
            "linecolor": "white",
            "ticks": ""
           },
           "baxis": {
            "gridcolor": "white",
            "linecolor": "white",
            "ticks": ""
           },
           "bgcolor": "#E5ECF6",
           "caxis": {
            "gridcolor": "white",
            "linecolor": "white",
            "ticks": ""
           }
          },
          "title": {
           "x": 0.05
          },
          "xaxis": {
           "automargin": true,
           "gridcolor": "white",
           "linecolor": "white",
           "ticks": "",
           "title": {
            "standoff": 15
           },
           "zerolinecolor": "white",
           "zerolinewidth": 2
          },
          "yaxis": {
           "automargin": true,
           "gridcolor": "white",
           "linecolor": "white",
           "ticks": "",
           "title": {
            "standoff": 15
           },
           "zerolinecolor": "white",
           "zerolinewidth": 2
          }
         }
        },
        "title": {
         "text": "PDF",
         "x": 0.5,
         "xanchor": "center",
         "y": 0.9,
         "yanchor": "top"
        },
        "width": 500,
        "xaxis": {
         "anchor": "y2",
         "domain": [
          0,
          1
         ],
         "title": {
          "text": "Length of a headline"
         },
         "zeroline": false
        },
        "yaxis": {
         "anchor": "free",
         "domain": [
          0,
          1
         ],
         "position": 0,
         "title": {
          "text": "probability"
         }
        }
       }
      },
      "text/html": [
       "<div>\n",
       "        \n",
       "        \n",
       "            <div id=\"9fc18588-c438-4b9f-b0d8-ebb390e63bcd\" class=\"plotly-graph-div\" style=\"height:500px; width:500px;\"></div>\n",
       "            <script type=\"text/javascript\">\n",
       "                require([\"plotly\"], function(Plotly) {\n",
       "                    window.PLOTLYENV=window.PLOTLYENV || {};\n",
       "                    \n",
       "                if (document.getElementById(\"9fc18588-c438-4b9f-b0d8-ebb390e63bcd\")) {\n",
       "                    Plotly.newPlot(\n",
       "                        '9fc18588-c438-4b9f-b0d8-ebb390e63bcd',\n",
       "                        [{\"legendgroup\": \"ht\", \"marker\": {\"color\": \"rgb(31, 119, 180)\"}, \"mode\": \"lines\", \"name\": \"ht\", \"showlegend\": true, \"type\": \"scatter\", \"x\": [18.0, 18.604, 19.208, 19.812, 20.416, 21.02, 21.624, 22.228, 22.832, 23.436, 24.04, 24.644, 25.248, 25.852, 26.456, 27.060000000000002, 27.664, 28.268, 28.872, 29.476, 30.08, 30.683999999999997, 31.288, 31.892, 32.496, 33.1, 33.704, 34.308, 34.912, 35.516, 36.120000000000005, 36.724000000000004, 37.328, 37.932, 38.536, 39.14, 39.744, 40.348, 40.952, 41.556, 42.16, 42.763999999999996, 43.367999999999995, 43.972, 44.576, 45.18, 45.784, 46.388000000000005, 46.992000000000004, 47.596000000000004, 48.2, 48.804, 49.408, 50.012, 50.616, 51.22, 51.824, 52.428, 53.032, 53.636, 54.24, 54.844, 55.448, 56.052, 56.656, 57.26, 57.864, 58.468, 59.072, 59.676, 60.28, 60.884, 61.488, 62.092, 62.696, 63.3, 63.904, 64.50800000000001, 65.112, 65.71600000000001, 66.32, 66.924, 67.52799999999999, 68.132, 68.73599999999999, 69.34, 69.944, 70.548, 71.152, 71.756, 72.36, 72.964, 73.568, 74.172, 74.77600000000001, 75.38, 75.98400000000001, 76.588, 77.19200000000001, 77.79599999999999, 78.4, 79.00399999999999, 79.608, 80.212, 80.816, 81.42, 82.024, 82.628, 83.232, 83.836, 84.44, 85.044, 85.648, 86.252, 86.856, 87.46, 88.064, 88.668, 89.272, 89.876, 90.48, 91.084, 91.688, 92.292, 92.896, 93.5, 94.104, 94.708, 95.312, 95.916, 96.52, 97.124, 97.728, 98.332, 98.936, 99.54, 100.144, 100.748, 101.352, 101.956, 102.56, 103.164, 103.768, 104.372, 104.976, 105.58, 106.184, 106.788, 107.392, 107.996, 108.6, 109.204, 109.808, 110.412, 111.016, 111.62, 112.224, 112.828, 113.432, 114.036, 114.64, 115.244, 115.848, 116.452, 117.056, 117.66, 118.264, 118.868, 119.472, 120.076, 120.68, 121.284, 121.888, 122.492, 123.096, 123.7, 124.304, 124.908, 125.512, 126.116, 126.72, 127.324, 127.928, 128.53199999999998, 129.136, 129.74, 130.344, 130.94799999999998, 131.55200000000002, 132.156, 132.76, 133.364, 133.96800000000002, 134.572, 135.176, 135.78, 136.38400000000001, 136.988, 137.59199999999998, 138.196, 138.8, 139.404, 140.00799999999998, 140.612, 141.216, 141.82, 142.424, 143.02800000000002, 143.632, 144.236, 144.84, 145.44400000000002, 146.048, 146.652, 147.256, 147.86, 148.464, 149.068, 149.672, 150.276, 150.88, 151.484, 152.088, 152.692, 153.296, 153.9, 154.504, 155.108, 155.712, 156.316, 156.92, 157.524, 158.128, 158.732, 159.336, 159.94, 160.544, 161.148, 161.752, 162.356, 162.96, 163.564, 164.168, 164.772, 165.376, 165.98, 166.584, 167.188, 167.792, 168.396, 169.0, 169.604, 170.208, 170.812, 171.416, 172.02, 172.624, 173.228, 173.832, 174.436, 175.04, 175.644, 176.248, 176.852, 177.456, 178.06, 178.664, 179.268, 179.872, 180.476, 181.08, 181.684, 182.288, 182.892, 183.496, 184.1, 184.704, 185.308, 185.912, 186.516, 187.12, 187.724, 188.328, 188.932, 189.536, 190.14, 190.744, 191.348, 191.952, 192.556, 193.16, 193.764, 194.368, 194.972, 195.576, 196.18, 196.784, 197.388, 197.992, 198.596, 199.2, 199.804, 200.408, 201.012, 201.616, 202.22, 202.824, 203.428, 204.032, 204.636, 205.24, 205.844, 206.448, 207.052, 207.656, 208.26, 208.864, 209.468, 210.072, 210.676, 211.28, 211.884, 212.488, 213.092, 213.696, 214.3, 214.904, 215.508, 216.112, 216.716, 217.32, 217.924, 218.528, 219.132, 219.736, 220.34, 220.944, 221.548, 222.152, 222.756, 223.36, 223.964, 224.568, 225.172, 225.776, 226.38, 226.984, 227.588, 228.192, 228.796, 229.4, 230.004, 230.608, 231.212, 231.816, 232.42, 233.024, 233.628, 234.232, 234.836, 235.44, 236.044, 236.648, 237.252, 237.856, 238.46, 239.064, 239.668, 240.272, 240.876, 241.48, 242.084, 242.688, 243.292, 243.896, 244.5, 245.104, 245.708, 246.312, 246.916, 247.52, 248.124, 248.728, 249.332, 249.936, 250.54, 251.144, 251.748, 252.352, 252.956, 253.56, 254.164, 254.768, 255.372, 255.976, 256.58000000000004, 257.18399999999997, 257.788, 258.392, 258.996, 259.6, 260.204, 260.808, 261.41200000000003, 262.01599999999996, 262.62, 263.224, 263.828, 264.432, 265.036, 265.64, 266.244, 266.848, 267.452, 268.05600000000004, 268.65999999999997, 269.264, 269.868, 270.472, 271.076, 271.68, 272.284, 272.88800000000003, 273.49199999999996, 274.096, 274.7, 275.304, 275.908, 276.512, 277.116, 277.72, 278.324, 278.928, 279.532, 280.136, 280.74, 281.344, 281.948, 282.552, 283.156, 283.76, 284.364, 284.968, 285.572, 286.176, 286.78, 287.384, 287.988, 288.592, 289.196, 289.8, 290.404, 291.008, 291.612, 292.216, 292.82, 293.424, 294.028, 294.632, 295.236, 295.84, 296.444, 297.048, 297.652, 298.256, 298.86, 299.464, 300.068, 300.672, 301.276, 301.88, 302.484, 303.088, 303.692, 304.296, 304.9, 305.504, 306.108, 306.712, 307.316, 307.92, 308.524, 309.128, 309.732, 310.336, 310.94, 311.544, 312.148, 312.752, 313.356, 313.96, 314.564, 315.168, 315.772, 316.376, 316.98, 317.584, 318.188, 318.792, 319.396], \"xaxis\": \"x\", \"y\": [8.465127018228137e-06, 1.5101882818670624e-05, 2.613666628839583e-05, 4.344472167838463e-05, 6.8981998482012e-05, 0.00010493097659946516, 0.00015432361436954752, 0.00022162908302962434, 0.00031243990429544714, 0.0004321310117476194, 0.0005845979246718186, 0.0007721800008810745, 0.0009964432115106006, 0.0012587411267578146, 0.0015604176738586335, 0.0019030084857114063, 0.0022874679266667117, 0.0027112767076111596, 0.0031656280139154697, 0.0036373175511691326, 0.0041159118335347055, 0.004599950596938705, 0.005095801497340565, 0.005610374285304537, 0.006144679903658876, 0.006692815604284977, 0.007245110361642219, 0.007791976471809365, 0.008326659414649636, 0.008846658726320093, 0.009353445655926626, 0.009849872055366202, 0.010336611173484238, 0.01081168498934405, 0.011275282626832032, 0.011735087008737901, 0.012204193144201587, 0.012690999710276159, 0.013190351271490432, 0.013685050868430746, 0.014156877808401504, 0.014598075586473087, 0.015014889705635885, 0.015421163526795054, 0.01582703205009827, 0.016231346451857396, 0.01662308444436685, 0.016988770137142478, 0.017318975039226518, 0.01761144374448932, 0.017872902541929477, 0.018118572738521053, 0.01836498780742387, 0.01861820844451264, 0.01886916036114386, 0.019104034485421622, 0.019320991748394772, 0.019535750546666352, 0.019770836565196022, 0.020041555228950993, 0.02035277593646217, 0.02070439883812489, 0.021092797262397697, 0.02150411237503531, 0.021909638193664323, 0.022274122751030277, 0.022574588630477656, 0.0228157494472565, 0.023029196013665418, 0.023255467887267123, 0.023521248007467646, 0.02382757929863571, 0.024155255273592677, 0.024478677776511325, 0.024773877443042342, 0.02501539201343151, 0.025170542901378316, 0.025203705750492682, 0.025092351077649625, 0.024841648898438262, 0.024482971096402, 0.024057036343053347, 0.02359614257277473, 0.023116127423730037, 0.022616895462162664, 0.022087799584573197, 0.021518398373314873, 0.02091248032289024, 0.02029483869835095, 0.01970106160033048, 0.01915532417460661, 0.01865462476005183, 0.018173326102310438, 0.017682761050443162, 0.017167594153415514, 0.016626876352564907, 0.01606462648602576, 0.015483508139813938, 0.01488815186598098, 0.014291594659534319, 0.013713829876338353, 0.013170138293418005, 0.012659223387967046, 0.012163294831498106, 0.011660846496823125, 0.011140390766196358, 0.010604157506342866, 0.010062719711836672, 0.009528989497118804, 0.009015556763382636, 0.00853269112829507, 0.008085271025609915, 0.007670978909775552, 0.007281622834524791, 0.0069064315745291545, 0.006535489864943122, 0.006162372557764353, 0.00578560012552333, 0.005409110646754777, 0.005041954533357601, 0.004696270541070593, 0.0043825536905686465, 0.004103979754070458, 0.0038541634509016024, 0.0036209700625840727, 0.0033936845327324603, 0.0031678010392894285, 0.002944564132718243, 0.0027275842239867973, 0.0025203908914161466, 0.00232615891424633, 0.0021481707025762793, 0.001989303760500385, 0.0018502914003358905, 0.0017282369234749603, 0.0016172086226725817, 0.0015109298175115186, 0.0014055073020574698, 0.0013003262217609927, 0.0011971692057719397, 0.0010988056684655269, 0.0010079486070274915, 0.0009267342668683625, 0.000856482779088712, 0.0007973637729058182, 0.0007479007845631319, 0.00070496294729882, 0.0006649237488695739, 0.0006253946516557867, 0.0005858723239013279, 0.0005466234926773123, 0.0005072941496607571, 0.00046716695056458145, 0.00042683831342860297, 0.0003890454116863065, 0.00035716968263082324, 0.0003326409336862949, 0.0003137866880182439, 0.00029722597808427435, 0.0002804885709124545, 0.00026355268667102084, 0.00024808859981067025, 0.0002352715976410903, 0.00022430190161493125, 0.0002130313883328943, 0.0001999624764223161, 0.00018556768383969476, 0.0001717841486330317, 0.0001604461168679331, 0.00015211281310328824, 0.0001459142862893829, 0.00014016101043701237, 0.0001333187395964156, 0.00012490795650051267, 0.00011568644141677792, 0.00010685881196986356, 9.90727419146105e-05, 9.226135413413603e-05, 8.630426768359426e-05, 8.14340808879291e-05, 7.783187226322445e-05, 7.512491387744637e-05, 7.260371063411119e-05, 6.98713541002486e-05, 6.706168682935899e-05, 6.443312671640894e-05, 6.191707470493156e-05, 5.908073995360047e-05, 5.540504412888637e-05, 5.0587616163219285e-05, 4.473438501102404e-05, 3.838388311879513e-05, 3.231477785454079e-05, 2.7217471093626057e-05, 2.345040734427397e-05, 2.1022804781734014e-05, 1.9734182995461166e-05, 1.932497150408728e-05, 1.958450938037828e-05, 2.0418712785015114e-05, 2.182244420162316e-05, 2.370294348161052e-05, 2.5673254534014613e-05, 2.7075867586847403e-05, 2.7326425269178758e-05, 2.6291745521970356e-05, 2.4309916165075123e-05, 2.183475798019925e-05, 1.9109373563202564e-05, 1.620104891859034e-05, 1.3268933639221906e-05, 1.0693585168310423e-05, 8.929636010161087e-06, 8.263332052384177e-06, 8.672383712841502e-06, 9.814542106952239e-06, 1.1114225316533203e-05, 1.1957574008428453e-05, 1.1953008231138719e-05, 1.1103066200960877e-05, 9.757120219727688e-06, 8.374772114496259e-06, 7.256346258544205e-06, 6.4090998686270315e-06, 5.633068774515868e-06, 4.752570718567388e-06, 3.7912696093803875e-06, 2.940130345025114e-06, 2.37168418128388e-06, 2.0948962927908956e-06, 1.9809094267088243e-06, 1.9052277293540624e-06, 1.8434947443312778e-06, 1.8323793005546616e-06, 1.8716600047519304e-06, 1.9020934447966725e-06, 1.8792955301602811e-06, 1.8310775562272376e-06, 1.8112746844520363e-06, 1.8084441380563196e-06, 1.7329514043748994e-06, 1.505437931878915e-06, 1.1437522217438692e-06, 7.56756501801496e-07, 4.6881456673124145e-07, 3.598611504886017e-07, 4.5551520035448535e-07, 7.334396100888118e-07, 1.1174302841337845e-06, 1.4847445914670462e-06, 1.722726150198759e-06, 1.805407128890483e-06, 1.804861226324122e-06, 1.805168235091744e-06, 1.8045648371019953e-06, 1.717502255436088e-06, 1.4741999786646879e-06, 1.1042690432164286e-06, 7.221355573597517e-07, 4.5011878146745057e-07, 3.645345652743497e-07, 4.924268640038083e-07, 8.225278811050364e-07, 1.3040968154402976e-06, 1.8551634901638428e-06, 2.4027652892893616e-06, 2.9224994245557053e-06, 3.420677555365942e-06, 3.865771072524013e-06, 4.1486114911048125e-06, 4.128247270795371e-06, 3.7298085545233056e-06, 3.0111633476194583e-06, 2.1459287146493975e-06, 1.337307750150618e-06, 7.260231091452667e-07, 3.5356491064506823e-07, 1.9240667174724684e-07, 2.030238450560388e-07, 3.660812000542269e-07, 6.661479528982587e-07, 1.046204749812206e-06, 1.3851381832021082e-06, 1.541165418009012e-06, 1.4404877186228034e-06, 1.1309844786975728e-06, 7.460096007309747e-07, 4.139472519106034e-07, 1.9577657338340643e-07, 8.892205716346431e-08, 7.017566820354002e-08, 1.3314806600947202e-07, 2.962778975047188e-07, 5.777356927192459e-07, 9.504661114241168e-07, 1.3143138324638618e-06, 1.5280633781758656e-06, 1.497902766660966e-06, 1.2527410774256014e-06, 9.361762223102422e-07, 7.2226551243146e-07, 7.230431558629193e-07, 9.381099270636219e-07, 1.254797836290612e-06, 1.4989173608952084e-06, 1.5274038571158556e-06, 1.3122387222948399e-06, 9.47827742151757e-07, 5.751921536839012e-07, 2.9322078953256633e-07, 1.2556211032926868e-07, 4.5164859516831505e-08, 1.364646061782541e-08, 3.4635102730468837e-09, 7.383970874881052e-10, 1.322331972846396e-10, 1.9891523587031145e-11, 2.5134637428040273e-12, 2.667805883394687e-13, 2.3785531067976175e-14, 1.7813469085394917e-15, 1.1206272572127635e-16, 5.921761120927649e-18, 2.6285582907108047e-19, 9.800797262448923e-21, 3.0701146878093636e-22, 1.052531230171565e-23, 9.85957061209853e-23, 3.321404098181053e-21, 9.415608888928061e-20, 2.2420875202379424e-18, 4.484703525945768e-17, 7.535150659930785e-16, 1.06347471242498e-14, 1.2607803179224547e-13, 1.2555346378948203e-12, 1.050255590968891e-11, 7.379693608481102e-11, 4.355707275310432e-10, 2.1595142044866254e-09, 8.993535847199262e-09, 3.1461679344085424e-08, 9.245073243831471e-08, 2.2820010363882433e-07, 4.731494545978538e-07, 8.240581817413385e-07, 1.2055755536997425e-06, 1.4815216948128114e-06, 1.5293208990772998e-06, 1.3260694099968824e-06, 9.658527384467066e-07, 5.909253206831764e-07, 3.0369057159825e-07, 1.3110131376911145e-07, 4.754006858654044e-08, 1.448070110818369e-08, 3.705069853765494e-09, 7.963064558294755e-10, 1.4376100438207197e-10, 2.180112903044743e-11, 2.7771152140147477e-12, 2.971569111933374e-13, 2.6708825982343798e-14, 2.0165118895491906e-15, 1.2788623470814491e-16, 6.812771767846949e-18, 3.0486032243163923e-19, 1.145921834425847e-20, 3.6181461856008346e-22, 9.596088631583117e-24, 2.1378607631242717e-25, 4.000751788088505e-27, 6.288988850616945e-29, 8.304185978052633e-31, 9.210651162403966e-33, 8.58144903055763e-35, 6.715957599335326e-37, 4.4150160753405004e-39, 2.437999758115779e-41, 1.1308683579572627e-43, 4.4062331370741624e-46, 1.4421150770929554e-48, 3.964691391366158e-51, 9.155791278118251e-54, 1.7760672446806214e-56, 2.894009493066308e-59, 3.961115658327817e-62, 4.554200226875712e-65, 4.398288807013026e-68, 3.5680619921617124e-71, 2.4314092505073787e-74, 1.3917485049103264e-77, 6.691762018030022e-81, 2.702696237609063e-84, 9.169190841155105e-88, 2.6130144546341856e-91, 6.255033467967565e-95, 1.2577504712636933e-98, 2.124400353707656e-102, 3.014083411375525e-106, 3.592122955684728e-110, 3.5960369559128514e-114, 3.023946645226501e-118, 2.2635841731514147e-122, 1.9003641534149775e-119, 2.377671191013229e-115, 2.4988708792705036e-111, 2.2060373527997068e-107, 1.6359082128047835e-103, 1.019018407429232e-99, 5.331901906505838e-96, 2.3434694592103248e-92, 8.651939433068124e-89, 2.683148245914252e-85, 6.989609157015791e-82, 1.5294600596001766e-78, 2.811256122405501e-75, 4.340499530750524e-72, 5.629321314176749e-69, 6.132667070507218e-66, 5.612027155783745e-63, 4.313871105743977e-60, 2.7854257802513615e-57, 1.5107515287861132e-54, 6.882900942645719e-52, 2.634068238167528e-49, 8.467584694829237e-47, 2.2864889257122553e-44, 5.186276664017106e-42, 9.881418304358546e-40, 1.581466197023399e-37, 2.1260700422957714e-35, 2.4008899179790905e-33, 2.2774243150911677e-31, 1.814649208863586e-29, 1.2145585054461549e-27, 6.828435649181938e-26, 3.2247869502638403e-24, 1.2792571698857768e-22, 4.262768198778875e-21, 1.1931707546047699e-19, 2.8053723236018374e-18, 5.540582700452184e-17, 9.191733000585742e-16, 1.2809034188949237e-14, 1.4993823508208317e-13, 1.4742985197053959e-12, 1.21768649615616e-11, 8.448168660201245e-11, 4.923417745891065e-10, 2.410170814576777e-09, 9.910737764994927e-09, 3.42327014232243e-08, 9.932381327109565e-08, 2.420709210987018e-07, 4.955744253182853e-07, 8.522208882177175e-07, 1.2310409187239859e-06, 1.4937221743260303e-06, 1.5224540468433973e-06, 1.3034536215948135e-06, 9.373979481898022e-07, 5.662776739313077e-07, 2.873504659616065e-07, 1.2248175407870488e-07, 4.3853868935623496e-08, 1.3189291191452556e-08, 3.3320539486974043e-09, 7.070980140040761e-10, 1.2604459754377478e-10, 1.8873214669782126e-11, 2.373802314330365e-12, 2.507957909044607e-13, 2.2257324795430457e-14, 1.659215165872793e-15, 1.0389854825844975e-16, 5.4650391238602926e-18, 2.41464962988334e-19, 8.962461890426847e-21, 3.1039074462344245e-22, 1.1132512418746792e-21, 3.313825584727297e-20, 8.340701324690718e-19, 1.7634153796678413e-17, 3.131725623068112e-16, 4.671859919058397e-15, 5.854272646058622e-14, 6.162161867071194e-13, 5.448416318879165e-12, 4.046546108304044e-11, 2.5245020457197237e-10, 1.3229516916754894e-09, 5.823569600903957e-09, 2.153334904181047e-08, 6.688225621142407e-08, 1.7449672309658857e-07, 3.824200566834084e-07, 7.039974284202941e-07, 1.088625515781681e-06, 1.4140441559889882e-06], \"yaxis\": \"y\"}],\n",
       "                        {\"barmode\": \"overlay\", \"height\": 500, \"hovermode\": \"closest\", \"legend\": {\"traceorder\": \"reversed\"}, \"showlegend\": false, \"template\": {\"data\": {\"bar\": [{\"error_x\": {\"color\": \"#2a3f5f\"}, \"error_y\": {\"color\": \"#2a3f5f\"}, \"marker\": {\"line\": {\"color\": \"#E5ECF6\", \"width\": 0.5}}, \"type\": \"bar\"}], \"barpolar\": [{\"marker\": {\"line\": {\"color\": \"#E5ECF6\", \"width\": 0.5}}, \"type\": \"barpolar\"}], \"carpet\": [{\"aaxis\": {\"endlinecolor\": \"#2a3f5f\", \"gridcolor\": \"white\", \"linecolor\": \"white\", \"minorgridcolor\": \"white\", \"startlinecolor\": \"#2a3f5f\"}, \"baxis\": {\"endlinecolor\": \"#2a3f5f\", \"gridcolor\": \"white\", \"linecolor\": \"white\", \"minorgridcolor\": \"white\", \"startlinecolor\": \"#2a3f5f\"}, \"type\": \"carpet\"}], \"choropleth\": [{\"colorbar\": {\"outlinewidth\": 0, \"ticks\": \"\"}, \"type\": \"choropleth\"}], \"contour\": [{\"colorbar\": {\"outlinewidth\": 0, \"ticks\": \"\"}, \"colorscale\": [[0.0, \"#0d0887\"], [0.1111111111111111, \"#46039f\"], [0.2222222222222222, \"#7201a8\"], [0.3333333333333333, \"#9c179e\"], [0.4444444444444444, \"#bd3786\"], [0.5555555555555556, \"#d8576b\"], [0.6666666666666666, \"#ed7953\"], [0.7777777777777778, \"#fb9f3a\"], [0.8888888888888888, \"#fdca26\"], [1.0, \"#f0f921\"]], \"type\": \"contour\"}], \"contourcarpet\": [{\"colorbar\": {\"outlinewidth\": 0, \"ticks\": \"\"}, \"type\": \"contourcarpet\"}], \"heatmap\": [{\"colorbar\": {\"outlinewidth\": 0, \"ticks\": \"\"}, \"colorscale\": [[0.0, \"#0d0887\"], [0.1111111111111111, \"#46039f\"], [0.2222222222222222, \"#7201a8\"], [0.3333333333333333, \"#9c179e\"], [0.4444444444444444, \"#bd3786\"], [0.5555555555555556, \"#d8576b\"], [0.6666666666666666, \"#ed7953\"], [0.7777777777777778, \"#fb9f3a\"], [0.8888888888888888, \"#fdca26\"], [1.0, \"#f0f921\"]], \"type\": \"heatmap\"}], \"heatmapgl\": [{\"colorbar\": {\"outlinewidth\": 0, \"ticks\": \"\"}, \"colorscale\": [[0.0, \"#0d0887\"], [0.1111111111111111, \"#46039f\"], [0.2222222222222222, \"#7201a8\"], [0.3333333333333333, \"#9c179e\"], [0.4444444444444444, \"#bd3786\"], [0.5555555555555556, \"#d8576b\"], [0.6666666666666666, \"#ed7953\"], [0.7777777777777778, \"#fb9f3a\"], [0.8888888888888888, \"#fdca26\"], [1.0, \"#f0f921\"]], \"type\": \"heatmapgl\"}], \"histogram\": [{\"marker\": {\"colorbar\": {\"outlinewidth\": 0, \"ticks\": \"\"}}, \"type\": \"histogram\"}], \"histogram2d\": [{\"colorbar\": {\"outlinewidth\": 0, \"ticks\": \"\"}, \"colorscale\": [[0.0, \"#0d0887\"], [0.1111111111111111, \"#46039f\"], [0.2222222222222222, \"#7201a8\"], [0.3333333333333333, \"#9c179e\"], [0.4444444444444444, \"#bd3786\"], [0.5555555555555556, \"#d8576b\"], [0.6666666666666666, \"#ed7953\"], [0.7777777777777778, \"#fb9f3a\"], [0.8888888888888888, \"#fdca26\"], [1.0, \"#f0f921\"]], \"type\": \"histogram2d\"}], \"histogram2dcontour\": [{\"colorbar\": {\"outlinewidth\": 0, \"ticks\": \"\"}, \"colorscale\": [[0.0, \"#0d0887\"], [0.1111111111111111, \"#46039f\"], [0.2222222222222222, \"#7201a8\"], [0.3333333333333333, \"#9c179e\"], [0.4444444444444444, \"#bd3786\"], [0.5555555555555556, \"#d8576b\"], [0.6666666666666666, \"#ed7953\"], [0.7777777777777778, \"#fb9f3a\"], [0.8888888888888888, \"#fdca26\"], [1.0, \"#f0f921\"]], \"type\": \"histogram2dcontour\"}], \"mesh3d\": [{\"colorbar\": {\"outlinewidth\": 0, \"ticks\": \"\"}, \"type\": \"mesh3d\"}], \"parcoords\": [{\"line\": {\"colorbar\": {\"outlinewidth\": 0, \"ticks\": \"\"}}, \"type\": \"parcoords\"}], \"pie\": [{\"automargin\": true, \"type\": \"pie\"}], \"scatter\": [{\"marker\": {\"colorbar\": {\"outlinewidth\": 0, \"ticks\": \"\"}}, \"type\": \"scatter\"}], \"scatter3d\": [{\"line\": {\"colorbar\": {\"outlinewidth\": 0, \"ticks\": \"\"}}, \"marker\": {\"colorbar\": {\"outlinewidth\": 0, \"ticks\": \"\"}}, \"type\": \"scatter3d\"}], \"scattercarpet\": [{\"marker\": {\"colorbar\": {\"outlinewidth\": 0, \"ticks\": \"\"}}, \"type\": \"scattercarpet\"}], \"scattergeo\": [{\"marker\": {\"colorbar\": {\"outlinewidth\": 0, \"ticks\": \"\"}}, \"type\": \"scattergeo\"}], \"scattergl\": [{\"marker\": {\"colorbar\": {\"outlinewidth\": 0, \"ticks\": \"\"}}, \"type\": \"scattergl\"}], \"scattermapbox\": [{\"marker\": {\"colorbar\": {\"outlinewidth\": 0, \"ticks\": \"\"}}, \"type\": \"scattermapbox\"}], \"scatterpolar\": [{\"marker\": {\"colorbar\": {\"outlinewidth\": 0, \"ticks\": \"\"}}, \"type\": \"scatterpolar\"}], \"scatterpolargl\": [{\"marker\": {\"colorbar\": {\"outlinewidth\": 0, \"ticks\": \"\"}}, \"type\": \"scatterpolargl\"}], \"scatterternary\": [{\"marker\": {\"colorbar\": {\"outlinewidth\": 0, \"ticks\": \"\"}}, \"type\": \"scatterternary\"}], \"surface\": [{\"colorbar\": {\"outlinewidth\": 0, \"ticks\": \"\"}, \"colorscale\": [[0.0, \"#0d0887\"], [0.1111111111111111, \"#46039f\"], [0.2222222222222222, \"#7201a8\"], [0.3333333333333333, \"#9c179e\"], [0.4444444444444444, \"#bd3786\"], [0.5555555555555556, \"#d8576b\"], [0.6666666666666666, \"#ed7953\"], [0.7777777777777778, \"#fb9f3a\"], [0.8888888888888888, \"#fdca26\"], [1.0, \"#f0f921\"]], \"type\": \"surface\"}], \"table\": [{\"cells\": {\"fill\": {\"color\": \"#EBF0F8\"}, \"line\": {\"color\": \"white\"}}, \"header\": {\"fill\": {\"color\": \"#C8D4E3\"}, \"line\": {\"color\": \"white\"}}, \"type\": \"table\"}]}, \"layout\": {\"annotationdefaults\": {\"arrowcolor\": \"#2a3f5f\", \"arrowhead\": 0, \"arrowwidth\": 1}, \"coloraxis\": {\"colorbar\": {\"outlinewidth\": 0, \"ticks\": \"\"}}, \"colorscale\": {\"diverging\": [[0, \"#8e0152\"], [0.1, \"#c51b7d\"], [0.2, \"#de77ae\"], [0.3, \"#f1b6da\"], [0.4, \"#fde0ef\"], [0.5, \"#f7f7f7\"], [0.6, \"#e6f5d0\"], [0.7, \"#b8e186\"], [0.8, \"#7fbc41\"], [0.9, \"#4d9221\"], [1, \"#276419\"]], \"sequential\": [[0.0, \"#0d0887\"], [0.1111111111111111, \"#46039f\"], [0.2222222222222222, \"#7201a8\"], [0.3333333333333333, \"#9c179e\"], [0.4444444444444444, \"#bd3786\"], [0.5555555555555556, \"#d8576b\"], [0.6666666666666666, \"#ed7953\"], [0.7777777777777778, \"#fb9f3a\"], [0.8888888888888888, \"#fdca26\"], [1.0, \"#f0f921\"]], \"sequentialminus\": [[0.0, \"#0d0887\"], [0.1111111111111111, \"#46039f\"], [0.2222222222222222, \"#7201a8\"], [0.3333333333333333, \"#9c179e\"], [0.4444444444444444, \"#bd3786\"], [0.5555555555555556, \"#d8576b\"], [0.6666666666666666, \"#ed7953\"], [0.7777777777777778, \"#fb9f3a\"], [0.8888888888888888, \"#fdca26\"], [1.0, \"#f0f921\"]]}, \"colorway\": [\"#636efa\", \"#EF553B\", \"#00cc96\", \"#ab63fa\", \"#FFA15A\", \"#19d3f3\", \"#FF6692\", \"#B6E880\", \"#FF97FF\", \"#FECB52\"], \"font\": {\"color\": \"#2a3f5f\"}, \"geo\": {\"bgcolor\": \"white\", \"lakecolor\": \"white\", \"landcolor\": \"#E5ECF6\", \"showlakes\": true, \"showland\": true, \"subunitcolor\": \"white\"}, \"hoverlabel\": {\"align\": \"left\"}, \"hovermode\": \"closest\", \"mapbox\": {\"style\": \"light\"}, \"paper_bgcolor\": \"white\", \"plot_bgcolor\": \"#E5ECF6\", \"polar\": {\"angularaxis\": {\"gridcolor\": \"white\", \"linecolor\": \"white\", \"ticks\": \"\"}, \"bgcolor\": \"#E5ECF6\", \"radialaxis\": {\"gridcolor\": \"white\", \"linecolor\": \"white\", \"ticks\": \"\"}}, \"scene\": {\"xaxis\": {\"backgroundcolor\": \"#E5ECF6\", \"gridcolor\": \"white\", \"gridwidth\": 2, \"linecolor\": \"white\", \"showbackground\": true, \"ticks\": \"\", \"zerolinecolor\": \"white\"}, \"yaxis\": {\"backgroundcolor\": \"#E5ECF6\", \"gridcolor\": \"white\", \"gridwidth\": 2, \"linecolor\": \"white\", \"showbackground\": true, \"ticks\": \"\", \"zerolinecolor\": \"white\"}, \"zaxis\": {\"backgroundcolor\": \"#E5ECF6\", \"gridcolor\": \"white\", \"gridwidth\": 2, \"linecolor\": \"white\", \"showbackground\": true, \"ticks\": \"\", \"zerolinecolor\": \"white\"}}, \"shapedefaults\": {\"line\": {\"color\": \"#2a3f5f\"}}, \"ternary\": {\"aaxis\": {\"gridcolor\": \"white\", \"linecolor\": \"white\", \"ticks\": \"\"}, \"baxis\": {\"gridcolor\": \"white\", \"linecolor\": \"white\", \"ticks\": \"\"}, \"bgcolor\": \"#E5ECF6\", \"caxis\": {\"gridcolor\": \"white\", \"linecolor\": \"white\", \"ticks\": \"\"}}, \"title\": {\"x\": 0.05}, \"xaxis\": {\"automargin\": true, \"gridcolor\": \"white\", \"linecolor\": \"white\", \"ticks\": \"\", \"title\": {\"standoff\": 15}, \"zerolinecolor\": \"white\", \"zerolinewidth\": 2}, \"yaxis\": {\"automargin\": true, \"gridcolor\": \"white\", \"linecolor\": \"white\", \"ticks\": \"\", \"title\": {\"standoff\": 15}, \"zerolinecolor\": \"white\", \"zerolinewidth\": 2}}}, \"title\": {\"text\": \"PDF\", \"x\": 0.5, \"xanchor\": \"center\", \"y\": 0.9, \"yanchor\": \"top\"}, \"width\": 500, \"xaxis\": {\"anchor\": \"y2\", \"domain\": [0.0, 1.0], \"title\": {\"text\": \"Length of a headline\"}, \"zeroline\": false}, \"yaxis\": {\"anchor\": \"free\", \"domain\": [0.0, 1], \"position\": 0.0, \"title\": {\"text\": \"probability\"}}},\n",
       "                        {\"responsive\": true}\n",
       "                    ).then(function(){\n",
       "                            \n",
       "var gd = document.getElementById('9fc18588-c438-4b9f-b0d8-ebb390e63bcd');\n",
       "var x = new MutationObserver(function (mutations, observer) {{\n",
       "        var display = window.getComputedStyle(gd).display;\n",
       "        if (!display || display === 'none') {{\n",
       "            console.log([gd, 'removed!']);\n",
       "            Plotly.purge(gd);\n",
       "            observer.disconnect();\n",
       "        }}\n",
       "}});\n",
       "\n",
       "// Listen for the removal of the full notebook cells\n",
       "var notebookContainer = gd.closest('#notebook-container');\n",
       "if (notebookContainer) {{\n",
       "    x.observe(notebookContainer, {childList: true});\n",
       "}}\n",
       "\n",
       "// Listen for the clearing of the current output cell\n",
       "var outputEl = gd.closest('.output');\n",
       "if (outputEl) {{\n",
       "    x.observe(outputEl, {childList: true});\n",
       "}}\n",
       "\n",
       "                        })\n",
       "                };\n",
       "                });\n",
       "            </script>\n",
       "        </div>"
      ]
     },
     "metadata": {},
     "output_type": "display_data"
    }
   ],
   "source": [
    "fig = ff.create_distplot(\n",
    "            [news_data['headline'].str.len()],\n",
    "            ['ht'],\n",
    "            show_hist=False,\n",
    "            show_rug=False\n",
    "        )\n",
    "fig['layout'].update(\n",
    "        title={\n",
    "            'text': 'PDF',\n",
    "            'y': 0.9,\n",
    "            'x': 0.5,\n",
    "            'xanchor': 'center', \n",
    "            'yanchor': 'top'\n",
    "        },\n",
    "        xaxis_title='Length of a headline',\n",
    "        yaxis_title='probability'\n",
    "        )\n",
    "fig.update_layout(showlegend=False, width=500, height=500)\n",
    "fig"
   ]
  },
  {
   "cell_type": "code",
   "execution_count": 80,
   "metadata": {},
   "outputs": [],
   "source": [
    "# Making indices uniform ranging from 0\n",
    "news_data.index = range(news_data.shape[0])"
   ]
  },
  {
   "cell_type": "code",
   "execution_count": 81,
   "metadata": {},
   "outputs": [],
   "source": [
    "# Adding a new column containing both day of the week and month, it will be required later while recommending based on day of the week and month\n",
    "news_data[\"day and month\"] = news_data[\"date\"].dt.strftime(\"%a\") + \"_\" + news_data[\"date\"].dt.strftime(\"%b\")"
   ]
  },
  {
   "cell_type": "code",
   "execution_count": 82,
   "metadata": {},
   "outputs": [],
   "source": [
    "# To retain original headlines, make a copy of data before preprocessing\n",
    "news_data_orig = news_data.copy()"
   ]
  },
  {
   "cell_type": "markdown",
   "metadata": {},
   "source": [
    "## Preprocessing"
   ]
  },
  {
   "cell_type": "markdown",
   "metadata": {},
   "source": [
    "### Removing stopwords"
   ]
  },
  {
   "cell_type": "code",
   "execution_count": 83,
   "metadata": {},
   "outputs": [
    {
     "name": "stderr",
     "output_type": "stream",
     "text": [
      "[nltk_data] Downloading package stopwords to\n",
      "[nltk_data]     /home/azureuser/nltk_data...\n",
      "[nltk_data]   Package stopwords is already up-to-date!\n"
     ]
    },
    {
     "data": {
      "text/plain": [
       "True"
      ]
     },
     "execution_count": 83,
     "metadata": {},
     "output_type": "execute_result"
    }
   ],
   "source": [
    "# Using stop words from nltk package\n",
    "nltk.download('stopwords')"
   ]
  },
  {
   "cell_type": "code",
   "execution_count": 84,
   "metadata": {},
   "outputs": [],
   "source": [
    "stop_words = set(stopwords.words('english'))"
   ]
  },
  {
   "cell_type": "code",
   "execution_count": 85,
   "metadata": {},
   "outputs": [
    {
     "data": {
      "text/html": [
       "<div>\n",
       "<style scoped>\n",
       "    .dataframe tbody tr th:only-of-type {\n",
       "        vertical-align: middle;\n",
       "    }\n",
       "\n",
       "    .dataframe tbody tr th {\n",
       "        vertical-align: top;\n",
       "    }\n",
       "\n",
       "    .dataframe thead th {\n",
       "        text-align: right;\n",
       "    }\n",
       "</style>\n",
       "<table border=\"1\" class=\"dataframe\">\n",
       "  <thead>\n",
       "    <tr style=\"text-align: right;\">\n",
       "      <th></th>\n",
       "      <th>authors</th>\n",
       "      <th>category</th>\n",
       "      <th>date</th>\n",
       "      <th>headline</th>\n",
       "      <th>link</th>\n",
       "      <th>short_description</th>\n",
       "      <th>day and month</th>\n",
       "    </tr>\n",
       "  </thead>\n",
       "  <tbody>\n",
       "    <tr>\n",
       "      <th>0</th>\n",
       "      <td>Darin Graham, ContributorJournalist</td>\n",
       "      <td>WOMEN</td>\n",
       "      <td>2017-01-25</td>\n",
       "      <td>“We Shall Overcomb!” Say The 100,000 Marching Against Trump In London</td>\n",
       "      <td>https://www.huffingtonpost.com/entry/we-shall-overcomb-say-the-100000-marching-against_us_5888bf29e4b05a82fd5b30b3</td>\n",
       "      <td>Thousands of activists descended on London to march for women’s rights, diversity and equality last Saturday. The Women’s</td>\n",
       "      <td>Wed_Jan</td>\n",
       "    </tr>\n",
       "    <tr>\n",
       "      <th>1</th>\n",
       "      <td>Mycah Hazel, Contributorblogger, equal opportunity enthusiast</td>\n",
       "      <td>HEALTHY LIVING</td>\n",
       "      <td>2017-07-18</td>\n",
       "      <td>“To The Bone” Didn’t Teach Me Glamour. It Taught Me Respect.</td>\n",
       "      <td>https://www.huffingtonpost.com/entry/to-the-bone-didnt-teach-me-glamour-it-taught-me_us_596d50afe4b05561da5a5a0c</td>\n",
       "      <td>Oftentimes, films or TV shows about eating disorders try to convince victims to stop by showing them their sickly thin appearance</td>\n",
       "      <td>Tue_Jul</td>\n",
       "    </tr>\n",
       "    <tr>\n",
       "      <th>2</th>\n",
       "      <td>Dana Brownlee, ContributorPresident of Professionalism Matters, a corporate training/key...</td>\n",
       "      <td>BUSINESS</td>\n",
       "      <td>2017-04-10</td>\n",
       "      <td>“I’m Sorry\"--The Two Tragically Forgotten Words In Customer Service</td>\n",
       "      <td>https://www.huffingtonpost.com/entry/im-sorrythe-two-tragically-forgotten-words-in-customer_us_58eadad7e4b00dd8e016ed62</td>\n",
       "      <td>Unfortunately, I was one of those frustrated passengers caught in the midst of the recent spring break travel nightmare that</td>\n",
       "      <td>Mon_Apr</td>\n",
       "    </tr>\n",
       "    <tr>\n",
       "      <th>3</th>\n",
       "      <td></td>\n",
       "      <td>DIVORCE</td>\n",
       "      <td>2012-02-16</td>\n",
       "      <td>‘Your Divorce Ruined My Life' What To Do When Your Child Blames You</td>\n",
       "      <td>https://www.huffingtonpost.comhttp://www.theglobeandmail.com/life/parenting/advice/anthony-e-wolf/your-divorce-ruined-my-life-what-to-do-when-your-child-blames-you/article2340805/?utm_medium=Feeds:%20RSS/Atom&amp;utm_source=Home&amp;utm_content=2340805</td>\n",
       "      <td>It was Sunday night and Lucas’s mother had had it with her 15-year-old son. “I am just sick of this. Look at this mess. I</td>\n",
       "      <td>Thu_Feb</td>\n",
       "    </tr>\n",
       "    <tr>\n",
       "      <th>4</th>\n",
       "      <td></td>\n",
       "      <td>DIVORCE</td>\n",
       "      <td>2012-04-13</td>\n",
       "      <td>‘You Better Sit Down,' By The Civilians, At Flea Theater</td>\n",
       "      <td>https://www.huffingtonpost.comhttp://theater.nytimes.com/2012/04/13/theater/reviews/you-better-sit-down-by-the-civilians-at-flea-theater.html</td>\n",
       "      <td>The Civilians, the enterprising troupe specializing in documentary theater drawn from interviews, takes its tape recorders</td>\n",
       "      <td>Fri_Apr</td>\n",
       "    </tr>\n",
       "  </tbody>\n",
       "</table>\n",
       "</div>"
      ],
      "text/plain": [
       "                                                                                       authors  \\\n",
       "0  Darin Graham, ContributorJournalist                                                           \n",
       "1  Mycah Hazel, Contributorblogger, equal opportunity enthusiast                                 \n",
       "2  Dana Brownlee, ContributorPresident of Professionalism Matters, a corporate training/key...   \n",
       "3                                                                                                \n",
       "4                                                                                                \n",
       "\n",
       "         category       date  \\\n",
       "0  WOMEN          2017-01-25   \n",
       "1  HEALTHY LIVING 2017-07-18   \n",
       "2  BUSINESS       2017-04-10   \n",
       "3  DIVORCE        2012-02-16   \n",
       "4  DIVORCE        2012-04-13   \n",
       "\n",
       "                                                                headline  \\\n",
       "0  “We Shall Overcomb!” Say The 100,000 Marching Against Trump In London   \n",
       "1  “To The Bone” Didn’t Teach Me Glamour. It Taught Me Respect.            \n",
       "2  “I’m Sorry\"--The Two Tragically Forgotten Words In Customer Service     \n",
       "3  ‘Your Divorce Ruined My Life' What To Do When Your Child Blames You     \n",
       "4  ‘You Better Sit Down,' By The Civilians, At Flea Theater                \n",
       "\n",
       "                                                                                                                                                                                                                                                   link  \\\n",
       "0  https://www.huffingtonpost.com/entry/we-shall-overcomb-say-the-100000-marching-against_us_5888bf29e4b05a82fd5b30b3                                                                                                                                     \n",
       "1  https://www.huffingtonpost.com/entry/to-the-bone-didnt-teach-me-glamour-it-taught-me_us_596d50afe4b05561da5a5a0c                                                                                                                                       \n",
       "2  https://www.huffingtonpost.com/entry/im-sorrythe-two-tragically-forgotten-words-in-customer_us_58eadad7e4b00dd8e016ed62                                                                                                                                \n",
       "3  https://www.huffingtonpost.comhttp://www.theglobeandmail.com/life/parenting/advice/anthony-e-wolf/your-divorce-ruined-my-life-what-to-do-when-your-child-blames-you/article2340805/?utm_medium=Feeds:%20RSS/Atom&utm_source=Home&utm_content=2340805   \n",
       "4  https://www.huffingtonpost.comhttp://theater.nytimes.com/2012/04/13/theater/reviews/you-better-sit-down-by-the-civilians-at-flea-theater.html                                                                                                          \n",
       "\n",
       "                                                                                                                   short_description  \\\n",
       "0  Thousands of activists descended on London to march for women’s rights, diversity and equality last Saturday. The Women’s           \n",
       "1  Oftentimes, films or TV shows about eating disorders try to convince victims to stop by showing them their sickly thin appearance   \n",
       "2  Unfortunately, I was one of those frustrated passengers caught in the midst of the recent spring break travel nightmare that        \n",
       "3  It was Sunday night and Lucas’s mother had had it with her 15-year-old son. “I am just sick of this. Look at this mess. I           \n",
       "4  The Civilians, the enterprising troupe specializing in documentary theater drawn from interviews, takes its tape recorders          \n",
       "\n",
       "  day and month  \n",
       "0  Wed_Jan       \n",
       "1  Tue_Jul       \n",
       "2  Mon_Apr       \n",
       "3  Thu_Feb       \n",
       "4  Fri_Apr       "
      ]
     },
     "execution_count": 85,
     "metadata": {},
     "output_type": "execute_result"
    }
   ],
   "source": [
    "news_data.head()"
   ]
  },
  {
   "cell_type": "code",
   "execution_count": 86,
   "metadata": {},
   "outputs": [
    {
     "name": "stderr",
     "output_type": "stream",
     "text": [
      "100%|██████████| 178760/178760 [00:06<00:00, 27462.78it/s]\n"
     ]
    }
   ],
   "source": [
    "for i in tqdm(range(len(news_data['headline']))):\n",
    "    buffer = ''\n",
    "#     print(i, \":\", news_data['headline'][i])\n",
    "    for word in news_data['headline'][i].split():\n",
    "        word = (''.join((c for c in word if c.isalnum())))\n",
    "        word = word.lower()\n",
    "        if word not in stop_words:\n",
    "            buffer += word + ' '\n",
    "    buffer = buffer.strip()\n",
    "    news_data.at[i, 'headline'] = buffer"
   ]
  },
  {
   "cell_type": "markdown",
   "metadata": {},
   "source": [
    "### Lemmatization"
   ]
  },
  {
   "cell_type": "code",
   "execution_count": 87,
   "metadata": {},
   "outputs": [],
   "source": [
    "lemmatizer = WordNetLemmatizer()"
   ]
  },
  {
   "cell_type": "code",
   "execution_count": 88,
   "metadata": {},
   "outputs": [
    {
     "name": "stderr",
     "output_type": "stream",
     "text": [
      "[nltk_data] Downloading package punkt to /home/azureuser/nltk_data...\n",
      "[nltk_data]   Package punkt is already up-to-date!\n",
      "[nltk_data] Downloading package wordnet to\n",
      "[nltk_data]     /home/azureuser/nltk_data...\n",
      "[nltk_data]   Package wordnet is already up-to-date!\n"
     ]
    },
    {
     "data": {
      "text/plain": [
       "True"
      ]
     },
     "execution_count": 88,
     "metadata": {},
     "output_type": "execute_result"
    }
   ],
   "source": [
    "nltk.download('punkt')\n",
    "nltk.download('wordnet')"
   ]
  },
  {
   "cell_type": "code",
   "execution_count": 89,
   "metadata": {},
   "outputs": [
    {
     "name": "stderr",
     "output_type": "stream",
     "text": [
      "100%|██████████| 178760/178760 [00:30<00:00, 5878.11it/s]\n"
     ]
    }
   ],
   "source": [
    "for i in tqdm(range(len(news_data['headline']))):\n",
    "    buffer = ''\n",
    "    for w in word_tokenize(news_data['headline'][i]):\n",
    "        buffer += lemmatizer.lemmatize(w, pos = 'v') + ' '\n",
    "    news_data.at[i, 'headline'] = buffer.strip()"
   ]
  },
  {
   "cell_type": "markdown",
   "metadata": {},
   "source": [
    "## Recommendation"
   ]
  },
  {
   "cell_type": "markdown",
   "metadata": {},
   "source": [
    "In order to measure similarity, we need to convert text into a vector:"
   ]
  },
  {
   "cell_type": "markdown",
   "metadata": {},
   "source": [
    "### 1. Vector using Bag of Words: \n",
    "A **Bag of Words (BoW)** method represents the occurence of words within a document. Here, each headline can be considered as a document and set of all headlines form a corpus. Using BoW approach, each document is represented by a _d-dimensional vector_, where d is total number of unique words in the corpus. The set of such unique words forms the Vocabulary."
   ]
  },
  {
   "cell_type": "code",
   "execution_count": 90,
   "metadata": {},
   "outputs": [],
   "source": [
    "headline_vectorizer = CountVectorizer()\n",
    "headline_features = headline_vectorizer.fit_transform(news_data['headline'])"
   ]
  },
  {
   "cell_type": "code",
   "execution_count": 91,
   "metadata": {},
   "outputs": [
    {
     "data": {
      "text/plain": [
       "(178760, 56596)"
      ]
     },
     "execution_count": 91,
     "metadata": {},
     "output_type": "execute_result"
    }
   ],
   "source": [
    "headline_features.get_shape()"
   ]
  },
  {
   "cell_type": "code",
   "execution_count": 92,
   "metadata": {},
   "outputs": [
    {
     "data": {
      "text/plain": [
       "<178760x56596 sparse matrix of type '<class 'numpy.int64'>'\n",
       "\twith 1252140 stored elements in Compressed Sparse Row format>"
      ]
     },
     "execution_count": 92,
     "metadata": {},
     "output_type": "execute_result"
    }
   ],
   "source": [
    "headline_features"
   ]
  },
  {
   "cell_type": "code",
   "execution_count": 93,
   "metadata": {},
   "outputs": [],
   "source": [
    "pd.set_option('display.max_colwidth', -1) # to display long headlines completely"
   ]
  },
  {
   "cell_type": "code",
   "execution_count": 94,
   "metadata": {},
   "outputs": [],
   "source": [
    "def bow_model(row_index, num_similar_items):\n",
    "    dist = pairwise_distances(headline_features, headline_features[row_index])\n",
    "    indices = np.argsort(dist.ravel())[0:num_similar_items] # Flattening array\n",
    "    df = pd.DataFrame(\n",
    "        {'publish_date': news_data_orig['date'][indices].values,\n",
    "         'headline' : news_data_orig['headline'][indices].values,\n",
    "         'Similarity': dist[indices].ravel()\n",
    "        }\n",
    "    )\n",
    "    print('Read article: \\n\\n{}\\n'.format(news_data_orig['headline'][indices[0]]))\n",
    "    print('Recommended Articles:')\n",
    "    return df.iloc[1:,]"
   ]
  },
  {
   "cell_type": "markdown",
   "metadata": {},
   "source": [
    "#### Results of Bag of Words"
   ]
  },
  {
   "cell_type": "markdown",
   "metadata": {},
   "source": [
    "Below function recommends similar articles to the _read_ article based on the headline. It accepts two arguments _(i, n)_\n",
    "- _i_: index of already _read_ article \n",
    "- _n_: number of articles to be recommended \n",
    "\n",
    "Based on the Euclidean distance it finds **n** nearest neighbors and recommends those."
   ]
  },
  {
   "cell_type": "code",
   "execution_count": 95,
   "metadata": {},
   "outputs": [
    {
     "name": "stdout",
     "output_type": "stream",
     "text": [
      "Read article: \n",
      "\n",
      "‘Game Of Thrones’ Character Might’ve Really Hinted At Highly Anticipated Grudge Match\n",
      "\n",
      "Recommended Articles:\n"
     ]
    },
    {
     "data": {
      "text/html": [
       "<div>\n",
       "<style scoped>\n",
       "    .dataframe tbody tr th:only-of-type {\n",
       "        vertical-align: middle;\n",
       "    }\n",
       "\n",
       "    .dataframe tbody tr th {\n",
       "        vertical-align: top;\n",
       "    }\n",
       "\n",
       "    .dataframe thead th {\n",
       "        text-align: right;\n",
       "    }\n",
       "</style>\n",
       "<table border=\"1\" class=\"dataframe\">\n",
       "  <thead>\n",
       "    <tr style=\"text-align: right;\">\n",
       "      <th></th>\n",
       "      <th>publish_date</th>\n",
       "      <th>headline</th>\n",
       "      <th>Similarity</th>\n",
       "    </tr>\n",
       "  </thead>\n",
       "  <tbody>\n",
       "    <tr>\n",
       "      <th>1</th>\n",
       "      <td>2015-05-04</td>\n",
       "      <td>Did 'Game Of Thrones' Just Kill Off Two Characters?</td>\n",
       "      <td>3.000000</td>\n",
       "    </tr>\n",
       "    <tr>\n",
       "      <th>2</th>\n",
       "      <td>2015-06-15</td>\n",
       "      <td>Is That 'Game Of Thrones' Character Actually Dead?</td>\n",
       "      <td>3.000000</td>\n",
       "    </tr>\n",
       "    <tr>\n",
       "      <th>3</th>\n",
       "      <td>2013-07-08</td>\n",
       "      <td>It's Really Not You, It's Them</td>\n",
       "      <td>3.000000</td>\n",
       "    </tr>\n",
       "    <tr>\n",
       "      <th>4</th>\n",
       "      <td>2016-04-03</td>\n",
       "      <td>'Game Of Thrones' Is All About This Character, According To Math</td>\n",
       "      <td>3.000000</td>\n",
       "    </tr>\n",
       "    <tr>\n",
       "      <th>5</th>\n",
       "      <td>2016-06-06</td>\n",
       "      <td>'Game Of Thrones' Might've Spoiled Its Own Cliffhanger</td>\n",
       "      <td>3.000000</td>\n",
       "    </tr>\n",
       "    <tr>\n",
       "      <th>6</th>\n",
       "      <td>2014-06-16</td>\n",
       "      <td>The Tao of Game of Thrones</td>\n",
       "      <td>3.000000</td>\n",
       "    </tr>\n",
       "    <tr>\n",
       "      <th>7</th>\n",
       "      <td>2012-04-01</td>\n",
       "      <td>To Be or Not to Be</td>\n",
       "      <td>3.162278</td>\n",
       "    </tr>\n",
       "    <tr>\n",
       "      <th>8</th>\n",
       "      <td>2015-01-12</td>\n",
       "      <td>What Being A Mother Is Really About</td>\n",
       "      <td>3.162278</td>\n",
       "    </tr>\n",
       "    <tr>\n",
       "      <th>9</th>\n",
       "      <td>2016-04-25</td>\n",
       "      <td>'Game Of Thrones' After Show Episode 1</td>\n",
       "      <td>3.162278</td>\n",
       "    </tr>\n",
       "    <tr>\n",
       "      <th>10</th>\n",
       "      <td>2015-06-15</td>\n",
       "      <td>Why Being Judgmental Is Really All About Me</td>\n",
       "      <td>3.162278</td>\n",
       "    </tr>\n",
       "  </tbody>\n",
       "</table>\n",
       "</div>"
      ],
      "text/plain": [
       "   publish_date  \\\n",
       "1  2015-05-04     \n",
       "2  2015-06-15     \n",
       "3  2013-07-08     \n",
       "4  2016-04-03     \n",
       "5  2016-06-06     \n",
       "6  2014-06-16     \n",
       "7  2012-04-01     \n",
       "8  2015-01-12     \n",
       "9  2016-04-25     \n",
       "10 2015-06-15     \n",
       "\n",
       "                                                            headline  \\\n",
       "1   Did 'Game Of Thrones' Just Kill Off Two Characters?                \n",
       "2   Is That 'Game Of Thrones' Character Actually Dead?                 \n",
       "3   It's Really Not You, It's Them                                     \n",
       "4   'Game Of Thrones' Is All About This Character, According To Math   \n",
       "5   'Game Of Thrones' Might've Spoiled Its Own Cliffhanger             \n",
       "6   The Tao of Game of Thrones                                         \n",
       "7   To Be or Not to Be                                                 \n",
       "8   What Being A Mother Is Really About                                \n",
       "9   'Game Of Thrones' After Show Episode 1                             \n",
       "10  Why Being Judgmental Is Really All About Me                        \n",
       "\n",
       "    Similarity  \n",
       "1   3.000000    \n",
       "2   3.000000    \n",
       "3   3.000000    \n",
       "4   3.000000    \n",
       "5   3.000000    \n",
       "6   3.000000    \n",
       "7   3.162278    \n",
       "8   3.162278    \n",
       "9   3.162278    \n",
       "10  3.162278    "
      ]
     },
     "execution_count": 95,
     "metadata": {},
     "output_type": "execute_result"
    }
   ],
   "source": [
    "bow_model(133, 11) # Change row for any other queried article"
   ]
  },
  {
   "cell_type": "markdown",
   "metadata": {},
   "source": [
    "#### Disadvantages:\n",
    "\n",
    "1. It gives very low importance to less frequently observed words in the corpus. Few words from the read article like _grudge_ appear less frequently in the entire corpus so **BoW** method does not recommend any article whose headline contains these words. Since _game of thrones_ is commonly observed in the corpus so it is recommending the articles with headline containing _game of thrones_.\n",
    "2. BoW method doesn't preserve the order of words.\n",
    "\n",
    "To overcome the first disadvantage we use **TF-IDF** method for feature representation."
   ]
  },
  {
   "cell_type": "code",
   "execution_count": null,
   "metadata": {},
   "outputs": [],
   "source": []
  }
 ],
 "metadata": {
  "kernelspec": {
   "display_name": "Python 3.6 - AzureML",
   "language": "python",
   "name": "python3-azureml"
  },
  "language_info": {
   "codemirror_mode": {
    "name": "ipython",
    "version": 3
   },
   "file_extension": ".py",
   "mimetype": "text/x-python",
   "name": "python",
   "nbconvert_exporter": "python",
   "pygments_lexer": "ipython3",
   "version": "3.6.9"
  }
 },
 "nbformat": 4,
 "nbformat_minor": 4
}
