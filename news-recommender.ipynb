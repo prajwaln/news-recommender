{
  "cells": [
    {
      "metadata": {
        "collapsed": true,
        "trusted": false
      },
      "cell_type": "markdown",
      "source": "News Recommender"
    },
    {
      "metadata": {
        "trusted": true
      },
      "cell_type": "code",
      "source": "import os\nimport math\nimport time\nimport numpy as np\nimport pandas as pd",
      "execution_count": 7,
      "outputs": []
    },
    {
      "metadata": {},
      "cell_type": "markdown",
      "source": "Import Data"
    },
    {
      "metadata": {
        "trusted": true
      },
      "cell_type": "code",
      "source": "news_data = pd.read_json(\"News_Category_Dataset_v2.json\", lines=True)",
      "execution_count": 8,
      "outputs": []
    },
    {
      "metadata": {
        "trusted": true
      },
      "cell_type": "code",
      "source": "news_data.info()",
      "execution_count": 9,
      "outputs": [
        {
          "output_type": "stream",
          "text": "<class 'pandas.core.frame.DataFrame'>\nRangeIndex: 200853 entries, 0 to 200852\nData columns (total 6 columns):\nauthors              200853 non-null object\ncategory             200853 non-null object\ndate                 200853 non-null datetime64[ns]\nheadline             200853 non-null object\nlink                 200853 non-null object\nshort_description    200853 non-null object\ndtypes: datetime64[ns](1), object(5)\nmemory usage: 9.2+ MB\n",
          "name": "stdout"
        }
      ]
    },
    {
      "metadata": {
        "trusted": true
      },
      "cell_type": "code",
      "source": "news_data.head()",
      "execution_count": 10,
      "outputs": [
        {
          "output_type": "execute_result",
          "execution_count": 10,
          "data": {
            "text/html": "<div>\n<style scoped>\n    .dataframe tbody tr th:only-of-type {\n        vertical-align: middle;\n    }\n\n    .dataframe tbody tr th {\n        vertical-align: top;\n    }\n\n    .dataframe thead th {\n        text-align: right;\n    }\n</style>\n<table border=\"1\" class=\"dataframe\">\n  <thead>\n    <tr style=\"text-align: right;\">\n      <th></th>\n      <th>authors</th>\n      <th>category</th>\n      <th>date</th>\n      <th>headline</th>\n      <th>link</th>\n      <th>short_description</th>\n    </tr>\n  </thead>\n  <tbody>\n    <tr>\n      <th>0</th>\n      <td>Melissa Jeltsen</td>\n      <td>CRIME</td>\n      <td>2018-05-26</td>\n      <td>There Were 2 Mass Shootings In Texas Last Week...</td>\n      <td>https://www.huffingtonpost.com/entry/texas-ama...</td>\n      <td>She left her husband. He killed their children...</td>\n    </tr>\n    <tr>\n      <th>1</th>\n      <td>Andy McDonald</td>\n      <td>ENTERTAINMENT</td>\n      <td>2018-05-26</td>\n      <td>Will Smith Joins Diplo And Nicky Jam For The 2...</td>\n      <td>https://www.huffingtonpost.com/entry/will-smit...</td>\n      <td>Of course it has a song.</td>\n    </tr>\n    <tr>\n      <th>2</th>\n      <td>Ron Dicker</td>\n      <td>ENTERTAINMENT</td>\n      <td>2018-05-26</td>\n      <td>Hugh Grant Marries For The First Time At Age 57</td>\n      <td>https://www.huffingtonpost.com/entry/hugh-gran...</td>\n      <td>The actor and his longtime girlfriend Anna Ebe...</td>\n    </tr>\n    <tr>\n      <th>3</th>\n      <td>Ron Dicker</td>\n      <td>ENTERTAINMENT</td>\n      <td>2018-05-26</td>\n      <td>Jim Carrey Blasts 'Castrato' Adam Schiff And D...</td>\n      <td>https://www.huffingtonpost.com/entry/jim-carre...</td>\n      <td>The actor gives Dems an ass-kicking for not fi...</td>\n    </tr>\n    <tr>\n      <th>4</th>\n      <td>Ron Dicker</td>\n      <td>ENTERTAINMENT</td>\n      <td>2018-05-26</td>\n      <td>Julianna Margulies Uses Donald Trump Poop Bags...</td>\n      <td>https://www.huffingtonpost.com/entry/julianna-...</td>\n      <td>The \"Dietland\" actress said using the bags is ...</td>\n    </tr>\n  </tbody>\n</table>\n</div>",
            "text/plain": "           authors       category       date  \\\n0  Melissa Jeltsen          CRIME 2018-05-26   \n1    Andy McDonald  ENTERTAINMENT 2018-05-26   \n2       Ron Dicker  ENTERTAINMENT 2018-05-26   \n3       Ron Dicker  ENTERTAINMENT 2018-05-26   \n4       Ron Dicker  ENTERTAINMENT 2018-05-26   \n\n                                            headline  \\\n0  There Were 2 Mass Shootings In Texas Last Week...   \n1  Will Smith Joins Diplo And Nicky Jam For The 2...   \n2    Hugh Grant Marries For The First Time At Age 57   \n3  Jim Carrey Blasts 'Castrato' Adam Schiff And D...   \n4  Julianna Margulies Uses Donald Trump Poop Bags...   \n\n                                                link  \\\n0  https://www.huffingtonpost.com/entry/texas-ama...   \n1  https://www.huffingtonpost.com/entry/will-smit...   \n2  https://www.huffingtonpost.com/entry/hugh-gran...   \n3  https://www.huffingtonpost.com/entry/jim-carre...   \n4  https://www.huffingtonpost.com/entry/julianna-...   \n\n                                   short_description  \n0  She left her husband. He killed their children...  \n1                           Of course it has a song.  \n2  The actor and his longtime girlfriend Anna Ebe...  \n3  The actor gives Dems an ass-kicking for not fi...  \n4  The \"Dietland\" actress said using the bags is ...  "
          },
          "metadata": {}
        }
      ]
    },
    {
      "metadata": {
        "trusted": true
      },
      "cell_type": "code",
      "source": "",
      "execution_count": null,
      "outputs": []
    }
  ],
  "metadata": {
    "kernelspec": {
      "name": "python36",
      "display_name": "Python 3.6",
      "language": "python"
    },
    "language_info": {
      "mimetype": "text/x-python",
      "nbconvert_exporter": "python",
      "name": "python",
      "pygments_lexer": "ipython3",
      "version": "3.6.6",
      "file_extension": ".py",
      "codemirror_mode": {
        "version": 3,
        "name": "ipython"
      }
    }
  },
  "nbformat": 4,
  "nbformat_minor": 2
}